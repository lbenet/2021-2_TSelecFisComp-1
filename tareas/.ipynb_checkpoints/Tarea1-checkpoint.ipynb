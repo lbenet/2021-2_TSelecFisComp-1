{
 "cells": [
  {
   "cell_type": "markdown",
   "source": [
    "# Tarea 1: Números duales"
   ],
   "metadata": {}
  },
  {
   "cell_type": "markdown",
   "source": [
    "> Fecha de envío:\n",
    ">\n",
    "> Fecha de aceptación:"
   ],
   "metadata": {}
  },
  {
   "cell_type": "markdown",
   "source": [
    "Para explicar/entender los *números duales* recordaremos primero algunas propiedades de los\n",
    "números complejos.\n",
    "\n",
    "Los números complejos los podemos entender como una *pareja ordenada* $z=(x, y)$ que\n",
    "algebraicamente escribimos $z = x +i y$, donde $x,y\\in\\mathbb R$, con la propiedad de\n",
    "que el \"número\" $i$ cumple $i^2 = -1$. Decimos que $x$ es la *parte real* de $z$, y que $y$\n",
    "es su *parte imaginaria*.\n",
    "\n",
    "Con esta definición, podemos extender las operaciones aritméticas al igual que las\n",
    "funciones elementales de manera sencilla, simplemente explotando el álgebra y además $i^2=-1$.\n",
    "(Ésta es, de hecho, la manera en que están implementados los números complejos en Julia.)"
   ],
   "metadata": {}
  },
  {
   "cell_type": "markdown",
   "source": [
    "En el mismo espíritu, uno puede definir al *par ordenado*\n",
    "$\\overleftrightarrow{x} = (x, x^\\prime) = x + \\epsilon x^\\prime$, con\n",
    "$x, x^\\prime \\in \\mathbb R$, y donde $\\epsilon$ lo definimos con la propiedad\n",
    "$\\epsilon^2=0$. (La notación me la inventé, sólo  para distinguir el par ordeenado\n",
    "de alguna manera. Es fácil pues convencerse que estas estructuras, que llamaremos\n",
    "*números duales*, cumplen:\n",
    "\n",
    "\\begin{eqnarray}\n",
    "(x + \\epsilon x^\\prime) \\pm (y + \\epsilon y^\\prime) & = & (x\\pm y) + \\epsilon (x^\\prime\\pm y^\\prime),\\\\\n",
    "(x + \\epsilon x^\\prime) \\cdot (y + \\epsilon y^\\prime) & = & (x\\cdot y) + \\epsilon (xy^\\prime+y x^\\prime).\n",
    "\\end{eqnarray}\n",
    "\n",
    "Llamaremos a $x$ la *parte principal* y a $x^\\prime$ la *parte derivada* de $\\overleftrightarrow{x}$."
   ],
   "metadata": {}
  },
  {
   "cell_type": "markdown",
   "source": [
    "## Ejercicio 1\n",
    "\n",
    "- A partir de $\\overleftrightarrow{z} \\cdot \\overleftrightarrow{y} = \\overleftrightarrow{x}$, y usando\n",
    "la definición del producto entre duales, obtener la expresión para\n",
    "$\\overleftrightarrow{z} = \\overleftrightarrow{x} / \\overleftrightarrow{y}$. Es decir, obtener\n",
    "qué son $z$ y $z^\\prime$ en términos de las componentes de $\\overleftrightarrow{x}$ y $\\overleftrightarrow{y}$.\n",
    "Si es necesario pueden iniciar en $\\overleftrightarrow{z} = {\\overleftrightarrow{y}}^{-1}$"
   ],
   "metadata": {}
  },
  {
   "cell_type": "markdown",
   "source": [
    "- De la expresión obtenida (y de las fórmulas anteriores), ¿qué podemos decir (concluir o interpretar)\n",
    "de $z^\\prime$?"
   ],
   "metadata": {}
  },
  {
   "outputs": [],
   "cell_type": "code",
   "source": [
    "#Respuesta"
   ],
   "metadata": {},
   "execution_count": null
  },
  {
   "cell_type": "markdown",
   "source": [
    "## Ejercicio 2\n",
    "\n",
    "- Definir una estructura `Dual` que represente a los números duales; por sencillez pueden\n",
    "considerar que los campos del `Dual` son `Float64`, aunque pueden *osar* y tratar de\n",
    "implementar el caso paramétrico `Dual{T <: Real}`, donde `T` es el tipo de *ambos* campos.\n",
    "\n",
    "- Sobrecargar las operaciones de tal manera que las cuatro operaciones aritméticas que\n",
    "involucrena dos `Dual`-es, den el resultado que se espera.\n",
    "\n",
    "- Definan un método específico para crear duales (constructor externo), a partir de un\n",
    "sólo valor (en lugar de los dos requeridos), y que corresponderá a\n",
    "$\\overleftrightarrow{x_0} = (x_0, 0)$. ¿Es el *0* de esta definición, o sea, $x_0'=0$,\n",
    "compatible con la interpretación que dieron en el ejercicio anterior para la parte derivada?\n",
    "\n",
    "- Extiendan los métodos que permitan sumar/restar y multiplicar/dividir un número (`Real`) y\n",
    "un `Dual`. (Recuerden que ciertas operaciones son conmutativas!).\n",
    "NOTA: Este ejercicio lo pueden hacer escribiendo todos los métodos, uno a uno. Otra\n",
    "opción es usar `promote` y `convert` para definir reglas de promoción y conversión;\n",
    "[la documentación](https://docs.julialang.org/en/v1/manual/conversion-and-promotion/)\n",
    "tiene más información, por si este camino les interesa.\n",
    "\n",
    "- Definan las funciones `fun` y `der` que, al ser aplicadas a un `Dual` devuelvan\n",
    "la parte principal y la parrte derivada del `Dual`.\n",
    "\n",
    "- Incluyan varios casos (propuestos por ustedes mismos) donde se *compruebe* que lo que\n",
    "implementaron da el resultado que debería ser. Para esto, pueden usar la librería\n",
    "estándard [`Test`](https://docs.julialang.org/en/v1/stdlib/Test/) de Julia."
   ],
   "metadata": {}
  },
  {
   "outputs": [],
   "cell_type": "code",
   "source": [
    "#Respuesta"
   ],
   "metadata": {},
   "execution_count": null
  },
  {
   "cell_type": "markdown",
   "source": [
    "## Ejercicio 3\n",
    "\n",
    "Definan una nueva función `vardual(x_0)` cuyo resultado sea un `Dual` cuya parte\n",
    "principal es `x_0` y cuya parte derivada sea tal que `var_dual(x_0)` *represente*\n",
    "a la variable independiente `x` en `x_0`. La idea es piensen qué debe representar\n",
    "la parte derivada del dual `xd` que regresa `xd = var_dual(x_0)`. Con esta función\n",
    "evalúen `g(xd)` donde\n",
    "$$\n",
    "g(x) = \\frac{3x^2-8x+1}{7x^3-1}.\n",
    "$$"
   ],
   "metadata": {}
  },
  {
   "outputs": [],
   "cell_type": "code",
   "source": [
    "#Respuesta"
   ],
   "metadata": {},
   "execution_count": null
  },
  {
   "cell_type": "markdown",
   "source": [
    "## Ejercicio 4\n",
    "\n",
    "- A partir de la interpretación que han hecho para la parte derivada (último inciso\n",
    "del Ejercicio 1), y *generalizando* esa interpretación de qué representa cada campo\n",
    "y en particular el segundo de `Dual{T}`, *extiendan* las funciones `sin(a::Dual)`,\n",
    "`cos(a::Dual)`, `tan(a::Dual)`, `^(a::Dual, n::Int)`, `sqrt(a::Dual)`, `exp(a::Dual)`\n",
    "y `log(a::Dual)`.\n",
    "\n",
    "- Al igual que antes, construyan algún conjunto de pruebas que muestren, de manera\n",
    "sencilla, que lo que hicieron da lo que uno esperaría obtener."
   ],
   "metadata": {}
  },
  {
   "outputs": [],
   "cell_type": "code",
   "source": [
    "#Respuesta"
   ],
   "metadata": {},
   "execution_count": null
  },
  {
   "cell_type": "markdown",
   "source": [
    "---\n",
    "\n",
    "*This notebook was generated using [Literate.jl](https://github.com/fredrikekre/Literate.jl).*"
   ],
   "metadata": {}
  }
 ],
 "nbformat_minor": 3,
 "metadata": {
  "language_info": {
   "file_extension": ".jl",
   "mimetype": "application/julia",
   "name": "julia",
   "version": "1.6.0"
  },
  "kernelspec": {
   "name": "julia-1.6",
   "display_name": "Julia 1.6.0",
   "language": "julia"
  }
 },
 "nbformat": 4
}

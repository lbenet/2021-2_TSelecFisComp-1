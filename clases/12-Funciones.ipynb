{
 "cells": [
  {
   "cell_type": "markdown",
   "source": [
    "# Funciones  en Julia"
   ],
   "metadata": {}
  },
  {
   "cell_type": "markdown",
   "source": [
    "## Constructores básicos"
   ],
   "metadata": {}
  },
  {
   "cell_type": "markdown",
   "source": [
    " Iniciaremos con algo trivial..."
   ],
   "metadata": {}
  },
  {
   "outputs": [],
   "cell_type": "code",
   "source": [
    "r = 1.0"
   ],
   "metadata": {},
   "execution_count": null
  },
  {
   "cell_type": "markdown",
   "source": [
    "En Julia, una función mapea una tupla de elementos de entrada, en una salida."
   ],
   "metadata": {}
  },
  {
   "cell_type": "markdown",
   "source": [
    "Julia permite distintas formas de definir una función. La manera estándar es\n",
    "usando la instrucción `function`, y el bloque que define la función se termina con `end`.\n",
    "El resultado de una función se especifica con `return`, que si es la última\n",
    "instrrucción que define a la función (antes del `end`) se puede omitir. La convención\n",
    "a la hora de nombrar funciones es que éstas usen sólo minúsculas."
   ],
   "metadata": {}
  },
  {
   "outputs": [],
   "cell_type": "code",
   "source": [
    "\"\"\"\n",
    "área_círculo(r)\n",
    "\n",
    "Calcula el área de un círculo de radio `r`\n",
    "\"\"\"\n",
    "function área_círculo(r)\n",
    "    return π * r^2\n",
    "end"
   ],
   "metadata": {},
   "execution_count": null
  },
  {
   "cell_type": "markdown",
   "source": [
    "Lo que aparece en la función definida arriba entre comillas triples `\"\"\"` son las cadenas\n",
    "de documentación de la función (*docstrings*). Si bien no es obligatorio, es altamente\n",
    "recomendable incluir docstrings en el código. (Vale la pena notar, además, que hay dos\n",
    "caracteres UTF (no ASCII), `á` e `í`, en el nombre de la función.)"
   ],
   "metadata": {}
  },
  {
   "outputs": [],
   "cell_type": "code",
   "source": [
    "?área_círculo"
   ],
   "metadata": {},
   "execution_count": null
  },
  {
   "cell_type": "markdown",
   "source": [
    "En Julia, el formato de la función (por ejemplo, la indentación) no es obligatoria; sin\n",
    "embargo, se recomienda usarla ya que hace más sencilla la lectura del código."
   ],
   "metadata": {}
  },
  {
   "cell_type": "markdown",
   "source": [
    "Una manera totalmente equivalente pero más compacta de definir `área_círculo` es:"
   ],
   "metadata": {}
  },
  {
   "outputs": [],
   "cell_type": "code",
   "source": [
    "área_círculo(r) = π * r^2"
   ],
   "metadata": {},
   "execution_count": null
  },
  {
   "cell_type": "markdown",
   "source": [
    "(Noten el mensaje de que sólo hay un método definido para la función `área_círculo`.)"
   ],
   "metadata": {}
  },
  {
   "outputs": [],
   "cell_type": "code",
   "source": [
    "área_círculo(2)"
   ],
   "metadata": {},
   "execution_count": null
  },
  {
   "outputs": [],
   "cell_type": "code",
   "source": [
    "área_círculo(BigFloat(2.0))"
   ],
   "metadata": {},
   "execution_count": null
  },
  {
   "outputs": [],
   "cell_type": "code",
   "source": [
    "área_círculo.([1, 2, 3])  #  Sin hacer nada a nuestra función, broadcasting funciona"
   ],
   "metadata": {},
   "execution_count": null
  },
  {
   "cell_type": "markdown",
   "source": [
    "Es importante señalar que la `r` en la definición de `área_círculo` no es la misma\n",
    "variable que la `r` que asignamos al principio y cuyo valor *sigue* siendo `1.0`. Los\n",
    "argumentos de una función se tratan como nuevas variables *locales*, cuyo valor es idéntico\n",
    "al que se pasa a la función como argumento. Si bien es posible llamar a variables globales\n",
    "dentro de una función, eso no se recomienda."
   ],
   "metadata": {}
  },
  {
   "outputs": [],
   "cell_type": "code",
   "source": [
    "r"
   ],
   "metadata": {},
   "execution_count": null
  },
  {
   "cell_type": "markdown",
   "source": [
    "Es posible que una función modifique variables que son *mutables*, como\n",
    "por ejemplo, las componentes de un vector. En este caso, la convención recomienda\n",
    "usar `!` al final del nombre de la función, justamente para indicar que al menos\n",
    "un argumento de entrada de la función puede ser modificado. Un ejemplo es la\n",
    "función `push!`."
   ],
   "metadata": {}
  },
  {
   "outputs": [],
   "cell_type": "code",
   "source": [
    "push!([1,2,3], 4)"
   ],
   "metadata": {},
   "execution_count": null
  },
  {
   "cell_type": "markdown",
   "source": [
    "Uno puede también definir funciones que no requieren ningún argumento."
   ],
   "metadata": {}
  },
  {
   "outputs": [],
   "cell_type": "code",
   "source": [
    "mi_nombre() = \"Luis\""
   ],
   "metadata": {},
   "execution_count": null
  },
  {
   "outputs": [],
   "cell_type": "code",
   "source": [
    "mi_nombre()"
   ],
   "metadata": {},
   "execution_count": null
  },
  {
   "cell_type": "markdown",
   "source": [
    "También vale la pena decir que los operadores, como `+` o `^`, son funciones. Por lo mismo,\n",
    "uno puede usarlas incluyendo paréntesis (que es lo que se llama *infix form*) de\n",
    "manera completamente equivalente:"
   ],
   "metadata": {}
  },
  {
   "outputs": [],
   "cell_type": "code",
   "source": [
    "1 + 2 + 3"
   ],
   "metadata": {},
   "execution_count": null
  },
  {
   "outputs": [],
   "cell_type": "code",
   "source": [
    "+(1, 2, 3) # forma alterna de ejecutar la instrucción anterior"
   ],
   "metadata": {},
   "execution_count": null
  },
  {
   "cell_type": "markdown",
   "source": [
    "En ciertos casos, por ejemplo cuando una función requiere a otra para ser ejecutada,\n",
    "puede ser conveniente definir funciones anónimas, esto es, sin nombre. Las siguientes\n",
    "definciones equivalentes definen a la misma función anónima, que corrresponde a\n",
    "$f(x) = x^2 + 2x -1$."
   ],
   "metadata": {}
  },
  {
   "outputs": [],
   "cell_type": "code",
   "source": [
    "x -> x^2 + 2x -1"
   ],
   "metadata": {},
   "execution_count": null
  },
  {
   "outputs": [],
   "cell_type": "code",
   "source": [
    "function (x)\n",
    "    x^2 + 2x -1\n",
    "end"
   ],
   "metadata": {},
   "execution_count": null
  },
  {
   "cell_type": "markdown",
   "source": [
    "Una función anónima, que depende de múltiples argumentos, se escribe `(x,y) -> x^2 + y^2`,\n",
    "mientras que una función anónima sin argumentos se escribe como `() -> π`."
   ],
   "metadata": {}
  },
  {
   "cell_type": "markdown",
   "source": [
    "## Tuplas como argumentos y funciones con argumentos variables (varags)"
   ],
   "metadata": {}
  },
  {
   "cell_type": "markdown",
   "source": [
    "Es posible definir funciones de tal manera que uno pase como único argumento una tupla\n",
    "al ejecutar la función. Hay diversas posibilidades; la siguiente es una que explota\n",
    "(y a la vez impone) la estructura que debe tener la tupla."
   ],
   "metadata": {}
  },
  {
   "outputs": [],
   "cell_type": "code",
   "source": [
    "distancia((max, min)) = max - min"
   ],
   "metadata": {},
   "execution_count": null
  },
  {
   "outputs": [],
   "cell_type": "code",
   "source": [
    "distancia((5, 2))"
   ],
   "metadata": {},
   "execution_count": null
  },
  {
   "outputs": [],
   "cell_type": "code",
   "source": [
    "distancia(5, 2) # Si se dan los argumentos por separado, arroja un `MethodError`"
   ],
   "metadata": {},
   "execution_count": null
  },
  {
   "cell_type": "markdown",
   "source": [
    "Es útil tener la opción de escribir funciones que puedan tener un número arbitrario de\n",
    "argumentos; al número variable de argumentos se le llama *varargs*. Como ejemplo (tomado\n",
    "de la [documentación oficial](https://docs.julialang.org/en/v1/manual/functions/#Varargs-Functions))\n",
    "definiremos la función"
   ],
   "metadata": {}
  },
  {
   "outputs": [],
   "cell_type": "code",
   "source": [
    "lala(a, x...) = (a, x) # `...` que aparecen en la definición se llaman \"slurp\""
   ],
   "metadata": {},
   "execution_count": null
  },
  {
   "outputs": [],
   "cell_type": "code",
   "source": [
    "lala(1) # esto es equivalente a `lala(1,)`"
   ],
   "metadata": {},
   "execution_count": null
  },
  {
   "outputs": [],
   "cell_type": "code",
   "source": [
    "lala(1, (2,))"
   ],
   "metadata": {},
   "execution_count": null
  },
  {
   "outputs": [],
   "cell_type": "code",
   "source": [
    "lala(1, 2, (3, 4))"
   ],
   "metadata": {},
   "execution_count": null
  },
  {
   "cell_type": "markdown",
   "source": [
    "La instrucción anterior encapsula en una tupla a los argumentos `2, (3, 4)`, es decir,\n",
    "`(2, (3, 4))`."
   ],
   "metadata": {}
  },
  {
   "cell_type": "markdown",
   "source": [
    "La siguiente ejecución de `lala` distribuye los argumentos de la tupla; esto se\n",
    "llama `splat`"
   ],
   "metadata": {}
  },
  {
   "outputs": [],
   "cell_type": "code",
   "source": [
    "lala((1,2,3)...) # equivalente a lala(1,2,3)"
   ],
   "metadata": {},
   "execution_count": null
  },
  {
   "cell_type": "markdown",
   "source": [
    "## Métodos, *multiple dispatch*, y estabilidad de tipo"
   ],
   "metadata": {}
  },
  {
   "cell_type": "markdown",
   "source": [
    "Julia permite utilizar *la misma función* en distintos contextos. Por ejemplo,\n",
    "con `*` podemos multiplicar dos números, o concatenar cadenas."
   ],
   "metadata": {}
  },
  {
   "outputs": [],
   "cell_type": "code",
   "source": [
    "2 * 3"
   ],
   "metadata": {},
   "execution_count": null
  },
  {
   "outputs": [],
   "cell_type": "code",
   "source": [
    "\"dos por tres es igual a \" * \"seis\""
   ],
   "metadata": {},
   "execution_count": null
  },
  {
   "cell_type": "markdown",
   "source": [
    "Esta multiplicidad del uso de una función (con el mismo nombre) significa que la función tiene\n",
    "definidos varios métodos."
   ],
   "metadata": {}
  },
  {
   "cell_type": "markdown",
   "source": [
    "Julia permite definir métodos especializados respecto al tipo\n",
    "del argumento de entrada a la función. Por ejemplo, la siguiente función `ff`\n",
    "muestra el valor del argumento, e imprime su valor al cuadrado."
   ],
   "metadata": {}
  },
  {
   "outputs": [],
   "cell_type": "code",
   "source": [
    "ff(x) = (@show(x); x^2)"
   ],
   "metadata": {},
   "execution_count": null
  },
  {
   "cell_type": "markdown",
   "source": [
    "Vale la pena notar que usamos paréntesis para usar la forma \"infix\" y\n",
    "definir de la función `ff`, que consta de dos instrucciones, que son\n",
    "separadas por `;`. El macro `@show` lo que hace es precisamente imprimir\n",
    "(sustituyenco código a la hora de \"leer\" el código) la variable `x`."
   ],
   "metadata": {}
  },
  {
   "cell_type": "markdown",
   "source": [
    "Esta función, por ejemplo, la podemos aplicar a un número de punto flotante o\n",
    "a uno complejo:"
   ],
   "metadata": {}
  },
  {
   "outputs": [],
   "cell_type": "code",
   "source": [
    "ff(1.1)"
   ],
   "metadata": {},
   "execution_count": null
  },
  {
   "outputs": [],
   "cell_type": "code",
   "source": [
    "ff(1.1 + 3im)"
   ],
   "metadata": {},
   "execution_count": null
  },
  {
   "cell_type": "markdown",
   "source": [
    "Internamente, Julia especializa la función al tipo de argumentos, y escoge la apropiada."
   ],
   "metadata": {}
  },
  {
   "cell_type": "markdown",
   "source": [
    "Supongamos que queremos que el comportamiento de esta función, para números complejos,\n",
    "devuelva el módulo al cuadrado, en lugar de su cuadrado. En este caso debemos\n",
    "entonces definir un método especializado para el caso en que `x` sea un número\n",
    "complejo. Esto lo hacemos utilizando `::` para especificar/restringir uno o varios\n",
    "argumentos de la función a un tipo; es aquí donde los \"tipos abstractos\" pueden\n",
    "ser útiles."
   ],
   "metadata": {}
  },
  {
   "outputs": [],
   "cell_type": "code",
   "source": [
    "ff(x::Complex) = (@show(x); abs2(x))  # `ans2(z)` devuelve el módulo al cuadrado  de `z`"
   ],
   "metadata": {},
   "execution_count": null
  },
  {
   "outputs": [],
   "cell_type": "code",
   "source": [
    "ff(1.1 + 3im)"
   ],
   "metadata": {},
   "execution_count": null
  },
  {
   "cell_type": "markdown",
   "source": [
    "Para además particularizar en el posible parámetro del tipo, uno usa la siguiente\n",
    "forma:"
   ],
   "metadata": {}
  },
  {
   "outputs": [],
   "cell_type": "code",
   "source": [
    "ff(x::Complex{T}) where {T<:BigFloat} = (@show(typeof(x)); ff(angle(x)))  # `angle(z)` es el argumento (radianes) de `z`"
   ],
   "metadata": {},
   "execution_count": null
  },
  {
   "outputs": [],
   "cell_type": "code",
   "source": [
    "ff(big(1.1) + 3im)"
   ],
   "metadata": {},
   "execution_count": null
  },
  {
   "cell_type": "markdown",
   "source": [
    "El hecho de que los métodos se aplican de manera distinta\n",
    "*según* el *tipo* de los argumentos es lo que se llama *multiple dispatch*. Lograr\n",
    "código rápido en Julia no significa escribir métodos específicos según el tipo\n",
    "--aunque a veces esto puede ser útil--, sino que el tipo del resultado de una función\n",
    "esté determinado *sólamente* por el tipo de los argumentos de entrada. Es esto\n",
    "lo que se conoce como *estabilidad de tipo*."
   ],
   "metadata": {}
  },
  {
   "cell_type": "markdown",
   "source": [
    "Como ejemplo de esto último, construyamos una función que *no* es estable según\n",
    "el tipo; para esto, utilizaremos un block `if`-`else`-`end`."
   ],
   "metadata": {}
  },
  {
   "outputs": [],
   "cell_type": "code",
   "source": [
    "function mi_sqrt(x)\n",
    "    @show(x)\n",
    "    if x < 0\n",
    "        return sqrt(Complex(x))  # El resultado es `Complex{...}`\n",
    "    else\n",
    "        return sqrt(x) # El resultado es del mismo tipo que `x` (`AbstractFloat`)\n",
    "    end\n",
    "end"
   ],
   "metadata": {},
   "execution_count": null
  },
  {
   "outputs": [],
   "cell_type": "code",
   "source": [
    "mi_sqrt(-1//1)"
   ],
   "metadata": {},
   "execution_count": null
  },
  {
   "outputs": [],
   "cell_type": "code",
   "source": [
    "mi_sqrt(1//1)"
   ],
   "metadata": {},
   "execution_count": null
  },
  {
   "cell_type": "markdown",
   "source": [
    "El macro `@code_warntype`, de la librería estándar `InteractiveUtils.jl` ayuda a encontrar\n",
    "problemas respecto a la estabilidad de tipo. (Más tarde usaremos también el macro `@which`,\n",
    "así  que lo cargamos de una vez.)"
   ],
   "metadata": {}
  },
  {
   "outputs": [],
   "cell_type": "code",
   "source": [
    "using InteractiveUtils:  @code_warntype, @which\n",
    "@code_warntype mi_sqrt(1//1)"
   ],
   "metadata": {},
   "execution_count": null
  },
  {
   "cell_type": "markdown",
   "source": [
    "## Ambigüedades"
   ],
   "metadata": {}
  },
  {
   "cell_type": "markdown",
   "source": [
    "Consideremos las siguientes definiciones de la función `gg`:"
   ],
   "metadata": {}
  },
  {
   "outputs": [],
   "cell_type": "code",
   "source": [
    "gg(a, b::Any)              = \"fallback\"   # default\n",
    "gg(a::Number, b::Number)   = \"a and b are both `Number`s\"\n",
    "gg(a::Number, b)           = \"a is a `Number`\"\n",
    "gg(a, b::Number)           = \"b is a `Number`\"\n",
    "gg(a::Integer, b::Integer) = \"a and b are both `Integer`s\""
   ],
   "metadata": {},
   "execution_count": null
  },
  {
   "cell_type": "markdown",
   "source": [
    "Uno puede obtener información sobre los métodos que tiene definidos la función\n",
    "usando `methods(gg)`"
   ],
   "metadata": {}
  },
  {
   "outputs": [],
   "cell_type": "code",
   "source": [
    "methods(gg)  # Describe los distintos métodos de una función"
   ],
   "metadata": {},
   "execution_count": null
  },
  {
   "outputs": [],
   "cell_type": "code",
   "source": [
    "gg(1.5, 2)"
   ],
   "metadata": {},
   "execution_count": null
  },
  {
   "outputs": [],
   "cell_type": "code",
   "source": [
    "gg(\"2\", 1.5)"
   ],
   "metadata": {},
   "execution_count": null
  },
  {
   "outputs": [],
   "cell_type": "code",
   "source": [
    "gg(1.0, \"2\")"
   ],
   "metadata": {},
   "execution_count": null
  },
  {
   "outputs": [],
   "cell_type": "code",
   "source": [
    "gg(1, 2)"
   ],
   "metadata": {},
   "execution_count": null
  },
  {
   "outputs": [],
   "cell_type": "code",
   "source": [
    "gg(\"Hello\", \"World!\")"
   ],
   "metadata": {},
   "execution_count": null
  },
  {
   "outputs": [],
   "cell_type": "code",
   "source": [
    "@which gg(\"2\", 1.5) # El macro `@which` permite identificar qué método se está usando"
   ],
   "metadata": {},
   "execution_count": null
  },
  {
   "cell_type": "markdown",
   "source": [
    "A veces, uno puede definir métodos de una función de tal manera que Julia no encuentre qué método\n",
    "aplicar en el sentido de cuál es el *más concreto* respecto al tipo de los argumentos.\n",
    "En ese caso, hay un `MethodError` dado que los métodos son *ambiguos*."
   ],
   "metadata": {}
  },
  {
   "outputs": [],
   "cell_type": "code",
   "source": [
    "gg(x::Int, y::Any) = println(\"int\")\n",
    "gg(x::Any, y::String) = println(\"string\")"
   ],
   "metadata": {},
   "execution_count": null
  },
  {
   "outputs": [],
   "cell_type": "code",
   "source": [
    "gg(3, \"test\")"
   ],
   "metadata": {},
   "execution_count": null
  },
  {
   "cell_type": "markdown",
   "source": [
    "Vale la pena notar que  en el mensaje de error, está una posible solución para resolver\n",
    "la ambigüedad."
   ],
   "metadata": {}
  },
  {
   "cell_type": "markdown",
   "source": [
    "## Ejercicios"
   ],
   "metadata": {}
  },
  {
   "cell_type": "markdown",
   "source": [
    "1. Escriban una función que proporcione el área y el volumen de un círculo de manera\n",
    "simultánea, es decir, que la función regrese esos dos valores.\n",
    "\n",
    "1. Llamando a la función que hicieron en el ejercicio anterior `mifunc`, ¿qué obtienen\n",
    "(tipo de resultado) al hacer la asignación `res = mifunc(1.0)`?\n",
    "\n",
    "1. ¿Qué asignación pueden hacer para separar los resultados de `mifunc`?\n",
    "\n",
    "1. ¿Cuál es el tipo de `mifunc`? Hint: ¿Cuál es el tipo de `(mifunc, typeof(mifunc))`?\n",
    "\n",
    "1. ¿Qué tipo de resultado se obtiene al ejecutar la siguiente función?\n",
    "    ```julia\n",
    "    println(\"Nada\")\n",
    "    ```\n",
    "1. Analicen qué representa el resultado obtenido al ejecutar la siguiente función:\n",
    "    ```julia\n",
    "    map(first ∘ reverse ∘ uppercase, split(\"you can compose functions like this\"))\n",
    "    ```"
   ],
   "metadata": {}
  },
  {
   "cell_type": "markdown",
   "source": [
    "---\n",
    "\n",
    "*This notebook was generated using [Literate.jl](https://github.com/fredrikekre/Literate.jl).*"
   ],
   "metadata": {}
  }
 ],
 "nbformat_minor": 3,
 "metadata": {
  "language_info": {
   "file_extension": ".jl",
   "mimetype": "application/julia",
   "name": "julia",
   "version": "1.6.0"
  },
  "kernelspec": {
   "name": "julia-1.6",
   "display_name": "Julia 1.6.0",
   "language": "julia"
  }
 },
 "nbformat": 4
}

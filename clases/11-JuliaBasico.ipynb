{
 "cells": [
  {
   "cell_type": "markdown",
   "source": [
    "# Introducción a Julia"
   ],
   "metadata": {}
  },
  {
   "cell_type": "markdown",
   "source": [
    "El texto canónico de referencia para cualquier cosa (duda o discusión)\n",
    "relacionada con Julia es la\n",
    "[documentación oficial](https://docs.julialang.org/en/v1/)."
   ],
   "metadata": {}
  },
  {
   "cell_type": "markdown",
   "source": [
    "## Asignación de variables"
   ],
   "metadata": {}
  },
  {
   "outputs": [],
   "cell_type": "code",
   "source": [
    "r = 1.0 # Asigna 1.0 a la variable `r`"
   ],
   "metadata": {},
   "execution_count": null
  },
  {
   "outputs": [],
   "cell_type": "code",
   "source": [
    "r  # regresa el valor asignado a `r`"
   ],
   "metadata": {},
   "execution_count": null
  },
  {
   "cell_type": "markdown",
   "source": [
    "En Julia, el caracter `#` indica que el resto de la línea\n",
    "es un comentario. Para comentar varias líneas usamos `#=`\n",
    "al inicio y `=#`  al final del comentario."
   ],
   "metadata": {}
  },
  {
   "outputs": [],
   "cell_type": "code",
   "source": [
    "#Los nombres de las variables pueden ser, o incluir, caracteres *unicode*.\n",
    "ħ = 1.0  # ħ se obtiene con \\hbar<TAB>"
   ],
   "metadata": {},
   "execution_count": null
  },
  {
   "outputs": [],
   "cell_type": "code",
   "source": [
    "perim_circ = 2 * pi * r\n",
    "perim_circ"
   ],
   "metadata": {},
   "execution_count": null
  },
  {
   "outputs": [],
   "cell_type": "code",
   "source": [
    "area_circ = π * r^2 # π se obtiene con \\pi<TAB>"
   ],
   "metadata": {},
   "execution_count": null
  },
  {
   "outputs": [],
   "cell_type": "code",
   "source": [
    "area_circ / perim_circ"
   ],
   "metadata": {},
   "execution_count": null
  },
  {
   "outputs": [],
   "cell_type": "code",
   "source": [
    "esta_clase = \"Temas Selectos de Física Computacional 2\"  # Una cadena (string)"
   ],
   "metadata": {},
   "execution_count": null
  },
  {
   "outputs": [],
   "cell_type": "code",
   "source": [
    "sqrt(π)  # funciones elementales"
   ],
   "metadata": {},
   "execution_count": null
  },
  {
   "outputs": [],
   "cell_type": "code",
   "source": [
    "sin(pi)"
   ],
   "metadata": {},
   "execution_count": null
  },
  {
   "outputs": [],
   "cell_type": "code",
   "source": [
    "1/2 + 1/3  # operaciones típicas"
   ],
   "metadata": {},
   "execution_count": null
  },
  {
   "outputs": [],
   "cell_type": "code",
   "source": [
    "1//2 # número racional"
   ],
   "metadata": {},
   "execution_count": null
  },
  {
   "outputs": [],
   "cell_type": "code",
   "source": [
    "1//2 + 1//3  # operaciones con números racionales"
   ],
   "metadata": {},
   "execution_count": null
  },
  {
   "outputs": [],
   "cell_type": "code",
   "source": [
    "1//2 + 1/3  # suma un racional y un número de punto flotante"
   ],
   "metadata": {},
   "execution_count": null
  },
  {
   "outputs": [],
   "cell_type": "code",
   "source": [
    "sqrt(-1.0)  # devuelve un error; vale la pena tratar de entenderlo!"
   ],
   "metadata": {},
   "execution_count": null
  },
  {
   "outputs": [],
   "cell_type": "code",
   "source": [
    "z = sqrt(Complex(-1.0)) # en Julia existen número complejos"
   ],
   "metadata": {},
   "execution_count": null
  },
  {
   "outputs": [],
   "cell_type": "code",
   "source": [
    "cmplx = complex(1.0, 3.2) # Esto es equivalente a `1.0 + 3.2*im`"
   ],
   "metadata": {},
   "execution_count": null
  },
  {
   "outputs": [],
   "cell_type": "code",
   "source": [
    "z^2 # las potencias son con `^`"
   ],
   "metadata": {},
   "execution_count": null
  },
  {
   "outputs": [],
   "cell_type": "code",
   "source": [
    "exp(z)  # funciones definidas sobre los complejos: eᶻ"
   ],
   "metadata": {},
   "execution_count": null
  },
  {
   "outputs": [],
   "cell_type": "code",
   "source": [
    "π # pi como \"irracional\""
   ],
   "metadata": {},
   "execution_count": null
  },
  {
   "outputs": [],
   "cell_type": "code",
   "source": [
    "1.0 * π # pi como número de punto flotante"
   ],
   "metadata": {},
   "execution_count": null
  },
  {
   "outputs": [],
   "cell_type": "code",
   "source": [
    "big(0.1) # números de precisión extendida"
   ],
   "metadata": {},
   "execution_count": null
  },
  {
   "outputs": [],
   "cell_type": "code",
   "source": [
    "BigFloat(0.1) # 0.1, como número de punto flotante, en precisión extendida"
   ],
   "metadata": {},
   "execution_count": null
  },
  {
   "outputs": [],
   "cell_type": "code",
   "source": [
    "BigFloat(\"0.1\") # 0.1 en precisión extendida"
   ],
   "metadata": {},
   "execution_count": null
  },
  {
   "cell_type": "markdown",
   "source": [
    "Uno puede obtener en muchos casos ayuda sobre ciertas funciones."
   ],
   "metadata": {}
  },
  {
   "outputs": [],
   "cell_type": "code",
   "source": [
    "?sin"
   ],
   "metadata": {},
   "execution_count": null
  },
  {
   "cell_type": "markdown",
   "source": [
    "## Vectores y matrices"
   ],
   "metadata": {}
  },
  {
   "outputs": [],
   "cell_type": "code",
   "source": [
    "un_vector = [1, 2, 3, 4] # se definene con `[...]`, y los elementos se separan por `,`"
   ],
   "metadata": {},
   "execution_count": null
  },
  {
   "cell_type": "markdown",
   "source": [
    "Noten que la salida del vector incluye información sobre el tipo específico\n",
    "del vector; en la celda anterior la salida corresponde a un *arreglo* de\n",
    "enteros de dimensión 1, o sea, un vector (columna) de enteros."
   ],
   "metadata": {}
  },
  {
   "cell_type": "markdown",
   "source": [
    "Como se muestra en la siguiente celda, si es posible *promocionar* los\n",
    "elementos del vector a un tipo común, esto se lleva a cabo. La razón es\n",
    "eficiencia en el manejo de la memoria."
   ],
   "metadata": {}
  },
  {
   "outputs": [],
   "cell_type": "code",
   "source": [
    "otro_vector = [1.0, 2, 3, 4//1 ] # En este caso es un `Array{Float64,1}`"
   ],
   "metadata": {},
   "execution_count": null
  },
  {
   "cell_type": "markdown",
   "source": [
    " Uno puede realizar *ciertas* operaciones entre vectores"
   ],
   "metadata": {}
  },
  {
   "outputs": [],
   "cell_type": "code",
   "source": [
    "un_vector + otro_vector"
   ],
   "metadata": {},
   "execution_count": null
  },
  {
   "outputs": [],
   "cell_type": "code",
   "source": [
    "un_vector * otro_vector # da un `MethodError`; `*` entre vectores no es una operación del álgebra lineal"
   ],
   "metadata": {},
   "execution_count": null
  },
  {
   "outputs": [],
   "cell_type": "code",
   "source": [
    "transpose(un_vector) * otro_vector # producto interno"
   ],
   "metadata": {},
   "execution_count": null
  },
  {
   "outputs": [],
   "cell_type": "code",
   "source": [
    "un_vector .* otro_vector # producto de elemento a elemento; regresa un vector"
   ],
   "metadata": {},
   "execution_count": null
  },
  {
   "outputs": [],
   "cell_type": "code",
   "source": [
    "un_vector .^ 2 # cuadrado, elemento  a elemento"
   ],
   "metadata": {},
   "execution_count": null
  },
  {
   "cell_type": "markdown",
   "source": [
    "Uno puede evaluar otras funciones elemento-a-elemento, explotando lo que\n",
    "se llama *broadcasting*. Esto equivale a hacer la operación de manera\n",
    "vectorizada"
   ],
   "metadata": {}
  },
  {
   "outputs": [],
   "cell_type": "code",
   "source": [
    "sin.(un_vector) # broadcasting"
   ],
   "metadata": {},
   "execution_count": null
  },
  {
   "cell_type": "markdown",
   "source": [
    "Los vectores definidos anteriormente se comportan como vectores *columna*.\n",
    "Uno también puede definir (directamente) vectores renglón."
   ],
   "metadata": {}
  },
  {
   "outputs": [],
   "cell_type": "code",
   "source": [
    "vector_renglon = [1 2 3 4]"
   ],
   "metadata": {},
   "execution_count": null
  },
  {
   "outputs": [],
   "cell_type": "code",
   "source": [
    "@show(un_vector)\n",
    "un_vector[2] # 2do elemento del vector"
   ],
   "metadata": {},
   "execution_count": null
  },
  {
   "outputs": [],
   "cell_type": "code",
   "source": [
    "un_vector[2:3]  # una rebanada (slice)"
   ],
   "metadata": {},
   "execution_count": null
  },
  {
   "outputs": [],
   "cell_type": "code",
   "source": [
    "2:4 # esto  define un *rango*"
   ],
   "metadata": {},
   "execution_count": null
  },
  {
   "outputs": [],
   "cell_type": "code",
   "source": [
    "collect(2:4)  # esto hace del rango el vector apropiado; es eficiente trabajar con rangos"
   ],
   "metadata": {},
   "execution_count": null
  },
  {
   "outputs": [],
   "cell_type": "code",
   "source": [
    "collect(2:3:9) # de 2 a 9 en pasos de 3"
   ],
   "metadata": {},
   "execution_count": null
  },
  {
   "outputs": [],
   "cell_type": "code",
   "source": [
    "collect(0:0.1:2) # de 0 a 2 en pasos de 0.1"
   ],
   "metadata": {},
   "execution_count": null
  },
  {
   "outputs": [],
   "cell_type": "code",
   "source": [
    "rang = range(0, step=0.1, stop=2)  # lo mismo que lo anterior, pero más eficiente"
   ],
   "metadata": {},
   "execution_count": null
  },
  {
   "outputs": [],
   "cell_type": "code",
   "source": [
    "rang[2]  # 2do elemento de `rang`"
   ],
   "metadata": {},
   "execution_count": null
  },
  {
   "outputs": [],
   "cell_type": "code",
   "source": [
    "collect(rang)"
   ],
   "metadata": {},
   "execution_count": null
  },
  {
   "cell_type": "markdown",
   "source": [
    "## Matrices"
   ],
   "metadata": {}
  },
  {
   "cell_type": "markdown",
   "source": [
    "Tanto `vector_renglon` o `un_vector .^ [0,1,2]` devuelven matrices. En este\n",
    "sentido, las matrices son arreglos de dimensión 2."
   ],
   "metadata": {}
  },
  {
   "outputs": [],
   "cell_type": "code",
   "source": [
    "A = [2  1 0\n",
    "     1 -1 1;\n",
    "    -2  3 1]"
   ],
   "metadata": {},
   "execution_count": null
  },
  {
   "outputs": [],
   "cell_type": "code",
   "source": [
    "una_matriz = [[2, 1, -2] [1, -1, 3] [0, 1, 1]] # concateno horizontalmente vectores; noten el espacio entre los vectores columna"
   ],
   "metadata": {},
   "execution_count": null
  },
  {
   "outputs": [],
   "cell_type": "code",
   "source": [
    "A[2,3]   # elemento (2,3)"
   ],
   "metadata": {},
   "execution_count": null
  },
  {
   "cell_type": "markdown",
   "source": [
    "Julia almacena en memoria a las matrices usando como índice rápido el primero; esta convención\n",
    "se llama \"a lo largo de la columna\"  (o *column wise*). Respetar este órden en memoria\n",
    "*ayuda* a generar código rápido."
   ],
   "metadata": {}
  },
  {
   "cell_type": "markdown",
   "source": [
    "Una consecuencia de esto es que uno puede indizar los elementos de una matriz con un sólo índice,\n",
    "que simplemente recorre el *órden* en memoria."
   ],
   "metadata": {}
  },
  {
   "outputs": [],
   "cell_type": "code",
   "source": [
    "A[6] # equivalente,  en este caso, a A[2,3]"
   ],
   "metadata": {},
   "execution_count": null
  },
  {
   "cell_type": "markdown",
   "source": [
    "Es importante notar que los elementos de cada renglón se separan con un espacio\n",
    "en blanco, y los renglones por <Enter> o un  `;`."
   ],
   "metadata": {}
  },
  {
   "cell_type": "markdown",
   "source": [
    "Varias operaciones estándar del álgebra lineal están definidas de manera natural."
   ],
   "metadata": {}
  },
  {
   "outputs": [],
   "cell_type": "code",
   "source": [
    "b = un_vector[1:3]  # vector de longitud 3, a partir de `un_vector`"
   ],
   "metadata": {},
   "execution_count": null
  },
  {
   "outputs": [],
   "cell_type": "code",
   "source": [
    "A*b  # producto de matriz por vector"
   ],
   "metadata": {},
   "execution_count": null
  },
  {
   "outputs": [],
   "cell_type": "code",
   "source": [
    "inv(A)  # matrriz inversa"
   ],
   "metadata": {},
   "execution_count": null
  },
  {
   "cell_type": "markdown",
   "source": [
    "La solución del sistema $A x = b$ es $x = A^{-1} b$"
   ],
   "metadata": {}
  },
  {
   "outputs": [],
   "cell_type": "code",
   "source": [
    "x1 = inv(A)*b"
   ],
   "metadata": {},
   "execution_count": null
  },
  {
   "outputs": [],
   "cell_type": "code",
   "source": [
    "A*x1 - b  # verificamos qué tan buena es la solución"
   ],
   "metadata": {},
   "execution_count": null
  },
  {
   "outputs": [],
   "cell_type": "code",
   "source": [
    "x2 = A\\b # equivale a inv(A)*b, pero es más rápido"
   ],
   "metadata": {},
   "execution_count": null
  },
  {
   "outputs": [],
   "cell_type": "code",
   "source": [
    "x1 == x2  # Los resultados no son idénticos; `A\\b` es más rápido"
   ],
   "metadata": {},
   "execution_count": null
  },
  {
   "cell_type": "markdown",
   "source": [
    "Varias operaciones son reconocidas entre vectores y matrices. En particular, explotando\n",
    "`transpose` uno puede efectivamente lograr un producto eexterno"
   ],
   "metadata": {}
  },
  {
   "outputs": [],
   "cell_type": "code",
   "source": [
    "un_vector * transpose(un_vector)"
   ],
   "metadata": {},
   "execution_count": null
  },
  {
   "cell_type": "markdown",
   "source": [
    "Otras construcciones de matrices se pueden hacer explotando el *broadcasting*."
   ],
   "metadata": {}
  },
  {
   "outputs": [],
   "cell_type": "code",
   "source": [
    "un_vector .^ [0 1 2 3] # esto es una matriz de Vandermonde"
   ],
   "metadata": {},
   "execution_count": null
  },
  {
   "outputs": [],
   "cell_type": "code",
   "source": [
    "sin.(A) # `sin` evaluado elemento a elemento"
   ],
   "metadata": {},
   "execution_count": null
  },
  {
   "outputs": [],
   "cell_type": "code",
   "source": [
    "sin(A)  # función `sin` aplicado a la matriz `A` (no a cada elemento!)"
   ],
   "metadata": {},
   "execution_count": null
  },
  {
   "cell_type": "markdown",
   "source": [
    "## Tuplas"
   ],
   "metadata": {}
  },
  {
   "outputs": [],
   "cell_type": "code",
   "source": [
    "una_tupla = (1, 2, 3, 4) # una tupla"
   ],
   "metadata": {},
   "execution_count": null
  },
  {
   "outputs": [],
   "cell_type": "code",
   "source": [
    "una_tupla_con_nombres = (a=1, b=3.0) # una tupla cuyas entradas tienen nombres"
   ],
   "metadata": {},
   "execution_count": null
  },
  {
   "outputs": [],
   "cell_type": "code",
   "source": [
    "una_tupla[2]"
   ],
   "metadata": {},
   "execution_count": null
  },
  {
   "outputs": [],
   "cell_type": "code",
   "source": [
    "una_tupla_con_nombres.b # equivalente a una_tupla_con_nombres[2]"
   ],
   "metadata": {},
   "execution_count": null
  },
  {
   "cell_type": "markdown",
   "source": [
    "Una diferencia entre un vector y una tupla es que el vector es *mutable*, mientras\n",
    "que la tupla no. Eso lo que significa es que los elementos de un vector pueden ser\n",
    "cambiados, reasignados, añadidos o borrrados, y los de la tupla no. Las matrices,\n",
    "siendo arreglos, son mutables."
   ],
   "metadata": {}
  },
  {
   "outputs": [],
   "cell_type": "code",
   "source": [
    "un_vector[end] = 0 # `end` se usa para indicar el último elemento"
   ],
   "metadata": {},
   "execution_count": null
  },
  {
   "outputs": [],
   "cell_type": "code",
   "source": [
    "una_tupla[end] = 0  # arroja un `MethodError`"
   ],
   "metadata": {},
   "execution_count": null
  },
  {
   "cell_type": "markdown",
   "source": [
    "Otra diferencia entre las tuplas y los vectores es que las operaciiones típicas no\n",
    "funcionan con las tuplas."
   ],
   "metadata": {}
  },
  {
   "outputs": [],
   "cell_type": "code",
   "source": [
    "una_tupla + una_tupla  # esto arroja un `MethodError`"
   ],
   "metadata": {},
   "execution_count": null
  },
  {
   "cell_type": "markdown",
   "source": [
    "## Tipos"
   ],
   "metadata": {}
  },
  {
   "cell_type": "markdown",
   "source": [
    "Todo en Julia tiene asignado un *tipo*. Reconocer esto permite explotar las\n",
    "ventajas que Julia ofrece."
   ],
   "metadata": {}
  },
  {
   "outputs": [],
   "cell_type": "code",
   "source": [
    "typeof(r) # un número de punto flotante `Float64`"
   ],
   "metadata": {},
   "execution_count": null
  },
  {
   "outputs": [],
   "cell_type": "code",
   "source": [
    "typeof(pi) # un número irracional"
   ],
   "metadata": {},
   "execution_count": null
  },
  {
   "outputs": [],
   "cell_type": "code",
   "source": [
    "typeof(1) # un entero; para procesadores antiguos, el resultado puede ser `Int32`"
   ],
   "metadata": {},
   "execution_count": null
  },
  {
   "outputs": [],
   "cell_type": "code",
   "source": [
    "typeof(1//3) # Un número racional; noten que hay `Int64` en el tipo, que etiqueta al racional"
   ],
   "metadata": {},
   "execution_count": null
  },
  {
   "outputs": [],
   "cell_type": "code",
   "source": [
    "typeof(z) # Un número complejo; noten otra vez que incluye \"un apellido\""
   ],
   "metadata": {},
   "execution_count": null
  },
  {
   "outputs": [],
   "cell_type": "code",
   "source": [
    "typeof(un_vector) # Un vector; aquí hay dos \"parámetros\" para distinguirlo, el segundo es la dimensión"
   ],
   "metadata": {},
   "execution_count": null
  },
  {
   "outputs": [],
   "cell_type": "code",
   "source": [
    "typeof(A) # Una matriz es un `Array` de dimensión 2"
   ],
   "metadata": {},
   "execution_count": null
  },
  {
   "outputs": [],
   "cell_type": "code",
   "source": [
    "typeof(una_tupla)"
   ],
   "metadata": {},
   "execution_count": null
  },
  {
   "outputs": [],
   "cell_type": "code",
   "source": [
    "typeof(una_tupla_con_nombres)"
   ],
   "metadata": {},
   "execution_count": null
  },
  {
   "outputs": [],
   "cell_type": "code",
   "source": [
    "typeof(esta_clase) # una cadena"
   ],
   "metadata": {},
   "execution_count": null
  },
  {
   "outputs": [],
   "cell_type": "code",
   "source": [
    "typeof(+) # Los operadores (funciones) también tienen *su propio* tipo"
   ],
   "metadata": {},
   "execution_count": null
  },
  {
   "outputs": [],
   "cell_type": "code",
   "source": [
    "typeof(exp) # este output raro indica que las funciones tienen su propio tipo"
   ],
   "metadata": {},
   "execution_count": null
  },
  {
   "outputs": [],
   "cell_type": "code",
   "source": [
    "typeof(1.0)"
   ],
   "metadata": {},
   "execution_count": null
  },
  {
   "outputs": [],
   "cell_type": "code",
   "source": [
    "typeof(Float64) # Incluso los \"tipos\" tienen un tipo asignado específico"
   ],
   "metadata": {},
   "execution_count": null
  },
  {
   "outputs": [],
   "cell_type": "code",
   "source": [
    "typeof(DataType)"
   ],
   "metadata": {},
   "execution_count": null
  },
  {
   "outputs": [],
   "cell_type": "code",
   "source": [
    "typeof(typeof(exp))"
   ],
   "metadata": {},
   "execution_count": null
  },
  {
   "cell_type": "markdown",
   "source": [
    "Los tipos en Julia tienens una estructura (en el sentido de grafos)\n",
    "que es un árbol. Uno puede conocer los tipos más generales, o más específicos,\n",
    "usando las instrucciones `supertype` y `subtypes`; la última está\n",
    "dentro de la librería estándar `InteractiveUtils.jl`, que eventualmente\n",
    "cargaremos."
   ],
   "metadata": {}
  },
  {
   "outputs": [],
   "cell_type": "code",
   "source": [
    "supertype(Int)"
   ],
   "metadata": {},
   "execution_count": null
  },
  {
   "outputs": [],
   "cell_type": "code",
   "source": [
    "supertype(Signed)"
   ],
   "metadata": {},
   "execution_count": null
  },
  {
   "outputs": [],
   "cell_type": "code",
   "source": [
    "supertype(Integer)"
   ],
   "metadata": {},
   "execution_count": null
  },
  {
   "outputs": [],
   "cell_type": "code",
   "source": [
    "supertype(Real)"
   ],
   "metadata": {},
   "execution_count": null
  },
  {
   "outputs": [],
   "cell_type": "code",
   "source": [
    "supertype(Number)"
   ],
   "metadata": {},
   "execution_count": null
  },
  {
   "outputs": [],
   "cell_type": "code",
   "source": [
    "supertype(Float64)"
   ],
   "metadata": {},
   "execution_count": null
  },
  {
   "outputs": [],
   "cell_type": "code",
   "source": [
    "supertype(AbstractFloat)"
   ],
   "metadata": {},
   "execution_count": null
  },
  {
   "outputs": [],
   "cell_type": "code",
   "source": [
    "supertype(typeof(esta_clase))"
   ],
   "metadata": {},
   "execution_count": null
  },
  {
   "outputs": [],
   "cell_type": "code",
   "source": [
    "supertype(AbstractString)"
   ],
   "metadata": {},
   "execution_count": null
  },
  {
   "outputs": [],
   "cell_type": "code",
   "source": [
    "supertype(Any)"
   ],
   "metadata": {},
   "execution_count": null
  },
  {
   "cell_type": "markdown",
   "source": [
    "Claramente, cualquier cosa tiene como último supertipo a `Any`."
   ],
   "metadata": {}
  },
  {
   "cell_type": "markdown",
   "source": [
    "Para  ver los resultados de los subtipos, cargamos de la librería\n",
    "`InteractiveUtils` la función `subtypes`."
   ],
   "metadata": {}
  },
  {
   "outputs": [],
   "cell_type": "code",
   "source": [
    "using InteractiveUtils: subtypes"
   ],
   "metadata": {},
   "execution_count": null
  },
  {
   "outputs": [],
   "cell_type": "code",
   "source": [
    "subtypes(Number)  # regressa un  vector de tipos"
   ],
   "metadata": {},
   "execution_count": null
  },
  {
   "cell_type": "markdown",
   "source": [
    "Las *hojas del árbol* de tipos (el final) corresponde a `Type[]` que es un\n",
    "vector con *cero elementos* de tipo `Type`. Esto es una manera de decir\n",
    "que no hay más subtipos."
   ],
   "metadata": {}
  },
  {
   "outputs": [],
   "cell_type": "code",
   "source": [
    "typeof(subtypes(Number))"
   ],
   "metadata": {},
   "execution_count": null
  },
  {
   "outputs": [],
   "cell_type": "code",
   "source": [
    "subtypes(Float64)"
   ],
   "metadata": {},
   "execution_count": null
  },
  {
   "outputs": [],
   "cell_type": "code",
   "source": [
    "typeof(subtypes(Float64))"
   ],
   "metadata": {},
   "execution_count": null
  },
  {
   "cell_type": "markdown",
   "source": [
    "Para saber si un objeto es de cierto tipo, uno utiliza la función `isa`"
   ],
   "metadata": {}
  },
  {
   "outputs": [],
   "cell_type": "code",
   "source": [
    "1.0 isa Int # esto equivale a isa(1.0, Int)"
   ],
   "metadata": {},
   "execution_count": null
  },
  {
   "outputs": [],
   "cell_type": "code",
   "source": [
    "typeof(false) # `false` y `true` son de tipo `Bool`"
   ],
   "metadata": {},
   "execution_count": null
  },
  {
   "outputs": [],
   "cell_type": "code",
   "source": [
    "true isa Bool"
   ],
   "metadata": {},
   "execution_count": null
  },
  {
   "outputs": [],
   "cell_type": "code",
   "source": [
    "supertype(Bool) # `Bool` es de tipo `Integer` ya que es equivalente a 0 o 1, y requiere 1 bit de memoria"
   ],
   "metadata": {},
   "execution_count": null
  },
  {
   "cell_type": "markdown",
   "source": [
    "Para saber si un tipo es subtipo de otro, uno utiliza el operador `<:`; en algún sentido,\n",
    "este operador verifica si `Bool` está en una subrama de `Integer`"
   ],
   "metadata": {}
  },
  {
   "outputs": [],
   "cell_type": "code",
   "source": [
    "Bool <: Integer"
   ],
   "metadata": {},
   "execution_count": null
  },
  {
   "outputs": [],
   "cell_type": "code",
   "source": [
    "Real <: Number"
   ],
   "metadata": {},
   "execution_count": null
  },
  {
   "outputs": [],
   "cell_type": "code",
   "source": [
    "Float64 <: Number"
   ],
   "metadata": {},
   "execution_count": null
  },
  {
   "outputs": [],
   "cell_type": "code",
   "source": [
    "BigFloat <: Real"
   ],
   "metadata": {},
   "execution_count": null
  },
  {
   "cell_type": "markdown",
   "source": [
    "Los tipos pueden ser `concretos` o `abstractos`; la deferencia está en que los tipos\n",
    "concretos se pueden representar de una manera *concreta* en memoria; los tipos abstractos\n",
    "sirven para poder *generalizar* ciertas funciones a varios tipos; no tienen una representación\n",
    "concreta en memoria."
   ],
   "metadata": {}
  },
  {
   "outputs": [],
   "cell_type": "code",
   "source": [
    "isconcretetype(Float64), isconcretetype(Real)"
   ],
   "metadata": {},
   "execution_count": null
  },
  {
   "outputs": [],
   "cell_type": "code",
   "source": [
    "isabstracttype(Number)"
   ],
   "metadata": {},
   "execution_count": null
  },
  {
   "cell_type": "markdown",
   "source": [
    "---\n",
    "\n",
    "*This notebook was generated using [Literate.jl](https://github.com/fredrikekre/Literate.jl).*"
   ],
   "metadata": {}
  }
 ],
 "nbformat_minor": 3,
 "metadata": {
  "language_info": {
   "file_extension": ".jl",
   "mimetype": "application/julia",
   "name": "julia",
   "version": "1.6.0"
  },
  "kernelspec": {
   "name": "julia-1.6",
   "display_name": "Julia 1.6.0",
   "language": "julia"
  }
 },
 "nbformat": 4
}

{
 "cells": [
  {
   "cell_type": "markdown",
   "source": [
    "# Mapeos - Parte 2"
   ],
   "metadata": {}
  },
  {
   "cell_type": "markdown",
   "source": [
    "**Referencias:**\n",
    "\n",
    "- Robert L. Devaney, A First Course In Chaotic Dynamics: Theory and Experiment, 1992.\n",
    "\n",
    "- Heinz Georg Schuster, Wolfram Just, Deterministic Chaos, 2006."
   ],
   "metadata": {}
  },
  {
   "outputs": [],
   "cell_type": "code",
   "source": [
    "import Pkg\n",
    "Pkg.activate(\"..\")\n",
    "\n",
    "#Cargamos Plots\n",
    "using Plots"
   ],
   "metadata": {},
   "execution_count": null
  },
  {
   "cell_type": "markdown",
   "source": [
    "**Ejercicio 1**\n",
    "\n",
    "Completa la función `itera_mapeo`, cuyos argumentos son la función `f`, la condición inicial `x0` y\n",
    "el *entero* `n` que indica el número de iteraciones del mapeo. La función debe devolver *tres*\n",
    "*vectores*: uno que incluya la secuencia de iterados (incluyendo a la condición inicial), y otros dos\n",
    "que podrás usar para el análisis gráfico. Haz una prueba sencilla para $F(x) = \\sqrt{x}$.\n",
    "Completa además los \"docstrings\"."
   ],
   "metadata": {}
  },
  {
   "outputs": [],
   "cell_type": "code",
   "source": [
    "\"\"\"\n",
    "    itera_mapeo(f, x0, n)\n",
    "\n",
    "Itera la función ``x->f(x)``, de una dimensión, `n` veces a partir de la\n",
    "condición inicial `x0`. Regresa\n",
    "\"\"\"\n",
    "function itera_mapeo(f, x0, n::Int)\n",
    "    #Defino/creo tres vectores de salida (de `Float64`s)\n",
    "    its = [x0]\n",
    "    its_x = [x0]\n",
    "    its_y = [0.0]\n",
    "    #Obtengo los iterados\n",
    "    for i=1:n\n",
    "        x1 = f(x0)\n",
    "        push!(its, x1)\n",
    "        push!(its_x, x0, x1)\n",
    "        push!(its_y, x1, x1)\n",
    "        x0 = x1\n",
    "    end\n",
    "    return its, its_x, its_y\n",
    "end"
   ],
   "metadata": {},
   "execution_count": null
  },
  {
   "outputs": [],
   "cell_type": "code",
   "source": [
    "#Prueba de que itera_mapeo(f, x0, n) funciona\n",
    "using Test\n",
    "let\n",
    "    nits = 2\n",
    "    xs, vx, vy = itera_mapeo(x->sqrt(x), 16.0, 2)\n",
    "    @test length(xs) == nits+1\n",
    "    @test length(vx) == length(vy) == 2*nits+1\n",
    "    @test xs == [16.0, 4.0, 2.0]\n",
    "end"
   ],
   "metadata": {},
   "execution_count": null
  },
  {
   "cell_type": "markdown",
   "source": [
    "**Ejercicio 2**\n",
    "\n",
    "(a) Completa la función `analisis_grafico` (ver la siguiente celda), de tal manera que usándola se obtenga el\n",
    "tipo de gráficas ilustradas arriba. Esto es, que se grafique el mapeo `F` y la identidad, y los `n` siguientes\n",
    "iterados a partir de la condición inicial `x0`. El argumento (opcional) `domx` debe especificar el dominio que\n",
    "se grafica. Utiliza la función `itera_mapeo` definida en el ejercicio anterior. Completa también los \"docstrings\".\n",
    "Es útil tener otra función `analisis_grafico!` que sólo *actualice* la figura creada por `analisis_grafico` al\n",
    "iterar otra condición inicial.\n",
    "\n",
    "(b) Usa la función `analisis_grafico` para describir el mapeo $F(x)=\\sqrt{x}$, usando tres condiciones iniciales\n",
    "distintas. (Es aquí que la función `analisis_grafico!` es particularmente útil para dibujar sobrer una gráfica previa.)\n",
    "\n",
    "(c) ¿Qué se puede concluir al iterar *muchas* veces distintas condiciones iniciales para $F(x)=\\sqrt(x)$?\n",
    "\n",
    "(d) ¿Cuántos puntos fijos tiene el mapeo $F(x) = \\sqrt{x}$?\n",
    "\n",
    "(e) A partir de la gráfica del mapeo, ¿cómo se obtienen los puntos fijos del mapeo?"
   ],
   "metadata": {}
  },
  {
   "outputs": [],
   "cell_type": "code",
   "source": [
    "\"\"\"\n",
    "    analisis_grafico(F::Function, x0::Float64, n::Int)\n",
    "\n",
    "Implementa el análisis gráfico para la función ``x->F(x)``, usando la condición\n",
    "inicial `x0` y `n` iteraciones. Internamente se llama a `analisis_grafico!`\n",
    "\"\"\"\n",
    "function analisis_grafico(f, x0::Float64, n::Int, domx=0.0:1/128:1.0)\n",
    "    #Graficamos x->F(x) y x->x\n",
    "    Plt1 = plot(domx, x->f(x),\n",
    "        xaxis=(\"x\", (domx[1], domx[end])),\n",
    "        yaxis=(\"f(x)\"),\n",
    "        color=:blue, legend=false, grid=false)\n",
    "\n",
    "    plot!(Plt1,\n",
    "        domx, identity, color=:blue, linestyle=:dash)\n",
    "\n",
    "    #Se grafican los iterados\n",
    "    analisis_grafico!(Plt1, f, x0, n, domx)\n",
    "    return Plt1\n",
    "end"
   ],
   "metadata": {},
   "execution_count": null
  },
  {
   "outputs": [],
   "cell_type": "code",
   "source": [
    "\"\"\"\n",
    "    analisis_grafico!(Plt1, f::Function, x0::Float64, n::Int)\n",
    "\n",
    "Modifica la gráfica `Plt1` iterando el mapeo ``x->f(x)``, a partir\n",
    "de la condición inicial `x0`, usando `n` iterados. La gráfica se\n",
    "hace considerando `domx` como el dominio.s\n",
    "\"\"\"\n",
    "function analisis_grafico!(Plt1, f::F, x0::Float64, n::Int,\n",
    "        domx=0.0:1/128:1.0; color=:orange) where {F}\n",
    "    #Calculamos los iterados\n",
    "    _, vx, vy = itera_mapeo(x->f(x), x0, n)\n",
    "\n",
    "    #Graficamos los nuevos iterados\n",
    "    plot!(Plt1, vx, vy, line=(color, :dash, 2.0),\n",
    "        markershape=:circle, markercolor=color, markerstrokecolor=color)\n",
    "\n",
    "    return Plt1\n",
    "end"
   ],
   "metadata": {},
   "execution_count": null
  },
  {
   "outputs": [],
   "cell_type": "code",
   "source": [
    "analisis_grafico(x->sqrt(x), 5.0, 4, 0.0:1/32:5.2)"
   ],
   "metadata": {},
   "execution_count": null
  },
  {
   "outputs": [],
   "cell_type": "code",
   "source": [
    "Plt1 = analisis_grafico(x->sqrt(x), 5.0, 4, 0.0:1/32:5.2);\n",
    "analisis_grafico!(Plt1, x->sqrt(x), 0.1, 4, 0.0:1/32:5.2, color=:red)\n",
    "analisis_grafico!(Plt1, x->sqrt(x), 3.6, 4, 0.0:1/32:5.2, color=:green)"
   ],
   "metadata": {},
   "execution_count": null
  },
  {
   "cell_type": "markdown",
   "source": [
    "## Puntos fijos"
   ],
   "metadata": {}
  },
  {
   "cell_type": "markdown",
   "source": [
    "El análisis gráfico es útil pero ciertamente no riguroso. Esto se puede deber a\n",
    "cuestiones de precisión numérica o simplemente a que el número de iteraciones es finito."
   ],
   "metadata": {}
  },
  {
   "cell_type": "markdown",
   "source": [
    "Un resultado riguroso (¡teorema!) que es útil para encontrar puntos fijos es el\n",
    "**teorema del valor intermedio**: Supongamos que $F:[a,b]\\to\\mathbb{R}$ es *continua*,\n",
    "y que $y_0$ se encuentra entre $F(a)$ y $F(b)$. Entonces, existe un punto en\n",
    "$x_0\\in[a,b]$ tal que $F(x_0)=y_0$."
   ],
   "metadata": {}
  },
  {
   "cell_type": "markdown",
   "source": [
    "Una consecuencia de este teorema es el teorema del punto fijo."
   ],
   "metadata": {}
  },
  {
   "cell_type": "markdown",
   "source": [
    "**Teorema del punto fijo:** Supongamos que $F:[a,b]\\to[a,b]$ es *continua*. Entonces,\n",
    "existe un punto fijo de $F(x)$ en $[a,b]$."
   ],
   "metadata": {}
  },
  {
   "cell_type": "markdown",
   "source": [
    "Algunos comentarios:\n",
    "\n",
    "- El teorema asienta la *existencia* de un punto fijo; puede haber más.\n",
    "\n",
    "- El teorema asume que $F$ es *continua* y que mapea el intervalo $[a,b]$ en si mismo.\n",
    "\n",
    "- El intervalo $[a,b]$ es *cerrado*.\n",
    "\n",
    "- El teorema **no** dice cómo encontrar a los puntos fijos.\n",
    "\n",
    "La *demostración* se basa en aplicar el teorema del valor medio para la\n",
    "función $H(x)=F(x)-x$, y mostrar que existe un valor $x_0$ tal que $H(x_0)=0$.\n",
    "$H(x)$ es continua en el intervalo $[a,b]$ (así que se satisfacen las hipótesis\n",
    "del teorema del punto intermedio) y satisface $H(a) = F(a)-a \\ge 0$ y\n",
    "$H(b)=F(b)-b\\le 0$. (Estas propiedades se satisfacen ya que $F:[a,b]\\to[a,b]$.)\n",
    "$\\Box$"
   ],
   "metadata": {}
  },
  {
   "cell_type": "markdown",
   "source": [
    "## Estabilidad"
   ],
   "metadata": {}
  },
  {
   "cell_type": "markdown",
   "source": [
    "A fin de entender el comportamiento *cerca* de un punto fijo, estudiaremos\n",
    "ahora mapeos lineales. La idea de estudiar un mapeo lineal es que éste constituye\n",
    "la primer aproximación de la series de Taylor (la linearización de algo más complejo),\n",
    "no trivial en general, cerca de un punto fijo. Para hacer las cosas más sencillas,\n",
    "consideraremos que el punto fijo es el cero, y el mapeo tiene la forma:\n",
    "\n",
    "\\begin{equation}\n",
    "F_\\alpha(x) = \\alpha x.\n",
    "\\end{equation}"
   ],
   "metadata": {}
  },
  {
   "cell_type": "markdown",
   "source": [
    "### $0<\\alpha <1$."
   ],
   "metadata": {}
  },
  {
   "outputs": [],
   "cell_type": "code",
   "source": [
    "#Definición del mapeo; noten que incluimos a la pendiente como argumento de la función\n",
    "f(x, α) = α * x"
   ],
   "metadata": {},
   "execution_count": null
  },
  {
   "outputs": [],
   "cell_type": "code",
   "source": [
    "plt2 = analisis_grafico(x->f(x, 0.6), 0.8, 20, -1:1/32:1)\n",
    "analisis_grafico!(plt2, x->f(x, 0.6), -0.8, 20, -1:1/32:1, color=:green)"
   ],
   "metadata": {},
   "execution_count": null
  },
  {
   "cell_type": "markdown",
   "source": [
    "Como se puede observar, los iterados de ambas condiciones iniciales convergen a 0;\n",
    "en algún sentido, para $0<\\alpha<1$ el punto fijo los *atrae*."
   ],
   "metadata": {}
  },
  {
   "outputs": [],
   "cell_type": "code",
   "source": [
    "x1, _, _ = itera_mapeo(x->f(x, 0.6), 0.8, 20)\n",
    "x2, _, _ = itera_mapeo(x->f(x, 0.6), -0.8, 20)\n",
    "x1[end], x2[end]"
   ],
   "metadata": {},
   "execution_count": null
  },
  {
   "cell_type": "markdown",
   "source": [
    "### $\\alpha>1$."
   ],
   "metadata": {}
  },
  {
   "outputs": [],
   "cell_type": "code",
   "source": [
    "x3, _, _ = itera_mapeo(x->f(x, 1.6), 0.08, 8)\n",
    "x4, _, _ = itera_mapeo(x->f(x, 1.6), -0.08, 8)\n",
    "\n",
    "plt3 = analisis_grafico(x->f(x, 1.6), 0.08, 8, -1:1/32:1)\n",
    "analisis_grafico!(plt3, x->f(x, 1.6), -0.08, 8, -1:1/32:1, color=:green)"
   ],
   "metadata": {},
   "execution_count": null
  },
  {
   "cell_type": "markdown",
   "source": [
    "En este caso, con $\\alpha > 1$, observamos que los iterados *se alejan* del\n",
    "punto fijo; uno dice que el punto fijo los *repele*."
   ],
   "metadata": {}
  },
  {
   "outputs": [],
   "cell_type": "code",
   "source": [
    "x3[end], x4[end]"
   ],
   "metadata": {},
   "execution_count": null
  },
  {
   "cell_type": "markdown",
   "source": [
    "### Caso general"
   ],
   "metadata": {}
  },
  {
   "cell_type": "markdown",
   "source": [
    "En el caso de un mapeo lineal $x_{n+1}=\\alpha x_n$, el mapeo define una sucesión\n",
    "geométrica. Entonces, el $n$-ésimo iterado vendrá dado por:\n",
    "\n",
    "\\begin{equation}\n",
    "x_n = x_0 \\alpha^n\n",
    "\\end{equation}\n",
    "\n",
    "De aquí es claro que, si $0\\ge\\alpha<1$, el límite cuando $n\\to\\infty$ es 0, el punto\n",
    "fijo. De igual manera, si $-1<\\alpha<0$ el límite será también el punto fijo. En este\n",
    "caso decimos que el punto fijo es **linealmente estable**. La diferencia entre\n",
    "el caso con $\\alpha$ positiva o negativa radica en la *forma* en la que los iterados\n",
    "se acerrcan al punto fijo... la ambigüedad es a propósito..."
   ],
   "metadata": {}
  },
  {
   "cell_type": "markdown",
   "source": [
    "Por otra parte, si $|\\alpha|>1$, el límite cuando $n\\to\\infty$ es $\\infty$, es decir,\n",
    "los iterados se alejan del punto fijo. En este caso diremos que el punto\n",
    "es **linealmente inestable**."
   ],
   "metadata": {}
  },
  {
   "cell_type": "markdown",
   "source": [
    "El análisis que hemos desarrollado aquí lo hicimos para mapeos lineales de la forma\n",
    "$x_{n+1} = F_\\alpha(x_n)=\\alpha x_n$, pero es útil más allá de los mapeos lineales.\n",
    "Como dijimos arriba, cualquier mapeo $F(x)$, alrededor de su punto fijo, lo podemos\n",
    "escribir a primer orden como\n",
    "\n",
    "\\begin{equation}\n",
    "F(x_* + \\delta) = x_* + \\delta F'(x_*) + \\cal{O}(\\delta^2),\n",
    "\\end{equation}\n",
    "\n",
    "que precisamente es un mapeo lineal en $\\delta$, donde el equivalente de la\n",
    "pendiente $\\alpha$ utilizada arria, es $F'(x_*)$. Esto es, las propiedades de\n",
    "estabilidad lineal están dadas por el valor de su derivada en el punto fijo."
   ],
   "metadata": {}
  },
  {
   "cell_type": "markdown",
   "source": [
    "**Ejercicio 1**\n",
    "\n",
    "¿Cuál es la diferencia (cualitativa, en términos de los iterados) del mapeo con\n",
    "$\\alpha>0$ o con $-\\alpha$? Ilustren con el análisis gráfico sus conclusiones."
   ],
   "metadata": {}
  },
  {
   "outputs": [],
   "cell_type": "code",
   "source": [
    "#(Respuestas)"
   ],
   "metadata": {},
   "execution_count": null
  },
  {
   "cell_type": "markdown",
   "source": [
    "**Ejercicio 2**\n",
    "\n",
    "¿Qué podemos decir de cuando $|\\alpha|=1$?"
   ],
   "metadata": {}
  },
  {
   "outputs": [],
   "cell_type": "code",
   "source": [
    "#(Respuestas)"
   ],
   "metadata": {},
   "execution_count": null
  },
  {
   "cell_type": "markdown",
   "source": [
    "## Puntos periódicos"
   ],
   "metadata": {}
  },
  {
   "cell_type": "markdown",
   "source": [
    "De la misma manera que para los puntos fijos, los puntos periódicos se pueden\n",
    "clasificar en atractivos, repulsivos o neutros. Básicamente, esto es consecuencia de\n",
    "que cada punto periódico $\\tilde{x}$, de periodo $p$, del mapeo $F(x)$, es un\n",
    "*punto fijo* del mapeo $\\tilde{x} = F^p(\\tilde{x})$."
   ],
   "metadata": {}
  },
  {
   "cell_type": "markdown",
   "source": [
    "Un ejemplo sencillo e ilustrativo de esto es el mapeo $F(x)=x^2-1$, definido\n",
    "en el intervalo $[-1,1]$. Claramente, este mapeo tiene tiene una órbita de periodo 2\n",
    "dada por $0, -1, 0, -1, \\dots$. Cada uno de estos puntos, son puntos fijos de\n",
    "\n",
    "\\begin{equation}\n",
    "F^2(x) = (x^2-1)^2-1 = x^2 (x^2 - 2),\n",
    "\\end{equation}\n",
    "\n",
    "esto es, ambos puntos (¡y sólo ellos!) satisfacen la ecuación\n",
    "\n",
    "\\begin{equation}\n",
    "F^2(x) - x = x(x^3-2x-1) = x(x+1)(x^2-x-1) = 0.\n",
    "\\end{equation}"
   ],
   "metadata": {}
  },
  {
   "outputs": [],
   "cell_type": "code",
   "source": [
    "f1 = x -> x^2-1        # First iterate\n",
    "f2 = x -> f1(f1(x))  # Second iterate"
   ],
   "metadata": {},
   "execution_count": null
  },
  {
   "outputs": [],
   "cell_type": "code",
   "source": [
    "plot(-1:1/32:1, f1,\n",
    "    xaxis=(\"x\", (-1.1, 1.1)), yaxis=(\"F(x), F^2(x)\", (-1.03,0.03)),\n",
    "    label=\"F(x)\", grid=:false, legend=(0.78, 0.94), background_color_legend=:transparent,\n",
    "    color=:blue)\n",
    "\n",
    "plot!(-1:1/32:1, f2, xaxis=(\"x\", (-1.1, 1.1)), label=\"F^2(x)\", color=:red)\n",
    "\n",
    "plot!(-1:1/16:0.1, identity, xaxis=(\"x\", (-1.1, 1.1)), label=\"Id(x)\", color=:green)"
   ],
   "metadata": {},
   "execution_count": null
  },
  {
   "cell_type": "markdown",
   "source": [
    "Es claro de las gráficas que $(F^2)'(0)=(F^2)'(-1)=0$. Esto es, ambos puntos son\n",
    "puntos fijos atractivos para el mapeo $F^2(x)$; el otro punto fijo del mapeo\n",
    "$F^2(x)$, $x_* = (1-\\sqrt{5})/2$, es repulsivo, ya que su pendiente es mayor a 1,\n",
    "que es la pendiente de la identidad. Vale la pena notar que $x^*$ es el único punto\n",
    "fijo de periodo 1, dado que satisface $F(x_*)-x_* = x_*^2-x_*-1 = 0$."
   ],
   "metadata": {}
  },
  {
   "cell_type": "markdown",
   "source": [
    "Entonces, puntos que inician suficientemente cerca de 0 o de -1 serán atraídos\n",
    "respectivamente por estos puntos bajo el mapeo $F^2(x)$. Bajo el mapeo $F$, puntos\n",
    "suficientemente cerca de 0 o -1, se acercarán paulativamente a la vecindad de uno y del otro."
   ],
   "metadata": {}
  },
  {
   "cell_type": "markdown",
   "source": [
    "Es claro que el concepto de estabilidad se puede extender a los puntos de periodo $n$.\n",
    "Cuantitativamente, debemos evaluar la derivada de $F^n(x)$ en algún punto de la órbita periódica.\n",
    "\n",
    "Entonces, debemos calcular la derivada del mapeo $F^n(x)$. Consideremos como ejemplo el\n",
    "caso $F^2(x)$ primero. En este caso, tenemos $F^2(x)=F(F(x))$, y denotaremos a los puntos\n",
    "de periodo 2 como $x_0$ y $x_1$. Entonces, usando la regla de la cadena obtenemos:\n",
    "\n",
    "\\begin{equation}\n",
    "\\frac{\\textrm{d}F^2(x_0)}{\\textrm{d}x} = F'(F(x_0)) F'(x_0) = F'(x_1) F'(x_0).\n",
    "\\end{equation}"
   ],
   "metadata": {}
  },
  {
   "cell_type": "markdown",
   "source": [
    "De igual manera, considerando los puntos de periodo 3 tenemos, $F^3(x)=F(F^2(x))$ y obtenemos:\n",
    "\n",
    "\\begin{equation}\n",
    "\\frac{\\textrm{d}F^3(x_0)}{\\textrm{d}x} = F'(F^2(x_0)) (F^2)'(x_0) = F'(x_2) F'(x_1) F'(x_0).\n",
    "\\end{equation}"
   ],
   "metadata": {}
  },
  {
   "cell_type": "markdown",
   "source": [
    "Esto se generaliza de manera evidente. De hecho, es fácil demostrar que se cumple\n",
    "\n",
    "\\begin{equation}\n",
    "\\frac{\\textrm{d}F^n(x_0)}{\\textrm{d}x} = (F^n)'(x_0) = F'(x_{n-1})\\cdots F'(x_1)F'(x_0).\n",
    "\\end{equation}\n",
    "\n",
    "De esta última relación vemos que **todos** los iterados de una órbita periódica de\n",
    "periodo $n$ tienen la misma derivada *respecto* al mapeo $F^n$, i.e.,\n",
    "$(F^n)'(x_0)=(F^n)'(x_1)=\\dots=(F^n)'(x_{n-1})$.\n",
    "\n",
    "Por lo tanto, todos los puntos ligados por una órbita periódica son atractivos o repulsivos."
   ],
   "metadata": {}
  },
  {
   "cell_type": "markdown",
   "source": [
    "---\n",
    "\n",
    "*This notebook was generated using [Literate.jl](https://github.com/fredrikekre/Literate.jl).*"
   ],
   "metadata": {}
  }
 ],
 "nbformat_minor": 3,
 "metadata": {
  "language_info": {
   "file_extension": ".jl",
   "mimetype": "application/julia",
   "name": "julia",
   "version": "1.6.0"
  },
  "kernelspec": {
   "name": "julia-1.6",
   "display_name": "Julia 1.6.0",
   "language": "julia"
  }
 },
 "nbformat": 4
}

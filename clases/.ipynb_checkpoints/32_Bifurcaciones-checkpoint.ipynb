{
 "cells": [
  {
   "cell_type": "markdown",
   "source": [
    "# La ruta al caos de doblamiento de periodo"
   ],
   "metadata": {}
  },
  {
   "outputs": [],
   "cell_type": "code",
   "source": [
    "using Pkg\n",
    "Pkg.activate(\"..\")"
   ],
   "metadata": {},
   "execution_count": null
  },
  {
   "outputs": [],
   "cell_type": "code",
   "source": [
    "using Plots\n",
    "gr(grid=false)"
   ],
   "metadata": {},
   "execution_count": null
  },
  {
   "cell_type": "markdown",
   "source": [
    "## Más allá del atractor de periodo 2\n",
    "\n",
    "En la clase anterior, vimos que en la familia de mapeos cuadrática\n",
    "$Q_c(x) = x^2+c$ hay *al menos* dos bifurcaciones que ocurren.\n",
    "\n",
    "- Para $c>1/4$, no hay puntos fijos en el mapeo, y que para $c<1/4$ hay dos que, para valores de $c$ suficientemente cercanos a $c=1/4$ corresponden a un atractor y a un repulsor. Esta bifurcación es la de silla-nodo.\n",
    "- Para $c<-3/4$ vimos que el punto fijo atractor se torna repulsor y *aparecen* dos puntos periódicos, de periodo 2, que son atractores. La bifurcación que ocurre en $c=-3/4$ es la que se llama la bifurcación de doblamiento de periodo.\n",
    "- Además, vimos que para $c<-5/4$ los dos puntos del ciclo de periodo dos se tornan repulsores."
   ],
   "metadata": {}
  },
  {
   "cell_type": "markdown",
   "source": [
    "El ejercicio 3 del archivo anterior trataba de explorar los detalles\n",
    "de lo que pasaba en el intervalo $-2\\le c<1/4$ de manera íntegra. La\n",
    "razón por la que nos concentramos en el intervalo con $1/4\\ge c\\ge -2$\n",
    "es que, en este caso el intervalo de $x \\in \\mathcal{D}$ se mapea sobre\n",
    "sí mismo."
   ],
   "metadata": {}
  },
  {
   "cell_type": "markdown",
   "source": [
    "Ahora esbozaremos una posible implementación de ese ejercicio. Una\n",
    "sutileza: utilizaremos como condición inicial a $x_0=0$. Vale la pena\n",
    "notar que este punto tiene una peculiaridad importante: $Q_c'(0)=0$\n",
    "(y $Q_c''(0)\\neq 0$). Esto es, si $x_0=0$ es un punto crítico del\n",
    "mapeo $Q_c(x)$, para alguna $c$, entonces, si $x_0=0$ pertenece\n",
    "a una órbita periódica, en ese caso la órbita será *superestable*."
   ],
   "metadata": {}
  },
  {
   "outputs": [],
   "cell_type": "code",
   "source": [
    "\"\"\"\n",
    "    ciclosestables!(xx, f, cc, nit, nout)\n",
    "\n",
    "Esta función itera el mapeo `f`, de una variable, `nit+nout` veces,\n",
    "usando como condición inicial `x0=0`; los últimos `nout` iterados\n",
    "actualizan al vector `xx` que tiene longitud `nout`. `cc` es el valor\n",
    "del parámetro del mapeo `f`. El mapeo `f` debe ser definido de\n",
    "tal manera que `f(x0, cc)` tenga sentido. La idea es que los últimos\n",
    "`nout` iterados reflejen los ciclos estables del mapeo `f`.\n",
    "\"\"\"\n",
    "function ciclosestables!(xx, f, cc, nit, nout)\n",
    "    @assert (nit > 0) && (nout > 0)\n",
    "\n",
    "    #Primeros nit iterados\n",
    "    x0 = 0.0\n",
    "    for it = 1:nit\n",
    "        x0 = f(x0, cc)\n",
    "    end\n",
    "\n",
    "    #Se guardan los siguientes nout iterados\n",
    "    for it = 1:nout\n",
    "        x0 = f(x0, cc)\n",
    "        @inbounds xx[it] = x0\n",
    "    end\n",
    "\n",
    "    nothing\n",
    "end"
   ],
   "metadata": {},
   "execution_count": null
  },
  {
   "outputs": [],
   "cell_type": "code",
   "source": [
    "\"\"\"\n",
    "    diag_bifurc(f, nit, nout, crange)\n",
    "\n",
    "Itera el mapeo `f` `nit+nout` veces y regresa una matriz\n",
    "cuya columna `i` tiene los últimos `nout` iterados del mapeo\n",
    "para el valor del parámetro del mapeo `crange[i]`.\n",
    "\n",
    "La función `f` debe ser definida de tal manera que `f(x0, c)`\n",
    "tenga sentido.\n",
    "\"\"\"\n",
    "function diag_bifurc(f, nit, nout, crange)\n",
    "    #xx = Vector{Float64}(nout)\n",
    "    ff = Array{Float64}(undef, (nout, length(crange)))\n",
    "\n",
    "    for ic in eachindex(crange)\n",
    "        c = crange[ic]\n",
    "        ciclosestables!(view(ff, :, ic), f, c, nit, nout)\n",
    "        #ff[:,ic] = xx\n",
    "    end\n",
    "\n",
    "    return ff\n",
    "end"
   ],
   "metadata": {},
   "execution_count": null
  },
  {
   "outputs": [],
   "cell_type": "code",
   "source": [
    "Qc(x,c) = x^2 + c\n",
    "\n",
    "crange = 0.25:-1/2^10:-2.0\n",
    "\n",
    "ff = diag_bifurc(Qc, 2000, 256, crange);\n",
    "cc = ones(size(ff, 1)) * crange';"
   ],
   "metadata": {},
   "execution_count": null
  },
  {
   "outputs": [],
   "cell_type": "code",
   "source": [
    "#Lo siguiente cambia las matrices en vectores; ayuda un poco para los dibujos\n",
    "ff = reshape(ff, size(ff, 1)*size(ff, 2));\n",
    "cc = reshape(cc, size(ff));"
   ],
   "metadata": {},
   "execution_count": null
  },
  {
   "outputs": [],
   "cell_type": "code",
   "source": [
    "scatter(cc, ff, markersize=0.5, markerstrokestyle=:solid,\n",
    "    legend=false, title=\"Fig. 1\")\n",
    "plot!([-1.2,-1.5,-1.5,-1.2,-1.2], [-1.5,-1.5,-0.9,-0.9,-1.5], color=:black)\n",
    "plot!([-2,0.5], [0.0,0.0], color=:red)\n",
    "xaxis!(\"c\")\n",
    "yaxis!(\"x_infty\")\n",
    "savefig(\"diag_bif1.png\")"
   ],
   "metadata": {},
   "execution_count": null
  },
  {
   "cell_type": "markdown",
   "source": [
    "(Insertamos la figura producida en el texto!)\n",
    "\n",
    "![Fig 1](diag_bif1.png \"Fig. 1\")"
   ],
   "metadata": {}
  },
  {
   "cell_type": "markdown",
   "source": [
    "Es muy claro de este diagrama, Fig. 1, que la dinámica se vuelve rica\n",
    "e interesante a medida que uno disminuye el parámetro $c$ más allá\n",
    "de -5/4."
   ],
   "metadata": {}
  },
  {
   "cell_type": "markdown",
   "source": [
    "A continuación haremos un aumento (zoom) de la región indicada."
   ],
   "metadata": {}
  },
  {
   "outputs": [],
   "cell_type": "code",
   "source": [
    "scatter(cc, ff, markersize=0.5, markerstrokestyle=:solid,\n",
    "    legend=false, title=\"Fig. 2\")\n",
    "xaxis!(\"c\")\n",
    "yaxis!(\"x_infty\")\n",
    "xlims!(-1.5,-1.2)\n",
    "ylims!(-1.5,-0.9)\n",
    "plot!([-1.35,-1.425,-1.425,-1.35,-1.35], [-1.425,-1.425,-1.33,-1.33,-1.425], color=:black)\n",
    "savefig(\"diag_bif2.png\")"
   ],
   "metadata": {},
   "execution_count": null
  },
  {
   "cell_type": "markdown",
   "source": [
    "![Fig 2](diag_bif2.png \"Fig. 2\")"
   ],
   "metadata": {}
  },
  {
   "cell_type": "markdown",
   "source": [
    "La Fig. 2 muestra el aumento indicado en la Fig. 1, usando los mismos puntos\n",
    "calculados que se usaron en la Fig. 1. Ahí se muestra\n",
    "que después del reescalamiento se obtiene esencialmente la misma\n",
    "estructura que la gráfica completa (Fig. 1). La curva suave de la\n",
    "derecha corresponde en este caso a una de las ramas de periodo 2."
   ],
   "metadata": {}
  },
  {
   "cell_type": "markdown",
   "source": [
    "Claramente podemos ver que en $c=-5/4$ hay *otra* bifurcación de\n",
    "doblamiento de periodo. A partir de ese valor, la órbita de periodo 2\n",
    "se torna en un repulsor y aparece una órbita de periodo 4 atractiva."
   ],
   "metadata": {}
  },
  {
   "cell_type": "markdown",
   "source": [
    "Este escenario se preserva hasta cierto valor de $c$ donde la órbita\n",
    "de periodo 4 se vuelve inestable (repulsiva), y aparece ahora un\n",
    "ciclo de periodo 8, por doblamiento de periodo. De hecho, la figura\n",
    "muestra que *antes* de $c\\simeq -1.4$, aparece un ciclo estable de\n",
    "periodo 16."
   ],
   "metadata": {}
  },
  {
   "cell_type": "markdown",
   "source": [
    "Claramente estamos observando *una cascada de bifurcaciones* de\n",
    "doblamiento de periodo. Esto es, al disminuir $c$\n",
    "los puntos periódicos aparecen en el orden: $1, 2, 4, 8, \\dots, 2^n, \\dots$. Además, el intervalo en $c$ donde el periodo $2^n$ se observa, es mayor que donde se observa el periodo $2^{n+1}$.\n",
    "\n",
    "Aumentos sucesivos muestran la veracidad de esto, aunque para\n",
    "tener suficientes puntos hay que hacer nuevos cálculos.\n",
    "En la Fig. 3, que corresponde al recuadro indicado en la Fig. 2,\n",
    "la curva de la derecha corresponde a una de las ramas del ciclo de\n",
    "periodo 4."
   ],
   "metadata": {}
  },
  {
   "outputs": [],
   "cell_type": "code",
   "source": [
    "crange = -1.35:-1/2^13:-1.425\n",
    "\n",
    "ff1 = diag_bifurc(Qc, 4000, 512, crange);\n",
    "cc1 = ones(size(ff1, 1)) * crange';\n",
    "\n",
    "#Esto cambia las matrices en vectores; ayuda un poco para los dibujos\n",
    "ff1 = reshape(ff1, size(ff1, 1)*size(ff1, 2));\n",
    "cc1 = reshape(cc1, size(ff1));"
   ],
   "metadata": {},
   "execution_count": null
  },
  {
   "outputs": [],
   "cell_type": "code",
   "source": [
    "scatter(cc1, ff1, markersize=0.5, markerstrokestyle=:solid,\n",
    "    legend=false, title=\"Fig. 3\")\n",
    "xaxis!(\"c\")\n",
    "yaxis!(\"x_infty\")\n",
    "xlims!(-1.425,-1.35)\n",
    "ylims!(-1.425,-1.33)\n",
    "savefig(\"diag_bif3.png\")"
   ],
   "metadata": {},
   "execution_count": null
  },
  {
   "cell_type": "markdown",
   "source": [
    "![Fig 3](diag_bif3.png \"Fig. 3\")"
   ],
   "metadata": {}
  },
  {
   "cell_type": "markdown",
   "source": [
    "En estas figuras uno puede además observar ciertas regiones del\n",
    "parámetro $c$ donde *aparecen* ventanas de baja periodicidad, pero\n",
    "cuyo periodo **no** es de la forma $2^n$, y también se aprecia que\n",
    "éstas van seguidas de otras casadas de bifurcaciones de doblamiento\n",
    "de periodo. Un ejemplo notable es la ventana de *periodo 3* que se\n",
    "muestra en la Fig. 1. Como veremos más adelante, la existencia del\n",
    "periodo 3 implica caos."
   ],
   "metadata": {}
  },
  {
   "cell_type": "markdown",
   "source": [
    "La observación de que los intervalos en $c$ donde se observa\n",
    "cierta periodicidad *disminuyen* al aumentar la periodicidad\n",
    "(respetando el doblamiento de periodo), lleva a la pregunta si hay\n",
    "una $c$ donde se observe un periodo *infinito*.\n",
    "\n",
    "Esto lo contestaremos en los siguientes ejercicios."
   ],
   "metadata": {}
  },
  {
   "cell_type": "markdown",
   "source": [
    "---\n",
    "\n",
    "*This notebook was generated using [Literate.jl](https://github.com/fredrikekre/Literate.jl).*"
   ],
   "metadata": {}
  }
 ],
 "nbformat_minor": 3,
 "metadata": {
  "language_info": {
   "file_extension": ".jl",
   "mimetype": "application/julia",
   "name": "julia",
   "version": "1.6.0"
  },
  "kernelspec": {
   "name": "julia-1.6",
   "display_name": "Julia 1.6.0",
   "language": "julia"
  }
 },
 "nbformat": 4
}

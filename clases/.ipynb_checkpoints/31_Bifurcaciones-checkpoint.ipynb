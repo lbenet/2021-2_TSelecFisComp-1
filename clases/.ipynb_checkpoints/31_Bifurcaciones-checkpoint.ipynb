{
 "cells": [
  {
   "cell_type": "markdown",
   "source": [
    "# Bifurcaciones"
   ],
   "metadata": {}
  },
  {
   "outputs": [],
   "cell_type": "code",
   "source": [
    "using Pkg\n",
    "Pkg.activate(\"..\")"
   ],
   "metadata": {},
   "execution_count": null
  },
  {
   "outputs": [],
   "cell_type": "code",
   "source": [
    "using Plots\n",
    "gr(grid=false)"
   ],
   "metadata": {},
   "execution_count": null
  },
  {
   "cell_type": "markdown",
   "source": [
    "Empezamos cargando la función `itera_mapeo` que hicimos en una clase pasada;\n",
    "noten  que hay  algunos cambios pequeños (evitamos crear/usar el vector `its`)."
   ],
   "metadata": {}
  },
  {
   "outputs": [],
   "cell_type": "code",
   "source": [
    "\"\"\"\n",
    "    itera_mapeo(f, x0, n)\n",
    "\n",
    "Itera la función ``x->f(x)``, de una dimensión, `n` veces a partir de la\n",
    "condición inicial `x0`. Regresa\n",
    "\"\"\"\n",
    "function itera_mapeo(f, x0, n::Int)\n",
    "    #Defino/creo tres vectores de salida (de `Float64`s)\n",
    "    #its = [x0]\n",
    "    its_x = [x0]\n",
    "    its_y = [0.0]\n",
    "    #Obtengo los iterados\n",
    "    for i=1:n\n",
    "        x1 = f(x0)\n",
    "        #push!(its, x1)\n",
    "        push!(its_x, x0, x1)\n",
    "        push!(its_y, x1, x1)\n",
    "        x0 = x1\n",
    "    end\n",
    "    return its_x, its_y\n",
    "end"
   ],
   "metadata": {},
   "execution_count": null
  },
  {
   "cell_type": "markdown",
   "source": [
    "## Un ejemplo de bifurcación\n",
    "\n",
    "Consideremos a la *familia* de mapeos cuadráticos dada por\n",
    "\n",
    "\\begin{equation}\n",
    "    Q_c(x) = x^2 + c,\n",
    "\\end{equation}\n",
    "\n",
    "donde $c\\in\\mathbb{R}$ es un parámetro, y $x\\in[-2,2]$. Estudiaremos, por un lado,\n",
    "cómo dependen los puntos fijos de $c$, y cómo varía su estabilidad."
   ],
   "metadata": {}
  },
  {
   "cell_type": "markdown",
   "source": [
    "Los puntos fijos satisfacen la ecuación $Q_c(x) = x^2+c=x$, de donde obtenemos\n",
    "(analíticamente) dos raíces:\n",
    "\n",
    "\\begin{eqnarray}\n",
    "x_+(c) & = & \\frac{1}{2}( 1 + \\sqrt{1-4c} ),\\\\\n",
    "x_-(c) & = & \\frac{1}{2}( 1 - \\sqrt{1-4c} ).\\\\\n",
    "\\end{eqnarray}"
   ],
   "metadata": {}
  },
  {
   "cell_type": "markdown",
   "source": [
    "De aquí vemos que, si $1-4c<0$, es decir $c>1/4$, **no** existen puntos fijos (reales)\n",
    "del mapeo cuadrático. En este caso, **toda** condición inicial terminará en infinito."
   ],
   "metadata": {}
  },
  {
   "cell_type": "markdown",
   "source": [
    "En cambio, si se satisface que $c<1/4$, entonces existen dos puntos fijos. En este\n",
    "caso tenemos que $x_+(c)\\ge 1/2 \\ge x_-(c)$; las igualdades sólo ocurren para\n",
    "$c=1/4$, que es el valor de $c$ donde *aparecen* los puntos fijos."
   ],
   "metadata": {}
  },
  {
   "cell_type": "markdown",
   "source": [
    "Esta *transición* en la que el mapeo pasa de no tener puntos fijos ($c>1/4$) a tener\n",
    "dos puntos fijos ($c<1/4$) al variar un parámetro es un  ejemplo de lo que se llama una *bifurcación*.\n",
    "En este caso concreto, es una *bifurcación de silla-nodo* (saddle-node) o\n",
    "*bifurcación tangente*."
   ],
   "metadata": {}
  },
  {
   "outputs": [],
   "cell_type": "code",
   "source": [
    "Qc(x,c) = x^2 + c       # Mapeo cuadrático\n",
    "\n",
    "qc1 = x -> Qc(x, 0.5)   # Mapeo cuadrático con c =  0.5\n",
    "qc2 = x -> Qc(x, -0.5)  # Mapeo cuadrático con c = -0.5\n",
    "qc3 = x -> Qc(x, 0.25)  # Mapeo cuadrático con c =  0.25"
   ],
   "metadata": {},
   "execution_count": null
  },
  {
   "outputs": [],
   "cell_type": "code",
   "source": [
    "domx = -2:1/32:2 # Dominio de interés\n",
    "\n",
    "p = plot(domx, qc1, xaxis=(\"x\", ), yaxis=\"Q_c(x)\",\n",
    "    label=\"Q_{0.5}(x)\", legend=:bottomright)\n",
    "plot!(domx, qc3, label=\"Q_{0.25}(x)\")\n",
    "plot!(domx, qc2, label=\"Q_{-0.5}(x)\")\n",
    "plot!(domx, identity, label=\"Id(x)\", color=:black, linestyle=:dash)\n",
    "title!(\"Fig. 1\")"
   ],
   "metadata": {},
   "execution_count": null
  },
  {
   "outputs": [],
   "cell_type": "code",
   "source": [
    "savefig(\"Fig31-1.png\")"
   ],
   "metadata": {},
   "execution_count": null
  },
  {
   "cell_type": "markdown",
   "source": [
    "Insertamos la figura en la celda markdown con:\n",
    "```\n",
    "   ![Fig 1](Fig31-1.png \"Fig. 1\")\n",
    "```\n",
    "\n",
    "![Fig 1](Fig31-1.png \"Fig. 1\")"
   ],
   "metadata": {}
  },
  {
   "cell_type": "markdown",
   "source": [
    "Como hemos visto, la derivada del mapeo evaluada en los puntos fijos da información\n",
    "sobre la estabilidad lineal del punto fijo, es decir, el caracter atractivo o\n",
    "repulsivo del mapeo cerca del punto fijo."
   ],
   "metadata": {}
  },
  {
   "cell_type": "markdown",
   "source": [
    "En el caso del mapeo cuadrático tenemos que $Q_c'(x) = 2x$."
   ],
   "metadata": {}
  },
  {
   "cell_type": "markdown",
   "source": [
    "Por lo tanto, el punto fijo $x_+(c)$ es repulsivo (linealmente inestable)."
   ],
   "metadata": {}
  },
  {
   "cell_type": "markdown",
   "source": [
    "En cuanto a $x_-(c)$, el punto será atractivo si se cumple $|Q_c'(x_-(c))| = 2 |x_-(c)|<1$.\n",
    "De aquí es fácil obtener que, para que $x_-(c)$ sea linealmente estable, se debe cumplir\n",
    "la desigualdad\n",
    "\n",
    "\\begin{equation}\n",
    "-1 < 1 - \\sqrt{1-4c} < 1,\n",
    "\\end{equation}\n",
    "\n",
    "que equivale a $2 > \\sqrt{1-4c} > 0$. Esto a su vez nos conduce a la condición\n",
    "$1/4 > c > -3/4$ para que $x_-(c)$ sea un punto atractivo."
   ],
   "metadata": {}
  },
  {
   "cell_type": "markdown",
   "source": [
    "Todo esto se puede resumir con el siguiente *diagrama de bifurcación*."
   ],
   "metadata": {}
  },
  {
   "outputs": [],
   "cell_type": "code",
   "source": [
    "pplus(c) = 0.5*(1+sqrt(1-4*c))\n",
    "pminus(c) = 0.5*(1-sqrt(1-4*c))\n",
    "\n",
    "domc = -2:1/128:1/4\n",
    "\n",
    "plot(domc, pplus, xaxis=(\"c\", (-2,1)), yaxis=(\"x_pm(c)\"),\n",
    "    label=\"x_+(c)\", color=:red)\n",
    "plot!(-3/4:1/64:1/4, pminus, label=\"x_-(c)\", color=:blue)\n",
    "plot!(-2:1/64:-3/4, pminus, label=\"\", color=:red, line=(:dash))\n",
    "title!(\"Fig. 2\")\n",
    "savefig(\"Fig31-2.png\")"
   ],
   "metadata": {},
   "execution_count": null
  },
  {
   "cell_type": "markdown",
   "source": [
    "(Insertamos la figura)\n",
    "\n",
    "![Fig 2](Fig31-2.png \"Fig. 2\")"
   ],
   "metadata": {}
  },
  {
   "cell_type": "markdown",
   "source": [
    "El diagrama de bifurcación anterior fue obtenido a partir de la dependencia de los\n",
    "puntos fijos del parámetro $c$, que obtuvimos de manera explícita. Uno puede también obtener la\n",
    "parte estable de este diagrama de bifurcación de manera numérica, iterando el mapeo\n",
    "varias veces a partir de una condición inicial $x_0$ que esté en la cuenca de atracción\n",
    "de $x_-(c)$, es decir, muy cerca de $x_-(c)$."
   ],
   "metadata": {}
  },
  {
   "cell_type": "markdown",
   "source": [
    "El escenario descrito anteriormente es lo que constituye a la bifurcación silla-nodo o\n",
    "tangente.\n",
    "\n",
    "Formalmente, tenemos que la bifurcación de silla-nodo para una familia monoparamétrica\n",
    "$F_\\lambda$ ocurre en $\\lambda_0$, cuando existe un intervalo *abierto* $I$ y un\n",
    "$\\epsilon>0$ tal que:\n",
    "\n",
    "1. Para $\\lambda_0-\\epsilon<\\lambda<\\lambda_0$ no hay puntos fijos de $F_\\lambda$ en $I$.\n",
    "1. Para $\\lambda=\\lambda_0$ existe un sólo punto fijo de $F_\\lambda$ en $I$ y éste es neutral.\n",
    "1. Para $\\lambda_0<\\lambda<\\lambda_0+\\epsilon$ tenemos dos puntos fijos de $F_\\lambda$, uno es repulsivo y el otro es atractivo."
   ],
   "metadata": {}
  },
  {
   "cell_type": "markdown",
   "source": [
    "Hay dos puntos importantes que vale la pena enfatizar. Primero, la bifurcación de\n",
    "silla-nodo ocurre cuando $F_{\\lambda_0}(x)$ tiene una tangencia cuadrática con la diagonal,\n",
    "es decir, $F'_{\\lambda_0}(x_0)=1$ y $F''_{\\lambda_0}(x_0)\\ne 0$. Esto es, localmente\n",
    "$F_{\\lambda_0}$ es cóncava o convexa.\n",
    "\n",
    "El segundo punto es que la teoría de bifurcaciones es una teoría local alrededor del\n",
    "parámetro $\\lambda_0$. Es por eso que la definición incluye $\\epsilon>0$. La teoría\n",
    "no dice nada de qué puede pasar lejos de $\\lambda_0$."
   ],
   "metadata": {}
  },
  {
   "cell_type": "markdown",
   "source": [
    "## Otro tipo de bifurcación\n",
    "\n",
    "Siguiendo con el ejemplo de la familia cuadrática $Q_c(x)$, en $c=-3/4$ *otra* bifurcación\n",
    "ocurre, y ésta está relacionada con el cambio de estabilidad de $x_-(c)$.\n",
    "\n",
    "Al volverse inestable $x_-(c)$, es decir $c<-3/4$, como sugiere la siguiente\n",
    "figura 3, *aparece* un ciclo de periodo 2 que, de hecho, es linealmente estable."
   ],
   "metadata": {}
  },
  {
   "outputs": [],
   "cell_type": "code",
   "source": [
    "Qc(x,c) = x^2 + c       # Mapeo cuadrático\n",
    "qc1 = x -> Qc(x, -0.5)  # Mapeo cuadrático con c = -0.5\n",
    "qc2 = x -> Qc(x, -0.76)  # Mapeo cuadrático con c = -0.76"
   ],
   "metadata": {},
   "execution_count": null
  },
  {
   "outputs": [],
   "cell_type": "code",
   "source": [
    "p = plot(domx, qc1, xaxis=(\"x\", ), yaxis=\"Q_c(x)\",\n",
    "    label=\"Q_{-0.5}(x)\", legend=:bottomright)\n",
    "plot!(domx, qc2, xaxis=(\"x\", ), yaxis=\"Q_c(x)\", label=\"Q_{-1}(x)\")\n",
    "plot!(domx, identity, xaxis=(\"x\"), label=\"Id(x)\", color=:black,\n",
    "    linestyle=:dash)\n",
    "plot!(domx, x -> pplus(-0.5)+zero(x), label=\"x_+(c)\", color=:black, linestyle=:dot)\n",
    "plot!(domx, x -> pplus(-0.76)+zero(x), label=\"x_+(c)\", color=:black, linestyle=:dot)\n",
    "\n",
    "vx, vqc1 = itera_mapeo(qc1, 1/256, 4)\n",
    "plot!(p, vx, vqc1, marker=(:circle, 3, 0.4), label=\"\", color=:green,\n",
    "    line=:dot)\n",
    "\n",
    "vx, vqc2 = itera_mapeo(qc2, 1/256, 4)\n",
    "plot!(p, vx, vqc2, marker=(:circle, 3, 0.4), label=\"\", color=:green)\n",
    "\n",
    "ylims!(-1.6, 2)\n",
    "title!(\"Fig. 3\")\n",
    "savefig(\"Fig31-3.png\")"
   ],
   "metadata": {},
   "execution_count": null
  },
  {
   "cell_type": "markdown",
   "source": [
    "(Insertamos la figura)\n",
    "\n",
    "![Fig 3](Fig31-3.png \"Fig. 3\")"
   ],
   "metadata": {}
  },
  {
   "cell_type": "markdown",
   "source": [
    "Para entender esto, obviamente tenemos que analizar el mapeo $Q^2_c(x)$, que\n",
    "explícitamente está dado por\n",
    "\n",
    "\\begin{equation}\n",
    "Q^2_c(x) = (x^2+c)^2+c = x^4 + 2cx^2 + c^2+c.\n",
    "\\end{equation}"
   ],
   "metadata": {}
  },
  {
   "cell_type": "markdown",
   "source": [
    "Los puntos fijos de $Q_c^2(x)$ satisfacen:\n",
    "\n",
    "\\begin{equation}\n",
    "Q^2_c(x) -x = (x^2+c)^2+c = x^4 + 2cx^2 - x + c^2+c = 0.\n",
    "\\end{equation}"
   ],
   "metadata": {}
  },
  {
   "cell_type": "markdown",
   "source": [
    "Para $c<-3/4$ sabemos que dos soluciones de esta ecuación son $x_+(c)$ y $x_-(c)$,\n",
    "ya que los puntos fijos (periodo 1) de $Q_c(x)$ también son puntos fijos del\n",
    "mapeo $Q^2_c(x)$.\n",
    "\n",
    "Por lo tanto, $x-x_+(c)$ y $x-x_-(c)$ factorizan a $Q^2_c(x) -x$. Entonces,\n",
    "podemos escribir:\n",
    "\n",
    "\\begin{equation}\n",
    "Q^2_c(x) -x = (x-x_+(c))(x-x_-(c))(x^2+x+c+1) = 0,\n",
    "\\end{equation}\n",
    "\n",
    "de donde obtenemos las soluciones\n",
    "\n",
    "\\begin{eqnarray}\n",
    "q_+(c) & = & \\frac{1}{2}( -1 + \\sqrt{-3-4c} ),\\\\\n",
    "q_-(c) & = & \\frac{1}{2}( -1 - \\sqrt{-3-4c} ).\\\\\n",
    "\\end{eqnarray}"
   ],
   "metadata": {}
  },
  {
   "cell_type": "markdown",
   "source": [
    "Claramente, $q_\\pm(c)$ son reales si $-3-4c\\ge 0$, es decir, si $c\\le-3/4$. Cuando $c=-3/4$\n",
    "tenemos que $q_\\pm(-3/4) = x_-(-3/4)$, es decir, los nuevos puntos fijos de $Q^2_c(x)$\n",
    "se originan en $x_-(-3/4)$."
   ],
   "metadata": {}
  },
  {
   "cell_type": "markdown",
   "source": [
    "En cuanto a la estabilidad, como vimos antes para puntos periódicos, ésta viene dada\n",
    "por la derivada\n",
    "\n",
    "\\begin{equation}\n",
    "{Q_c^2}'(q_+(c)) = {Q_c^2}'(q_-(c)) = Q_c'(q_+(c)) Q_c'(q_-(c)) = 4 q_+(c) q_-(c) = 4+4c.\n",
    "\\end{equation}"
   ],
   "metadata": {}
  },
  {
   "cell_type": "markdown",
   "source": [
    "Por lo tanto, en el momento en que aparece la órbita de periodo 2, ésta es neutral:\n",
    "${Q_c^2}'(q_\\pm(-3/4)) = 1$. De aquí, además, podemos ver que\n",
    "para $-5/4<c<-3/4$, el ciclo de periodo 2 es atractivo, ya que $|{Q_c^2}'(q_\\pm(c))|<1$,\n",
    "mientras que para $c<-5/4$, éste es repulsivo."
   ],
   "metadata": {}
  },
  {
   "outputs": [],
   "cell_type": "code",
   "source": [
    "pplus(c) = 0.5*(1+sqrt(1-4*c))\n",
    "pminus(c) = 0.5*(1-sqrt(1-4*c))\n",
    "\n",
    "domc = -2:1/64:1/4\n",
    "\n",
    "plot(-2:1/64:1/4, pplus, xaxis=(\"c\", (-2,1)), yaxis=(\"x_pm(c), q_pm(c)\"), color=:red)\n",
    "plot!(-3/4:1/64:1/4, pminus, color=:blue, legend=:false)\n",
    "plot!(-2:1/64:-3/4, pminus, color=:red, line=(:dash))\n",
    "\n",
    "qplus(c) = 0.5*(-1+sqrt(-3-4*c))\n",
    "qminus(c) = 0.5*(-1-sqrt(-3-4*c))\n",
    "\n",
    "plot!(-5/4:1/64:-3/4, qplus, color=:blue)\n",
    "plot!(-5/4:1/64:-3/4, qminus, color=:blue)\n",
    "plot!(-2:1/64:-5/4, qplus, color=:red, line=(:dash))\n",
    "plot!(-2:1/64:-5/4, qminus, color=:red, line=(:dash))\n",
    "\n",
    "title!(\"Fig. 4\")\n",
    "savefig(\"Fig31-4.png\")"
   ],
   "metadata": {},
   "execution_count": null
  },
  {
   "cell_type": "markdown",
   "source": [
    "(Insertamos la figura)\n",
    "\n",
    "![Fig 4](Fig31-4.png \"Fig. 4\")"
   ],
   "metadata": {}
  },
  {
   "cell_type": "markdown",
   "source": [
    "La bifurcación que acabamos de describir se llama, como es de esperarse,\n",
    "*bifurcación de doblamiento de periodo*.\n",
    "\n",
    "De manera más formal, una bifurcación de doblamiento de periodo para una familia\n",
    "monoparamétrica de mapeos $F_\\lambda$ ocurren en $\\lambda_0$ si existe un intervalo\n",
    "*abierto* $I$ y un $\\epsilon>0$ tal que:\n",
    "\n",
    "1. Para toda $\\lambda$ en el intervalo $[\\lambda_0-\\epsilon, \\lambda_0+\\epsilon]$ existe un único punto fijo $p_\\lambda$ en $I$.\n",
    "1. Para $\\lambda_0-\\epsilon<\\lambda<\\lambda_0$, el mapeo $F_\\lambda$ no tiene ciclos de periodo 2 en $I$ y $p_\\lambda$ es un atractor (respectivamente repulsor).\n",
    "1. Para $\\lambda_0<\\lambda<\\lambda_0+\\epsilon$, existe un ciclo de periodo 2 en $I$ para el mapeo el mapeo $F_\\lambda$, que denotamos por $q_\\lambda^1$ y $q_\\lambda^2$, que es atractivo (resp. repulsivo), y el punto fijo $p_\\lambda$ es repulsor (resp. atractor).\n",
    "1. En el límite $\\lambda\\to\\lambda_0^+$, tenemos que $q_\\lambda^i\\to p_\\lambda$."
   ],
   "metadata": {}
  },
  {
   "cell_type": "markdown",
   "source": [
    "Esto es, al cambiar el parámetro, un punto fijo cambia de estabilidad (de atractivo\n",
    "pasa a ser repulsivo, o viceversa), y al cambiar de estabilidad da lugar a la\n",
    "aparición de una órbita de periodo dos que tiene la estabilidad que tenía el\n",
    "punto fijo antes de la bifurcación.\n",
    "\n",
    "De manera más general, una órbita de periodo\n",
    "$n$ estable, se tornará inestable, y dará origen a una nueva órbita estable de periodo $2n$.\n",
    "\n",
    "La dirección de las desigualdades (o la forma en que cambiamos el parámetro) es irrelevante."
   ],
   "metadata": {}
  },
  {
   "cell_type": "markdown",
   "source": [
    "La bifurcación de doblamiento de periodo ocurre cuando $F_\\lambda(x)$ es\n",
    "perpendicular a la diagonal, es decir, $F_{\\lambda_0}'(p_{\\lambda_0})=-1$. Usando la\n",
    "regla de la cadena tenemos que ${F^2_{\\lambda_0}}''(p_{\\lambda_0})=1$."
   ],
   "metadata": {}
  },
  {
   "cell_type": "markdown",
   "source": [
    "#### Ejercicio 1\n",
    "\n",
    "Para el mapeo $Q_c(x) = x^2 + c$, ¿cuál es el dominio $\\cal{D}\\subset \\mathbb{R}$ de\n",
    "$Q_c(x)$ tal que la órbita generada por una condición inicial $x_0\\in \\cal{D}$ *no*\n",
    "escapa a infinito a ningún tiempo?"
   ],
   "metadata": {}
  },
  {
   "outputs": [],
   "cell_type": "code",
   "source": [
    "#(Respuesta)"
   ],
   "metadata": {},
   "execution_count": null
  },
  {
   "cell_type": "markdown",
   "source": [
    "#### Ejercicio 2\n",
    "\n",
    "Para el mapeo $F_\\lambda(x) = \\lambda x(1-x)$, ¿qué podemos decir de la bifurcación\n",
    "que ocurre en $\\lambda_0=1$? ¿Es o no una bifurcación de silla-nodo?"
   ],
   "metadata": {}
  },
  {
   "outputs": [],
   "cell_type": "code",
   "source": [
    "#(Respuesta)"
   ],
   "metadata": {},
   "execution_count": null
  },
  {
   "cell_type": "markdown",
   "source": [
    "#### Ejercicio 3\n",
    "\n",
    "- Obtengan numéricamente el diagrama de bifurcación para el mapeo $Q_c(x)$ con $-3/4 < c < 1/4$, a partir de (muchas) iteraciones de una condición inicial. La idea es iterar un gran número de veces una condición inicial hasta que, en principio, se llegue al ciclo periódico; esto se repite para distintos valores de $c$. Noten que si bien en este caso sabemos que  hay ciclos periódicos, en general no conocemos la periodicidad de dichos ciclos. Es por esto que después de iterar muchas veces la condición inicial, conviene pintar un número de iterados consecutivos.\n",
    "- Repitan el inciso anterior para el mismo mapeo $Q_c(x)$ a partir de la iteración de una condición inicial en el intervalo de parámetros $-2<c<1/4$.\n",
    "- Para ciertos valores de $c$ característicos, muestren el análisis gráfico del mapeo $Q_c(x)$ a fin de entender los resultados."
   ],
   "metadata": {}
  },
  {
   "outputs": [],
   "cell_type": "code",
   "source": [
    "#(Respuesta)"
   ],
   "metadata": {},
   "execution_count": null
  },
  {
   "cell_type": "markdown",
   "source": [
    "---\n",
    "\n",
    "*This notebook was generated using [Literate.jl](https://github.com/fredrikekre/Literate.jl).*"
   ],
   "metadata": {}
  }
 ],
 "nbformat_minor": 3,
 "metadata": {
  "language_info": {
   "file_extension": ".jl",
   "mimetype": "application/julia",
   "name": "julia",
   "version": "1.6.0"
  },
  "kernelspec": {
   "name": "julia-1.6",
   "display_name": "Julia 1.6.0",
   "language": "julia"
  }
 },
 "nbformat": 4
}

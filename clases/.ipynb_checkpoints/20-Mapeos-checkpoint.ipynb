{
 "cells": [
  {
   "cell_type": "markdown",
   "source": [
    "# Mapeos - Parte 1"
   ],
   "metadata": {}
  },
  {
   "cell_type": "markdown",
   "source": [
    "**Referencias:**"
   ],
   "metadata": {}
  },
  {
   "cell_type": "markdown",
   "source": [
    "- Robert L. Devaney, A First Course In Chaotic Dynamics: Theory and Experiment, 1992."
   ],
   "metadata": {}
  },
  {
   "cell_type": "markdown",
   "source": [
    "- Heinz Georg Schuster, Wolfram Just, Deterministic Chaos, 2006."
   ],
   "metadata": {}
  },
  {
   "outputs": [],
   "cell_type": "code",
   "source": [
    "import Pkg\n",
    "Pkg.activate(\"..\")"
   ],
   "metadata": {},
   "execution_count": null
  },
  {
   "cell_type": "markdown",
   "source": [
    "## Mapeos como sistemas dinámicos"
   ],
   "metadata": {}
  },
  {
   "cell_type": "markdown",
   "source": [
    "Los mapeos son aplicaciones de $F_\\mu : \\mathbb{R}^N \\rightarrow \\mathbb{R}^N$,\n",
    "donde $N$ es la dimensionalidad del espacio fase que representa el espacio de variables\n",
    "*dinámicas* de interés. (Aquí, escribí que $x\\in\\mathbb{R}^N$ para ser concretos; uno\n",
    "puede considerar otros conjuntos como dominios del mapeo, como por ejemplo los complejos)."
   ],
   "metadata": {}
  },
  {
   "cell_type": "markdown",
   "source": [
    "La idea es definir la dinámica de $x\\in\\mathbb{R}^N$ a través de la función $F_\\mu$\n",
    "y su aplicación repetida, es decir,\n",
    "\\begin{equation}\n",
    "x_{n+1} = F_\\mu (x_n).\n",
    "\\end{equation}"
   ],
   "metadata": {}
  },
  {
   "cell_type": "markdown",
   "source": [
    "Aquí $\\mu$ representa uno o varios parámetros que uno puede variar, y $x_n$ representa\n",
    "el estado del sistema al \"tiempo\" $n$. La idea al introducir mapeos es evitar las\n",
    "complicaciones que surgen al resolver ecuaciones diferenciales, pudiendo aislar los\n",
    "aspectos importantes que definen las propiedades dinámicas del sistema."
   ],
   "metadata": {}
  },
  {
   "cell_type": "markdown",
   "source": [
    "Una suposición *importante* que haremos sobre $F_\\mu$ es que es una función que **no**\n",
    "involucra ningún tipo de variable estocástica o aleatoria. En este caso diremos que el\n",
    "sistema es determinista: el estado al \"tiempo\" $n+1$ sólo depende del estado al tiempo\n",
    "$n$, y de los parámetros $\\mu$ del mapeo, que consideraremos constantes respecto al tiempo."
   ],
   "metadata": {}
  },
  {
   "cell_type": "markdown",
   "source": [
    "*Iterar* la función $F_\\mu(x_0)$ significa evaluarla, una y otra vez, de manera repetida,\n",
    "a partir de un valor inicial $x_0$ que llamaremos *condición inicial*. De manera concisa,\n",
    "escribiremos $x_n = F^n_\\mu(x_0) = F_\\mu(F_\\mu(...(F_\\mu(x_0))...))$. Otra manera de\n",
    "escribir esto mismo es escribiendo explícitamente cada iterado, es decir, $x_1=F_\\mu(x_0)$\n",
    "representa el primer iterado, $x_2=F_\\mu(x_1)=F^2_\\mu(x_0)$ el segundo, y en general el\n",
    "$n$-nésimo iterado lo escribiremos $x_n=F_\\mu(x_{n-1})=F^n_\\mu(x_0)$."
   ],
   "metadata": {}
  },
  {
   "cell_type": "markdown",
   "source": [
    "Por ejemplo, considerando $F(x)=x^2+1$, tendremos\n",
    "\\begin{eqnarray}\n",
    "x_1 & = & F(x_0) = x_0^2+1, \\\\\n",
    "x_2 & = & F^2(x_0) = (x_0^2+1)^2+1,\\\\\n",
    "x_3 & = & F^3(x_0) = ((x_0^2+1)^2+1)^2+1,\\\\\n",
    "x_4 & = & F^4(x_0) = (((x_0^2+1)^2+1)^2+1)^2+1,\n",
    "...\n",
    "\\end{eqnarray}"
   ],
   "metadata": {}
  },
  {
   "cell_type": "markdown",
   "source": [
    "Es claro que la notación $F^n(x)$ no significa la potencia $n$ del mapeo, si no el\n",
    "$n$-ésimo iterado del mapeo."
   ],
   "metadata": {}
  },
  {
   "cell_type": "markdown",
   "source": [
    "## Órbitas"
   ],
   "metadata": {}
  },
  {
   "cell_type": "markdown",
   "source": [
    "A la secuencia (ordenada) de los iterados la llamaremos *órbita*, esto es,\n",
    "$x_0, x_1, x_2, \\dots$. Así, para el ejemplo anterior con $x_0=0$ tendremos\n",
    "$x_1=1$, $x_2 = 2$, $x_3 = 5$, $x_4 = 26$, etc. Intuitivamente podemos decir que\n",
    "esta órbita tiende a infinito, ya que el valor del $n$-ésimo iterado aumenta, y el\n",
    "siguiente involucrará elevarlo al cuadrado."
   ],
   "metadata": {}
  },
  {
   "cell_type": "markdown",
   "source": [
    "Hay varios tipos de órbitas. Algunas, como vimos antes, pueden diverger; eso depende\n",
    "del mapeo (¡y de la condición inicial!). Otras son más aburridas, en el sentido de que\n",
    "no cambian: son los puntos fijos del mapeo, los cuales evidentemente satisfacen la ecuación\n",
    "\\begin{equation}\n",
    "F_\\mu(x) = x.\n",
    "\\end{equation}\n",
    "Esto es, el iterado coincide con la propia condición inicial."
   ],
   "metadata": {}
  },
  {
   "cell_type": "markdown",
   "source": [
    "Por ejemplo, para el mapeo $G(x)=x^2-x-4$, los puntos fijos satisfacen $x^2-2x-4=0$, de\n",
    "donde concluímos que hay dos soluciones, $x_\\pm = 1\\pm\\sqrt{5}$."
   ],
   "metadata": {}
  },
  {
   "cell_type": "markdown",
   "source": [
    "Por otra parte, para $F(x) = x^2+1$ y $x\\in\\mathbb{R}$, la ecuación $x^2+1=x$ no tiene\n",
    "solución, por lo que no hay puntos fijos. De hecho, esta es la razón de que todas las\n",
    "órbitas divergen a $+\\infty$. (Otra manera de formular esto es que el único punto fijo\n",
    "*atractivo* es $+\\infty$.)"
   ],
   "metadata": {}
  },
  {
   "cell_type": "markdown",
   "source": [
    "Numéricamente, verificar si cierta condición inicial es un punto fijo de un mapeo es\n",
    "sencillo, pero sutil. Concretamente, para $G(x)$ definido arriba debemos verificar si el\n",
    "iterado $G(x_+)$, por ejemplo, es $x_+$, y lo mismo para $x_-$."
   ],
   "metadata": {}
  },
  {
   "outputs": [],
   "cell_type": "code",
   "source": [
    "G(x) = x^2 - x - 4  # definimos G(x)"
   ],
   "metadata": {},
   "execution_count": null
  },
  {
   "outputs": [],
   "cell_type": "code",
   "source": [
    "x₊ = 1 + sqrt(5)    # condición inicial, x\\_+<TAB>\n",
    "\n",
    "G(x₊) - x₊ == 0"
   ],
   "metadata": {},
   "execution_count": null
  },
  {
   "outputs": [],
   "cell_type": "code",
   "source": [
    "x₋ = 1 - sqrt(5)    # condición inicial, x\\_+<TAB>\n",
    "\n",
    "G(x₋) - x₋ == 0"
   ],
   "metadata": {},
   "execution_count": null
  },
  {
   "cell_type": "markdown",
   "source": [
    "El resultado anterior parece indicar que el iterado de $G(x_-)$ no es $x_-$; esto es a\n",
    "lo que me refería con que la verificación es sutil."
   ],
   "metadata": {}
  },
  {
   "cell_type": "markdown",
   "source": [
    "La razón por la que no obtenemos el resultado \"esperado\" son los errores numéricos\n",
    "asociados al truncamiento: los números de punto flotante no son los números reales.\n",
    "Usando números de precisión extendida vemos que usando más bits de precisión,\n",
    "$G(x_-) - x_-$ se acerca más a cero."
   ],
   "metadata": {}
  },
  {
   "outputs": [],
   "cell_type": "code",
   "source": [
    "G(x₋) - x₋"
   ],
   "metadata": {},
   "execution_count": null
  },
  {
   "outputs": [],
   "cell_type": "code",
   "source": [
    "precision(BigFloat)  # Precisión default de `BigFloat`, en \"bits\""
   ],
   "metadata": {},
   "execution_count": null
  },
  {
   "outputs": [],
   "cell_type": "code",
   "source": [
    "G(1-sqrt(BigInt(5)))-(1-sqrt(BigInt(5)))"
   ],
   "metadata": {},
   "execution_count": null
  },
  {
   "cell_type": "markdown",
   "source": [
    "Otro tipo importante de órbitas son las órbitas periódicas. En este caso tenemos\n",
    "que una secuencia *finita* de iterados se repite a partir de cierta iteración:\n",
    "$x_0, x_1, \\dots, x_{n-1}, x_0, x_1, \\dots$. El número menor de iterados (de una\n",
    "órbita periódica) tal que se hace aparente la periodicidad se llama *periodo*.\n",
    "Cada punto de dicha órbita es periódico con periodo $n$. Vale la pena notar que\n",
    "los puntos fijos son órbitas periódicas de periodo 1."
   ],
   "metadata": {}
  },
  {
   "cell_type": "markdown",
   "source": [
    "Un punto que pertenece a una órbita de periodo $n$ satisface la ecuación\n",
    "\\begin{equation}\n",
    "F^n(x_0) = x_0.\n",
    "\\end{equation}"
   ],
   "metadata": {}
  },
  {
   "cell_type": "markdown",
   "source": [
    "Claramente, un punto de periodo $n$ del mapeo $F$ es un punto fijo (de periodo 1)\n",
    "del mapeo $F^n$."
   ],
   "metadata": {}
  },
  {
   "cell_type": "markdown",
   "source": [
    "Un punto $x_0$ se llama *eventualmente periódico* cuando sin ser punto fijo o periódico,\n",
    "después de un cierto número *finito* de iteraciones, los iterados pertenecen a una órbita\n",
    "periódica."
   ],
   "metadata": {}
  },
  {
   "cell_type": "markdown",
   "source": [
    "Un ejemplo, nuevamente para el mapeo $G(x)=x^2-1$, es $x_0=1$: $G(1)=0$, $G^2(0)=-1$,\n",
    "$G^3(-1)=0$, etc."
   ],
   "metadata": {}
  },
  {
   "cell_type": "markdown",
   "source": [
    "En sistemas dinámicos típicos, la mayoría de los puntos no son fijos ni periódicos,\n",
    "ni eventualmente periódicos. Por ejemplo, el mapeo $T(x)=2x$ tiene como punto fijo\n",
    "único, $x^*=0$. Cualquier otra órbita tiende a $\\;\\pm\\infty$, ya que\n",
    "$T^n(x_0) = 2^n x_0$ y entonces $|T^n(x_0)|\\to\\infty$."
   ],
   "metadata": {}
  },
  {
   "cell_type": "markdown",
   "source": [
    "En general, la situación es aún más compleja e interesante."
   ],
   "metadata": {}
  },
  {
   "cell_type": "markdown",
   "source": [
    "## Análisis gráfico"
   ],
   "metadata": {}
  },
  {
   "cell_type": "markdown",
   "source": [
    "En lo que sigue ilustraremos una manera gráfica de visualizar la dinámica de mapeos\n",
    "en 1 dimensión."
   ],
   "metadata": {}
  },
  {
   "cell_type": "markdown",
   "source": [
    "Para graficar, usaremos la paquetería `Plots.jl`; por default, el \"backend\" que se utiliza\n",
    "en `Plots.jl` es `GR.jl`. Uno puede cargar otros, lo que a veces tiene ventajas."
   ],
   "metadata": {}
  },
  {
   "outputs": [],
   "cell_type": "code",
   "source": [
    "using Plots"
   ],
   "metadata": {},
   "execution_count": null
  },
  {
   "cell_type": "markdown",
   "source": [
    "La idea del análisis gráfico es poder visualizar los iterados de una órbita. En el eje\n",
    "de las abscisas dibujaremos $x_n$ y en el de las ordenadas dibujaremos a su iterado, es\n",
    "decir, $F(x_n)$. Entonces, para localizar $x_{n+1}$ simplemente necesitamos la gráfica\n",
    "de $y=F(x)$."
   ],
   "metadata": {}
  },
  {
   "cell_type": "markdown",
   "source": [
    "Usaremos como ejemplo: $F(x) = \\sqrt{x}$. Generaremos un número aleatorio entre 0 y 5\n",
    "con `rand` como condición inicial, y calcularemos su iterado."
   ],
   "metadata": {}
  },
  {
   "outputs": [],
   "cell_type": "code",
   "source": [
    "x0 = 5.0*rand()\n",
    "x1 = sqrt(x0)\n",
    "x0, x1"
   ],
   "metadata": {},
   "execution_count": null
  },
  {
   "outputs": [],
   "cell_type": "code",
   "source": [
    "#Dominio (en x) para la gráfica\n",
    "domx = 0.0:1/32:5.2"
   ],
   "metadata": {},
   "execution_count": null
  },
  {
   "cell_type": "markdown",
   "source": [
    "`Plots.jl` se tarda en el primer dibujo dado que inicializa\n",
    "varias cosas internamente. Esto funciona mucho mejor en Julia v1.6"
   ],
   "metadata": {}
  },
  {
   "outputs": [],
   "cell_type": "code",
   "source": [
    "#Dibuja F(x) y define escalas, etc. Usa `domx` para generar puntos quese usan\n",
    "#para pintar la función `sqrt`\n",
    "plot(domx, sqrt,\n",
    "    xaxis=(\"x\", (0.0, 5.0), 0:5.0),\n",
    "    yaxis=((0.0, 3.0), \"F(x)\"),\n",
    "    legend=false, title=\"F(x)=sqrt(x)\", grid=false)\n",
    "\n",
    "#Dibuja x_0 -> x_1 = F(x_0), en la misma grráfica!\n",
    "#Noten que `Plots` usa vectores, de hecho, cantidades iterables\n",
    "plot!([x0, x0, 0.0], [0.0, x1, x1], color=:orange)\n",
    "\n",
    "#Dibuja el punto (x0, x1)\n",
    "scatter!([x0], [x1], color=:orange, markersize=2)"
   ],
   "metadata": {},
   "execution_count": null
  },
  {
   "cell_type": "markdown",
   "source": [
    "Como se trata de *iterar* de manera repetida, lo que ahora requerimos es, en algún\n",
    "sentido, tener a $x_1$ en el eje `x`. Para esto usamos la identidad, i.e., la\n",
    "recta $y=x$. Noten el ligero cambio para que los ejes y el título aparezcan más\n",
    "agradables."
   ],
   "metadata": {}
  },
  {
   "outputs": [],
   "cell_type": "code",
   "source": [
    "#Dibuja F(x) y define escalas, etc\n",
    "plot(domx, sqrt,\n",
    "    xaxis=(\"x\", (0.0, 5.0), 0:5.0),\n",
    "    yaxis=((0.0, 3.0), \"F(x)\"),\n",
    "    legend=false, title=\"F(x)=sqrt(x)\", grid=false)\n",
    "\n",
    "#Dibuja la identidad; en este caso, usamos la función anónima `x->x`\n",
    "plot!(domx, x->x, color=:red)\n",
    "\n",
    "#Dibuja, y une por rectas, los puntos: (x0,0), (x0,x1), (0,x1)\n",
    "plot!([x0, x0, 0.0], [0.0, x1, x1], color=:orange, lw=2.0)\n",
    "\n",
    "#A partir del último punto (0,x1), dibuja (x1,x1) y (x1,0)\n",
    "plot!([0.0, x1, x1], [x1, x1, 0.0], line=(:green, :dash, 2.0, 0.4))\n",
    "\n",
    "#Dibuja los puntos (x0, x1) y (x1, x1) con un marcador más grande\n",
    "scatter!([x0, x1], [x1, x1], color=:orange, markersize=2)"
   ],
   "metadata": {},
   "execution_count": null
  },
  {
   "cell_type": "markdown",
   "source": [
    "Dado que tenemos $x_1$ en el eje $x$, el mismo proceso de antes\n",
    "puede ser implementado para obtener $x_2$, o cualquier otro iterado $x_n$.\n",
    "Vale la pena notar que, una vez que estamos en la diagonal, podemos ir\n",
    "*directamente* a la función $F(x)$ para obtener $x_2$, y nuevamente a la\n",
    "diagonal y a la función para tener $x_3$, etc."
   ],
   "metadata": {}
  },
  {
   "outputs": [],
   "cell_type": "code",
   "source": [
    "x2 = sqrt(x1)\n",
    "\n",
    "#Dibuja F(x) y define escalas, etc\n",
    "plot(domx, sqrt,\n",
    "    xaxis=(\"x\", (0.0, 5.0), 0:5.0),\n",
    "    yaxis=((0.0, 3.0), \"F(x)\"),\n",
    "    legend=false, title=\"F(x)=sqrt(x)\", grid=false)\n",
    "\n",
    "plot!(domx, x->x, color=:red)\n",
    "\n",
    "#Dibuja (x0,0), (x0,x1), (x1,x1), (x1,x2), (x2,x2)\n",
    "plot!([x0, x0, x1, x1, x2], [0.0, x1, x1, x2, x2],\n",
    "    line=(:orange, :dash, 2.0))\n",
    "\n",
    "#Dibuja los puntos (x0, x1) y (x1, x1)\n",
    "scatter!([x0, x1, x1, x2], [x1, x1, x2, x2], color=:orange, markersize=2)"
   ],
   "metadata": {},
   "execution_count": null
  },
  {
   "cell_type": "markdown",
   "source": [
    "**Ejercicio 1**\n",
    "\n",
    "Completa la función `itera_mapeo`, cuyos argumentos son la función `f`, la condición inicial `x0` y\n",
    "el *entero* `n` que indica el número de iteraciones del mapeo. La función debe devolver *tres*\n",
    "*vectores*: uno que incluya la secuencia de iterados (incluyendo a la condición inicial), y otros dos\n",
    "que podrás usar para el análisis gráfico. Haz una prueba sencilla para $F(x) = \\sqrt{x}$.\n",
    "Completa además los \"docstrings\"."
   ],
   "metadata": {}
  },
  {
   "outputs": [],
   "cell_type": "code",
   "source": [
    "\"\"\"\n",
    "    itera_mapeo(f, x0, n)\n",
    "\n",
    "\"\"\"\n",
    "function itera_mapeo(f, x0, n::Int)\n",
    "    #(código)\n",
    "    return its, its_x, its_y\n",
    "end"
   ],
   "metadata": {},
   "execution_count": null
  },
  {
   "outputs": [],
   "cell_type": "code",
   "source": [
    "#Prueba de que itera_mapeo(f, x0, n) funciona"
   ],
   "metadata": {},
   "execution_count": null
  },
  {
   "cell_type": "markdown",
   "source": [
    "**Ejercicio 2**\n",
    "\n",
    "(a) Completa la función `analisis_grafico` (ver la siguiente celda), de tal manera que usándola se obtenga el\n",
    "tipo de gráficas ilustradas arriba. Esto es, que se grafique el mapeo `F` y la identidad, y los `n` siguientes\n",
    "iterados a partir de la condición inicial `x0`. El argumento (opcional) `domx` debe especificar el dominio que\n",
    "se grafica. Utiliza la función `itera_mapeo` definida en el ejercicio anterior. Completa también los \"docstrings\".\n",
    "Es útil tener otra función `analisis_grafico!` que sólo *actualice* la figura creada por `analisis_grafico` al\n",
    "iterar otra condición inicial.\n",
    "\n",
    "(b) Usa la función `analisis_grafico` para describir el mapeo $F(x)=\\sqrt{x}$, usando tres condiciones iniciales\n",
    "distintas. (Es aquí que la función `analisis_grafico!` es particularmente útil para dibujar sobrer una gráfica previa.)\n",
    "\n",
    "(c) ¿Qué se puede concluir al iterar *muchas* veces distintas condiciones iniciales para $F(x)=\\sqrt(x)$?\n",
    "\n",
    "(d) ¿Cuántos puntos fijos tiene el mapeo $F(x) = \\sqrt{x}$?\n",
    "\n",
    "(e) A partir de la gráfica del mapeo, ¿cómo se obtienen los puntos fijos del mapeo?"
   ],
   "metadata": {}
  },
  {
   "outputs": [],
   "cell_type": "code",
   "source": [
    "\"\"\"\n",
    "    analisis_grafico(F::Function, x0::Float64, n::Int)\n",
    "\n",
    "\"\"\"\n",
    "function analisis_grafico(F::Function, x0::Float64, n::Int, domx=0.0:1/128:1.0)\n",
    "    #(código)\n",
    "end"
   ],
   "metadata": {},
   "execution_count": null
  },
  {
   "outputs": [],
   "cell_type": "code",
   "source": [
    "\"\"\"\n",
    "    analisis_grafico!(F::Function, x0::Float64, n::Int)\n",
    "\n",
    "\"\"\"\n",
    "function analisis_grafico!(F::Function, x0::Float64, n::Int, domx=0.0:1/128:1.0)\n",
    "    #(código)\n",
    "end"
   ],
   "metadata": {},
   "execution_count": null
  },
  {
   "outputs": [],
   "cell_type": "code",
   "source": [
    "#(Respuestas)"
   ],
   "metadata": {},
   "execution_count": null
  },
  {
   "cell_type": "markdown",
   "source": [
    "---\n",
    "\n",
    "*This notebook was generated using [Literate.jl](https://github.com/fredrikekre/Literate.jl).*"
   ],
   "metadata": {}
  }
 ],
 "nbformat_minor": 3,
 "metadata": {
  "language_info": {
   "file_extension": ".jl",
   "mimetype": "application/julia",
   "name": "julia",
   "version": "1.6.0"
  },
  "kernelspec": {
   "name": "julia-1.6",
   "display_name": "Julia 1.6.0",
   "language": "julia"
  }
 },
 "nbformat": 4
}

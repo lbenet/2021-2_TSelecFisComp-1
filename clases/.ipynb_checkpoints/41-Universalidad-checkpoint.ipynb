{
 "cells": [
  {
   "cell_type": "markdown",
   "source": [
    "# Exponente(s) de Lyapunov y Universalidad"
   ],
   "metadata": {}
  },
  {
   "outputs": [],
   "cell_type": "code",
   "source": [
    "using Pkg\n",
    "Pkg.activate(\"..\")\n",
    "Pkg.instantiate()"
   ],
   "metadata": {},
   "execution_count": null
  },
  {
   "outputs": [],
   "cell_type": "code",
   "source": [
    "using Plots"
   ],
   "metadata": {},
   "execution_count": null
  },
  {
   "cell_type": "markdown",
   "source": [
    "## Exponente de Lyapunov"
   ],
   "metadata": {}
  },
  {
   "cell_type": "markdown",
   "source": [
    "Hasta ahora lo que hemos visto es que al variar el parámetro $c$, el mapeo\n",
    "cuadrático exhibe una familia de bifurcaciones de doblamiento de periodo.\n",
    "Eventualmente, la resolución numérica complica visualizas las cosas; la pregunta entonces\n",
    "es si uno *puede* llegar a *periodo infinito* para un valor finito (y de\n",
    "hecho mayor a $-2$) para el mapeo cuadrático. Periodo infinito en este caso\n",
    "equivale a no tener periodo, y entonces uno se pregunta si hay un\n",
    "sentido de estabilidad en órbitas genéricas, que como veremos, no lo hay,\n",
    "y es lo que llamaremos *caos*. Abordaremos esta pregunta poco a poco."
   ],
   "metadata": {}
  },
  {
   "cell_type": "markdown",
   "source": [
    "Una manera de caracterizar el caos en el sentido de *sensibilidad a condiciones\n",
    "iniciales* es a través de los **exponentes de Lyapunov**. La idea es sencilla:\n",
    "si hay una dependencia *exponencial* respecto al tiempo de la separación de condiciones\n",
    "iniciales infinitesimalmente cercanas, entonces diremos que hay sensibilidad a las\n",
    "condiciones iniciales, es decir, caos."
   ],
   "metadata": {}
  },
  {
   "cell_type": "markdown",
   "source": [
    "Para esto, simplemente monitoreamos la evolución de dos condiciones iniciales\n",
    "cercanas, $x_0$ y $x_0+\\epsilon$, donde $\\epsilon>0$ y muy pequeño."
   ],
   "metadata": {}
  },
  {
   "cell_type": "markdown",
   "source": [
    "Considerando mapeos en una dimensión, la distancia entre los $n$-ésimos\n",
    "iterados es\n",
    "\n",
    "\\begin{equation}\n",
    "d_n = \\big|\\, f^{n}(x_0+\\epsilon)-f^{n}(x_0) \\big|\\,.\n",
    "\\end{equation}\n",
    "\n",
    "Entonces, suponiendo que $d_n$ tiene una dependencia exponencial de $n$\n",
    "(tiempo discreto), para $n\\to\\infty$ y $\\epsilon\\to 0$, escribimos\n",
    "$d_n= \\epsilon \\exp(\\lambda n)$, de donde obtenemos\n",
    "\n",
    "\\begin{equation}\n",
    "\\lambda(x_0) \\equiv \\lim_{n\\to\\infty} \\;\\lim_{\\epsilon\\to 0} \\;\n",
    "\\frac{1}{n}\\log\\Big| \\frac{f^{n}(x_0+\\epsilon)-f^{n}(x_0)}{\\epsilon}\\Big|.\n",
    "\\end{equation}\n",
    "\n",
    "A $\\lambda(x_0)$ le llamamos el exponente de Lyapunov. Si $\\lambda(x_0)>0$\n",
    "diremos que hay caos, mientras que si $\\lambda(x_0)<0$ diremos que no lo hay."
   ],
   "metadata": {}
  },
  {
   "cell_type": "markdown",
   "source": [
    "Observaciones:\n",
    "\n",
    "- El exponente de Lyapunov, estrictamente hablando, depende de la condición\n",
    "inicial $x_0$.\n",
    "- En la definición del exponente de Lyapunov se require la evaluación\n",
    "de **dos** límites, uno que involucra al tiempo ($n\\to\\infty$), y otro que\n",
    "representa la distancia entre las condiciones iniciales ($\\epsilon\\to 0$).\n",
    "- La definición del exponente de Lyapunov es sutil, ya que en muchas\n",
    "ocasiones *sabemos* que el rango de $f(x)$ es acotado cuando $x$ está\n",
    "en cierto dominio, lo que entonces podría llevar erróneamente a concluir\n",
    "que $\\lambda(x_0)=0$. La sutileza está evidentemente en el órden de los\n",
    "límites, que no necesariamente conmuta.\n",
    "- Las unidades del exponente de Lyapunov corresponden al inverso del tiempo, es\n",
    "decir, $\\lambda^{-1}$ describe una escala relevante del tiempo para la dinámica."
   ],
   "metadata": {}
  },
  {
   "cell_type": "markdown",
   "source": [
    "Si el mapeo $f(x)$ es suficientemente suave, entonces podemos escribir\n",
    "\n",
    "\\begin{equation}\n",
    "\\lambda(x_0) = \\lim_{n\\to\\infty} \\frac{1}{n}\\log\\Big| \\frac{{\\rm d} f^{n}}{{\\rm d}x}(x_0)\\Big|,\n",
    "\\end{equation}\n",
    "\n",
    "donde literalmente hemos usado la definición de la derivada de la función $f^{n}$.\n",
    "Dado que para mapeos se cumple\n",
    "\n",
    "\\begin{equation}\n",
    "\\frac{{\\rm d}f^n}{{\\rm d}x}(x_0) = f'(x_0) f'(x_1)\\dots f'(x_{n-1}) = \\prod_{i=0}^{n-1} f'(x_i),\n",
    "\\end{equation}\n",
    "\n",
    "donde $x_i=f^i(x_0)$, es decir, $x_i$ es el i-ésimo iterado de $x_0$, obtenemos\n",
    "\n",
    "\\begin{equation}\n",
    "\\lambda(x_0) = \\lim_{n\\to\\infty} \\frac{1}{n} \\sum_{i=0}^{n-1} \\log\\Big| \\, f'(x_i)\\, \\Big|.\n",
    "\\end{equation}"
   ],
   "metadata": {}
  },
  {
   "cell_type": "markdown",
   "source": [
    "#### Ejercicio 1\n",
    "\n",
    "- ¿Cómo se generaliza la expresión anterior para el exponente de Lyapunov que se definió\n",
    "para mapeos de 1 variable, a mapeos de 2 variables?"
   ],
   "metadata": {}
  },
  {
   "cell_type": "markdown",
   "source": [
    "- ¿Cómo se compara el exponente de Lyapunov $\\lambda(x_0)$ con $\\lambda( f(x_0) )$,\n",
    "para el mapeo $x\\mapsto f(x)$?"
   ],
   "metadata": {}
  },
  {
   "outputs": [],
   "cell_type": "code",
   "source": [
    "#(Respuestas)"
   ],
   "metadata": {},
   "execution_count": null
  },
  {
   "cell_type": "markdown",
   "source": [
    "## Universalidad"
   ],
   "metadata": {}
  },
  {
   "cell_type": "markdown",
   "source": [
    "Anteriormente generamos el siguiente diagrama de bifurcaciones de la familia cuadrática:"
   ],
   "metadata": {}
  },
  {
   "cell_type": "markdown",
   "source": [
    "![Diag. bifurcaciones](diag_bif1.png)"
   ],
   "metadata": {}
  },
  {
   "cell_type": "markdown",
   "source": [
    "En esta sección, analizaremos por qué ciertos aspectos de la dinámica son\n",
    "universales, como por ejemplo los exponentes de Feigenbaum, es decir, por qué\n",
    "se obtienen *los mismos resultados* para una familia más amplia de mapeos,\n",
    "más allá de la cuadrática."
   ],
   "metadata": {}
  },
  {
   "cell_type": "markdown",
   "source": [
    "El argumento que se presenta será más bien cualitativo; sin embargo, las\n",
    "observaciones que aquí se harán se pueden poner en términos rigurosos, que\n",
    "se conocen como la teoría de renormalización."
   ],
   "metadata": {}
  },
  {
   "cell_type": "markdown",
   "source": [
    "### Ciclos superestables"
   ],
   "metadata": {}
  },
  {
   "cell_type": "markdown",
   "source": [
    "Para la familia de mapeos cuadráticos $Q_c(x) = x^2+c$, un punto particular\n",
    "es $x=0$, simplemente porque en $x=0$ se satisface $Q_c'(x=0)=0$ para todo\n",
    "valor de $c$. Si bien esta observación es trivial, tener\n",
    "que la derivada en un punto de una órbita periódica se anula implica que dicha\n",
    "órbita, en términos de su estabilidad, está lo más alejada posible de -1 o 1,\n",
    "que son los puntos de posibles bifurcaciones. Por esto es que definiremos un\n",
    "*ciclo superestable* de periodo $n$ como aquél en que el punto $x=0$ forma\n",
    "parte del órbita periódica de periodo $n$, lo que es equivalente a pedir\n",
    "que la derivada del ciclo estable sea cero."
   ],
   "metadata": {}
  },
  {
   "cell_type": "markdown",
   "source": [
    "Es fácil ver que en $c_0=0$ se tiene un ciclo superestable periódico de\n",
    "periodo 1 (ver por ejemplo el diagrama de bifurcaciones). En este caso, uno\n",
    "puede sustituir $c=0$ en $Q_c(x)$, y verificar que $Q_{c=0}(x)=x$ se cumple\n",
    "para $x=0$."
   ],
   "metadata": {}
  },
  {
   "outputs": [],
   "cell_type": "code",
   "source": [
    "\"Mapeo cuadrático evaluado en `x`, con parámetro `c`\"\n",
    "Qc(x,c) = x^2 + c\n",
    "\n",
    "Qc(x, args...) = Qc(x, args[1])"
   ],
   "metadata": {},
   "execution_count": null
  },
  {
   "outputs": [],
   "cell_type": "code",
   "source": [
    "\"Derivada de `Qc(x,c)` respecto a `x` evaluada en `x`, con parámetro `c`\"\n",
    "Qc´(x,c) = 2x"
   ],
   "metadata": {},
   "execution_count": null
  },
  {
   "outputs": [],
   "cell_type": "code",
   "source": [
    "C0 = 0.0\n",
    "\n",
    "Qc(0.0,C0) == 0.0"
   ],
   "metadata": {},
   "execution_count": null
  },
  {
   "outputs": [],
   "cell_type": "code",
   "source": [
    "\"\"\"\n",
    "    Qcⁿ(x, args)\n",
    "\n",
    "Esta función regresa el n-enésimo iterado de ``Q_c(x,c)``,\n",
    "donde el valor a iterar es `x` y el valor del parámetro\n",
    "es `c`, donde `c = args[1]` y `n = args[2]`.\n",
    "\"\"\"\n",
    "function Qcⁿ(x, args)\n",
    "    c, n = args[1], args[2]\n",
    "    n <= 1 && return Qc(x,c)\n",
    "    for it = 1:n\n",
    "        x = Qc(x,c)\n",
    "    end\n",
    "    return x\n",
    "end"
   ],
   "metadata": {},
   "execution_count": null
  },
  {
   "cell_type": "markdown",
   "source": [
    "La siguiente gráfica muestra el mapeo $Q_c(x)$ para $c=c_0$."
   ],
   "metadata": {}
  },
  {
   "outputs": [],
   "cell_type": "code",
   "source": [
    "xrange = -1:1/64:1\n",
    "plot(xrange, x->Qcⁿ(x, (C0,1)))\n",
    "plot!(xrange, x->x)\n",
    "ylims!(-1,1)\n",
    "xlabel!(\"x\")\n",
    "ylabel!(\"Q_c(x)\")\n",
    "title!(\"c₀ = $C0\")"
   ],
   "metadata": {},
   "execution_count": null
  },
  {
   "cell_type": "markdown",
   "source": [
    "Para obtener el valor $c_1$ del ciclo superestable de periodo 2, debemos\n",
    "encontrar la $c$ tal que\n",
    "\n",
    "\\begin{equation}\n",
    "Q_c^2(0) = c^2+c = c(c+1) = 0,\n",
    "\\end{equation}\n",
    "\n",
    "cuya solución (distinta de $c_0=0$) es $c_1=-1$."
   ],
   "metadata": {}
  },
  {
   "outputs": [],
   "cell_type": "code",
   "source": [
    "C1 = -1.0\n",
    "\n",
    "xrange = -1:1/64:1\n",
    "plot(xrange, x->Qcⁿ(x, (C1,2)))\n",
    "plot!(xrange, x->x)\n",
    "ylims!(-1,1)\n",
    "\n",
    "x₁ = -0.6\n",
    "plot!([x₁, -x₁, -x₁, x₁, x₁], [x₁, x₁, -x₁, -x₁, x₁])\n",
    "xlabel!(\"x\")\n",
    "ylabel!(\"Q_c^2(x)\")\n",
    "title!(\"c₁ = $C1\")"
   ],
   "metadata": {},
   "execution_count": null
  },
  {
   "cell_type": "markdown",
   "source": [
    "El recuadro en la gráfica de $C_1$ muestra un detalle de $Q_{C_1}^2(x)$\n",
    "que, localmente, se *parece* a $Q_{C_0}(x)$; aunque obvio de la gráfica,\n",
    "noten que la comparación requiere de una reflexión."
   ],
   "metadata": {}
  },
  {
   "cell_type": "markdown",
   "source": [
    "Para encontrar el valor de $c$ en que $Q_{c}^4(x=0)=0$ usaremos el\n",
    "método de Newton. En este caso usaremos\n",
    "[TaylorSeries.jl](https://github.com/JuliaDiff/TaylorSeries.jl) para\n",
    "calcular la derivada de la función `f` usando diferenciación automática."
   ],
   "metadata": {}
  },
  {
   "outputs": [],
   "cell_type": "code",
   "source": [
    "using TaylorSeries\n",
    "\n",
    "function roots_newton(f, x0)\n",
    "    t = Taylor1(eltype(x0), 1)   # Define una variable tipo `Taylor1` de orden 1\n",
    "    #Se implementan 30 iterados del método de Newton\n",
    "    for ind = 1:30\n",
    "        #`fT` equivale al desarrollo de Taylor de `f`, de orden 1\n",
    "        fT = f(x0+t)\n",
    "        #`fT[0]` y `fT[1]` son el coeficiente de orden 0 y 1 de la serie `fT`\n",
    "        x0 = x0 - fT[0]/fT[1]\n",
    "    end\n",
    "    return x0\n",
    "end"
   ],
   "metadata": {},
   "execution_count": null
  },
  {
   "outputs": [],
   "cell_type": "code",
   "source": [
    "Q4c = c -> Qcⁿ(0.0, (c, 4))\n",
    "C2 = roots_newton(Q4c, -1.4)"
   ],
   "metadata": {},
   "execution_count": null
  },
  {
   "outputs": [],
   "cell_type": "code",
   "source": [
    "xrange = -1:1/64:1\n",
    "plot(xrange, x->Qcⁿ(x, (C2,4)))\n",
    "plot!(xrange, x->x)\n",
    "ylims!(-1,1)\n",
    "\n",
    "x₁ = -0.25\n",
    "plot!([x₁, -x₁, -x₁, x₁, x₁], [x₁, x₁, -x₁, -x₁, x₁])\n",
    "\n",
    "xlabel!(\"x\")\n",
    "ylabel!(\"Q_c^4(x)\")\n",
    "title!(\"c₂ = $C2\")"
   ],
   "metadata": {},
   "execution_count": null
  },
  {
   "cell_type": "markdown",
   "source": [
    "Nuevamente, el recuadro en la gráfica de $c_2$ muestra un detalle de\n",
    "$Q_{c_2}^4(x)$ que, localmente, se *parece* a $Q_{c_0}(x)$. En este caso,\n",
    "la comparación con el diagrama original es directa, o una doble reflexión\n",
    "corresponde a la identidad."
   ],
   "metadata": {}
  },
  {
   "outputs": [],
   "cell_type": "code",
   "source": [
    "Q8c = c -> Qcⁿ(0.0, (c, 8))\n",
    "C3 = roots_newton(Q8c, -1.4)"
   ],
   "metadata": {},
   "execution_count": null
  },
  {
   "outputs": [],
   "cell_type": "code",
   "source": [
    "xrange = -1:1/128:1\n",
    "plot(xrange, x->Qcⁿ(x, (C3,8)))\n",
    "plot!(xrange, x->x)\n",
    "ylims!(-1,1)\n",
    "\n",
    "x₁ = -0.125\n",
    "plot!([x₁, -x₁, -x₁, x₁, x₁], [x₁, x₁, -x₁, -x₁, x₁])\n",
    "\n",
    "xlabel!(\"x\")\n",
    "ylabel!(\"Q_c^8(x)\")\n",
    "title!(\"c₃ = $C3\")"
   ],
   "metadata": {},
   "execution_count": null
  },
  {
   "cell_type": "markdown",
   "source": [
    "#### Ejercicio 1\n",
    "\n",
    "Comparar gráficamente los mapeos $Q_{c}(x)$ y $Q_{c^\\prime}^2(x)$ para\n",
    "$c=1/4, 0, -3/4, -1, -2, -2.2$ y $c^\\prime=-3/4,-1,-5/4,-1.3, -1.546\\dots, -1.65$."
   ],
   "metadata": {}
  },
  {
   "outputs": [],
   "cell_type": "code",
   "source": [
    "#(Respuesta)"
   ],
   "metadata": {},
   "execution_count": null
  },
  {
   "cell_type": "markdown",
   "source": [
    "### Constante $\\alpha$ de Feigenbaum"
   ],
   "metadata": {}
  },
  {
   "cell_type": "markdown",
   "source": [
    "El punto del análisis gráfico anterior es que, *localmente*, los mapeos\n",
    "$Q_{c_0}(x)$ y $Q^{2^n}_{c_n}(x)$ son muy similares, si uno se enfoca en\n",
    "un dominio muy particular para $Q^{2^n}_{c_n}(x)$."
   ],
   "metadata": {}
  },
  {
   "cell_type": "markdown",
   "source": [
    "Vale la pena notar que, en este caso, la distancia al punto fijo (que cruza\n",
    "la identidad) y que define los recuadros, es\n",
    "$d_n = Q_{c_n}^{2^{n-1}}(0)\\approx -\\alpha d_{n+1}$."
   ],
   "metadata": {}
  },
  {
   "cell_type": "markdown",
   "source": [
    "Esta observación se expresa de manera formal construyendo una función que\n",
    "localmente se comporta como $Q^{2^n}_{c_n}(x)$, esto es:\n",
    "\n",
    "\\begin{equation}\n",
    "g_1(x) = \\lim_{n\\to\\infty} (-\\alpha)^n Q_{c_{n+1}}^{2^n}\\;\\Big(\\frac{x}{(-\\alpha)^n}\\Big).\n",
    "\\end{equation}\n",
    "\n",
    "El límite $n\\to\\infty$ hace que todas las particularidades del mapeo $Q_c(x)$\n",
    "se pierdan y, en este sentido, que sólo resten las propiedades que son *universales*."
   ],
   "metadata": {}
  },
  {
   "cell_type": "markdown",
   "source": [
    "La ecuación anterior se generaliza a:"
   ],
   "metadata": {}
  },
  {
   "cell_type": "markdown",
   "source": [
    "\\begin{equation}\n",
    "g_i(x) = \\lim_{n\\to\\infty} (-\\alpha)^n Q_{c_{n+i}}^{2^n}\\;\\Big(\\frac{x}{(-\\alpha)^n}\\Big),\n",
    "\\end{equation}"
   ],
   "metadata": {}
  },
  {
   "cell_type": "markdown",
   "source": [
    "De la definición de $g_i(x)$, uno puede demostrar que las funciones $g_i(x)$\n",
    "satisfacen la ecuación\n",
    "\n",
    "\\begin{equation}\n",
    "g_{i-1}(x) = -\\alpha g_i\\Big( g_i\\big(-\\,\\frac{x}{\\alpha}\\big)\\Big) .\n",
    "\\end{equation}"
   ],
   "metadata": {}
  },
  {
   "cell_type": "markdown",
   "source": [
    "Al tomar el límite $i\\to \\infty$ nos lleva a:\n",
    "\n",
    "\\begin{equation}\n",
    "g(x) \\equiv T g(x) = -\\alpha g\\Big( g\\big(-\\,\\frac{x}{\\alpha}\\big)\\Big),\n",
    "\\end{equation}\n",
    "\n",
    "donde $T$ es el *operador de doblamiento de periodo*."
   ],
   "metadata": {}
  },
  {
   "cell_type": "markdown",
   "source": [
    "Si una función $g(x)$ satisface la ecuación anterior, entonces la función\n",
    "$\\mu g(x/\\mu)$, con $\\mu\\neq 0$, es también solución de la ecuación. Esta\n",
    "es una propiedad de escalamiento. De aquí, imponiendo que $g(0)=1$ se\n",
    "tiene $1=-\\alpha g(1)$."
   ],
   "metadata": {}
  },
  {
   "cell_type": "markdown",
   "source": [
    "La idea es hacer un desarrollo en serie de Taylor de $g(x)$ cerca de $x=0$\n",
    "a fin de obtener una aproximación de $\\alpha$. De la ecuación de doblamiento\n",
    "de periodo uno obtiene:\n",
    "\n",
    "\\begin{eqnarray}\n",
    "g'(x) &=& g'\\Big( g\\big(-\\,\\frac{x}{\\alpha}\\big) \\Big) g'\\big(-\\,\\frac{x}{\\alpha}\\big),\\\\\n",
    "g''(x) &=& -g''\\Big( g\\big(-\\,\\frac{x}{\\alpha}\\big) \\Big) \\Big[ g'\\big(-\\,\\frac{x}{\\alpha}\\big)\\Big]^2\n",
    "-\\,\\frac{1}{\\alpha} g'\\Big( g\\big(-\\,\\frac{x}{\\alpha}\\big) \\Big) g''\\big(-\\,\\frac{x}{\\alpha}\\big).\n",
    "\\end{eqnarray}"
   ],
   "metadata": {}
  },
  {
   "cell_type": "markdown",
   "source": [
    "De la primer ecuación podemos concluir que $g'(0)=0$. Por esto, a segundo\n",
    "orden tenemos que $g(x)\\simeq 1+b x^2$. Sustituyendo esta aproximación en la\n",
    "ecuación de doblamiento de periodo y desarrollando *hasta* segundo orden,\n",
    "se obtiene:\n",
    "\n",
    "\\begin{equation}\n",
    "1+b x^2 \\simeq -\\alpha\\Big(1+b\\big(1+b(-\\frac{x}{\\alpha})^2\\big)^2\\Big) = -\\alpha\\Big( 1+ b + \\frac{2b^2}{\\alpha^2}x^2\\Big) + {\\cal O}(x^4).\n",
    "\\end{equation}"
   ],
   "metadata": {}
  },
  {
   "cell_type": "markdown",
   "source": [
    "Igualando término a término (potencias de $x$) tenemos que se debe satisfacer:\n",
    "\n",
    "\\begin{eqnarray}\n",
    "1 &=& -\\alpha(1 + b),\\\\\n",
    "b &=& - 2b^2/\\alpha.\\\\\n",
    "\\end{eqnarray}"
   ],
   "metadata": {}
  },
  {
   "cell_type": "markdown",
   "source": [
    "De aquí finalmente obtenemos $b \\approx -\\alpha/2$ y\n",
    "$\\alpha\\approx 1+\\sqrt{3}=2.73\\dots$; el valor de\n",
    "esta constante es $\\alpha = 2.502907\\dots$."
   ],
   "metadata": {}
  },
  {
   "cell_type": "markdown",
   "source": [
    "La otra constante de Feigenbaum se obtiene estudiando las propiedades de la\n",
    "ecuación linearizada en $c$."
   ],
   "metadata": {}
  },
  {
   "cell_type": "markdown",
   "source": [
    "## Referencia\n",
    "\n",
    "Heinz Georg Schuster, Wolfram Just, Deterministic Chaos, 2006."
   ],
   "metadata": {}
  },
  {
   "cell_type": "markdown",
   "source": [
    "---\n",
    "\n",
    "*This notebook was generated using [Literate.jl](https://github.com/fredrikekre/Literate.jl).*"
   ],
   "metadata": {}
  }
 ],
 "nbformat_minor": 3,
 "metadata": {
  "language_info": {
   "file_extension": ".jl",
   "mimetype": "application/julia",
   "name": "julia",
   "version": "1.6.0"
  },
  "kernelspec": {
   "name": "julia-1.6",
   "display_name": "Julia 1.6.0",
   "language": "julia"
  }
 },
 "nbformat": 4
}

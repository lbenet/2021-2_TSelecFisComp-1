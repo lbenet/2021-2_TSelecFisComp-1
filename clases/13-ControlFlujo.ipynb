{
 "cells": [
  {
   "cell_type": "markdown",
   "source": [
    "# Control del flujo"
   ],
   "metadata": {}
  },
  {
   "cell_type": "markdown",
   "source": [
    "## Condicionales"
   ],
   "metadata": {}
  },
  {
   "cell_type": "markdown",
   "source": [
    "Los condicionales en cualquier lenguaje de programación permiten decidir\n",
    "si ciertas partes del código se evalúan o no, o en otras palabras, crean *ramas*\n",
    "en el código según  una condición. En Julia, los condicionales tienen\n",
    "la estructura `if-else-end`, como vimos en un ejemplo anteriormente, y cada condición\n",
    "debe regresar una variable booleana (`true` o `false`)."
   ],
   "metadata": {}
  },
  {
   "outputs": [],
   "cell_type": "code",
   "source": [
    "function compara_x_y(x, y)\n",
    "    if x < y\n",
    "        println(\"x es menor que y: $(x<y)\")\n",
    "    elseif x > y\n",
    "        println(\"x es mayor que y: \", x > y)\n",
    "    else\n",
    "        println(\"x es igual a y: \", x == y)\n",
    "    end\n",
    "end"
   ],
   "metadata": {},
   "execution_count": null
  },
  {
   "outputs": [],
   "cell_type": "code",
   "source": [
    "compara_x_y(1.0, 2.3)"
   ],
   "metadata": {},
   "execution_count": null
  },
  {
   "outputs": [],
   "cell_type": "code",
   "source": [
    "compara_x_y(1.0, 0.3)"
   ],
   "metadata": {},
   "execution_count": null
  },
  {
   "outputs": [],
   "cell_type": "code",
   "source": [
    "compara_x_y(0.0, false)"
   ],
   "metadata": {},
   "execution_count": null
  },
  {
   "cell_type": "markdown",
   "source": [
    "En ocasiones, uno requiere regresar un valor dependiendo de una condición, y si\n",
    "ésta no se cumple, entonces se regresa otro valor. Esto se puede hacer con la\n",
    "construcción anterior haciendo las asignaciones pertinentes, o también, de una\n",
    "manera más corta, a través del \"operador ternario\"."
   ],
   "metadata": {}
  },
  {
   "outputs": [],
   "cell_type": "code",
   "source": [
    "positivo_o_negativo(x::Real) = x > zero(x) ? \"positivo\" : \"negativo o cero\""
   ],
   "metadata": {},
   "execution_count": null
  },
  {
   "outputs": [],
   "cell_type": "code",
   "source": [
    "positivo_o_negativo(1.2)"
   ],
   "metadata": {},
   "execution_count": null
  },
  {
   "outputs": [],
   "cell_type": "code",
   "source": [
    "positivo_o_negativo(-1.2)"
   ],
   "metadata": {},
   "execution_count": null
  },
  {
   "cell_type": "markdown",
   "source": [
    "La función anterior se puede igualmente escribir en una línea con `ifelse`"
   ],
   "metadata": {}
  },
  {
   "outputs": [],
   "cell_type": "code",
   "source": [
    "positivo_o_negativo(x::Real) = ifelse(x > zero(x), \"positivo\", \"negativo o cero\")"
   ],
   "metadata": {},
   "execution_count": null
  },
  {
   "cell_type": "markdown",
   "source": [
    "Hay otra forma más de condicional, que es la llamada evaluación de \"corto circuito\".\n",
    "En ciertos casos, uno requiere evaluar expresiones que involucran dos variables\n",
    "booleanas. Esto se puede conseguir con los operadores `&` (*and*) y `|` (*or*), por\n",
    "ejemplo."
   ],
   "metadata": {}
  },
  {
   "outputs": [],
   "cell_type": "code",
   "source": [
    "false & true"
   ],
   "metadata": {},
   "execution_count": null
  },
  {
   "cell_type": "markdown",
   "source": [
    "Por otro lado, en ocasiones es rendundante evaluar *ambos* lados del operador\n",
    "lógico, por ejemplo, cuando la primera condición es `false` y evaluamos `and`\n",
    "el resultado será `false` independientemente de la segunda condición. De manera similar\n",
    "ocurre si evaluamos un `or` y  la primer condición es `true`. En estos casos, basta\n",
    "con la primer evaluación para decidir el resultado; de ahí que se llamen de\n",
    "*corto circuito*. Concretamente,\n",
    "\n",
    "- `bool_a && b` significa que `b` se evaluará si `bool_a == true`, ya que si `a == false` el resultado es `false`;\n",
    "- `bool_a || b` significa que `b` se evaluará si `bool_a == false`, ya que si `a == true` el resultado es `true`."
   ],
   "metadata": {}
  },
  {
   "cell_type": "markdown",
   "source": [
    "Para ilustrar esto, usaremos las funciones `verdadero(x)` y `falso(x)`, que imprimen\n",
    "el valor de entrada `x`, y que regresan `true` o `false`, respectivamente."
   ],
   "metadata": {}
  },
  {
   "outputs": [],
   "cell_type": "code",
   "source": [
    "verdadero(x) = (println(x); true)\n",
    "falso(x) = (println(x); false)"
   ],
   "metadata": {},
   "execution_count": null
  },
  {
   "outputs": [],
   "cell_type": "code",
   "source": [
    "verdadero(1) && verdadero(2) # Dos operaciones"
   ],
   "metadata": {},
   "execution_count": null
  },
  {
   "outputs": [],
   "cell_type": "code",
   "source": [
    "verdadero(1) && falso(2) # Dos operaciones"
   ],
   "metadata": {},
   "execution_count": null
  },
  {
   "outputs": [],
   "cell_type": "code",
   "source": [
    "falso(1) && verdadero(2) # Una operación"
   ],
   "metadata": {},
   "execution_count": null
  },
  {
   "outputs": [],
   "cell_type": "code",
   "source": [
    "falso(1) && falso(2) # Una operación"
   ],
   "metadata": {},
   "execution_count": null
  },
  {
   "outputs": [],
   "cell_type": "code",
   "source": [
    "verdadero(1) || verdadero(2)  # Una operación"
   ],
   "metadata": {},
   "execution_count": null
  },
  {
   "outputs": [],
   "cell_type": "code",
   "source": [
    "verdadero(1) || falso(2)  # Una operación"
   ],
   "metadata": {},
   "execution_count": null
  },
  {
   "outputs": [],
   "cell_type": "code",
   "source": [
    "falso(1) || verdadero(2) # Dos operaciones"
   ],
   "metadata": {},
   "execution_count": null
  },
  {
   "outputs": [],
   "cell_type": "code",
   "source": [
    "falso(1) || falso(2) # Dos operaciones"
   ],
   "metadata": {},
   "execution_count": null
  },
  {
   "cell_type": "markdown",
   "source": [
    "## Ciclos"
   ],
   "metadata": {}
  },
  {
   "cell_type": "markdown",
   "source": [
    "Hay dos tipos de ciclos: el ciclo `while` y el ciclo `for`. Si bien éstos son en algún\n",
    "sentido equivalentes, a veces conviene usar uno en lugar del otro. *Ambas formas*, igual\n",
    "que el *bloque* `if`, requiere terminar con `end`, que marca donde acaba el código que\n",
    "se repite."
   ],
   "metadata": {}
  },
  {
   "outputs": [],
   "cell_type": "code",
   "source": [
    "glob_i = 1  # Esta variable debe definirse *antes* del `while`\n",
    "while glob_i <= 5\n",
    "    global glob_i  # declaramos que `glob_i` es una variable global\n",
    "    println(glob_i)\n",
    "    glob_i += 1\n",
    "    v_out = glob_i\n",
    "end\n",
    "glob_i"
   ],
   "metadata": {},
   "execution_count": null
  },
  {
   "outputs": [],
   "cell_type": "code",
   "source": [
    "v_out  # Regresa un `UndefVarError` ya que `v_out` sólo existe dentro del `while`"
   ],
   "metadata": {},
   "execution_count": null
  },
  {
   "outputs": [],
   "cell_type": "code",
   "source": [
    "for loc_i in 1:5\n",
    "    println(loc_i)\n",
    "    v_out = loc_i\n",
    "end"
   ],
   "metadata": {},
   "execution_count": null
  },
  {
   "outputs": [],
   "cell_type": "code",
   "source": [
    "v_out  # Regresa un `UndefVarError` por la misma razón que antes"
   ],
   "metadata": {},
   "execution_count": null
  },
  {
   "outputs": [],
   "cell_type": "code",
   "source": [
    "loc_i  # Regresa el mismo error, ya que el contador `loc_i` sólo existe dentro del `for`"
   ],
   "metadata": {},
   "execution_count": null
  },
  {
   "cell_type": "markdown",
   "source": [
    "Los errores que aparecen tienen que ver con el hecho de que los bloques `for` o `while`\n",
    "definen cierto ámbito \"local\" para las variables que se usan; en inglés, definen un\n",
    "*scope*. Por default ese ámbito es local. Entonces, las variables `v_out` no existen fuera\n",
    "de ese ámbito, que es la razón del error. Para poderlas usar fuera, entonces, debemos definirlas antes."
   ],
   "metadata": {}
  },
  {
   "cell_type": "markdown",
   "source": [
    "En cuanto a `1:5`, habíamos viisto que esto define un `UnitRange{Int64}` que es una manera muy\n",
    "conveniente (memoria) de definir un iterador. Si uno quiere que el iterador no tenga pasos de\n",
    "tamaño 1, uno utiliza `1:2:5`, lo que daría saltos de 2 en 2, empezando en 1 y terminando\n",
    "en 5."
   ],
   "metadata": {}
  },
  {
   "cell_type": "markdown",
   "source": [
    "Los ciclos `for` permiten *iterar* sobre objetos iterables."
   ],
   "metadata": {}
  },
  {
   "outputs": [],
   "cell_type": "code",
   "source": [
    "for i in [1,2,3]\n",
    "    println(i)\n",
    "end"
   ],
   "metadata": {},
   "execution_count": null
  },
  {
   "outputs": [],
   "cell_type": "code",
   "source": [
    "animales = [\"perro\", \"gato\", \"conejo\"]\n",
    "for i ∈ animales   # ∈ se obtiene con `\\in<TAB>`\n",
    "    println(i)\n",
    "end"
   ],
   "metadata": {},
   "execution_count": null
  },
  {
   "cell_type": "markdown",
   "source": [
    "A veces es necesario interrumpir un ciclo, o quizás sólo no ejecutar parte del ciclo.\n",
    "Esto se logra con `break` y `continue`."
   ],
   "metadata": {}
  },
  {
   "outputs": [],
   "cell_type": "code",
   "source": [
    "jj = 0\n",
    "for j = 1:1000\n",
    "    println(j)\n",
    "    j ≥ 5 && break # Si `j ≥  5` es verdadero, entonces \"ejecuta\" la siguiente instrucción.\n",
    "    jj = j\n",
    "end\n",
    "jj"
   ],
   "metadata": {},
   "execution_count": null
  },
  {
   "outputs": [],
   "cell_type": "code",
   "source": [
    "jj = 0\n",
    "for i = 1:10\n",
    "    i % 3 != 0 && continue   ## i % 3 es equivalente a mod(i, 3)\n",
    "    println(i)\n",
    "    jj = i\n",
    "end\n",
    "jj"
   ],
   "metadata": {},
   "execution_count": null
  },
  {
   "cell_type": "markdown",
   "source": [
    "Es posible encadenar ejecuciones de varios ciclos `for` en una línea, formando el\n",
    "producto cartesiano de los iterados.  El segundo índice equivale al índice interno."
   ],
   "metadata": {}
  },
  {
   "outputs": [],
   "cell_type": "code",
   "source": [
    "for i = 1:2, j = 1:5\n",
    "    println((i, j))\n",
    "end"
   ],
   "metadata": {},
   "execution_count": null
  },
  {
   "cell_type": "markdown",
   "source": [
    "Es posible construir vectores usando ciclos `for` directamente en una línea; a esto\n",
    "se le llama `comprehensions`. Por ejemplo:"
   ],
   "metadata": {}
  },
  {
   "outputs": [],
   "cell_type": "code",
   "source": [
    "v_tupla = [ (i,j) for i = 1:2, j = 1:5]"
   ],
   "metadata": {},
   "execution_count": null
  },
  {
   "cell_type": "markdown",
   "source": [
    "Es mejor usar rangos que veectores, justamente porque así se para evita el uso (desperdicio?)\n",
    "de memoria. Esto lo podemos ver usando `sizeof`."
   ],
   "metadata": {}
  },
  {
   "outputs": [],
   "cell_type": "code",
   "source": [
    "sizeof( collect(1:2^20) )   # 8*2^20, 8 bytes cada entero"
   ],
   "metadata": {},
   "execution_count": null
  },
  {
   "outputs": [],
   "cell_type": "code",
   "source": [
    "sizeof( [i for i=1:1_048_576] )  # 2^20 == 1048576"
   ],
   "metadata": {},
   "execution_count": null
  },
  {
   "outputs": [],
   "cell_type": "code",
   "source": [
    "sizeof( 1:1_000_000 )"
   ],
   "metadata": {},
   "execution_count": null
  },
  {
   "cell_type": "markdown",
   "source": [
    "## Ejercicios"
   ],
   "metadata": {}
  },
  {
   "cell_type": "markdown",
   "source": [
    "1. Construyan una función qué, a partir de un tipo de estructura (e.g., `Int64`), muestre\n",
    "el árbol de estructuras que están por arriba de él, es decir, que son más generales. hasta\n",
    "llegar a `Any`. Usen la función con varios ejemplos.\n",
    "\n",
    "2. Usando la siguiente función (tomada de\n",
    "[aquí](https://github.com/crstnbr/JuliaWorkshop19/blob/master/1_One/1_types_and_dispatch.ipynb)),\n",
    "lo que para funcionar requiere que carguen la función `subtypes` (está dentro de\n",
    "`InteractiveUtils.jl`)\n",
    "```julia\n",
    "    using  InteractiveUtils: subtypes\n",
    "    function show_subtypetree(T, level=1, indent=4)\n",
    "        level == 1 && println(T)\n",
    "        for s in subtypes(T)\n",
    "            println(join(fill(\" \", level * indent)) * string(s))\n",
    "            show_subtypetree(s, level+1, indent)\n",
    "        end\n",
    "    end\n",
    "```\n",
    "¿Qué pueden decir de los tipos que son concretos en cuanto a su posición en el árbol de tipos?\n",
    "\n",
    "3. Escriban una función, incluyendo *docstrings* que expliquen el algoritmo* que aproxime\n",
    "la raíz cuadrada de `a` usando el método iterativo Babilonio:\n",
    "    - (1) Empiecen con un número arbitrario *positivo* `x`.\n",
    "    - (2) Reemplacen `x` por  `(x+a/x)/2` .\n",
    "    - (3) Repitan el paso anterior usando el nuevo valor de `x`.\n",
    "(Recuerden definir algún criterio de parada de la función.)"
   ],
   "metadata": {}
  },
  {
   "cell_type": "markdown",
   "source": [
    "---\n",
    "\n",
    "*This notebook was generated using [Literate.jl](https://github.com/fredrikekre/Literate.jl).*"
   ],
   "metadata": {}
  }
 ],
 "nbformat_minor": 3,
 "metadata": {
  "language_info": {
   "file_extension": ".jl",
   "mimetype": "application/julia",
   "name": "julia",
   "version": "1.6.0"
  },
  "kernelspec": {
   "name": "julia-1.6",
   "display_name": "Julia 1.6.0",
   "language": "julia"
  }
 },
 "nbformat": 4
}

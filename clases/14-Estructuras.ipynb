{
 "cells": [
  {
   "cell_type": "markdown",
   "source": [
    "# Tipos/Estructuras en Julia"
   ],
   "metadata": {}
  },
  {
   "cell_type": "markdown",
   "source": [
    "Hemos visto que **todo** en Julia tiene asociado un tipo o estructura. Aquí veremos varias\n",
    "formas de crear tipos que se acomoden a lo que necesitamos, y algunos trucos para que la\n",
    "ejecución sea rápida. La importancia de los tipos radica, como vimos, en el hecho que la\n",
    "elección de qué método de una función se usa depende del tipo de sus argumentos."
   ],
   "metadata": {}
  },
  {
   "cell_type": "markdown",
   "source": [
    "La convención a la hora de definir tipos es que estén escritos en estilo de \"camello\",\n",
    "es decir, en que la primer letra de cada palabra empieza en mayúscula. Por ejemplo,\n",
    "tenemos `Float64`, `AbstractFloat`."
   ],
   "metadata": {}
  },
  {
   "cell_type": "markdown",
   "source": [
    "Es importante decir que los tipos **no** pueden ser redefinidos o sobreescritos en una\n",
    "sesión de Julia \"normal\"; para hacerlo, hay que iniciar una nueva sesión o reiniciar el kernel\n",
    "del notebook (para el Jupyter notebook)."
   ],
   "metadata": {}
  },
  {
   "cell_type": "markdown",
   "source": [
    "## Tipos inmutables y constructores internos"
   ],
   "metadata": {}
  },
  {
   "outputs": [],
   "cell_type": "code",
   "source": [
    "struct MiTipo end"
   ],
   "metadata": {},
   "execution_count": null
  },
  {
   "cell_type": "markdown",
   "source": [
    "Para crear un objeto del tipo `MiTipo` se requiere un *constructor*, que sencillamente es\n",
    "una función que devuelve un objeto del tipo especificado."
   ],
   "metadata": {}
  },
  {
   "outputs": [],
   "cell_type": "code",
   "source": [
    "methods(MiTipo)"
   ],
   "metadata": {},
   "execution_count": null
  },
  {
   "cell_type": "markdown",
   "source": [
    "La estructura `MiTipo` que acabamos de definir **no** contiene ningún tipo de datos, por lo\n",
    "que se llama \"singleton\". Este tipo de estructuras pueden ser útiles para cuestiones de\n",
    "*dispatch*, esto es, de distinguir el método que se usa."
   ],
   "metadata": {}
  },
  {
   "outputs": [],
   "cell_type": "code",
   "source": [
    "mt = MiTipo()"
   ],
   "metadata": {},
   "execution_count": null
  },
  {
   "outputs": [],
   "cell_type": "code",
   "source": [
    "typeof(mt)"
   ],
   "metadata": {},
   "execution_count": null
  },
  {
   "outputs": [],
   "cell_type": "code",
   "source": [
    "mt isa MiTipo"
   ],
   "metadata": {},
   "execution_count": null
  },
  {
   "cell_type": "markdown",
   "source": [
    "En general, cuando definimos un tipo nuevo es para que contenga cierto tipo de datos, que\n",
    "por una u otra razón tienen un significado importante para nosotros."
   ],
   "metadata": {}
  },
  {
   "cell_type": "markdown",
   "source": [
    "La siguiente estructura define a `Partic1d`, que podría representar la posición y velocidad\n",
    "de una partrícula en 1 dimensión."
   ],
   "metadata": {}
  },
  {
   "outputs": [],
   "cell_type": "code",
   "source": [
    "struct Partic1d\n",
    "    x :: Float64\n",
    "    v :: Float64\n",
    "end"
   ],
   "metadata": {},
   "execution_count": null
  },
  {
   "cell_type": "markdown",
   "source": [
    "Por cuestiones de eficiencia es conveniente que los tipos *internos* sean concretos; si se requiere\n",
    "versatilidad respecto a los tipos internos, se puede definir *tipos parámetricos*, como veremos más adelante."
   ],
   "metadata": {}
  },
  {
   "cell_type": "markdown",
   "source": [
    "Es importante enfatizar que las distintas componentes internas de un tipo pueden tener distintos\n",
    "tipos asociados, por ejemplo, `Float64` y `String`."
   ],
   "metadata": {}
  },
  {
   "cell_type": "markdown",
   "source": [
    "Para acceder a la información de los campos internos de un tipo, usamos la función `fieldnames`:"
   ],
   "metadata": {}
  },
  {
   "outputs": [],
   "cell_type": "code",
   "source": [
    "fieldnames(Partic1d)"
   ],
   "metadata": {},
   "execution_count": null
  },
  {
   "cell_type": "markdown",
   "source": [
    "El método que por default crea a un objeto tipo `Partic1d` requiere que especifiquemos\n",
    "*en el mismo orden* todos los *campos* que lo componen."
   ],
   "metadata": {}
  },
  {
   "outputs": [],
   "cell_type": "code",
   "source": [
    "p1 = Partic1d(1.0, -2.4)"
   ],
   "metadata": {},
   "execution_count": null
  },
  {
   "outputs": [],
   "cell_type": "code",
   "source": [
    "p1.x"
   ],
   "metadata": {},
   "execution_count": null
  },
  {
   "outputs": [],
   "cell_type": "code",
   "source": [
    "getfield(p1, :v) # Otra manera de obtener el campo `:v` de p1"
   ],
   "metadata": {},
   "execution_count": null
  },
  {
   "cell_type": "markdown",
   "source": [
    "El tipo de estructura que acabamos de crear es *inmutable*, lo que significa que los\n",
    "campos individuales (cuando son *concretos*), no se pueden cambiar. Esto lo que\n",
    "significa es que si tratamos de cambiar el campo interno de un tipo inmutable, Julia\n",
    "arrojará un error."
   ],
   "metadata": {}
  },
  {
   "outputs": [],
   "cell_type": "code",
   "source": [
    "isimmutable(p1)"
   ],
   "metadata": {},
   "execution_count": null
  },
  {
   "outputs": [],
   "cell_type": "code",
   "source": [
    "p1.x = 2.0"
   ],
   "metadata": {},
   "execution_count": null
  },
  {
   "cell_type": "markdown",
   "source": [
    "La propiedad de inmutabilidad no es recursiva; así, si un objeto consiste de algún\n",
    "campo que es mutable (por ejemplo, `Array{T,N}`, entonces las componentes individuales\n",
    "de ese campo pueden cambiar."
   ],
   "metadata": {}
  },
  {
   "outputs": [],
   "cell_type": "code",
   "source": [
    "struct Partic2d\n",
    "    x :: Array{Float64,1}\n",
    "    v :: Array{Float64,1}\n",
    "    #La siguiente función se llama constructor interno\n",
    "    function Partic2d(x::Array{Float64,1}, v::Array{Float64,1})\n",
    "        @assert length(x) == length(v) == 2\n",
    "        return new(x, v)\n",
    "    end\n",
    "end"
   ],
   "metadata": {},
   "execution_count": null
  },
  {
   "cell_type": "markdown",
   "source": [
    "La función que aparece en el interior redefine el constructor de default, y se llama\n",
    "*constructor interno*. Hay que enfatizar que el comando `new` *sólo* se utiliza en\n",
    "este caso, con constructores internos; en algún sentido estamos devolviendo un objeto\n",
    "tipo `Partric2d`, que aún no está definido."
   ],
   "metadata": {}
  },
  {
   "outputs": [],
   "cell_type": "code",
   "source": [
    "p2 = Partic2d([1.0, 2.5], [1.0, 3.0])"
   ],
   "metadata": {},
   "execution_count": null
  },
  {
   "cell_type": "markdown",
   "source": [
    "Como dijimos antes, no se puede cambiar *el objeto en si* (por ser inmutable), pero sí\n",
    "sus componentes."
   ],
   "metadata": {}
  },
  {
   "outputs": [],
   "cell_type": "code",
   "source": [
    "p2.x = [2, 1]  # Arroja un error"
   ],
   "metadata": {},
   "execution_count": null
  },
  {
   "outputs": [],
   "cell_type": "code",
   "source": [
    "p2.x[1] = 6.0  # cambia la primer componente"
   ],
   "metadata": {},
   "execution_count": null
  },
  {
   "outputs": [],
   "cell_type": "code",
   "source": [
    "p2.x .= [2, 1] # Cambiamos componente a componente, con broadcasting"
   ],
   "metadata": {},
   "execution_count": null
  },
  {
   "outputs": [],
   "cell_type": "code",
   "source": [
    "p2"
   ],
   "metadata": {},
   "execution_count": null
  },
  {
   "cell_type": "markdown",
   "source": [
    "## Tipos mutables"
   ],
   "metadata": {}
  },
  {
   "cell_type": "markdown",
   "source": [
    "Todo lo dicho anteriormente se puede extender para definir tipos mutables. La única\n",
    "diferencia es que a la hora de definirlos, debemos usar `mutable struct`."
   ],
   "metadata": {}
  },
  {
   "outputs": [],
   "cell_type": "code",
   "source": [
    "mutable struct MPartic2d\n",
    "    x :: Array{Float64,1}\n",
    "    v :: Array{Float64,1}\n",
    "    function MPartic2d(x :: Array{Float64,1}, v :: Array{Float64,1})\n",
    "        @assert length(x) == length(v) == 2\n",
    "        return new(x, v)\n",
    "    end\n",
    "end"
   ],
   "metadata": {},
   "execution_count": null
  },
  {
   "outputs": [],
   "cell_type": "code",
   "source": [
    "mp2 = MPartic2d([1.0, 2.5], [1.0, 3.0])"
   ],
   "metadata": {},
   "execution_count": null
  },
  {
   "outputs": [],
   "cell_type": "code",
   "source": [
    "mp2.x = [2, 1]  # Funciona, ya que el tipo es mutable!"
   ],
   "metadata": {},
   "execution_count": null
  },
  {
   "outputs": [],
   "cell_type": "code",
   "source": [
    "mp2"
   ],
   "metadata": {},
   "execution_count": null
  },
  {
   "cell_type": "markdown",
   "source": [
    "## Estructuras paramétricas"
   ],
   "metadata": {}
  },
  {
   "cell_type": "markdown",
   "source": [
    "En ocasiones uno quiere definir estructuras que operen con distinto tipo de entradas. Un\n",
    "ejemplo son los racionales: tenemos `Rational{Int}` y *también* `Rational{BigInt}`; otro\n",
    "ejemplo son los complejos: `Complex{Int64}` o `ComplexF64`, que es un alias de\n",
    "`Complex{Float64}`."
   ],
   "metadata": {}
  },
  {
   "cell_type": "markdown",
   "source": [
    "Anteriormente, definimos `Partic2d` con campos que son vectores `Array{Float64,1}`, por\n",
    "lo que usar otro tipo de vectores da un error."
   ],
   "metadata": {}
  },
  {
   "outputs": [],
   "cell_type": "code",
   "source": [
    "Partic2d([1, 2], [1, 3])"
   ],
   "metadata": {},
   "execution_count": null
  },
  {
   "cell_type": "markdown",
   "source": [
    "En principio uno *podría* usar en la definición de los campos que componen al tipo,\n",
    "tipos abstractos, como `Real`. Sin embargo, dado que el compilador *no* conoce la\n",
    "estructura en memoria de tipos abstractos, el código será ineficiente. Un ejemplo\n",
    "de código ineficiente, entonces, sería:\n",
    "```julia\n",
    "#Estructura MUY ineficiente\n",
    "struct Partic3dIneficiente\n",
    "    x :: Array{Real,1}\n",
    "    v :: Array{Real,1}\n",
    "end\n",
    "```\n",
    "dado que `Real` es un tipo abstracto."
   ],
   "metadata": {}
  },
  {
   "cell_type": "markdown",
   "source": [
    "La alternativa es definir estructuras *paramétricas*, donde precisamente el parámetro\n",
    "es un tipo concreto (sin especificar) que es subtipo de algún tipo abstracto."
   ],
   "metadata": {}
  },
  {
   "outputs": [],
   "cell_type": "code",
   "source": [
    "struct Partic3d{T<:Real}\n",
    "    x :: Array{T,1}\n",
    "    v :: Array{T,1}\n",
    "    function Partic3d(x :: Array{T,1}, v :: Array{T,1}) where {T}\n",
    "        @assert length(x) == length(v) == 3\n",
    "        return new{T}(x, v)\n",
    "    end\n",
    "end"
   ],
   "metadata": {},
   "execution_count": null
  },
  {
   "cell_type": "markdown",
   "source": [
    "En cierto sentido, en la definición anterior de `Partic3d{T}` la `T` adquiere un tipo\n",
    "concreto, que es subtipo de `Real`, y que es el que se utiliza en los campos donde se\n",
    "requiere especificar dentro del constructor."
   ],
   "metadata": {}
  },
  {
   "outputs": [],
   "cell_type": "code",
   "source": [
    "Partic3d([1,2,3], [2,3,4])  # regresa un Partic3d{Int}"
   ],
   "metadata": {},
   "execution_count": null
  },
  {
   "outputs": [],
   "cell_type": "code",
   "source": [
    "Partic3d([1.5,2,3], [2.5,3,4]) # regresa un Partic3d{Float64}"
   ],
   "metadata": {},
   "execution_count": null
  },
  {
   "cell_type": "markdown",
   "source": [
    "Los tipos están organizados en un a estructura de árbol; en todos los casos anteriores,\n",
    "la definición los ha puesto directamente abajo de `Any`."
   ],
   "metadata": {}
  },
  {
   "outputs": [],
   "cell_type": "code",
   "source": [
    "supertype(Partic3d)"
   ],
   "metadata": {},
   "execution_count": null
  },
  {
   "cell_type": "markdown",
   "source": [
    "Uno puede de hecho insertar en cualquier punto del árbol de tipos los tipos definidos.\n",
    "Esto es útil porque permiite obtener cierta clase de sobrecarga de operadores, y por lo mismo,\n",
    "la posibilidad de aplicar ciertas funciones a la estructura que hemos creado."
   ],
   "metadata": {}
  },
  {
   "cell_type": "markdown",
   "source": [
    "El siguiente ejemplo define la estructura paramétrica `MiVector2d`, y la pone como\n",
    "subtipo de `AbstractArray`; noten que `AbstractArray` *también* es una estructura\n",
    "paramétrica."
   ],
   "metadata": {}
  },
  {
   "outputs": [],
   "cell_type": "code",
   "source": [
    "struct MiVector2d{T<:Real} <: AbstractArray{T,1}\n",
    "    x :: T\n",
    "    y :: T\n",
    "end"
   ],
   "metadata": {},
   "execution_count": null
  },
  {
   "outputs": [],
   "cell_type": "code",
   "source": [
    "x = MiVector2d(1, 2) # da un error !?"
   ],
   "metadata": {},
   "execution_count": null
  },
  {
   "cell_type": "markdown",
   "source": [
    "El error indica *algo* aparentemente no relacionado con lo que hemos hecho, sino que\n",
    "tiene que ver con la visualización de `x`. (El mensaje dice que el problema está con `size`.)\n",
    "Uno puede notar que `x.x` y `x.y` dan los resultado esperados; de hecho, `x` ha sido *definido*,\n",
    "pero no lo podemos visualiizar."
   ],
   "metadata": {}
  },
  {
   "outputs": [],
   "cell_type": "code",
   "source": [
    "x.x, x.y"
   ],
   "metadata": {},
   "execution_count": null
  },
  {
   "outputs": [],
   "cell_type": "code",
   "source": [
    "isdefined(Main, :x)"
   ],
   "metadata": {},
   "execution_count": null
  },
  {
   "cell_type": "markdown",
   "source": [
    "Para hacernos la vida más sencilla a la hora de visualizar `MiVector2d`, sobrecargaremos\n",
    "`size` y `getindex`."
   ],
   "metadata": {}
  },
  {
   "outputs": [],
   "cell_type": "code",
   "source": [
    "import Base: size\n",
    "size(::MiVector2d{T}) where {T} = (2,)"
   ],
   "metadata": {},
   "execution_count": null
  },
  {
   "outputs": [],
   "cell_type": "code",
   "source": [
    "function Base.getindex(v::MiVector2d, i::Int)\n",
    "    if i == 1\n",
    "        return v.x\n",
    "    elseif i == 2\n",
    "        return v.y\n",
    "    else\n",
    "        throw(AssertError)\n",
    "    end\n",
    "end"
   ],
   "metadata": {},
   "execution_count": null
  },
  {
   "outputs": [],
   "cell_type": "code",
   "source": [
    "x"
   ],
   "metadata": {},
   "execution_count": null
  },
  {
   "outputs": [],
   "cell_type": "code",
   "source": [
    "y = MiVector2d(1.2, 2.1)"
   ],
   "metadata": {},
   "execution_count": null
  },
  {
   "cell_type": "markdown",
   "source": [
    "A pesar de que **no** hemos sobrecargado la suma (`:+`), funciona gracias a la estructura\n",
    "de tipo que hemos impuesto a `MiVector2d`, esto es, que sea subtipo de `AbstractArray`."
   ],
   "metadata": {}
  },
  {
   "outputs": [],
   "cell_type": "code",
   "source": [
    "x + y"
   ],
   "metadata": {},
   "execution_count": null
  },
  {
   "cell_type": "markdown",
   "source": [
    "Sin embargo, hay que notar que el resultado es un `Array{Float64,1}` y no un\n",
    "`MiVector2d{Float64}`. Para logra que el resultado sea del tipo que queremos, sobrecargamos\n",
    "la función `:+`."
   ],
   "metadata": {}
  },
  {
   "outputs": [],
   "cell_type": "code",
   "source": [
    "Base.:+(x::MiVector2d, y::MiVector2d) = MiVector2d((x .+ y)...)"
   ],
   "metadata": {},
   "execution_count": null
  },
  {
   "outputs": [],
   "cell_type": "code",
   "source": [
    "x + y"
   ],
   "metadata": {},
   "execution_count": null
  },
  {
   "cell_type": "markdown",
   "source": [
    "Este ejemplo *no* es uno muy interesante, pero muestra que Julia permite adecuar\n",
    "las cosas a lo que requerimos, y que permite *extender* a Julia para que la interacción\n",
    "sea sencilla."
   ],
   "metadata": {}
  },
  {
   "cell_type": "markdown",
   "source": [
    "---\n",
    "\n",
    "*This notebook was generated using [Literate.jl](https://github.com/fredrikekre/Literate.jl).*"
   ],
   "metadata": {}
  }
 ],
 "nbformat_minor": 3,
 "metadata": {
  "language_info": {
   "file_extension": ".jl",
   "mimetype": "application/julia",
   "name": "julia",
   "version": "1.6.0"
  },
  "kernelspec": {
   "name": "julia-1.6",
   "display_name": "Julia 1.6.0",
   "language": "julia"
  }
 },
 "nbformat": 4
}

{
 "cells": [
  {
   "cell_type": "markdown",
   "metadata": {},
   "source": [
    "# Exponente(s) de Lyapunov y Universalidad"
   ]
  },
  {
   "cell_type": "code",
   "execution_count": 8,
   "metadata": {},
   "outputs": [
    {
     "name": "stderr",
     "output_type": "stream",
     "text": [
      "\u001b[32m\u001b[1m  Activating\u001b[22m\u001b[39m environment at `~/Desktop/Diego/Diego_Escuela/SelectosC/2021-2_TSelecFisComp-1/Project.toml`\n"
     ]
    }
   ],
   "source": [
    "using Pkg\n",
    "Pkg.activate(\"..\")\n",
    "Pkg.instantiate()"
   ]
  },
  {
   "cell_type": "code",
   "execution_count": 9,
   "metadata": {},
   "outputs": [],
   "source": [
    "using Plots"
   ]
  },
  {
   "cell_type": "markdown",
   "metadata": {},
   "source": [
    "## Exponente de Lyapunov"
   ]
  },
  {
   "cell_type": "markdown",
   "metadata": {},
   "source": [
    "Hasta ahora lo que hemos visto es que al variar el parámetro $c$, el mapeo\n",
    "cuadrático exhibe una familia de bifurcaciones de doblamiento de periodo.\n",
    "Eventualmente, la resolución numérica complica visualizas las cosas; la pregunta entonces\n",
    "es si uno *puede* llegar a *periodo infinito* para un valor finito (y de\n",
    "hecho mayor a $-2$) para el mapeo cuadrático. Periodo infinito en este caso\n",
    "equivale a no tener periodo, y entonces uno se pregunta si hay un\n",
    "sentido de estabilidad en órbitas genéricas, que como veremos, no lo hay,\n",
    "y es lo que llamaremos *caos*. Abordaremos esta pregunta poco a poco."
   ]
  },
  {
   "cell_type": "markdown",
   "metadata": {},
   "source": [
    "Una manera de caracterizar el caos en el sentido de *sensibilidad a condiciones\n",
    "iniciales* es a través de los **exponentes de Lyapunov**. La idea es sencilla:\n",
    "si hay una dependencia *exponencial* respecto al tiempo de la separación de condiciones\n",
    "iniciales infinitesimalmente cercanas, entonces diremos que hay sensibilidad a las\n",
    "condiciones iniciales, es decir, caos."
   ]
  },
  {
   "cell_type": "markdown",
   "metadata": {},
   "source": [
    "Para esto, simplemente monitoreamos la evolución de dos condiciones iniciales\n",
    "cercanas, $x_0$ y $x_0+\\epsilon$, donde $\\epsilon>0$ y muy pequeño."
   ]
  },
  {
   "cell_type": "markdown",
   "metadata": {},
   "source": [
    "Considerando mapeos en una dimensión, la distancia entre los $n$-ésimos\n",
    "iterados es\n",
    "\n",
    "\\begin{equation}\n",
    "d_n = \\big|\\, f^{n}(x_0+\\epsilon)-f^{n}(x_0) \\big|\\,.\n",
    "\\end{equation}\n",
    "\n",
    "Entonces, suponiendo que $d_n$ tiene una dependencia exponencial de $n$\n",
    "(tiempo discreto), para $n\\to\\infty$ y $\\epsilon\\to 0$, escribimos\n",
    "$d_n= \\epsilon \\exp(\\lambda n)$, de donde obtenemos\n",
    "\n",
    "\\begin{equation}\n",
    "\\lambda(x_0) \\equiv \\lim_{n\\to\\infty} \\;\\lim_{\\epsilon\\to 0} \\;\n",
    "\\frac{1}{n}\\log\\Big| \\frac{f^{n}(x_0+\\epsilon)-f^{n}(x_0)}{\\epsilon}\\Big|.\n",
    "\\end{equation}\n",
    "\n",
    "A $\\lambda(x_0)$ le llamamos el exponente de Lyapunov. Si $\\lambda(x_0)>0$\n",
    "diremos que hay caos, mientras que si $\\lambda(x_0)<0$ diremos que no lo hay."
   ]
  },
  {
   "cell_type": "markdown",
   "metadata": {},
   "source": [
    "Observaciones:\n",
    "\n",
    "- El exponente de Lyapunov, estrictamente hablando, depende de la condición\n",
    "inicial $x_0$.\n",
    "- En la definición del exponente de Lyapunov se require la evaluación\n",
    "de **dos** límites, uno que involucra al tiempo ($n\\to\\infty$), y otro que\n",
    "representa la distancia entre las condiciones iniciales ($\\epsilon\\to 0$).\n",
    "- La definición del exponente de Lyapunov es sutil, ya que en muchas\n",
    "ocasiones *sabemos* que el rango de $f(x)$ es acotado cuando $x$ está\n",
    "en cierto dominio, lo que entonces podría llevar erróneamente a concluir\n",
    "que $\\lambda(x_0)=0$. La sutileza está evidentemente en el órden de los\n",
    "límites, que no necesariamente conmuta.\n",
    "- Las unidades del exponente de Lyapunov corresponden al inverso del tiempo, es\n",
    "decir, $\\lambda^{-1}$ describe una escala relevante del tiempo para la dinámica."
   ]
  },
  {
   "cell_type": "markdown",
   "metadata": {},
   "source": [
    "Si el mapeo $f(x)$ es suficientemente suave, entonces podemos escribir\n",
    "\n",
    "\\begin{equation}\n",
    "\\lambda(x_0) = \\lim_{n\\to\\infty} \\frac{1}{n}\\log\\Big| \\frac{{\\rm d} f^{n}}{{\\rm d}x}(x_0)\\Big|,\n",
    "\\end{equation}\n",
    "\n",
    "donde literalmente hemos usado la definición de la derivada de la función $f^{n}$.\n",
    "Dado que para mapeos se cumple\n",
    "\n",
    "\\begin{equation}\n",
    "\\frac{{\\rm d}f^n}{{\\rm d}x}(x_0) = f'(x_0) f'(x_1)\\dots f'(x_{n-1}) = \\prod_{i=0}^{n-1} f'(x_i),\n",
    "\\end{equation}\n",
    "\n",
    "donde $x_i=f^i(x_0)$, es decir, $x_i$ es el i-ésimo iterado de $x_0$, obtenemos\n",
    "\n",
    "\\begin{equation}\n",
    "\\lambda(x_0) = \\lim_{n\\to\\infty} \\frac{1}{n} \\sum_{i=0}^{n-1} \\log\\Big| \\, f'(x_i)\\, \\Big|.\n",
    "\\end{equation}"
   ]
  },
  {
   "cell_type": "markdown",
   "metadata": {},
   "source": [
    "#### Ejercicio 1\n",
    "\n",
    "- ¿Cómo se generaliza la expresión anterior para el exponente de Lyapunov que se definió\n",
    "para mapeos de 1 variable, a mapeos de 2 variables?"
   ]
  },
  {
   "cell_type": "markdown",
   "metadata": {},
   "source": [
    "- ¿Cómo se compara el exponente de Lyapunov $\\lambda(x_0)$ con $\\lambda( f(x_0) )$,\n",
    "para el mapeo $x\\mapsto f(x)$?"
   ]
  },
  {
   "cell_type": "code",
   "execution_count": null,
   "metadata": {},
   "outputs": [],
   "source": [
    "#(Respuestas)"
   ]
  },
  {
   "cell_type": "markdown",
   "metadata": {},
   "source": [
    "## Universalidad"
   ]
  },
  {
   "cell_type": "markdown",
   "metadata": {},
   "source": [
    "Anteriormente generamos el siguiente diagrama de bifurcaciones de la familia cuadrática:"
   ]
  },
  {
   "cell_type": "markdown",
   "metadata": {},
   "source": [
    "![Diag. bifurcaciones](diag_bif1.png)"
   ]
  },
  {
   "cell_type": "markdown",
   "metadata": {},
   "source": [
    "En esta sección, analizaremos por qué ciertos aspectos de la dinámica son\n",
    "universales, como por ejemplo los exponentes de Feigenbaum, es decir, por qué\n",
    "se obtienen *los mismos resultados* para una familia más amplia de mapeos,\n",
    "más allá de la cuadrática."
   ]
  },
  {
   "cell_type": "markdown",
   "metadata": {},
   "source": [
    "El argumento que se presenta será más bien cualitativo; sin embargo, las\n",
    "observaciones que aquí se harán se pueden poner en términos rigurosos, que\n",
    "se conocen como la teoría de renormalización."
   ]
  },
  {
   "cell_type": "markdown",
   "metadata": {},
   "source": [
    "### Ciclos superestables"
   ]
  },
  {
   "cell_type": "markdown",
   "metadata": {},
   "source": [
    "Para la familia de mapeos cuadráticos $Q_c(x) = x^2+c$, un punto particular\n",
    "es $x=0$, simplemente porque en $x=0$ se satisface $Q_c'(x=0)=0$ para todo\n",
    "valor de $c$. Si bien esta observación es trivial, tener\n",
    "que la derivada en un punto de una órbita periódica se anula implica que dicha\n",
    "órbita, en términos de su estabilidad, está lo más alejada posible de -1 o 1,\n",
    "que son los puntos de posibles bifurcaciones. Por esto es que definiremos un\n",
    "*ciclo superestable* de periodo $n$ como aquél en que el punto $x=0$ forma\n",
    "parte del órbita periódica de periodo $n$, lo que es equivalente a pedir\n",
    "que la derivada del ciclo estable sea cero."
   ]
  },
  {
   "cell_type": "markdown",
   "metadata": {},
   "source": [
    "Es fácil ver que en $c_0=0$ se tiene un ciclo superestable periódico de\n",
    "periodo 1 (ver por ejemplo el diagrama de bifurcaciones). En este caso, uno\n",
    "puede sustituir $c=0$ en $Q_c(x)$, y verificar que $Q_{c=0}(x)=x$ se cumple\n",
    "para $x=0$."
   ]
  },
  {
   "cell_type": "code",
   "execution_count": 10,
   "metadata": {},
   "outputs": [
    {
     "data": {
      "text/plain": [
       "Qc (generic function with 2 methods)"
      ]
     },
     "execution_count": 10,
     "metadata": {},
     "output_type": "execute_result"
    }
   ],
   "source": [
    "\"Mapeo cuadrático evaluado en `x`, con parámetro `c`\"\n",
    "Qc(x,c) = x^2 + c\n",
    "\n",
    "Qc(x, args...) = Qc(x, args[1])"
   ]
  },
  {
   "cell_type": "code",
   "execution_count": 11,
   "metadata": {},
   "outputs": [
    {
     "data": {
      "text/plain": [
       "Qc´"
      ]
     },
     "execution_count": 11,
     "metadata": {},
     "output_type": "execute_result"
    }
   ],
   "source": [
    "\"Derivada de `Qc(x,c)` respecto a `x` evaluada en `x`, con parámetro `c`\"\n",
    "Qc´(x,c) = 2x"
   ]
  },
  {
   "cell_type": "code",
   "execution_count": 12,
   "metadata": {},
   "outputs": [
    {
     "data": {
      "text/plain": [
       "true"
      ]
     },
     "execution_count": 12,
     "metadata": {},
     "output_type": "execute_result"
    }
   ],
   "source": [
    "C0 = 0.0\n",
    "\n",
    "Qc(0.0,C0) == 0.0"
   ]
  },
  {
   "cell_type": "code",
   "execution_count": 13,
   "metadata": {},
   "outputs": [
    {
     "data": {
      "text/plain": [
       "Qcⁿ"
      ]
     },
     "execution_count": 13,
     "metadata": {},
     "output_type": "execute_result"
    }
   ],
   "source": [
    "\"\"\"\n",
    "    Qcⁿ(x, args)\n",
    "\n",
    "Esta función regresa el n-enésimo iterado de ``Q_c(x,c)``,\n",
    "donde el valor a iterar es `x` y el valor del parámetro\n",
    "es `c`, donde `c = args[1]` y `n = args[2]`.\n",
    "\"\"\"\n",
    "function Qcⁿ(x, args)\n",
    "    c, n = args[1], args[2]\n",
    "    n <= 1 && return Qc(x,c)\n",
    "    for it = 1:n\n",
    "        x = Qc(x,c)\n",
    "    end\n",
    "    return x\n",
    "end"
   ]
  },
  {
   "cell_type": "markdown",
   "metadata": {},
   "source": [
    "La siguiente gráfica muestra el mapeo $Q_c(x)$ para $c=c_0$."
   ]
  },
  {
   "cell_type": "code",
   "execution_count": 14,
   "metadata": {},
   "outputs": [
    {
     "data": {
      "image/svg+xml": [
       "<?xml version=\"1.0\" encoding=\"utf-8\"?>\n",
       "<svg xmlns=\"http://www.w3.org/2000/svg\" xmlns:xlink=\"http://www.w3.org/1999/xlink\" width=\"600\" height=\"400\" viewBox=\"0 0 2400 1600\">\n",
       "<defs>\n",
       "  <clipPath id=\"clip230\">\n",
       "    <rect x=\"0\" y=\"0\" width=\"2400\" height=\"1600\"/>\n",
       "  </clipPath>\n",
       "</defs>\n",
       "<path clip-path=\"url(#clip230)\" d=\"\n",
       "M0 1600 L2400 1600 L2400 0 L0 0  Z\n",
       "  \" fill=\"#ffffff\" fill-rule=\"evenodd\" fill-opacity=\"1\"/>\n",
       "<defs>\n",
       "  <clipPath id=\"clip231\">\n",
       "    <rect x=\"480\" y=\"0\" width=\"1681\" height=\"1600\"/>\n",
       "  </clipPath>\n",
       "</defs>\n",
       "<path clip-path=\"url(#clip230)\" d=\"\n",
       "M257.204 1423.18 L2352.76 1423.18 L2352.76 123.472 L257.204 123.472  Z\n",
       "  \" fill=\"#ffffff\" fill-rule=\"evenodd\" fill-opacity=\"1\"/>\n",
       "<defs>\n",
       "  <clipPath id=\"clip232\">\n",
       "    <rect x=\"257\" y=\"123\" width=\"2097\" height=\"1301\"/>\n",
       "  </clipPath>\n",
       "</defs>\n",
       "<polyline clip-path=\"url(#clip232)\" style=\"stroke:#000000; stroke-width:2; stroke-opacity:0.1; fill:none\" points=\"\n",
       "  316.512,1423.18 316.512,123.472 \n",
       "  \"/>\n",
       "<polyline clip-path=\"url(#clip232)\" style=\"stroke:#000000; stroke-width:2; stroke-opacity:0.1; fill:none\" points=\"\n",
       "  810.746,1423.18 810.746,123.472 \n",
       "  \"/>\n",
       "<polyline clip-path=\"url(#clip232)\" style=\"stroke:#000000; stroke-width:2; stroke-opacity:0.1; fill:none\" points=\"\n",
       "  1304.98,1423.18 1304.98,123.472 \n",
       "  \"/>\n",
       "<polyline clip-path=\"url(#clip232)\" style=\"stroke:#000000; stroke-width:2; stroke-opacity:0.1; fill:none\" points=\"\n",
       "  1799.21,1423.18 1799.21,123.472 \n",
       "  \"/>\n",
       "<polyline clip-path=\"url(#clip232)\" style=\"stroke:#000000; stroke-width:2; stroke-opacity:0.1; fill:none\" points=\"\n",
       "  2293.45,1423.18 2293.45,123.472 \n",
       "  \"/>\n",
       "<polyline clip-path=\"url(#clip230)\" style=\"stroke:#000000; stroke-width:4; stroke-opacity:1; fill:none\" points=\"\n",
       "  257.204,1423.18 2352.76,1423.18 \n",
       "  \"/>\n",
       "<polyline clip-path=\"url(#clip230)\" style=\"stroke:#000000; stroke-width:4; stroke-opacity:1; fill:none\" points=\"\n",
       "  316.512,1423.18 316.512,1407.58 \n",
       "  \"/>\n",
       "<polyline clip-path=\"url(#clip230)\" style=\"stroke:#000000; stroke-width:4; stroke-opacity:1; fill:none\" points=\"\n",
       "  810.746,1423.18 810.746,1407.58 \n",
       "  \"/>\n",
       "<polyline clip-path=\"url(#clip230)\" style=\"stroke:#000000; stroke-width:4; stroke-opacity:1; fill:none\" points=\"\n",
       "  1304.98,1423.18 1304.98,1407.58 \n",
       "  \"/>\n",
       "<polyline clip-path=\"url(#clip230)\" style=\"stroke:#000000; stroke-width:4; stroke-opacity:1; fill:none\" points=\"\n",
       "  1799.21,1423.18 1799.21,1407.58 \n",
       "  \"/>\n",
       "<polyline clip-path=\"url(#clip230)\" style=\"stroke:#000000; stroke-width:4; stroke-opacity:1; fill:none\" points=\"\n",
       "  2293.45,1423.18 2293.45,1407.58 \n",
       "  \"/>\n",
       "<path clip-path=\"url(#clip230)\" d=\"M 0 0 M263.04 1467.02 L292.716 1467.02 L292.716 1470.96 L263.04 1470.96 L263.04 1467.02 Z\" fill=\"#000000\" fill-rule=\"evenodd\" fill-opacity=\"1\" /><path clip-path=\"url(#clip230)\" d=\"M 0 0 M303.619 1479.92 L311.257 1479.92 L311.257 1453.55 L302.947 1455.22 L302.947 1450.96 L311.211 1449.29 L315.887 1449.29 L315.887 1479.92 L323.526 1479.92 L323.526 1483.85 L303.619 1483.85 L303.619 1479.92 Z\" fill=\"#000000\" fill-rule=\"evenodd\" fill-opacity=\"1\" /><path clip-path=\"url(#clip230)\" d=\"M 0 0 M332.97 1477.97 L337.855 1477.97 L337.855 1483.85 L332.97 1483.85 L332.97 1477.97 Z\" fill=\"#000000\" fill-rule=\"evenodd\" fill-opacity=\"1\" /><path clip-path=\"url(#clip230)\" d=\"M 0 0 M358.04 1452.37 Q354.429 1452.37 352.6 1455.94 Q350.794 1459.48 350.794 1466.61 Q350.794 1473.71 352.6 1477.28 Q354.429 1480.82 358.04 1480.82 Q361.674 1480.82 363.479 1477.28 Q365.308 1473.71 365.308 1466.61 Q365.308 1459.48 363.479 1455.94 Q361.674 1452.37 358.04 1452.37 M358.04 1448.67 Q363.85 1448.67 366.905 1453.27 Q369.984 1457.86 369.984 1466.61 Q369.984 1475.33 366.905 1479.94 Q363.85 1484.52 358.04 1484.52 Q352.23 1484.52 349.151 1479.94 Q346.095 1475.33 346.095 1466.61 Q346.095 1457.86 349.151 1453.27 Q352.23 1448.67 358.04 1448.67 Z\" fill=\"#000000\" fill-rule=\"evenodd\" fill-opacity=\"1\" /><path clip-path=\"url(#clip230)\" d=\"M 0 0 M757.772 1467.02 L787.448 1467.02 L787.448 1470.96 L757.772 1470.96 L757.772 1467.02 Z\" fill=\"#000000\" fill-rule=\"evenodd\" fill-opacity=\"1\" /><path clip-path=\"url(#clip230)\" d=\"M 0 0 M807.54 1452.37 Q803.929 1452.37 802.1 1455.94 Q800.295 1459.48 800.295 1466.61 Q800.295 1473.71 802.1 1477.28 Q803.929 1480.82 807.54 1480.82 Q811.174 1480.82 812.98 1477.28 Q814.809 1473.71 814.809 1466.61 Q814.809 1459.48 812.98 1455.94 Q811.174 1452.37 807.54 1452.37 M807.54 1448.67 Q813.35 1448.67 816.406 1453.27 Q819.484 1457.86 819.484 1466.61 Q819.484 1475.33 816.406 1479.94 Q813.35 1484.52 807.54 1484.52 Q801.73 1484.52 798.651 1479.94 Q795.596 1475.33 795.596 1466.61 Q795.596 1457.86 798.651 1453.27 Q801.73 1448.67 807.54 1448.67 Z\" fill=\"#000000\" fill-rule=\"evenodd\" fill-opacity=\"1\" /><path clip-path=\"url(#clip230)\" d=\"M 0 0 M827.702 1477.97 L832.586 1477.97 L832.586 1483.85 L827.702 1483.85 L827.702 1477.97 Z\" fill=\"#000000\" fill-rule=\"evenodd\" fill-opacity=\"1\" /><path clip-path=\"url(#clip230)\" d=\"M 0 0 M842.818 1449.29 L861.174 1449.29 L861.174 1453.23 L847.1 1453.23 L847.1 1461.7 Q848.119 1461.35 849.137 1461.19 Q850.156 1461 851.174 1461 Q856.961 1461 860.341 1464.18 Q863.72 1467.35 863.72 1472.76 Q863.72 1478.34 860.248 1481.44 Q856.776 1484.52 850.456 1484.52 Q848.281 1484.52 846.012 1484.15 Q843.767 1483.78 841.359 1483.04 L841.359 1478.34 Q843.443 1479.48 845.665 1480.03 Q847.887 1480.59 850.364 1480.59 Q854.368 1480.59 856.706 1478.48 Q859.044 1476.38 859.044 1472.76 Q859.044 1469.15 856.706 1467.05 Q854.368 1464.94 850.364 1464.94 Q848.489 1464.94 846.614 1465.36 Q844.762 1465.77 842.818 1466.65 L842.818 1449.29 Z\" fill=\"#000000\" fill-rule=\"evenodd\" fill-opacity=\"1\" /><path clip-path=\"url(#clip230)\" d=\"M 0 0 M1282.36 1452.37 Q1278.75 1452.37 1276.92 1455.94 Q1275.12 1459.48 1275.12 1466.61 Q1275.12 1473.71 1276.92 1477.28 Q1278.75 1480.82 1282.36 1480.82 Q1286 1480.82 1287.8 1477.28 Q1289.63 1473.71 1289.63 1466.61 Q1289.63 1459.48 1287.8 1455.94 Q1286 1452.37 1282.36 1452.37 M1282.36 1448.67 Q1288.17 1448.67 1291.23 1453.27 Q1294.31 1457.86 1294.31 1466.61 Q1294.31 1475.33 1291.23 1479.94 Q1288.17 1484.52 1282.36 1484.52 Q1276.55 1484.52 1273.48 1479.94 Q1270.42 1475.33 1270.42 1466.61 Q1270.42 1457.86 1273.48 1453.27 Q1276.55 1448.67 1282.36 1448.67 Z\" fill=\"#000000\" fill-rule=\"evenodd\" fill-opacity=\"1\" /><path clip-path=\"url(#clip230)\" d=\"M 0 0 M1302.53 1477.97 L1307.41 1477.97 L1307.41 1483.85 L1302.53 1483.85 L1302.53 1477.97 Z\" fill=\"#000000\" fill-rule=\"evenodd\" fill-opacity=\"1\" /><path clip-path=\"url(#clip230)\" d=\"M 0 0 M1327.6 1452.37 Q1323.98 1452.37 1322.16 1455.94 Q1320.35 1459.48 1320.35 1466.61 Q1320.35 1473.71 1322.16 1477.28 Q1323.98 1480.82 1327.6 1480.82 Q1331.23 1480.82 1333.04 1477.28 Q1334.86 1473.71 1334.86 1466.61 Q1334.86 1459.48 1333.04 1455.94 Q1331.23 1452.37 1327.6 1452.37 M1327.6 1448.67 Q1333.41 1448.67 1336.46 1453.27 Q1339.54 1457.86 1339.54 1466.61 Q1339.54 1475.33 1336.46 1479.94 Q1333.41 1484.52 1327.6 1484.52 Q1321.79 1484.52 1318.71 1479.94 Q1315.65 1475.33 1315.65 1466.61 Q1315.65 1457.86 1318.71 1453.27 Q1321.79 1448.67 1327.6 1448.67 Z\" fill=\"#000000\" fill-rule=\"evenodd\" fill-opacity=\"1\" /><path clip-path=\"url(#clip230)\" d=\"M 0 0 M1777.1 1452.37 Q1773.48 1452.37 1771.66 1455.94 Q1769.85 1459.48 1769.85 1466.61 Q1769.85 1473.71 1771.66 1477.28 Q1773.48 1480.82 1777.1 1480.82 Q1780.73 1480.82 1782.54 1477.28 Q1784.36 1473.71 1784.36 1466.61 Q1784.36 1459.48 1782.54 1455.94 Q1780.73 1452.37 1777.1 1452.37 M1777.1 1448.67 Q1782.91 1448.67 1785.96 1453.27 Q1789.04 1457.86 1789.04 1466.61 Q1789.04 1475.33 1785.96 1479.94 Q1782.91 1484.52 1777.1 1484.52 Q1771.29 1484.52 1768.21 1479.94 Q1765.15 1475.33 1765.15 1466.61 Q1765.15 1457.86 1768.21 1453.27 Q1771.29 1448.67 1777.1 1448.67 Z\" fill=\"#000000\" fill-rule=\"evenodd\" fill-opacity=\"1\" /><path clip-path=\"url(#clip230)\" d=\"M 0 0 M1797.26 1477.97 L1802.14 1477.97 L1802.14 1483.85 L1797.26 1483.85 L1797.26 1477.97 Z\" fill=\"#000000\" fill-rule=\"evenodd\" fill-opacity=\"1\" /><path clip-path=\"url(#clip230)\" d=\"M 0 0 M1812.37 1449.29 L1830.73 1449.29 L1830.73 1453.23 L1816.66 1453.23 L1816.66 1461.7 Q1817.67 1461.35 1818.69 1461.19 Q1819.71 1461 1820.73 1461 Q1826.52 1461 1829.9 1464.18 Q1833.28 1467.35 1833.28 1472.76 Q1833.28 1478.34 1829.8 1481.44 Q1826.33 1484.52 1820.01 1484.52 Q1817.84 1484.52 1815.57 1484.15 Q1813.32 1483.78 1810.92 1483.04 L1810.92 1478.34 Q1813 1479.48 1815.22 1480.03 Q1817.44 1480.59 1819.92 1480.59 Q1823.92 1480.59 1826.26 1478.48 Q1828.6 1476.38 1828.6 1472.76 Q1828.6 1469.15 1826.26 1467.05 Q1823.92 1464.94 1819.92 1464.94 Q1818.04 1464.94 1816.17 1465.36 Q1814.32 1465.77 1812.37 1466.65 L1812.37 1449.29 Z\" fill=\"#000000\" fill-rule=\"evenodd\" fill-opacity=\"1\" /><path clip-path=\"url(#clip230)\" d=\"M 0 0 M2260.6 1479.92 L2268.24 1479.92 L2268.24 1453.55 L2259.93 1455.22 L2259.93 1450.96 L2268.19 1449.29 L2272.87 1449.29 L2272.87 1479.92 L2280.51 1479.92 L2280.51 1483.85 L2260.6 1483.85 L2260.6 1479.92 Z\" fill=\"#000000\" fill-rule=\"evenodd\" fill-opacity=\"1\" /><path clip-path=\"url(#clip230)\" d=\"M 0 0 M2289.95 1477.97 L2294.84 1477.97 L2294.84 1483.85 L2289.95 1483.85 L2289.95 1477.97 Z\" fill=\"#000000\" fill-rule=\"evenodd\" fill-opacity=\"1\" /><path clip-path=\"url(#clip230)\" d=\"M 0 0 M2315.02 1452.37 Q2311.41 1452.37 2309.58 1455.94 Q2307.78 1459.48 2307.78 1466.61 Q2307.78 1473.71 2309.58 1477.28 Q2311.41 1480.82 2315.02 1480.82 Q2318.66 1480.82 2320.46 1477.28 Q2322.29 1473.71 2322.29 1466.61 Q2322.29 1459.48 2320.46 1455.94 Q2318.66 1452.37 2315.02 1452.37 M2315.02 1448.67 Q2320.83 1448.67 2323.89 1453.27 Q2326.97 1457.86 2326.97 1466.61 Q2326.97 1475.33 2323.89 1479.94 Q2320.83 1484.52 2315.02 1484.52 Q2309.21 1484.52 2306.13 1479.94 Q2303.08 1475.33 2303.08 1466.61 Q2303.08 1457.86 2306.13 1453.27 Q2309.21 1448.67 2315.02 1448.67 Z\" fill=\"#000000\" fill-rule=\"evenodd\" fill-opacity=\"1\" /><path clip-path=\"url(#clip230)\" d=\"M 0 0 M1321.59 1532.4 L1308.7 1549.74 L1322.26 1568.04 L1315.36 1568.04 L1304.98 1554.04 L1294.6 1568.04 L1287.7 1568.04 L1301.54 1549.39 L1288.87 1532.4 L1295.78 1532.4 L1305.23 1545.1 L1314.69 1532.4 L1321.59 1532.4 Z\" fill=\"#000000\" fill-rule=\"evenodd\" fill-opacity=\"1\" /><polyline clip-path=\"url(#clip232)\" style=\"stroke:#000000; stroke-width:2; stroke-opacity:0.1; fill:none\" points=\"\n",
       "  257.204,1423.18 2352.76,1423.18 \n",
       "  \"/>\n",
       "<polyline clip-path=\"url(#clip232)\" style=\"stroke:#000000; stroke-width:2; stroke-opacity:0.1; fill:none\" points=\"\n",
       "  257.204,1098.25 2352.76,1098.25 \n",
       "  \"/>\n",
       "<polyline clip-path=\"url(#clip232)\" style=\"stroke:#000000; stroke-width:2; stroke-opacity:0.1; fill:none\" points=\"\n",
       "  257.204,773.326 2352.76,773.326 \n",
       "  \"/>\n",
       "<polyline clip-path=\"url(#clip232)\" style=\"stroke:#000000; stroke-width:2; stroke-opacity:0.1; fill:none\" points=\"\n",
       "  257.204,448.399 2352.76,448.399 \n",
       "  \"/>\n",
       "<polyline clip-path=\"url(#clip232)\" style=\"stroke:#000000; stroke-width:2; stroke-opacity:0.1; fill:none\" points=\"\n",
       "  257.204,123.472 2352.76,123.472 \n",
       "  \"/>\n",
       "<polyline clip-path=\"url(#clip230)\" style=\"stroke:#000000; stroke-width:4; stroke-opacity:1; fill:none\" points=\"\n",
       "  257.204,1423.18 257.204,123.472 \n",
       "  \"/>\n",
       "<polyline clip-path=\"url(#clip230)\" style=\"stroke:#000000; stroke-width:4; stroke-opacity:1; fill:none\" points=\"\n",
       "  257.204,1423.18 282.351,1423.18 \n",
       "  \"/>\n",
       "<polyline clip-path=\"url(#clip230)\" style=\"stroke:#000000; stroke-width:4; stroke-opacity:1; fill:none\" points=\"\n",
       "  257.204,1098.25 282.351,1098.25 \n",
       "  \"/>\n",
       "<polyline clip-path=\"url(#clip230)\" style=\"stroke:#000000; stroke-width:4; stroke-opacity:1; fill:none\" points=\"\n",
       "  257.204,773.326 282.351,773.326 \n",
       "  \"/>\n",
       "<polyline clip-path=\"url(#clip230)\" style=\"stroke:#000000; stroke-width:4; stroke-opacity:1; fill:none\" points=\"\n",
       "  257.204,448.399 282.351,448.399 \n",
       "  \"/>\n",
       "<polyline clip-path=\"url(#clip230)\" style=\"stroke:#000000; stroke-width:4; stroke-opacity:1; fill:none\" points=\"\n",
       "  257.204,123.472 282.351,123.472 \n",
       "  \"/>\n",
       "<path clip-path=\"url(#clip230)\" d=\"M 0 0 M114.26 1423.63 L143.936 1423.63 L143.936 1427.57 L114.26 1427.57 L114.26 1423.63 Z\" fill=\"#000000\" fill-rule=\"evenodd\" fill-opacity=\"1\" /><path clip-path=\"url(#clip230)\" d=\"M 0 0 M154.839 1436.52 L162.477 1436.52 L162.477 1410.16 L154.167 1411.83 L154.167 1407.57 L162.431 1405.9 L167.107 1405.9 L167.107 1436.52 L174.746 1436.52 L174.746 1440.46 L154.839 1440.46 L154.839 1436.52 Z\" fill=\"#000000\" fill-rule=\"evenodd\" fill-opacity=\"1\" /><path clip-path=\"url(#clip230)\" d=\"M 0 0 M184.19 1434.58 L189.075 1434.58 L189.075 1440.46 L184.19 1440.46 L184.19 1434.58 Z\" fill=\"#000000\" fill-rule=\"evenodd\" fill-opacity=\"1\" /><path clip-path=\"url(#clip230)\" d=\"M 0 0 M209.26 1408.98 Q205.649 1408.98 203.82 1412.54 Q202.014 1416.08 202.014 1423.21 Q202.014 1430.32 203.82 1433.89 Q205.649 1437.43 209.26 1437.43 Q212.894 1437.43 214.699 1433.89 Q216.528 1430.32 216.528 1423.21 Q216.528 1416.08 214.699 1412.54 Q212.894 1408.98 209.26 1408.98 M209.26 1405.27 Q215.07 1405.27 218.125 1409.88 Q221.204 1414.46 221.204 1423.21 Q221.204 1431.94 218.125 1436.55 Q215.07 1441.13 209.26 1441.13 Q203.449 1441.13 200.371 1436.55 Q197.315 1431.94 197.315 1423.21 Q197.315 1414.46 200.371 1409.88 Q203.449 1405.27 209.26 1405.27 Z\" fill=\"#000000\" fill-rule=\"evenodd\" fill-opacity=\"1\" /><path clip-path=\"url(#clip230)\" d=\"M 0 0 M115.256 1098.7 L144.931 1098.7 L144.931 1102.64 L115.256 1102.64 L115.256 1098.7 Z\" fill=\"#000000\" fill-rule=\"evenodd\" fill-opacity=\"1\" /><path clip-path=\"url(#clip230)\" d=\"M 0 0 M165.024 1084.05 Q161.413 1084.05 159.584 1087.62 Q157.778 1091.16 157.778 1098.29 Q157.778 1105.39 159.584 1108.96 Q161.413 1112.5 165.024 1112.5 Q168.658 1112.5 170.464 1108.96 Q172.292 1105.39 172.292 1098.29 Q172.292 1091.16 170.464 1087.62 Q168.658 1084.05 165.024 1084.05 M165.024 1080.35 Q170.834 1080.35 173.889 1084.95 Q176.968 1089.54 176.968 1098.29 Q176.968 1107.01 173.889 1111.62 Q170.834 1116.2 165.024 1116.2 Q159.214 1116.2 156.135 1111.62 Q153.079 1107.01 153.079 1098.29 Q153.079 1089.54 156.135 1084.95 Q159.214 1080.35 165.024 1080.35 Z\" fill=\"#000000\" fill-rule=\"evenodd\" fill-opacity=\"1\" /><path clip-path=\"url(#clip230)\" d=\"M 0 0 M185.186 1109.65 L190.07 1109.65 L190.07 1115.53 L185.186 1115.53 L185.186 1109.65 Z\" fill=\"#000000\" fill-rule=\"evenodd\" fill-opacity=\"1\" /><path clip-path=\"url(#clip230)\" d=\"M 0 0 M200.301 1080.97 L218.658 1080.97 L218.658 1084.91 L204.584 1084.91 L204.584 1093.38 Q205.602 1093.03 206.621 1092.87 Q207.639 1092.69 208.658 1092.69 Q214.445 1092.69 217.824 1095.86 Q221.204 1099.03 221.204 1104.45 Q221.204 1110.02 217.732 1113.13 Q214.26 1116.2 207.94 1116.2 Q205.764 1116.2 203.496 1115.83 Q201.25 1115.46 198.843 1114.72 L198.843 1110.02 Q200.926 1111.16 203.149 1111.71 Q205.371 1112.27 207.848 1112.27 Q211.852 1112.27 214.19 1110.16 Q216.528 1108.06 216.528 1104.45 Q216.528 1100.83 214.19 1098.73 Q211.852 1096.62 207.848 1096.62 Q205.973 1096.62 204.098 1097.04 Q202.246 1097.45 200.301 1098.33 L200.301 1080.97 Z\" fill=\"#000000\" fill-rule=\"evenodd\" fill-opacity=\"1\" /><path clip-path=\"url(#clip230)\" d=\"M 0 0 M164.028 759.125 Q160.417 759.125 158.589 762.689 Q156.783 766.231 156.783 773.361 Q156.783 780.467 158.589 784.032 Q160.417 787.574 164.028 787.574 Q167.663 787.574 169.468 784.032 Q171.297 780.467 171.297 773.361 Q171.297 766.231 169.468 762.689 Q167.663 759.125 164.028 759.125 M164.028 755.421 Q169.839 755.421 172.894 760.027 Q175.973 764.611 175.973 773.361 Q175.973 782.088 172.894 786.694 Q169.839 791.277 164.028 791.277 Q158.218 791.277 155.14 786.694 Q152.084 782.088 152.084 773.361 Q152.084 764.611 155.14 760.027 Q158.218 755.421 164.028 755.421 Z\" fill=\"#000000\" fill-rule=\"evenodd\" fill-opacity=\"1\" /><path clip-path=\"url(#clip230)\" d=\"M 0 0 M184.19 784.726 L189.075 784.726 L189.075 790.606 L184.19 790.606 L184.19 784.726 Z\" fill=\"#000000\" fill-rule=\"evenodd\" fill-opacity=\"1\" /><path clip-path=\"url(#clip230)\" d=\"M 0 0 M209.26 759.125 Q205.649 759.125 203.82 762.689 Q202.014 766.231 202.014 773.361 Q202.014 780.467 203.82 784.032 Q205.649 787.574 209.26 787.574 Q212.894 787.574 214.699 784.032 Q216.528 780.467 216.528 773.361 Q216.528 766.231 214.699 762.689 Q212.894 759.125 209.26 759.125 M209.26 755.421 Q215.07 755.421 218.125 760.027 Q221.204 764.611 221.204 773.361 Q221.204 782.088 218.125 786.694 Q215.07 791.277 209.26 791.277 Q203.449 791.277 200.371 786.694 Q197.315 782.088 197.315 773.361 Q197.315 764.611 200.371 760.027 Q203.449 755.421 209.26 755.421 Z\" fill=\"#000000\" fill-rule=\"evenodd\" fill-opacity=\"1\" /><path clip-path=\"url(#clip230)\" d=\"M 0 0 M165.024 434.198 Q161.413 434.198 159.584 437.763 Q157.778 441.304 157.778 448.434 Q157.778 455.54 159.584 459.105 Q161.413 462.647 165.024 462.647 Q168.658 462.647 170.464 459.105 Q172.292 455.54 172.292 448.434 Q172.292 441.304 170.464 437.763 Q168.658 434.198 165.024 434.198 M165.024 430.494 Q170.834 430.494 173.889 435.101 Q176.968 439.684 176.968 448.434 Q176.968 457.161 173.889 461.767 Q170.834 466.35 165.024 466.35 Q159.214 466.35 156.135 461.767 Q153.079 457.161 153.079 448.434 Q153.079 439.684 156.135 435.101 Q159.214 430.494 165.024 430.494 Z\" fill=\"#000000\" fill-rule=\"evenodd\" fill-opacity=\"1\" /><path clip-path=\"url(#clip230)\" d=\"M 0 0 M185.186 459.799 L190.07 459.799 L190.07 465.679 L185.186 465.679 L185.186 459.799 Z\" fill=\"#000000\" fill-rule=\"evenodd\" fill-opacity=\"1\" /><path clip-path=\"url(#clip230)\" d=\"M 0 0 M200.301 431.119 L218.658 431.119 L218.658 435.054 L204.584 435.054 L204.584 443.526 Q205.602 443.179 206.621 443.017 Q207.639 442.832 208.658 442.832 Q214.445 442.832 217.824 446.003 Q221.204 449.175 221.204 454.591 Q221.204 460.17 217.732 463.272 Q214.26 466.35 207.94 466.35 Q205.764 466.35 203.496 465.98 Q201.25 465.61 198.843 464.869 L198.843 460.17 Q200.926 461.304 203.149 461.86 Q205.371 462.415 207.848 462.415 Q211.852 462.415 214.19 460.309 Q216.528 458.202 216.528 454.591 Q216.528 450.98 214.19 448.874 Q211.852 446.767 207.848 446.767 Q205.973 446.767 204.098 447.184 Q202.246 447.6 200.301 448.48 L200.301 431.119 Z\" fill=\"#000000\" fill-rule=\"evenodd\" fill-opacity=\"1\" /><path clip-path=\"url(#clip230)\" d=\"M 0 0 M154.839 136.817 L162.477 136.817 L162.477 110.451 L154.167 112.118 L154.167 107.859 L162.431 106.192 L167.107 106.192 L167.107 136.817 L174.746 136.817 L174.746 140.752 L154.839 140.752 L154.839 136.817 Z\" fill=\"#000000\" fill-rule=\"evenodd\" fill-opacity=\"1\" /><path clip-path=\"url(#clip230)\" d=\"M 0 0 M184.19 134.873 L189.075 134.873 L189.075 140.752 L184.19 140.752 L184.19 134.873 Z\" fill=\"#000000\" fill-rule=\"evenodd\" fill-opacity=\"1\" /><path clip-path=\"url(#clip230)\" d=\"M 0 0 M209.26 109.271 Q205.649 109.271 203.82 112.836 Q202.014 116.377 202.014 123.507 Q202.014 130.613 203.82 134.178 Q205.649 137.72 209.26 137.72 Q212.894 137.72 214.699 134.178 Q216.528 130.613 216.528 123.507 Q216.528 116.377 214.699 112.836 Q212.894 109.271 209.26 109.271 M209.26 105.567 Q215.07 105.567 218.125 110.174 Q221.204 114.757 221.204 123.507 Q221.204 132.234 218.125 136.84 Q215.07 141.423 209.26 141.423 Q203.449 141.423 200.371 136.84 Q197.315 132.234 197.315 123.507 Q197.315 114.757 200.371 110.174 Q203.449 105.567 209.26 105.567 Z\" fill=\"#000000\" fill-rule=\"evenodd\" fill-opacity=\"1\" /><path clip-path=\"url(#clip230)\" d=\"M 0 0 M20.8447 851.258 Q20.8447 858.26 26.0645 862.398 Q31.2844 866.504 40.2919 866.504 Q49.2675 866.504 54.4874 862.398 Q59.7073 858.26 59.7073 851.258 Q59.7073 844.256 54.4874 840.182 Q49.2675 836.076 40.2919 836.076 Q31.2844 836.076 26.0645 840.182 Q20.8447 844.256 20.8447 851.258 M63.1448 842.251 L72.4069 833.784 L72.4069 841.55 L64.7999 848.585 Q64.8635 849.635 64.8954 850.208 Q64.9272 850.749 64.9272 851.258 Q64.9272 861.284 58.2432 867.3 Q51.5274 873.283 40.2919 873.283 Q29.0246 873.283 22.3406 867.3 Q15.6248 861.284 15.6248 851.258 Q15.6248 841.264 22.3406 835.28 Q29.0246 829.296 40.2919 829.296 Q48.5673 829.296 54.4556 832.638 Q60.3439 835.949 63.1448 842.251 Z\" fill=\"#000000\" fill-rule=\"evenodd\" fill-opacity=\"1\" /><path clip-path=\"url(#clip230)\" d=\"M 0 0 M74.8259 792.407 L79.3773 792.407 L79.3773 826.273 L74.8259 826.273 L74.8259 792.407 Z\" fill=\"#000000\" fill-rule=\"evenodd\" fill-opacity=\"1\" /><path clip-path=\"url(#clip230)\" d=\"M 0 0 M29.7248 761.247 L35.1993 761.247 Q33.8307 763.73 33.1623 766.244 Q32.4621 768.727 32.4621 771.273 Q32.4621 776.97 36.0905 780.121 Q39.6872 783.272 46.212 783.272 Q52.7369 783.272 56.3653 780.121 Q59.9619 776.97 59.9619 771.273 Q59.9619 768.727 59.2935 766.244 Q58.5933 763.73 57.2247 761.247 L62.6355 761.247 Q63.7814 763.698 64.3543 766.34 Q64.9272 768.95 64.9272 771.91 Q64.9272 779.962 59.8664 784.705 Q54.8057 789.447 46.212 789.447 Q37.491 789.447 32.4939 784.673 Q27.4968 779.867 27.4968 771.528 Q27.4968 768.822 28.0697 766.244 Q28.6108 763.666 29.7248 761.247 Z\" fill=\"#000000\" fill-rule=\"evenodd\" fill-opacity=\"1\" /><path clip-path=\"url(#clip230)\" d=\"M 0 0 M14.5426 736.994 Q21.8632 741.259 29.0246 743.328 Q36.186 745.396 43.5384 745.396 Q50.8908 745.396 58.1159 743.328 Q65.3091 741.227 72.5979 736.994 L72.5979 742.086 Q65.1182 746.861 57.8931 749.248 Q50.668 751.603 43.5384 751.603 Q36.4406 751.603 29.2474 749.248 Q22.0542 746.892 14.5426 742.086 L14.5426 736.994 Z\" fill=\"#000000\" fill-rule=\"evenodd\" fill-opacity=\"1\" /><path clip-path=\"url(#clip230)\" d=\"M 0 0 M28.3562 695.999 L45.7028 708.889 L64.0042 695.33 L64.0042 702.237 L49.9996 712.613 L64.0042 722.989 L64.0042 729.896 L45.3526 716.051 L28.3562 728.718 L28.3562 721.812 L41.0558 712.358 L28.3562 702.905 L28.3562 695.999 Z\" fill=\"#000000\" fill-rule=\"evenodd\" fill-opacity=\"1\" /><path clip-path=\"url(#clip230)\" d=\"M 0 0 M14.5426 687.978 L14.5426 682.885 Q22.0542 678.111 29.2474 675.756 Q36.4406 673.368 43.5384 673.368 Q50.668 673.368 57.8931 675.756 Q65.1182 678.111 72.5979 682.885 L72.5979 687.978 Q65.3091 683.745 58.1159 681.676 Q50.8908 679.575 43.5384 679.575 Q36.186 679.575 29.0246 681.676 Q21.8632 683.745 14.5426 687.978 Z\" fill=\"#000000\" fill-rule=\"evenodd\" fill-opacity=\"1\" /><path clip-path=\"url(#clip230)\" d=\"M 0 0 M1179.38 28.9478 L1179.38 35.9153 Q1176.22 34.1734 1173.02 33.3227 Q1169.86 32.4315 1166.62 32.4315 Q1159.37 32.4315 1155.36 37.0496 Q1151.35 41.6271 1151.35 49.9314 Q1151.35 58.2358 1155.36 62.8538 Q1159.37 67.4314 1166.62 67.4314 Q1169.86 67.4314 1173.02 66.5807 Q1176.22 65.6895 1179.38 63.9476 L1179.38 70.8341 Q1176.26 72.2924 1172.9 73.0216 Q1169.58 73.7508 1165.81 73.7508 Q1155.56 73.7508 1149.53 67.3098 Q1143.49 60.8689 1143.49 49.9314 Q1143.49 38.832 1149.57 32.472 Q1155.68 26.1121 1166.3 26.1121 Q1169.74 26.1121 1173.02 26.8413 Q1176.3 27.5299 1179.38 28.9478 Z\" fill=\"#000000\" fill-rule=\"evenodd\" fill-opacity=\"1\" /><path clip-path=\"url(#clip230)\" d=\"M 0 0 M1207.62 45.1514 Q1205.59 41.6676 1201.5 41.6676 Q1197.41 41.6676 1195.38 45.1514 Q1193.32 48.6352 1193.32 55.6027 Q1193.32 62.6108 1195.38 66.0946 Q1197.41 69.5783 1201.5 69.5783 Q1205.59 69.5783 1207.62 66.0946 Q1209.68 62.6108 1209.68 55.6027 Q1209.68 48.6352 1207.62 45.1514 M1201.5 38.0623 Q1208.02 38.0623 1211.46 42.5588 Q1214.91 47.0553 1214.91 55.6027 Q1214.91 64.1906 1211.46 68.6871 Q1208.02 73.1836 1201.5 73.1836 Q1194.94 73.1836 1191.49 68.6871 Q1188.05 64.1906 1188.05 55.6027 Q1188.05 47.0553 1191.49 42.5588 Q1194.94 38.0623 1201.5 38.0623 Z\" fill=\"#000000\" fill-rule=\"evenodd\" fill-opacity=\"1\" /><path clip-path=\"url(#clip230)\" d=\"M 0 0 M1252.95 34.9026 L1304.88 34.9026 L1304.88 41.7081 L1252.95 41.7081 L1252.95 34.9026 M1252.95 51.4303 L1304.88 51.4303 L1304.88 58.3168 L1252.95 58.3168 L1252.95 51.4303 Z\" fill=\"#000000\" fill-rule=\"evenodd\" fill-opacity=\"1\" /><path clip-path=\"url(#clip230)\" d=\"M 0 0 M1366.41 17.4837 Q1360.09 17.4837 1356.89 23.7221 Q1353.73 29.92 1353.73 42.3968 Q1353.73 54.833 1356.89 61.0714 Q1360.09 67.2693 1366.41 67.2693 Q1372.77 67.2693 1375.93 61.0714 Q1379.13 54.833 1379.13 42.3968 Q1379.13 29.92 1375.93 23.7221 Q1372.77 17.4837 1366.41 17.4837 M1366.41 11.0023 Q1376.58 11.0023 1381.93 19.0636 Q1387.31 27.0843 1387.31 42.3968 Q1387.31 57.6687 1381.93 65.73 Q1376.58 73.7508 1366.41 73.7508 Q1356.24 73.7508 1350.86 65.73 Q1345.51 57.6687 1345.51 42.3968 Q1345.51 27.0843 1350.86 19.0636 Q1356.24 11.0023 1366.41 11.0023 Z\" fill=\"#000000\" fill-rule=\"evenodd\" fill-opacity=\"1\" /><path clip-path=\"url(#clip230)\" d=\"M 0 0 M1401.7 62.2867 L1410.24 62.2867 L1410.24 72.576 L1401.7 72.576 L1401.7 62.2867 Z\" fill=\"#000000\" fill-rule=\"evenodd\" fill-opacity=\"1\" /><path clip-path=\"url(#clip230)\" d=\"M 0 0 M1445.57 17.4837 Q1439.25 17.4837 1436.05 23.7221 Q1432.89 29.92 1432.89 42.3968 Q1432.89 54.833 1436.05 61.0714 Q1439.25 67.2693 1445.57 67.2693 Q1451.93 67.2693 1455.09 61.0714 Q1458.29 54.833 1458.29 42.3968 Q1458.29 29.92 1455.09 23.7221 Q1451.93 17.4837 1445.57 17.4837 M1445.57 11.0023 Q1455.73 11.0023 1461.08 19.0636 Q1466.47 27.0843 1466.47 42.3968 Q1466.47 57.6687 1461.08 65.73 Q1455.73 73.7508 1445.57 73.7508 Q1435.4 73.7508 1430.01 65.73 Q1424.66 57.6687 1424.66 42.3968 Q1424.66 27.0843 1430.01 19.0636 Q1435.4 11.0023 1445.57 11.0023 Z\" fill=\"#000000\" fill-rule=\"evenodd\" fill-opacity=\"1\" /><polyline clip-path=\"url(#clip232)\" style=\"stroke:#009af9; stroke-width:4; stroke-opacity:1; fill:none\" points=\"\n",
       "  316.512,123.472 331.957,143.621 347.402,163.453 362.847,182.968 378.291,202.165 393.736,221.045 409.181,239.608 424.626,257.854 440.071,275.782 455.515,293.392 \n",
       "  470.96,310.686 486.405,327.662 501.85,344.321 517.295,360.662 532.739,376.687 548.184,392.394 563.629,407.783 579.074,422.855 594.519,437.61 609.963,452.048 \n",
       "  625.408,466.168 640.853,479.972 656.298,493.457 671.743,506.626 687.188,519.477 702.632,532.011 718.077,544.227 733.522,556.126 748.967,567.708 764.412,578.973 \n",
       "  779.856,589.92 795.301,600.55 810.746,610.863 826.191,620.858 841.636,630.536 857.08,639.897 872.525,648.94 887.97,657.666 903.415,666.075 918.86,674.166 \n",
       "  934.305,681.94 949.749,689.397 965.194,696.537 980.639,703.359 996.084,709.864 1011.53,716.051 1026.97,721.922 1042.42,727.474 1057.86,732.71 1073.31,737.628 \n",
       "  1088.75,742.229 1104.2,746.513 1119.64,750.48 1135.09,754.129 1150.53,757.46 1165.98,760.475 1181.42,763.172 1196.87,765.552 1212.31,767.614 1227.76,769.36 \n",
       "  1243.2,770.787 1258.65,771.898 1274.09,772.691 1289.54,773.167 1304.98,773.326 1320.42,773.167 1335.87,772.691 1351.31,771.898 1366.76,770.787 1382.2,769.36 \n",
       "  1397.65,767.614 1413.09,765.552 1428.54,763.172 1443.98,760.475 1459.43,757.46 1474.87,754.129 1490.32,750.48 1505.76,746.513 1521.21,742.229 1536.65,737.628 \n",
       "  1552.1,732.71 1567.54,727.474 1582.99,721.922 1598.43,716.051 1613.88,709.864 1629.32,703.359 1644.77,696.537 1660.21,689.397 1675.66,681.94 1691.1,674.166 \n",
       "  1706.55,666.075 1721.99,657.666 1737.43,648.94 1752.88,639.897 1768.32,630.536 1783.77,620.858 1799.21,610.863 1814.66,600.55 1830.1,589.92 1845.55,578.973 \n",
       "  1860.99,567.708 1876.44,556.126 1891.88,544.227 1907.33,532.011 1922.77,519.477 1938.22,506.626 1953.66,493.457 1969.11,479.972 1984.55,466.168 2000,452.048 \n",
       "  2015.44,437.61 2030.89,422.855 2046.33,407.783 2061.78,392.394 2077.22,376.687 2092.67,360.662 2108.11,344.321 2123.55,327.662 2139,310.686 2154.44,293.392 \n",
       "  2169.89,275.782 2185.33,257.854 2200.78,239.608 2216.22,221.045 2231.67,202.165 2247.11,182.968 2262.56,163.453 2278,143.621 2293.45,123.472 \n",
       "  \"/>\n",
       "<polyline clip-path=\"url(#clip232)\" style=\"stroke:#e26f46; stroke-width:4; stroke-opacity:1; fill:none\" points=\"\n",
       "  316.512,1423.18 331.957,1413.03 347.402,1402.87 362.847,1392.72 378.291,1382.56 393.736,1372.41 409.181,1362.26 424.626,1352.1 440.071,1341.95 455.515,1331.79 \n",
       "  470.96,1321.64 486.405,1311.49 501.85,1301.33 517.295,1291.18 532.739,1281.02 548.184,1270.87 563.629,1260.72 579.074,1250.56 594.519,1240.41 609.963,1230.25 \n",
       "  625.408,1220.1 640.853,1209.95 656.298,1199.79 671.743,1189.64 687.188,1179.48 702.632,1169.33 718.077,1159.18 733.522,1149.02 748.967,1138.87 764.412,1128.71 \n",
       "  779.856,1118.56 795.301,1108.41 810.746,1098.25 826.191,1088.1 841.636,1077.94 857.08,1067.79 872.525,1057.64 887.97,1047.48 903.415,1037.33 918.86,1027.18 \n",
       "  934.305,1017.02 949.749,1006.87 965.194,996.713 980.639,986.559 996.084,976.405 1011.53,966.251 1026.97,956.097 1042.42,945.943 1057.86,935.789 1073.31,925.635 \n",
       "  1088.75,915.482 1104.2,905.328 1119.64,895.174 1135.09,885.02 1150.53,874.866 1165.98,864.712 1181.42,854.558 1196.87,844.404 1212.31,834.25 1227.76,824.096 \n",
       "  1243.2,813.942 1258.65,803.788 1274.09,793.634 1289.54,783.48 1304.98,773.326 1320.42,763.172 1335.87,753.018 1351.31,742.864 1366.76,732.71 1382.2,722.556 \n",
       "  1397.65,712.402 1413.09,702.248 1428.54,692.094 1443.98,681.94 1459.43,671.786 1474.87,661.632 1490.32,651.478 1505.76,641.324 1521.21,631.17 1536.65,621.016 \n",
       "  1552.1,610.863 1567.54,600.709 1582.99,590.555 1598.43,580.401 1613.88,570.247 1629.32,560.093 1644.77,549.939 1660.21,539.785 1675.66,529.631 1691.1,519.477 \n",
       "  1706.55,509.323 1721.99,499.169 1737.43,489.015 1752.88,478.861 1768.32,468.707 1783.77,458.553 1799.21,448.399 1814.66,438.245 1830.1,428.091 1845.55,417.937 \n",
       "  1860.99,407.783 1876.44,397.629 1891.88,387.475 1907.33,377.321 1922.77,367.167 1938.22,357.013 1953.66,346.859 1969.11,336.705 1984.55,326.551 2000,316.397 \n",
       "  2015.44,306.244 2030.89,296.09 2046.33,285.936 2061.78,275.782 2077.22,265.628 2092.67,255.474 2108.11,245.32 2123.55,235.166 2139,225.012 2154.44,214.858 \n",
       "  2169.89,204.704 2185.33,194.55 2200.78,184.396 2216.22,174.242 2231.67,164.088 2247.11,153.934 2262.56,143.78 2278,133.626 2293.45,123.472 \n",
       "  \"/>\n",
       "<path clip-path=\"url(#clip230)\" d=\"\n",
       "M1997.63 348.236 L2282.9 348.236 L2282.9 166.796 L1997.63 166.796  Z\n",
       "  \" fill=\"#ffffff\" fill-rule=\"evenodd\" fill-opacity=\"1\"/>\n",
       "<polyline clip-path=\"url(#clip230)\" style=\"stroke:#000000; stroke-width:4; stroke-opacity:1; fill:none\" points=\"\n",
       "  1997.63,348.236 2282.9,348.236 2282.9,166.796 1997.63,166.796 1997.63,348.236 \n",
       "  \"/>\n",
       "<polyline clip-path=\"url(#clip230)\" style=\"stroke:#009af9; stroke-width:4; stroke-opacity:1; fill:none\" points=\"\n",
       "  2020.92,227.276 2160.62,227.276 \n",
       "  \"/>\n",
       "<path clip-path=\"url(#clip230)\" d=\"M 0 0 M2197.75 246.963 Q2195.94 251.593 2194.23 253.005 Q2192.52 254.417 2189.65 254.417 L2186.24 254.417 L2186.24 250.852 L2188.74 250.852 Q2190.5 250.852 2191.48 250.019 Q2192.45 249.185 2193.63 246.083 L2194.39 244.139 L2183.91 218.63 L2188.42 218.63 L2196.52 238.908 L2204.62 218.63 L2209.14 218.63 L2197.75 246.963 Z\" fill=\"#000000\" fill-rule=\"evenodd\" fill-opacity=\"1\" /><path clip-path=\"url(#clip230)\" d=\"M 0 0 M2216.43 240.621 L2224.07 240.621 L2224.07 214.255 L2215.76 215.922 L2215.76 211.662 L2224.02 209.996 L2228.7 209.996 L2228.7 240.621 L2236.34 240.621 L2236.34 244.556 L2216.43 244.556 L2216.43 240.621 Z\" fill=\"#000000\" fill-rule=\"evenodd\" fill-opacity=\"1\" /><polyline clip-path=\"url(#clip230)\" style=\"stroke:#e26f46; stroke-width:4; stroke-opacity:1; fill:none\" points=\"\n",
       "  2020.92,287.756 2160.62,287.756 \n",
       "  \"/>\n",
       "<path clip-path=\"url(#clip230)\" d=\"M 0 0 M2197.75 307.443 Q2195.94 312.073 2194.23 313.485 Q2192.52 314.897 2189.65 314.897 L2186.24 314.897 L2186.24 311.332 L2188.74 311.332 Q2190.5 311.332 2191.48 310.499 Q2192.45 309.665 2193.63 306.563 L2194.39 304.619 L2183.91 279.11 L2188.42 279.11 L2196.52 299.388 L2204.62 279.11 L2209.14 279.11 L2197.75 307.443 Z\" fill=\"#000000\" fill-rule=\"evenodd\" fill-opacity=\"1\" /><path clip-path=\"url(#clip230)\" d=\"M 0 0 M2219.65 301.101 L2235.97 301.101 L2235.97 305.036 L2214.02 305.036 L2214.02 301.101 Q2216.68 298.346 2221.27 293.716 Q2225.87 289.064 2227.05 287.721 Q2229.3 285.198 2230.18 283.462 Q2231.08 281.703 2231.08 280.013 Q2231.08 277.258 2229.14 275.522 Q2227.22 273.786 2224.11 273.786 Q2221.92 273.786 2219.46 274.55 Q2217.03 275.314 2214.25 276.865 L2214.25 272.142 Q2217.08 271.008 2219.53 270.429 Q2221.98 269.851 2224.02 269.851 Q2229.39 269.851 2232.59 272.536 Q2235.78 275.221 2235.78 279.712 Q2235.78 281.841 2234.97 283.763 Q2234.18 285.661 2232.08 288.253 Q2231.5 288.925 2228.4 292.142 Q2225.29 295.337 2219.65 301.101 Z\" fill=\"#000000\" fill-rule=\"evenodd\" fill-opacity=\"1\" /></svg>\n"
      ]
     },
     "execution_count": 14,
     "metadata": {},
     "output_type": "execute_result"
    }
   ],
   "source": [
    "xrange = -1:1/64:1\n",
    "plot(xrange, x->Qcⁿ(x, (C0,1)))\n",
    "plot!(xrange, x->x)\n",
    "ylims!(-1,1)\n",
    "xlabel!(\"x\")\n",
    "ylabel!(\"Q_c(x)\")\n",
    "title!(\"c₀ = $C0\")"
   ]
  },
  {
   "cell_type": "markdown",
   "metadata": {},
   "source": [
    "Para obtener el valor $c_1$ del ciclo superestable de periodo 2, debemos\n",
    "encontrar la $c$ tal que\n",
    "\n",
    "\\begin{equation}\n",
    "Q_c^2(0) = c^2+c = c(c+1) = 0,\n",
    "\\end{equation}\n",
    "\n",
    "cuya solución (distinta de $c_0=0$) es $c_1=-1$."
   ]
  },
  {
   "cell_type": "code",
   "execution_count": 15,
   "metadata": {},
   "outputs": [
    {
     "data": {
      "image/svg+xml": [
       "<?xml version=\"1.0\" encoding=\"utf-8\"?>\n",
       "<svg xmlns=\"http://www.w3.org/2000/svg\" xmlns:xlink=\"http://www.w3.org/1999/xlink\" width=\"600\" height=\"400\" viewBox=\"0 0 2400 1600\">\n",
       "<defs>\n",
       "  <clipPath id=\"clip270\">\n",
       "    <rect x=\"0\" y=\"0\" width=\"2400\" height=\"1600\"/>\n",
       "  </clipPath>\n",
       "</defs>\n",
       "<path clip-path=\"url(#clip270)\" d=\"\n",
       "M0 1600 L2400 1600 L2400 0 L0 0  Z\n",
       "  \" fill=\"#ffffff\" fill-rule=\"evenodd\" fill-opacity=\"1\"/>\n",
       "<defs>\n",
       "  <clipPath id=\"clip271\">\n",
       "    <rect x=\"480\" y=\"0\" width=\"1681\" height=\"1600\"/>\n",
       "  </clipPath>\n",
       "</defs>\n",
       "<path clip-path=\"url(#clip270)\" d=\"\n",
       "M257.204 1423.18 L2352.76 1423.18 L2352.76 123.472 L257.204 123.472  Z\n",
       "  \" fill=\"#ffffff\" fill-rule=\"evenodd\" fill-opacity=\"1\"/>\n",
       "<defs>\n",
       "  <clipPath id=\"clip272\">\n",
       "    <rect x=\"257\" y=\"123\" width=\"2097\" height=\"1301\"/>\n",
       "  </clipPath>\n",
       "</defs>\n",
       "<polyline clip-path=\"url(#clip272)\" style=\"stroke:#000000; stroke-width:2; stroke-opacity:0.1; fill:none\" points=\"\n",
       "  316.512,1423.18 316.512,123.472 \n",
       "  \"/>\n",
       "<polyline clip-path=\"url(#clip272)\" style=\"stroke:#000000; stroke-width:2; stroke-opacity:0.1; fill:none\" points=\"\n",
       "  810.746,1423.18 810.746,123.472 \n",
       "  \"/>\n",
       "<polyline clip-path=\"url(#clip272)\" style=\"stroke:#000000; stroke-width:2; stroke-opacity:0.1; fill:none\" points=\"\n",
       "  1304.98,1423.18 1304.98,123.472 \n",
       "  \"/>\n",
       "<polyline clip-path=\"url(#clip272)\" style=\"stroke:#000000; stroke-width:2; stroke-opacity:0.1; fill:none\" points=\"\n",
       "  1799.21,1423.18 1799.21,123.472 \n",
       "  \"/>\n",
       "<polyline clip-path=\"url(#clip272)\" style=\"stroke:#000000; stroke-width:2; stroke-opacity:0.1; fill:none\" points=\"\n",
       "  2293.45,1423.18 2293.45,123.472 \n",
       "  \"/>\n",
       "<polyline clip-path=\"url(#clip270)\" style=\"stroke:#000000; stroke-width:4; stroke-opacity:1; fill:none\" points=\"\n",
       "  257.204,1423.18 2352.76,1423.18 \n",
       "  \"/>\n",
       "<polyline clip-path=\"url(#clip270)\" style=\"stroke:#000000; stroke-width:4; stroke-opacity:1; fill:none\" points=\"\n",
       "  316.512,1423.18 316.512,1407.58 \n",
       "  \"/>\n",
       "<polyline clip-path=\"url(#clip270)\" style=\"stroke:#000000; stroke-width:4; stroke-opacity:1; fill:none\" points=\"\n",
       "  810.746,1423.18 810.746,1407.58 \n",
       "  \"/>\n",
       "<polyline clip-path=\"url(#clip270)\" style=\"stroke:#000000; stroke-width:4; stroke-opacity:1; fill:none\" points=\"\n",
       "  1304.98,1423.18 1304.98,1407.58 \n",
       "  \"/>\n",
       "<polyline clip-path=\"url(#clip270)\" style=\"stroke:#000000; stroke-width:4; stroke-opacity:1; fill:none\" points=\"\n",
       "  1799.21,1423.18 1799.21,1407.58 \n",
       "  \"/>\n",
       "<polyline clip-path=\"url(#clip270)\" style=\"stroke:#000000; stroke-width:4; stroke-opacity:1; fill:none\" points=\"\n",
       "  2293.45,1423.18 2293.45,1407.58 \n",
       "  \"/>\n",
       "<path clip-path=\"url(#clip270)\" d=\"M 0 0 M263.04 1467.02 L292.716 1467.02 L292.716 1470.96 L263.04 1470.96 L263.04 1467.02 Z\" fill=\"#000000\" fill-rule=\"evenodd\" fill-opacity=\"1\" /><path clip-path=\"url(#clip270)\" d=\"M 0 0 M303.619 1479.92 L311.257 1479.92 L311.257 1453.55 L302.947 1455.22 L302.947 1450.96 L311.211 1449.29 L315.887 1449.29 L315.887 1479.92 L323.526 1479.92 L323.526 1483.85 L303.619 1483.85 L303.619 1479.92 Z\" fill=\"#000000\" fill-rule=\"evenodd\" fill-opacity=\"1\" /><path clip-path=\"url(#clip270)\" d=\"M 0 0 M332.97 1477.97 L337.855 1477.97 L337.855 1483.85 L332.97 1483.85 L332.97 1477.97 Z\" fill=\"#000000\" fill-rule=\"evenodd\" fill-opacity=\"1\" /><path clip-path=\"url(#clip270)\" d=\"M 0 0 M358.04 1452.37 Q354.429 1452.37 352.6 1455.94 Q350.794 1459.48 350.794 1466.61 Q350.794 1473.71 352.6 1477.28 Q354.429 1480.82 358.04 1480.82 Q361.674 1480.82 363.479 1477.28 Q365.308 1473.71 365.308 1466.61 Q365.308 1459.48 363.479 1455.94 Q361.674 1452.37 358.04 1452.37 M358.04 1448.67 Q363.85 1448.67 366.905 1453.27 Q369.984 1457.86 369.984 1466.61 Q369.984 1475.33 366.905 1479.94 Q363.85 1484.52 358.04 1484.52 Q352.23 1484.52 349.151 1479.94 Q346.095 1475.33 346.095 1466.61 Q346.095 1457.86 349.151 1453.27 Q352.23 1448.67 358.04 1448.67 Z\" fill=\"#000000\" fill-rule=\"evenodd\" fill-opacity=\"1\" /><path clip-path=\"url(#clip270)\" d=\"M 0 0 M757.772 1467.02 L787.448 1467.02 L787.448 1470.96 L757.772 1470.96 L757.772 1467.02 Z\" fill=\"#000000\" fill-rule=\"evenodd\" fill-opacity=\"1\" /><path clip-path=\"url(#clip270)\" d=\"M 0 0 M807.54 1452.37 Q803.929 1452.37 802.1 1455.94 Q800.295 1459.48 800.295 1466.61 Q800.295 1473.71 802.1 1477.28 Q803.929 1480.82 807.54 1480.82 Q811.174 1480.82 812.98 1477.28 Q814.809 1473.71 814.809 1466.61 Q814.809 1459.48 812.98 1455.94 Q811.174 1452.37 807.54 1452.37 M807.54 1448.67 Q813.35 1448.67 816.406 1453.27 Q819.484 1457.86 819.484 1466.61 Q819.484 1475.33 816.406 1479.94 Q813.35 1484.52 807.54 1484.52 Q801.73 1484.52 798.651 1479.94 Q795.596 1475.33 795.596 1466.61 Q795.596 1457.86 798.651 1453.27 Q801.73 1448.67 807.54 1448.67 Z\" fill=\"#000000\" fill-rule=\"evenodd\" fill-opacity=\"1\" /><path clip-path=\"url(#clip270)\" d=\"M 0 0 M827.702 1477.97 L832.586 1477.97 L832.586 1483.85 L827.702 1483.85 L827.702 1477.97 Z\" fill=\"#000000\" fill-rule=\"evenodd\" fill-opacity=\"1\" /><path clip-path=\"url(#clip270)\" d=\"M 0 0 M842.818 1449.29 L861.174 1449.29 L861.174 1453.23 L847.1 1453.23 L847.1 1461.7 Q848.119 1461.35 849.137 1461.19 Q850.156 1461 851.174 1461 Q856.961 1461 860.341 1464.18 Q863.72 1467.35 863.72 1472.76 Q863.72 1478.34 860.248 1481.44 Q856.776 1484.52 850.456 1484.52 Q848.281 1484.52 846.012 1484.15 Q843.767 1483.78 841.359 1483.04 L841.359 1478.34 Q843.443 1479.48 845.665 1480.03 Q847.887 1480.59 850.364 1480.59 Q854.368 1480.59 856.706 1478.48 Q859.044 1476.38 859.044 1472.76 Q859.044 1469.15 856.706 1467.05 Q854.368 1464.94 850.364 1464.94 Q848.489 1464.94 846.614 1465.36 Q844.762 1465.77 842.818 1466.65 L842.818 1449.29 Z\" fill=\"#000000\" fill-rule=\"evenodd\" fill-opacity=\"1\" /><path clip-path=\"url(#clip270)\" d=\"M 0 0 M1282.36 1452.37 Q1278.75 1452.37 1276.92 1455.94 Q1275.12 1459.48 1275.12 1466.61 Q1275.12 1473.71 1276.92 1477.28 Q1278.75 1480.82 1282.36 1480.82 Q1286 1480.82 1287.8 1477.28 Q1289.63 1473.71 1289.63 1466.61 Q1289.63 1459.48 1287.8 1455.94 Q1286 1452.37 1282.36 1452.37 M1282.36 1448.67 Q1288.17 1448.67 1291.23 1453.27 Q1294.31 1457.86 1294.31 1466.61 Q1294.31 1475.33 1291.23 1479.94 Q1288.17 1484.52 1282.36 1484.52 Q1276.55 1484.52 1273.48 1479.94 Q1270.42 1475.33 1270.42 1466.61 Q1270.42 1457.86 1273.48 1453.27 Q1276.55 1448.67 1282.36 1448.67 Z\" fill=\"#000000\" fill-rule=\"evenodd\" fill-opacity=\"1\" /><path clip-path=\"url(#clip270)\" d=\"M 0 0 M1302.53 1477.97 L1307.41 1477.97 L1307.41 1483.85 L1302.53 1483.85 L1302.53 1477.97 Z\" fill=\"#000000\" fill-rule=\"evenodd\" fill-opacity=\"1\" /><path clip-path=\"url(#clip270)\" d=\"M 0 0 M1327.6 1452.37 Q1323.98 1452.37 1322.16 1455.94 Q1320.35 1459.48 1320.35 1466.61 Q1320.35 1473.71 1322.16 1477.28 Q1323.98 1480.82 1327.6 1480.82 Q1331.23 1480.82 1333.04 1477.28 Q1334.86 1473.71 1334.86 1466.61 Q1334.86 1459.48 1333.04 1455.94 Q1331.23 1452.37 1327.6 1452.37 M1327.6 1448.67 Q1333.41 1448.67 1336.46 1453.27 Q1339.54 1457.86 1339.54 1466.61 Q1339.54 1475.33 1336.46 1479.94 Q1333.41 1484.52 1327.6 1484.52 Q1321.79 1484.52 1318.71 1479.94 Q1315.65 1475.33 1315.65 1466.61 Q1315.65 1457.86 1318.71 1453.27 Q1321.79 1448.67 1327.6 1448.67 Z\" fill=\"#000000\" fill-rule=\"evenodd\" fill-opacity=\"1\" /><path clip-path=\"url(#clip270)\" d=\"M 0 0 M1777.1 1452.37 Q1773.48 1452.37 1771.66 1455.94 Q1769.85 1459.48 1769.85 1466.61 Q1769.85 1473.71 1771.66 1477.28 Q1773.48 1480.82 1777.1 1480.82 Q1780.73 1480.82 1782.54 1477.28 Q1784.36 1473.71 1784.36 1466.61 Q1784.36 1459.48 1782.54 1455.94 Q1780.73 1452.37 1777.1 1452.37 M1777.1 1448.67 Q1782.91 1448.67 1785.96 1453.27 Q1789.04 1457.86 1789.04 1466.61 Q1789.04 1475.33 1785.96 1479.94 Q1782.91 1484.52 1777.1 1484.52 Q1771.29 1484.52 1768.21 1479.94 Q1765.15 1475.33 1765.15 1466.61 Q1765.15 1457.86 1768.21 1453.27 Q1771.29 1448.67 1777.1 1448.67 Z\" fill=\"#000000\" fill-rule=\"evenodd\" fill-opacity=\"1\" /><path clip-path=\"url(#clip270)\" d=\"M 0 0 M1797.26 1477.97 L1802.14 1477.97 L1802.14 1483.85 L1797.26 1483.85 L1797.26 1477.97 Z\" fill=\"#000000\" fill-rule=\"evenodd\" fill-opacity=\"1\" /><path clip-path=\"url(#clip270)\" d=\"M 0 0 M1812.37 1449.29 L1830.73 1449.29 L1830.73 1453.23 L1816.66 1453.23 L1816.66 1461.7 Q1817.67 1461.35 1818.69 1461.19 Q1819.71 1461 1820.73 1461 Q1826.52 1461 1829.9 1464.18 Q1833.28 1467.35 1833.28 1472.76 Q1833.28 1478.34 1829.8 1481.44 Q1826.33 1484.52 1820.01 1484.52 Q1817.84 1484.52 1815.57 1484.15 Q1813.32 1483.78 1810.92 1483.04 L1810.92 1478.34 Q1813 1479.48 1815.22 1480.03 Q1817.44 1480.59 1819.92 1480.59 Q1823.92 1480.59 1826.26 1478.48 Q1828.6 1476.38 1828.6 1472.76 Q1828.6 1469.15 1826.26 1467.05 Q1823.92 1464.94 1819.92 1464.94 Q1818.04 1464.94 1816.17 1465.36 Q1814.32 1465.77 1812.37 1466.65 L1812.37 1449.29 Z\" fill=\"#000000\" fill-rule=\"evenodd\" fill-opacity=\"1\" /><path clip-path=\"url(#clip270)\" d=\"M 0 0 M2260.6 1479.92 L2268.24 1479.92 L2268.24 1453.55 L2259.93 1455.22 L2259.93 1450.96 L2268.19 1449.29 L2272.87 1449.29 L2272.87 1479.92 L2280.51 1479.92 L2280.51 1483.85 L2260.6 1483.85 L2260.6 1479.92 Z\" fill=\"#000000\" fill-rule=\"evenodd\" fill-opacity=\"1\" /><path clip-path=\"url(#clip270)\" d=\"M 0 0 M2289.95 1477.97 L2294.84 1477.97 L2294.84 1483.85 L2289.95 1483.85 L2289.95 1477.97 Z\" fill=\"#000000\" fill-rule=\"evenodd\" fill-opacity=\"1\" /><path clip-path=\"url(#clip270)\" d=\"M 0 0 M2315.02 1452.37 Q2311.41 1452.37 2309.58 1455.94 Q2307.78 1459.48 2307.78 1466.61 Q2307.78 1473.71 2309.58 1477.28 Q2311.41 1480.82 2315.02 1480.82 Q2318.66 1480.82 2320.46 1477.28 Q2322.29 1473.71 2322.29 1466.61 Q2322.29 1459.48 2320.46 1455.94 Q2318.66 1452.37 2315.02 1452.37 M2315.02 1448.67 Q2320.83 1448.67 2323.89 1453.27 Q2326.97 1457.86 2326.97 1466.61 Q2326.97 1475.33 2323.89 1479.94 Q2320.83 1484.52 2315.02 1484.52 Q2309.21 1484.52 2306.13 1479.94 Q2303.08 1475.33 2303.08 1466.61 Q2303.08 1457.86 2306.13 1453.27 Q2309.21 1448.67 2315.02 1448.67 Z\" fill=\"#000000\" fill-rule=\"evenodd\" fill-opacity=\"1\" /><path clip-path=\"url(#clip270)\" d=\"M 0 0 M1321.59 1532.4 L1308.7 1549.74 L1322.26 1568.04 L1315.36 1568.04 L1304.98 1554.04 L1294.6 1568.04 L1287.7 1568.04 L1301.54 1549.39 L1288.87 1532.4 L1295.78 1532.4 L1305.23 1545.1 L1314.69 1532.4 L1321.59 1532.4 Z\" fill=\"#000000\" fill-rule=\"evenodd\" fill-opacity=\"1\" /><polyline clip-path=\"url(#clip272)\" style=\"stroke:#000000; stroke-width:2; stroke-opacity:0.1; fill:none\" points=\"\n",
       "  257.204,1423.18 2352.76,1423.18 \n",
       "  \"/>\n",
       "<polyline clip-path=\"url(#clip272)\" style=\"stroke:#000000; stroke-width:2; stroke-opacity:0.1; fill:none\" points=\"\n",
       "  257.204,1098.25 2352.76,1098.25 \n",
       "  \"/>\n",
       "<polyline clip-path=\"url(#clip272)\" style=\"stroke:#000000; stroke-width:2; stroke-opacity:0.1; fill:none\" points=\"\n",
       "  257.204,773.326 2352.76,773.326 \n",
       "  \"/>\n",
       "<polyline clip-path=\"url(#clip272)\" style=\"stroke:#000000; stroke-width:2; stroke-opacity:0.1; fill:none\" points=\"\n",
       "  257.204,448.399 2352.76,448.399 \n",
       "  \"/>\n",
       "<polyline clip-path=\"url(#clip272)\" style=\"stroke:#000000; stroke-width:2; stroke-opacity:0.1; fill:none\" points=\"\n",
       "  257.204,123.472 2352.76,123.472 \n",
       "  \"/>\n",
       "<polyline clip-path=\"url(#clip270)\" style=\"stroke:#000000; stroke-width:4; stroke-opacity:1; fill:none\" points=\"\n",
       "  257.204,1423.18 257.204,123.472 \n",
       "  \"/>\n",
       "<polyline clip-path=\"url(#clip270)\" style=\"stroke:#000000; stroke-width:4; stroke-opacity:1; fill:none\" points=\"\n",
       "  257.204,1423.18 282.351,1423.18 \n",
       "  \"/>\n",
       "<polyline clip-path=\"url(#clip270)\" style=\"stroke:#000000; stroke-width:4; stroke-opacity:1; fill:none\" points=\"\n",
       "  257.204,1098.25 282.351,1098.25 \n",
       "  \"/>\n",
       "<polyline clip-path=\"url(#clip270)\" style=\"stroke:#000000; stroke-width:4; stroke-opacity:1; fill:none\" points=\"\n",
       "  257.204,773.326 282.351,773.326 \n",
       "  \"/>\n",
       "<polyline clip-path=\"url(#clip270)\" style=\"stroke:#000000; stroke-width:4; stroke-opacity:1; fill:none\" points=\"\n",
       "  257.204,448.399 282.351,448.399 \n",
       "  \"/>\n",
       "<polyline clip-path=\"url(#clip270)\" style=\"stroke:#000000; stroke-width:4; stroke-opacity:1; fill:none\" points=\"\n",
       "  257.204,123.472 282.351,123.472 \n",
       "  \"/>\n",
       "<path clip-path=\"url(#clip270)\" d=\"M 0 0 M114.26 1423.63 L143.936 1423.63 L143.936 1427.57 L114.26 1427.57 L114.26 1423.63 Z\" fill=\"#000000\" fill-rule=\"evenodd\" fill-opacity=\"1\" /><path clip-path=\"url(#clip270)\" d=\"M 0 0 M154.839 1436.52 L162.477 1436.52 L162.477 1410.16 L154.167 1411.83 L154.167 1407.57 L162.431 1405.9 L167.107 1405.9 L167.107 1436.52 L174.746 1436.52 L174.746 1440.46 L154.839 1440.46 L154.839 1436.52 Z\" fill=\"#000000\" fill-rule=\"evenodd\" fill-opacity=\"1\" /><path clip-path=\"url(#clip270)\" d=\"M 0 0 M184.19 1434.58 L189.075 1434.58 L189.075 1440.46 L184.19 1440.46 L184.19 1434.58 Z\" fill=\"#000000\" fill-rule=\"evenodd\" fill-opacity=\"1\" /><path clip-path=\"url(#clip270)\" d=\"M 0 0 M209.26 1408.98 Q205.649 1408.98 203.82 1412.54 Q202.014 1416.08 202.014 1423.21 Q202.014 1430.32 203.82 1433.89 Q205.649 1437.43 209.26 1437.43 Q212.894 1437.43 214.699 1433.89 Q216.528 1430.32 216.528 1423.21 Q216.528 1416.08 214.699 1412.54 Q212.894 1408.98 209.26 1408.98 M209.26 1405.27 Q215.07 1405.27 218.125 1409.88 Q221.204 1414.46 221.204 1423.21 Q221.204 1431.94 218.125 1436.55 Q215.07 1441.13 209.26 1441.13 Q203.449 1441.13 200.371 1436.55 Q197.315 1431.94 197.315 1423.21 Q197.315 1414.46 200.371 1409.88 Q203.449 1405.27 209.26 1405.27 Z\" fill=\"#000000\" fill-rule=\"evenodd\" fill-opacity=\"1\" /><path clip-path=\"url(#clip270)\" d=\"M 0 0 M115.256 1098.7 L144.931 1098.7 L144.931 1102.64 L115.256 1102.64 L115.256 1098.7 Z\" fill=\"#000000\" fill-rule=\"evenodd\" fill-opacity=\"1\" /><path clip-path=\"url(#clip270)\" d=\"M 0 0 M165.024 1084.05 Q161.413 1084.05 159.584 1087.62 Q157.778 1091.16 157.778 1098.29 Q157.778 1105.39 159.584 1108.96 Q161.413 1112.5 165.024 1112.5 Q168.658 1112.5 170.464 1108.96 Q172.292 1105.39 172.292 1098.29 Q172.292 1091.16 170.464 1087.62 Q168.658 1084.05 165.024 1084.05 M165.024 1080.35 Q170.834 1080.35 173.889 1084.95 Q176.968 1089.54 176.968 1098.29 Q176.968 1107.01 173.889 1111.62 Q170.834 1116.2 165.024 1116.2 Q159.214 1116.2 156.135 1111.62 Q153.079 1107.01 153.079 1098.29 Q153.079 1089.54 156.135 1084.95 Q159.214 1080.35 165.024 1080.35 Z\" fill=\"#000000\" fill-rule=\"evenodd\" fill-opacity=\"1\" /><path clip-path=\"url(#clip270)\" d=\"M 0 0 M185.186 1109.65 L190.07 1109.65 L190.07 1115.53 L185.186 1115.53 L185.186 1109.65 Z\" fill=\"#000000\" fill-rule=\"evenodd\" fill-opacity=\"1\" /><path clip-path=\"url(#clip270)\" d=\"M 0 0 M200.301 1080.97 L218.658 1080.97 L218.658 1084.91 L204.584 1084.91 L204.584 1093.38 Q205.602 1093.03 206.621 1092.87 Q207.639 1092.69 208.658 1092.69 Q214.445 1092.69 217.824 1095.86 Q221.204 1099.03 221.204 1104.45 Q221.204 1110.02 217.732 1113.13 Q214.26 1116.2 207.94 1116.2 Q205.764 1116.2 203.496 1115.83 Q201.25 1115.46 198.843 1114.72 L198.843 1110.02 Q200.926 1111.16 203.149 1111.71 Q205.371 1112.27 207.848 1112.27 Q211.852 1112.27 214.19 1110.16 Q216.528 1108.06 216.528 1104.45 Q216.528 1100.83 214.19 1098.73 Q211.852 1096.62 207.848 1096.62 Q205.973 1096.62 204.098 1097.04 Q202.246 1097.45 200.301 1098.33 L200.301 1080.97 Z\" fill=\"#000000\" fill-rule=\"evenodd\" fill-opacity=\"1\" /><path clip-path=\"url(#clip270)\" d=\"M 0 0 M164.028 759.125 Q160.417 759.125 158.589 762.689 Q156.783 766.231 156.783 773.361 Q156.783 780.467 158.589 784.032 Q160.417 787.574 164.028 787.574 Q167.663 787.574 169.468 784.032 Q171.297 780.467 171.297 773.361 Q171.297 766.231 169.468 762.689 Q167.663 759.125 164.028 759.125 M164.028 755.421 Q169.839 755.421 172.894 760.027 Q175.973 764.611 175.973 773.361 Q175.973 782.088 172.894 786.694 Q169.839 791.277 164.028 791.277 Q158.218 791.277 155.14 786.694 Q152.084 782.088 152.084 773.361 Q152.084 764.611 155.14 760.027 Q158.218 755.421 164.028 755.421 Z\" fill=\"#000000\" fill-rule=\"evenodd\" fill-opacity=\"1\" /><path clip-path=\"url(#clip270)\" d=\"M 0 0 M184.19 784.726 L189.075 784.726 L189.075 790.606 L184.19 790.606 L184.19 784.726 Z\" fill=\"#000000\" fill-rule=\"evenodd\" fill-opacity=\"1\" /><path clip-path=\"url(#clip270)\" d=\"M 0 0 M209.26 759.125 Q205.649 759.125 203.82 762.689 Q202.014 766.231 202.014 773.361 Q202.014 780.467 203.82 784.032 Q205.649 787.574 209.26 787.574 Q212.894 787.574 214.699 784.032 Q216.528 780.467 216.528 773.361 Q216.528 766.231 214.699 762.689 Q212.894 759.125 209.26 759.125 M209.26 755.421 Q215.07 755.421 218.125 760.027 Q221.204 764.611 221.204 773.361 Q221.204 782.088 218.125 786.694 Q215.07 791.277 209.26 791.277 Q203.449 791.277 200.371 786.694 Q197.315 782.088 197.315 773.361 Q197.315 764.611 200.371 760.027 Q203.449 755.421 209.26 755.421 Z\" fill=\"#000000\" fill-rule=\"evenodd\" fill-opacity=\"1\" /><path clip-path=\"url(#clip270)\" d=\"M 0 0 M165.024 434.198 Q161.413 434.198 159.584 437.763 Q157.778 441.304 157.778 448.434 Q157.778 455.54 159.584 459.105 Q161.413 462.647 165.024 462.647 Q168.658 462.647 170.464 459.105 Q172.292 455.54 172.292 448.434 Q172.292 441.304 170.464 437.763 Q168.658 434.198 165.024 434.198 M165.024 430.494 Q170.834 430.494 173.889 435.101 Q176.968 439.684 176.968 448.434 Q176.968 457.161 173.889 461.767 Q170.834 466.35 165.024 466.35 Q159.214 466.35 156.135 461.767 Q153.079 457.161 153.079 448.434 Q153.079 439.684 156.135 435.101 Q159.214 430.494 165.024 430.494 Z\" fill=\"#000000\" fill-rule=\"evenodd\" fill-opacity=\"1\" /><path clip-path=\"url(#clip270)\" d=\"M 0 0 M185.186 459.799 L190.07 459.799 L190.07 465.679 L185.186 465.679 L185.186 459.799 Z\" fill=\"#000000\" fill-rule=\"evenodd\" fill-opacity=\"1\" /><path clip-path=\"url(#clip270)\" d=\"M 0 0 M200.301 431.119 L218.658 431.119 L218.658 435.054 L204.584 435.054 L204.584 443.526 Q205.602 443.179 206.621 443.017 Q207.639 442.832 208.658 442.832 Q214.445 442.832 217.824 446.003 Q221.204 449.175 221.204 454.591 Q221.204 460.17 217.732 463.272 Q214.26 466.35 207.94 466.35 Q205.764 466.35 203.496 465.98 Q201.25 465.61 198.843 464.869 L198.843 460.17 Q200.926 461.304 203.149 461.86 Q205.371 462.415 207.848 462.415 Q211.852 462.415 214.19 460.309 Q216.528 458.202 216.528 454.591 Q216.528 450.98 214.19 448.874 Q211.852 446.767 207.848 446.767 Q205.973 446.767 204.098 447.184 Q202.246 447.6 200.301 448.48 L200.301 431.119 Z\" fill=\"#000000\" fill-rule=\"evenodd\" fill-opacity=\"1\" /><path clip-path=\"url(#clip270)\" d=\"M 0 0 M154.839 136.817 L162.477 136.817 L162.477 110.451 L154.167 112.118 L154.167 107.859 L162.431 106.192 L167.107 106.192 L167.107 136.817 L174.746 136.817 L174.746 140.752 L154.839 140.752 L154.839 136.817 Z\" fill=\"#000000\" fill-rule=\"evenodd\" fill-opacity=\"1\" /><path clip-path=\"url(#clip270)\" d=\"M 0 0 M184.19 134.873 L189.075 134.873 L189.075 140.752 L184.19 140.752 L184.19 134.873 Z\" fill=\"#000000\" fill-rule=\"evenodd\" fill-opacity=\"1\" /><path clip-path=\"url(#clip270)\" d=\"M 0 0 M209.26 109.271 Q205.649 109.271 203.82 112.836 Q202.014 116.377 202.014 123.507 Q202.014 130.613 203.82 134.178 Q205.649 137.72 209.26 137.72 Q212.894 137.72 214.699 134.178 Q216.528 130.613 216.528 123.507 Q216.528 116.377 214.699 112.836 Q212.894 109.271 209.26 109.271 M209.26 105.567 Q215.07 105.567 218.125 110.174 Q221.204 114.757 221.204 123.507 Q221.204 132.234 218.125 136.84 Q215.07 141.423 209.26 141.423 Q203.449 141.423 200.371 136.84 Q197.315 132.234 197.315 123.507 Q197.315 114.757 200.371 110.174 Q203.449 105.567 209.26 105.567 Z\" fill=\"#000000\" fill-rule=\"evenodd\" fill-opacity=\"1\" /><path clip-path=\"url(#clip270)\" d=\"M 0 0 M20.8447 899.303 Q20.8447 906.306 26.0645 910.443 Q31.2844 914.549 40.2919 914.549 Q49.2675 914.549 54.4874 910.443 Q59.7073 906.306 59.7073 899.303 Q59.7073 892.301 54.4874 888.227 Q49.2675 884.121 40.2919 884.121 Q31.2844 884.121 26.0645 888.227 Q20.8447 892.301 20.8447 899.303 M63.1448 890.296 L72.4069 881.829 L72.4069 889.596 L64.7999 896.63 Q64.8635 897.68 64.8954 898.253 Q64.9272 898.794 64.9272 899.303 Q64.9272 909.329 58.2432 915.345 Q51.5274 921.329 40.2919 921.329 Q29.0246 921.329 22.3406 915.345 Q15.6248 909.329 15.6248 899.303 Q15.6248 889.309 22.3406 883.325 Q29.0246 877.342 40.2919 877.342 Q48.5673 877.342 54.4556 880.684 Q60.3439 883.994 63.1448 890.296 Z\" fill=\"#000000\" fill-rule=\"evenodd\" fill-opacity=\"1\" /><path clip-path=\"url(#clip270)\" d=\"M 0 0 M74.8259 840.452 L79.3773 840.452 L79.3773 874.318 L74.8259 874.318 L74.8259 840.452 Z\" fill=\"#000000\" fill-rule=\"evenodd\" fill-opacity=\"1\" /><path clip-path=\"url(#clip270)\" d=\"M 0 0 M29.7248 809.292 L35.1993 809.292 Q33.8307 811.775 33.1623 814.289 Q32.4621 816.772 32.4621 819.318 Q32.4621 825.016 36.0905 828.167 Q39.6872 831.318 46.212 831.318 Q52.7369 831.318 56.3653 828.167 Q59.9619 825.016 59.9619 819.318 Q59.9619 816.772 59.2935 814.289 Q58.5933 811.775 57.2247 809.292 L62.6355 809.292 Q63.7814 811.743 64.3543 814.385 Q64.9272 816.995 64.9272 819.955 Q64.9272 828.007 59.8664 832.75 Q54.8057 837.492 46.212 837.492 Q37.491 837.492 32.4939 832.718 Q27.4968 827.912 27.4968 819.573 Q27.4968 816.867 28.0697 814.289 Q28.6108 811.711 29.7248 809.292 Z\" fill=\"#000000\" fill-rule=\"evenodd\" fill-opacity=\"1\" /><path clip-path=\"url(#clip270)\" d=\"M 0 0 M16.4842 774.822 L34.2127 757.539 L34.2127 763.937 L21.6404 777.941 L34.2127 791.946 L34.2127 798.343 L16.4842 781.06 L16.4842 774.822 Z\" fill=\"#000000\" fill-rule=\"evenodd\" fill-opacity=\"1\" /><path clip-path=\"url(#clip270)\" d=\"M 0 0 M58.5933 738.124 L58.5933 715.685 L64.0042 715.685 L64.0042 745.858 L58.5933 745.858 Q54.8057 742.198 48.44 735.896 Q42.0425 729.562 40.1964 727.938 Q36.7271 724.851 34.34 723.642 Q31.921 722.4 29.5975 722.4 Q25.8099 722.4 23.4228 725.074 Q21.0356 727.716 21.0356 731.981 Q21.0356 735.004 22.086 738.378 Q23.1363 741.72 25.2688 745.54 L18.7758 745.54 Q17.2162 741.657 16.4205 738.283 Q15.6248 734.909 15.6248 732.108 Q15.6248 724.724 19.3169 720.331 Q23.009 715.939 29.1837 715.939 Q32.112 715.939 34.7537 717.053 Q37.3637 718.135 40.9285 721.032 Q41.8515 721.827 46.2757 726.092 Q50.668 730.357 58.5933 738.124 Z\" fill=\"#000000\" fill-rule=\"evenodd\" fill-opacity=\"1\" /><path clip-path=\"url(#clip270)\" d=\"M 0 0 M14.5426 688.949 Q21.8632 693.214 29.0246 695.282 Q36.186 697.351 43.5384 697.351 Q50.8908 697.351 58.1159 695.282 Q65.3091 693.182 72.5979 688.949 L72.5979 694.041 Q65.1182 698.815 57.8931 701.203 Q50.668 703.558 43.5384 703.558 Q36.4406 703.558 29.2474 701.203 Q22.0542 698.847 14.5426 694.041 L14.5426 688.949 Z\" fill=\"#000000\" fill-rule=\"evenodd\" fill-opacity=\"1\" /><path clip-path=\"url(#clip270)\" d=\"M 0 0 M28.3562 647.953 L45.7028 660.844 L64.0042 647.285 L64.0042 654.192 L49.9996 664.568 L64.0042 674.944 L64.0042 681.851 L45.3526 668.005 L28.3562 680.673 L28.3562 673.766 L41.0558 664.313 L28.3562 654.86 L28.3562 647.953 Z\" fill=\"#000000\" fill-rule=\"evenodd\" fill-opacity=\"1\" /><path clip-path=\"url(#clip270)\" d=\"M 0 0 M14.5426 639.933 L14.5426 634.84 Q22.0542 630.066 29.2474 627.71 Q36.4406 625.323 43.5384 625.323 Q50.668 625.323 57.8931 627.71 Q65.1182 630.066 72.5979 634.84 L72.5979 639.933 Q65.3091 635.699 58.1159 633.631 Q50.8908 631.53 43.5384 631.53 Q36.186 631.53 29.0246 633.631 Q21.8632 635.699 14.5426 639.933 Z\" fill=\"#000000\" fill-rule=\"evenodd\" fill-opacity=\"1\" /><path clip-path=\"url(#clip270)\" d=\"M 0 0 M1164.41 28.9478 L1164.41 35.9153 Q1161.25 34.1734 1158.05 33.3227 Q1154.89 32.4315 1151.65 32.4315 Q1144.4 32.4315 1140.39 37.0496 Q1136.38 41.6271 1136.38 49.9314 Q1136.38 58.2358 1140.39 62.8538 Q1144.4 67.4314 1151.65 67.4314 Q1154.89 67.4314 1158.05 66.5807 Q1161.25 65.6895 1164.41 63.9476 L1164.41 70.8341 Q1161.29 72.2924 1157.93 73.0216 Q1154.61 73.7508 1150.84 73.7508 Q1140.59 73.7508 1134.56 67.3098 Q1128.52 60.8689 1128.52 49.9314 Q1128.52 38.832 1134.6 32.472 Q1140.72 26.1121 1151.33 26.1121 Q1154.77 26.1121 1158.05 26.8413 Q1161.33 27.5299 1164.41 28.9478 Z\" fill=\"#000000\" fill-rule=\"evenodd\" fill-opacity=\"1\" /><path clip-path=\"url(#clip270)\" d=\"M 0 0 M1175.88 68.12 L1184.14 68.12 L1184.14 43.369 L1175.11 45.0299 L1175.11 40.3308 L1184.43 38.7509 L1189.97 38.7509 L1189.97 68.12 L1198.28 68.12 L1198.28 72.576 L1175.88 72.576 L1175.88 68.12 Z\" fill=\"#000000\" fill-rule=\"evenodd\" fill-opacity=\"1\" /><path clip-path=\"url(#clip270)\" d=\"M 0 0 M1237.98 34.9026 L1289.91 34.9026 L1289.91 41.7081 L1237.98 41.7081 L1237.98 34.9026 M1237.98 51.4303 L1289.91 51.4303 L1289.91 58.3168 L1237.98 58.3168 L1237.98 51.4303 Z\" fill=\"#000000\" fill-rule=\"evenodd\" fill-opacity=\"1\" /><path clip-path=\"url(#clip270)\" d=\"M 0 0 M1329.12 46.5287 L1350.96 46.5287 L1350.96 53.1722 L1329.12 53.1722 L1329.12 46.5287 Z\" fill=\"#000000\" fill-rule=\"evenodd\" fill-opacity=\"1\" /><path clip-path=\"url(#clip270)\" d=\"M 0 0 M1365.3 65.6895 L1378.67 65.6895 L1378.67 19.5497 L1364.12 22.4663 L1364.12 15.0127 L1378.58 12.096 L1386.77 12.096 L1386.77 65.6895 L1400.14 65.6895 L1400.14 72.576 L1365.3 72.576 L1365.3 65.6895 Z\" fill=\"#000000\" fill-rule=\"evenodd\" fill-opacity=\"1\" /><path clip-path=\"url(#clip270)\" d=\"M 0 0 M1416.66 62.2867 L1425.21 62.2867 L1425.21 72.576 L1416.66 72.576 L1416.66 62.2867 Z\" fill=\"#000000\" fill-rule=\"evenodd\" fill-opacity=\"1\" /><path clip-path=\"url(#clip270)\" d=\"M 0 0 M1460.53 17.4837 Q1454.22 17.4837 1451.02 23.7221 Q1447.86 29.92 1447.86 42.3968 Q1447.86 54.833 1451.02 61.0714 Q1454.22 67.2693 1460.53 67.2693 Q1466.89 67.2693 1470.05 61.0714 Q1473.25 54.833 1473.25 42.3968 Q1473.25 29.92 1470.05 23.7221 Q1466.89 17.4837 1460.53 17.4837 M1460.53 11.0023 Q1470.7 11.0023 1476.05 19.0636 Q1481.44 27.0843 1481.44 42.3968 Q1481.44 57.6687 1476.05 65.73 Q1470.7 73.7508 1460.53 73.7508 Q1450.37 73.7508 1444.98 65.73 Q1439.63 57.6687 1439.63 42.3968 Q1439.63 27.0843 1444.98 19.0636 Q1450.37 11.0023 1460.53 11.0023 Z\" fill=\"#000000\" fill-rule=\"evenodd\" fill-opacity=\"1\" /><polyline clip-path=\"url(#clip272)\" style=\"stroke:#009af9; stroke-width:4; stroke-opacity:1; fill:none\" points=\"\n",
       "  316.512,1423.18 331.957,1422.56 347.402,1420.72 362.847,1417.73 378.291,1413.65 393.736,1408.53 409.181,1402.43 424.626,1395.39 440.071,1387.48 455.515,1378.75 \n",
       "  470.96,1369.25 486.405,1359.02 501.85,1348.13 517.295,1336.61 532.739,1324.52 548.184,1311.9 563.629,1298.79 579.074,1285.26 594.519,1271.33 609.963,1257.05 \n",
       "  625.408,1242.46 640.853,1227.61 656.298,1212.53 671.743,1197.27 687.188,1181.86 702.632,1166.35 718.077,1150.76 733.522,1135.13 748.967,1119.5 764.412,1103.91 \n",
       "  779.856,1088.38 795.301,1072.94 810.746,1057.64 826.191,1042.49 841.636,1027.53 857.08,1012.79 872.525,998.29 887.97,984.061 903.415,970.128 918.86,956.515 \n",
       "  934.305,943.246 949.749,930.344 965.194,917.831 980.639,905.727 996.084,894.053 1011.53,882.828 1026.97,872.069 1042.42,861.794 1057.86,852.019 1073.31,842.76 \n",
       "  1088.75,834.031 1104.2,825.845 1119.64,818.216 1135.09,811.154 1150.53,804.67 1165.98,798.774 1181.42,793.475 1196.87,788.781 1212.31,784.699 1227.76,781.235 \n",
       "  1243.2,778.393 1258.65,776.179 1274.09,774.595 1289.54,773.643 1304.98,773.326 1320.42,773.643 1335.87,774.595 1351.31,776.179 1366.76,778.393 1382.2,781.235 \n",
       "  1397.65,784.699 1413.09,788.781 1428.54,793.475 1443.98,798.774 1459.43,804.67 1474.87,811.154 1490.32,818.216 1505.76,825.845 1521.21,834.031 1536.65,842.76 \n",
       "  1552.1,852.019 1567.54,861.794 1582.99,872.069 1598.43,882.828 1613.88,894.053 1629.32,905.727 1644.77,917.831 1660.21,930.344 1675.66,943.246 1691.1,956.515 \n",
       "  1706.55,970.128 1721.99,984.061 1737.43,998.29 1752.88,1012.79 1768.32,1027.53 1783.77,1042.49 1799.21,1057.64 1814.66,1072.94 1830.1,1088.38 1845.55,1103.91 \n",
       "  1860.99,1119.5 1876.44,1135.13 1891.88,1150.76 1907.33,1166.35 1922.77,1181.86 1938.22,1197.27 1953.66,1212.53 1969.11,1227.61 1984.55,1242.46 2000,1257.05 \n",
       "  2015.44,1271.33 2030.89,1285.26 2046.33,1298.79 2061.78,1311.9 2077.22,1324.52 2092.67,1336.61 2108.11,1348.13 2123.55,1359.02 2139,1369.25 2154.44,1378.75 \n",
       "  2169.89,1387.48 2185.33,1395.39 2200.78,1402.43 2216.22,1408.53 2231.67,1413.65 2247.11,1417.73 2262.56,1420.72 2278,1422.56 2293.45,1423.18 \n",
       "  \"/>\n",
       "<polyline clip-path=\"url(#clip272)\" style=\"stroke:#e26f46; stroke-width:4; stroke-opacity:1; fill:none\" points=\"\n",
       "  316.512,1423.18 331.957,1413.03 347.402,1402.87 362.847,1392.72 378.291,1382.56 393.736,1372.41 409.181,1362.26 424.626,1352.1 440.071,1341.95 455.515,1331.79 \n",
       "  470.96,1321.64 486.405,1311.49 501.85,1301.33 517.295,1291.18 532.739,1281.02 548.184,1270.87 563.629,1260.72 579.074,1250.56 594.519,1240.41 609.963,1230.25 \n",
       "  625.408,1220.1 640.853,1209.95 656.298,1199.79 671.743,1189.64 687.188,1179.48 702.632,1169.33 718.077,1159.18 733.522,1149.02 748.967,1138.87 764.412,1128.71 \n",
       "  779.856,1118.56 795.301,1108.41 810.746,1098.25 826.191,1088.1 841.636,1077.94 857.08,1067.79 872.525,1057.64 887.97,1047.48 903.415,1037.33 918.86,1027.18 \n",
       "  934.305,1017.02 949.749,1006.87 965.194,996.713 980.639,986.559 996.084,976.405 1011.53,966.251 1026.97,956.097 1042.42,945.943 1057.86,935.789 1073.31,925.635 \n",
       "  1088.75,915.482 1104.2,905.328 1119.64,895.174 1135.09,885.02 1150.53,874.866 1165.98,864.712 1181.42,854.558 1196.87,844.404 1212.31,834.25 1227.76,824.096 \n",
       "  1243.2,813.942 1258.65,803.788 1274.09,793.634 1289.54,783.48 1304.98,773.326 1320.42,763.172 1335.87,753.018 1351.31,742.864 1366.76,732.71 1382.2,722.556 \n",
       "  1397.65,712.402 1413.09,702.248 1428.54,692.094 1443.98,681.94 1459.43,671.786 1474.87,661.632 1490.32,651.478 1505.76,641.324 1521.21,631.17 1536.65,621.016 \n",
       "  1552.1,610.863 1567.54,600.709 1582.99,590.555 1598.43,580.401 1613.88,570.247 1629.32,560.093 1644.77,549.939 1660.21,539.785 1675.66,529.631 1691.1,519.477 \n",
       "  1706.55,509.323 1721.99,499.169 1737.43,489.015 1752.88,478.861 1768.32,468.707 1783.77,458.553 1799.21,448.399 1814.66,438.245 1830.1,428.091 1845.55,417.937 \n",
       "  1860.99,407.783 1876.44,397.629 1891.88,387.475 1907.33,377.321 1922.77,367.167 1938.22,357.013 1953.66,346.859 1969.11,336.705 1984.55,326.551 2000,316.397 \n",
       "  2015.44,306.244 2030.89,296.09 2046.33,285.936 2061.78,275.782 2077.22,265.628 2092.67,255.474 2108.11,245.32 2123.55,235.166 2139,225.012 2154.44,214.858 \n",
       "  2169.89,204.704 2185.33,194.55 2200.78,184.396 2216.22,174.242 2231.67,164.088 2247.11,153.934 2262.56,143.78 2278,133.626 2293.45,123.472 \n",
       "  \"/>\n",
       "<polyline clip-path=\"url(#clip272)\" style=\"stroke:#3da44d; stroke-width:4; stroke-opacity:1; fill:none\" points=\"\n",
       "  711.899,1163.24 1898.06,1163.24 1898.06,383.414 711.899,383.414 711.899,1163.24 \n",
       "  \"/>\n",
       "<path clip-path=\"url(#clip270)\" d=\"\n",
       "M1997.06 408.716 L2282.9 408.716 L2282.9 166.796 L1997.06 166.796  Z\n",
       "  \" fill=\"#ffffff\" fill-rule=\"evenodd\" fill-opacity=\"1\"/>\n",
       "<polyline clip-path=\"url(#clip270)\" style=\"stroke:#000000; stroke-width:4; stroke-opacity:1; fill:none\" points=\"\n",
       "  1997.06,408.716 2282.9,408.716 2282.9,166.796 1997.06,166.796 1997.06,408.716 \n",
       "  \"/>\n",
       "<polyline clip-path=\"url(#clip270)\" style=\"stroke:#009af9; stroke-width:4; stroke-opacity:1; fill:none\" points=\"\n",
       "  2020.34,227.276 2160.04,227.276 \n",
       "  \"/>\n",
       "<path clip-path=\"url(#clip270)\" d=\"M 0 0 M2197.17 246.963 Q2195.36 251.593 2193.65 253.005 Q2191.94 254.417 2189.07 254.417 L2185.67 254.417 L2185.67 250.852 L2188.17 250.852 Q2189.92 250.852 2190.9 250.019 Q2191.87 249.185 2193.05 246.083 L2193.81 244.139 L2183.33 218.63 L2187.84 218.63 L2195.94 238.908 L2204.04 218.63 L2208.56 218.63 L2197.17 246.963 Z\" fill=\"#000000\" fill-rule=\"evenodd\" fill-opacity=\"1\" /><path clip-path=\"url(#clip270)\" d=\"M 0 0 M2215.85 240.621 L2223.49 240.621 L2223.49 214.255 L2215.18 215.922 L2215.18 211.662 L2223.44 209.996 L2228.12 209.996 L2228.12 240.621 L2235.76 240.621 L2235.76 244.556 L2215.85 244.556 L2215.85 240.621 Z\" fill=\"#000000\" fill-rule=\"evenodd\" fill-opacity=\"1\" /><polyline clip-path=\"url(#clip270)\" style=\"stroke:#e26f46; stroke-width:4; stroke-opacity:1; fill:none\" points=\"\n",
       "  2020.34,287.756 2160.04,287.756 \n",
       "  \"/>\n",
       "<path clip-path=\"url(#clip270)\" d=\"M 0 0 M2197.17 307.443 Q2195.36 312.073 2193.65 313.485 Q2191.94 314.897 2189.07 314.897 L2185.67 314.897 L2185.67 311.332 L2188.17 311.332 Q2189.92 311.332 2190.9 310.499 Q2191.87 309.665 2193.05 306.563 L2193.81 304.619 L2183.33 279.11 L2187.84 279.11 L2195.94 299.388 L2204.04 279.11 L2208.56 279.11 L2197.17 307.443 Z\" fill=\"#000000\" fill-rule=\"evenodd\" fill-opacity=\"1\" /><path clip-path=\"url(#clip270)\" d=\"M 0 0 M2219.07 301.101 L2235.39 301.101 L2235.39 305.036 L2213.44 305.036 L2213.44 301.101 Q2216.1 298.346 2220.69 293.716 Q2225.29 289.064 2226.48 287.721 Q2228.72 285.198 2229.6 283.462 Q2230.5 281.703 2230.5 280.013 Q2230.5 277.258 2228.56 275.522 Q2226.64 273.786 2223.54 273.786 Q2221.34 273.786 2218.88 274.55 Q2216.45 275.314 2213.67 276.865 L2213.67 272.142 Q2216.5 271.008 2218.95 270.429 Q2221.41 269.851 2223.44 269.851 Q2228.81 269.851 2232.01 272.536 Q2235.2 275.221 2235.2 279.712 Q2235.2 281.841 2234.39 283.763 Q2233.6 285.661 2231.5 288.253 Q2230.92 288.925 2227.82 292.142 Q2224.72 295.337 2219.07 301.101 Z\" fill=\"#000000\" fill-rule=\"evenodd\" fill-opacity=\"1\" /><polyline clip-path=\"url(#clip270)\" style=\"stroke:#3da44d; stroke-width:4; stroke-opacity:1; fill:none\" points=\"\n",
       "  2020.34,348.236 2160.04,348.236 \n",
       "  \"/>\n",
       "<path clip-path=\"url(#clip270)\" d=\"M 0 0 M2197.17 367.923 Q2195.36 372.553 2193.65 373.965 Q2191.94 375.377 2189.07 375.377 L2185.67 375.377 L2185.67 371.812 L2188.17 371.812 Q2189.92 371.812 2190.9 370.979 Q2191.87 370.145 2193.05 367.043 L2193.81 365.099 L2183.33 339.59 L2187.84 339.59 L2195.94 359.868 L2204.04 339.59 L2208.56 339.59 L2197.17 367.923 Z\" fill=\"#000000\" fill-rule=\"evenodd\" fill-opacity=\"1\" /><path clip-path=\"url(#clip270)\" d=\"M 0 0 M2229.21 346.882 Q2232.56 347.599 2234.44 349.868 Q2236.34 352.136 2236.34 355.469 Q2236.34 360.585 2232.82 363.386 Q2229.3 366.187 2222.82 366.187 Q2220.64 366.187 2218.33 365.747 Q2216.04 365.331 2213.58 364.474 L2213.58 359.96 Q2215.53 361.094 2217.84 361.673 Q2220.16 362.252 2222.68 362.252 Q2227.08 362.252 2229.37 360.516 Q2231.68 358.78 2231.68 355.469 Q2231.68 352.414 2229.53 350.701 Q2227.4 348.965 2223.58 348.965 L2219.55 348.965 L2219.55 345.122 L2223.77 345.122 Q2227.22 345.122 2229.04 343.757 Q2230.87 342.368 2230.87 339.775 Q2230.87 337.113 2228.98 335.701 Q2227.1 334.266 2223.58 334.266 Q2221.66 334.266 2219.46 334.683 Q2217.26 335.099 2214.62 335.979 L2214.62 331.812 Q2217.29 331.071 2219.6 330.701 Q2221.94 330.331 2224 330.331 Q2229.32 330.331 2232.42 332.761 Q2235.53 335.169 2235.53 339.289 Q2235.53 342.159 2233.88 344.15 Q2232.24 346.118 2229.21 346.882 Z\" fill=\"#000000\" fill-rule=\"evenodd\" fill-opacity=\"1\" /></svg>\n"
      ]
     },
     "execution_count": 15,
     "metadata": {},
     "output_type": "execute_result"
    }
   ],
   "source": [
    "C1 = -1.0\n",
    "\n",
    "xrange = -1:1/64:1\n",
    "plot(xrange, x->Qcⁿ(x, (C1,2)))\n",
    "plot!(xrange, x->x)\n",
    "ylims!(-1,1)\n",
    "\n",
    "x₁ = -0.6\n",
    "plot!([x₁, -x₁, -x₁, x₁, x₁], [x₁, x₁, -x₁, -x₁, x₁])\n",
    "xlabel!(\"x\")\n",
    "ylabel!(\"Q_c^2(x)\")\n",
    "title!(\"c₁ = $C1\")"
   ]
  },
  {
   "cell_type": "markdown",
   "metadata": {},
   "source": [
    "El recuadro en la gráfica de $C_1$ muestra un detalle de $Q_{C_1}^2(x)$\n",
    "que, localmente, se *parece* a $Q_{C_0}(x)$; aunque obvio de la gráfica,\n",
    "noten que la comparación requiere de una reflexión."
   ]
  },
  {
   "cell_type": "code",
   "execution_count": 35,
   "metadata": {},
   "outputs": [
    {
     "data": {
      "text/plain": [
       "roots_newton (generic function with 1 method)"
      ]
     },
     "execution_count": 35,
     "metadata": {},
     "output_type": "execute_result"
    }
   ],
   "source": [
    "using TaylorSeries\n",
    "\n",
    "function roots_newton(f, x0)\n",
    "    t = Taylor1(eltype(x0), 1)   # Define una variable tipo `Taylor1` de orden 1\n",
    "    #Se implementan 30 iterados del método de Newton\n",
    "    for ind = 1:50\n",
    "        #`fT` equivale al desarrollo de Taylor de `f`, de orden 1\n",
    "        fT = f(x0+t)\n",
    "        #`fT[0]` y `fT[1]` son el coeficiente de orden 0 y 1 de la serie `fT`\n",
    "        x0 = x0 - fT[0]/fT[1]\n",
    "    end\n",
    "    return x0\n",
    "end"
   ]
  },
  {
   "cell_type": "code",
   "execution_count": 36,
   "metadata": {},
   "outputs": [
    {
     "data": {
      "text/plain": [
       "-1.3107026413368328"
      ]
     },
     "execution_count": 36,
     "metadata": {},
     "output_type": "execute_result"
    }
   ],
   "source": [
    "Q4c = c -> Qcⁿ(0.0, (c, 4))\n",
    "C2 = roots_newton(Q4c, -1.4)"
   ]
  },
  {
   "cell_type": "code",
   "execution_count": 37,
   "metadata": {},
   "outputs": [
    {
     "data": {
      "image/svg+xml": [
       "<?xml version=\"1.0\" encoding=\"utf-8\"?>\n",
       "<svg xmlns=\"http://www.w3.org/2000/svg\" xmlns:xlink=\"http://www.w3.org/1999/xlink\" width=\"600\" height=\"400\" viewBox=\"0 0 2400 1600\">\n",
       "<defs>\n",
       "  <clipPath id=\"clip470\">\n",
       "    <rect x=\"0\" y=\"0\" width=\"2400\" height=\"1600\"/>\n",
       "  </clipPath>\n",
       "</defs>\n",
       "<path clip-path=\"url(#clip470)\" d=\"\n",
       "M0 1600 L2400 1600 L2400 0 L0 0  Z\n",
       "  \" fill=\"#ffffff\" fill-rule=\"evenodd\" fill-opacity=\"1\"/>\n",
       "<defs>\n",
       "  <clipPath id=\"clip471\">\n",
       "    <rect x=\"480\" y=\"0\" width=\"1681\" height=\"1600\"/>\n",
       "  </clipPath>\n",
       "</defs>\n",
       "<path clip-path=\"url(#clip470)\" d=\"\n",
       "M257.204 1423.18 L2352.76 1423.18 L2352.76 123.472 L257.204 123.472  Z\n",
       "  \" fill=\"#ffffff\" fill-rule=\"evenodd\" fill-opacity=\"1\"/>\n",
       "<defs>\n",
       "  <clipPath id=\"clip472\">\n",
       "    <rect x=\"257\" y=\"123\" width=\"2097\" height=\"1301\"/>\n",
       "  </clipPath>\n",
       "</defs>\n",
       "<polyline clip-path=\"url(#clip472)\" style=\"stroke:#000000; stroke-width:2; stroke-opacity:0.1; fill:none\" points=\"\n",
       "  316.512,1423.18 316.512,123.472 \n",
       "  \"/>\n",
       "<polyline clip-path=\"url(#clip472)\" style=\"stroke:#000000; stroke-width:2; stroke-opacity:0.1; fill:none\" points=\"\n",
       "  810.746,1423.18 810.746,123.472 \n",
       "  \"/>\n",
       "<polyline clip-path=\"url(#clip472)\" style=\"stroke:#000000; stroke-width:2; stroke-opacity:0.1; fill:none\" points=\"\n",
       "  1304.98,1423.18 1304.98,123.472 \n",
       "  \"/>\n",
       "<polyline clip-path=\"url(#clip472)\" style=\"stroke:#000000; stroke-width:2; stroke-opacity:0.1; fill:none\" points=\"\n",
       "  1799.21,1423.18 1799.21,123.472 \n",
       "  \"/>\n",
       "<polyline clip-path=\"url(#clip472)\" style=\"stroke:#000000; stroke-width:2; stroke-opacity:0.1; fill:none\" points=\"\n",
       "  2293.45,1423.18 2293.45,123.472 \n",
       "  \"/>\n",
       "<polyline clip-path=\"url(#clip470)\" style=\"stroke:#000000; stroke-width:4; stroke-opacity:1; fill:none\" points=\"\n",
       "  257.204,1423.18 2352.76,1423.18 \n",
       "  \"/>\n",
       "<polyline clip-path=\"url(#clip470)\" style=\"stroke:#000000; stroke-width:4; stroke-opacity:1; fill:none\" points=\"\n",
       "  316.512,1423.18 316.512,1407.58 \n",
       "  \"/>\n",
       "<polyline clip-path=\"url(#clip470)\" style=\"stroke:#000000; stroke-width:4; stroke-opacity:1; fill:none\" points=\"\n",
       "  810.746,1423.18 810.746,1407.58 \n",
       "  \"/>\n",
       "<polyline clip-path=\"url(#clip470)\" style=\"stroke:#000000; stroke-width:4; stroke-opacity:1; fill:none\" points=\"\n",
       "  1304.98,1423.18 1304.98,1407.58 \n",
       "  \"/>\n",
       "<polyline clip-path=\"url(#clip470)\" style=\"stroke:#000000; stroke-width:4; stroke-opacity:1; fill:none\" points=\"\n",
       "  1799.21,1423.18 1799.21,1407.58 \n",
       "  \"/>\n",
       "<polyline clip-path=\"url(#clip470)\" style=\"stroke:#000000; stroke-width:4; stroke-opacity:1; fill:none\" points=\"\n",
       "  2293.45,1423.18 2293.45,1407.58 \n",
       "  \"/>\n",
       "<path clip-path=\"url(#clip470)\" d=\"M 0 0 M263.04 1467.02 L292.716 1467.02 L292.716 1470.96 L263.04 1470.96 L263.04 1467.02 Z\" fill=\"#000000\" fill-rule=\"evenodd\" fill-opacity=\"1\" /><path clip-path=\"url(#clip470)\" d=\"M 0 0 M303.619 1479.92 L311.257 1479.92 L311.257 1453.55 L302.947 1455.22 L302.947 1450.96 L311.211 1449.29 L315.887 1449.29 L315.887 1479.92 L323.526 1479.92 L323.526 1483.85 L303.619 1483.85 L303.619 1479.92 Z\" fill=\"#000000\" fill-rule=\"evenodd\" fill-opacity=\"1\" /><path clip-path=\"url(#clip470)\" d=\"M 0 0 M332.97 1477.97 L337.855 1477.97 L337.855 1483.85 L332.97 1483.85 L332.97 1477.97 Z\" fill=\"#000000\" fill-rule=\"evenodd\" fill-opacity=\"1\" /><path clip-path=\"url(#clip470)\" d=\"M 0 0 M358.04 1452.37 Q354.429 1452.37 352.6 1455.94 Q350.794 1459.48 350.794 1466.61 Q350.794 1473.71 352.6 1477.28 Q354.429 1480.82 358.04 1480.82 Q361.674 1480.82 363.479 1477.28 Q365.308 1473.71 365.308 1466.61 Q365.308 1459.48 363.479 1455.94 Q361.674 1452.37 358.04 1452.37 M358.04 1448.67 Q363.85 1448.67 366.905 1453.27 Q369.984 1457.86 369.984 1466.61 Q369.984 1475.33 366.905 1479.94 Q363.85 1484.52 358.04 1484.52 Q352.23 1484.52 349.151 1479.94 Q346.095 1475.33 346.095 1466.61 Q346.095 1457.86 349.151 1453.27 Q352.23 1448.67 358.04 1448.67 Z\" fill=\"#000000\" fill-rule=\"evenodd\" fill-opacity=\"1\" /><path clip-path=\"url(#clip470)\" d=\"M 0 0 M757.772 1467.02 L787.448 1467.02 L787.448 1470.96 L757.772 1470.96 L757.772 1467.02 Z\" fill=\"#000000\" fill-rule=\"evenodd\" fill-opacity=\"1\" /><path clip-path=\"url(#clip470)\" d=\"M 0 0 M807.54 1452.37 Q803.929 1452.37 802.1 1455.94 Q800.295 1459.48 800.295 1466.61 Q800.295 1473.71 802.1 1477.28 Q803.929 1480.82 807.54 1480.82 Q811.174 1480.82 812.98 1477.28 Q814.809 1473.71 814.809 1466.61 Q814.809 1459.48 812.98 1455.94 Q811.174 1452.37 807.54 1452.37 M807.54 1448.67 Q813.35 1448.67 816.406 1453.27 Q819.484 1457.86 819.484 1466.61 Q819.484 1475.33 816.406 1479.94 Q813.35 1484.52 807.54 1484.52 Q801.73 1484.52 798.651 1479.94 Q795.596 1475.33 795.596 1466.61 Q795.596 1457.86 798.651 1453.27 Q801.73 1448.67 807.54 1448.67 Z\" fill=\"#000000\" fill-rule=\"evenodd\" fill-opacity=\"1\" /><path clip-path=\"url(#clip470)\" d=\"M 0 0 M827.702 1477.97 L832.586 1477.97 L832.586 1483.85 L827.702 1483.85 L827.702 1477.97 Z\" fill=\"#000000\" fill-rule=\"evenodd\" fill-opacity=\"1\" /><path clip-path=\"url(#clip470)\" d=\"M 0 0 M842.818 1449.29 L861.174 1449.29 L861.174 1453.23 L847.1 1453.23 L847.1 1461.7 Q848.119 1461.35 849.137 1461.19 Q850.156 1461 851.174 1461 Q856.961 1461 860.341 1464.18 Q863.72 1467.35 863.72 1472.76 Q863.72 1478.34 860.248 1481.44 Q856.776 1484.52 850.456 1484.52 Q848.281 1484.52 846.012 1484.15 Q843.767 1483.78 841.359 1483.04 L841.359 1478.34 Q843.443 1479.48 845.665 1480.03 Q847.887 1480.59 850.364 1480.59 Q854.368 1480.59 856.706 1478.48 Q859.044 1476.38 859.044 1472.76 Q859.044 1469.15 856.706 1467.05 Q854.368 1464.94 850.364 1464.94 Q848.489 1464.94 846.614 1465.36 Q844.762 1465.77 842.818 1466.65 L842.818 1449.29 Z\" fill=\"#000000\" fill-rule=\"evenodd\" fill-opacity=\"1\" /><path clip-path=\"url(#clip470)\" d=\"M 0 0 M1282.36 1452.37 Q1278.75 1452.37 1276.92 1455.94 Q1275.12 1459.48 1275.12 1466.61 Q1275.12 1473.71 1276.92 1477.28 Q1278.75 1480.82 1282.36 1480.82 Q1286 1480.82 1287.8 1477.28 Q1289.63 1473.71 1289.63 1466.61 Q1289.63 1459.48 1287.8 1455.94 Q1286 1452.37 1282.36 1452.37 M1282.36 1448.67 Q1288.17 1448.67 1291.23 1453.27 Q1294.31 1457.86 1294.31 1466.61 Q1294.31 1475.33 1291.23 1479.94 Q1288.17 1484.52 1282.36 1484.52 Q1276.55 1484.52 1273.48 1479.94 Q1270.42 1475.33 1270.42 1466.61 Q1270.42 1457.86 1273.48 1453.27 Q1276.55 1448.67 1282.36 1448.67 Z\" fill=\"#000000\" fill-rule=\"evenodd\" fill-opacity=\"1\" /><path clip-path=\"url(#clip470)\" d=\"M 0 0 M1302.53 1477.97 L1307.41 1477.97 L1307.41 1483.85 L1302.53 1483.85 L1302.53 1477.97 Z\" fill=\"#000000\" fill-rule=\"evenodd\" fill-opacity=\"1\" /><path clip-path=\"url(#clip470)\" d=\"M 0 0 M1327.6 1452.37 Q1323.98 1452.37 1322.16 1455.94 Q1320.35 1459.48 1320.35 1466.61 Q1320.35 1473.71 1322.16 1477.28 Q1323.98 1480.82 1327.6 1480.82 Q1331.23 1480.82 1333.04 1477.28 Q1334.86 1473.71 1334.86 1466.61 Q1334.86 1459.48 1333.04 1455.94 Q1331.23 1452.37 1327.6 1452.37 M1327.6 1448.67 Q1333.41 1448.67 1336.46 1453.27 Q1339.54 1457.86 1339.54 1466.61 Q1339.54 1475.33 1336.46 1479.94 Q1333.41 1484.52 1327.6 1484.52 Q1321.79 1484.52 1318.71 1479.94 Q1315.65 1475.33 1315.65 1466.61 Q1315.65 1457.86 1318.71 1453.27 Q1321.79 1448.67 1327.6 1448.67 Z\" fill=\"#000000\" fill-rule=\"evenodd\" fill-opacity=\"1\" /><path clip-path=\"url(#clip470)\" d=\"M 0 0 M1777.1 1452.37 Q1773.48 1452.37 1771.66 1455.94 Q1769.85 1459.48 1769.85 1466.61 Q1769.85 1473.71 1771.66 1477.28 Q1773.48 1480.82 1777.1 1480.82 Q1780.73 1480.82 1782.54 1477.28 Q1784.36 1473.71 1784.36 1466.61 Q1784.36 1459.48 1782.54 1455.94 Q1780.73 1452.37 1777.1 1452.37 M1777.1 1448.67 Q1782.91 1448.67 1785.96 1453.27 Q1789.04 1457.86 1789.04 1466.61 Q1789.04 1475.33 1785.96 1479.94 Q1782.91 1484.52 1777.1 1484.52 Q1771.29 1484.52 1768.21 1479.94 Q1765.15 1475.33 1765.15 1466.61 Q1765.15 1457.86 1768.21 1453.27 Q1771.29 1448.67 1777.1 1448.67 Z\" fill=\"#000000\" fill-rule=\"evenodd\" fill-opacity=\"1\" /><path clip-path=\"url(#clip470)\" d=\"M 0 0 M1797.26 1477.97 L1802.14 1477.97 L1802.14 1483.85 L1797.26 1483.85 L1797.26 1477.97 Z\" fill=\"#000000\" fill-rule=\"evenodd\" fill-opacity=\"1\" /><path clip-path=\"url(#clip470)\" d=\"M 0 0 M1812.37 1449.29 L1830.73 1449.29 L1830.73 1453.23 L1816.66 1453.23 L1816.66 1461.7 Q1817.67 1461.35 1818.69 1461.19 Q1819.71 1461 1820.73 1461 Q1826.52 1461 1829.9 1464.18 Q1833.28 1467.35 1833.28 1472.76 Q1833.28 1478.34 1829.8 1481.44 Q1826.33 1484.52 1820.01 1484.52 Q1817.84 1484.52 1815.57 1484.15 Q1813.32 1483.78 1810.92 1483.04 L1810.92 1478.34 Q1813 1479.48 1815.22 1480.03 Q1817.44 1480.59 1819.92 1480.59 Q1823.92 1480.59 1826.26 1478.48 Q1828.6 1476.38 1828.6 1472.76 Q1828.6 1469.15 1826.26 1467.05 Q1823.92 1464.94 1819.92 1464.94 Q1818.04 1464.94 1816.17 1465.36 Q1814.32 1465.77 1812.37 1466.65 L1812.37 1449.29 Z\" fill=\"#000000\" fill-rule=\"evenodd\" fill-opacity=\"1\" /><path clip-path=\"url(#clip470)\" d=\"M 0 0 M2260.6 1479.92 L2268.24 1479.92 L2268.24 1453.55 L2259.93 1455.22 L2259.93 1450.96 L2268.19 1449.29 L2272.87 1449.29 L2272.87 1479.92 L2280.51 1479.92 L2280.51 1483.85 L2260.6 1483.85 L2260.6 1479.92 Z\" fill=\"#000000\" fill-rule=\"evenodd\" fill-opacity=\"1\" /><path clip-path=\"url(#clip470)\" d=\"M 0 0 M2289.95 1477.97 L2294.84 1477.97 L2294.84 1483.85 L2289.95 1483.85 L2289.95 1477.97 Z\" fill=\"#000000\" fill-rule=\"evenodd\" fill-opacity=\"1\" /><path clip-path=\"url(#clip470)\" d=\"M 0 0 M2315.02 1452.37 Q2311.41 1452.37 2309.58 1455.94 Q2307.78 1459.48 2307.78 1466.61 Q2307.78 1473.71 2309.58 1477.28 Q2311.41 1480.82 2315.02 1480.82 Q2318.66 1480.82 2320.46 1477.28 Q2322.29 1473.71 2322.29 1466.61 Q2322.29 1459.48 2320.46 1455.94 Q2318.66 1452.37 2315.02 1452.37 M2315.02 1448.67 Q2320.83 1448.67 2323.89 1453.27 Q2326.97 1457.86 2326.97 1466.61 Q2326.97 1475.33 2323.89 1479.94 Q2320.83 1484.52 2315.02 1484.52 Q2309.21 1484.52 2306.13 1479.94 Q2303.08 1475.33 2303.08 1466.61 Q2303.08 1457.86 2306.13 1453.27 Q2309.21 1448.67 2315.02 1448.67 Z\" fill=\"#000000\" fill-rule=\"evenodd\" fill-opacity=\"1\" /><path clip-path=\"url(#clip470)\" d=\"M 0 0 M1321.59 1532.4 L1308.7 1549.74 L1322.26 1568.04 L1315.36 1568.04 L1304.98 1554.04 L1294.6 1568.04 L1287.7 1568.04 L1301.54 1549.39 L1288.87 1532.4 L1295.78 1532.4 L1305.23 1545.1 L1314.69 1532.4 L1321.59 1532.4 Z\" fill=\"#000000\" fill-rule=\"evenodd\" fill-opacity=\"1\" /><polyline clip-path=\"url(#clip472)\" style=\"stroke:#000000; stroke-width:2; stroke-opacity:0.1; fill:none\" points=\"\n",
       "  257.204,1423.18 2352.76,1423.18 \n",
       "  \"/>\n",
       "<polyline clip-path=\"url(#clip472)\" style=\"stroke:#000000; stroke-width:2; stroke-opacity:0.1; fill:none\" points=\"\n",
       "  257.204,1098.25 2352.76,1098.25 \n",
       "  \"/>\n",
       "<polyline clip-path=\"url(#clip472)\" style=\"stroke:#000000; stroke-width:2; stroke-opacity:0.1; fill:none\" points=\"\n",
       "  257.204,773.326 2352.76,773.326 \n",
       "  \"/>\n",
       "<polyline clip-path=\"url(#clip472)\" style=\"stroke:#000000; stroke-width:2; stroke-opacity:0.1; fill:none\" points=\"\n",
       "  257.204,448.399 2352.76,448.399 \n",
       "  \"/>\n",
       "<polyline clip-path=\"url(#clip472)\" style=\"stroke:#000000; stroke-width:2; stroke-opacity:0.1; fill:none\" points=\"\n",
       "  257.204,123.472 2352.76,123.472 \n",
       "  \"/>\n",
       "<polyline clip-path=\"url(#clip470)\" style=\"stroke:#000000; stroke-width:4; stroke-opacity:1; fill:none\" points=\"\n",
       "  257.204,1423.18 257.204,123.472 \n",
       "  \"/>\n",
       "<polyline clip-path=\"url(#clip470)\" style=\"stroke:#000000; stroke-width:4; stroke-opacity:1; fill:none\" points=\"\n",
       "  257.204,1423.18 282.351,1423.18 \n",
       "  \"/>\n",
       "<polyline clip-path=\"url(#clip470)\" style=\"stroke:#000000; stroke-width:4; stroke-opacity:1; fill:none\" points=\"\n",
       "  257.204,1098.25 282.351,1098.25 \n",
       "  \"/>\n",
       "<polyline clip-path=\"url(#clip470)\" style=\"stroke:#000000; stroke-width:4; stroke-opacity:1; fill:none\" points=\"\n",
       "  257.204,773.326 282.351,773.326 \n",
       "  \"/>\n",
       "<polyline clip-path=\"url(#clip470)\" style=\"stroke:#000000; stroke-width:4; stroke-opacity:1; fill:none\" points=\"\n",
       "  257.204,448.399 282.351,448.399 \n",
       "  \"/>\n",
       "<polyline clip-path=\"url(#clip470)\" style=\"stroke:#000000; stroke-width:4; stroke-opacity:1; fill:none\" points=\"\n",
       "  257.204,123.472 282.351,123.472 \n",
       "  \"/>\n",
       "<path clip-path=\"url(#clip470)\" d=\"M 0 0 M114.26 1423.63 L143.936 1423.63 L143.936 1427.57 L114.26 1427.57 L114.26 1423.63 Z\" fill=\"#000000\" fill-rule=\"evenodd\" fill-opacity=\"1\" /><path clip-path=\"url(#clip470)\" d=\"M 0 0 M154.839 1436.52 L162.477 1436.52 L162.477 1410.16 L154.167 1411.83 L154.167 1407.57 L162.431 1405.9 L167.107 1405.9 L167.107 1436.52 L174.746 1436.52 L174.746 1440.46 L154.839 1440.46 L154.839 1436.52 Z\" fill=\"#000000\" fill-rule=\"evenodd\" fill-opacity=\"1\" /><path clip-path=\"url(#clip470)\" d=\"M 0 0 M184.19 1434.58 L189.075 1434.58 L189.075 1440.46 L184.19 1440.46 L184.19 1434.58 Z\" fill=\"#000000\" fill-rule=\"evenodd\" fill-opacity=\"1\" /><path clip-path=\"url(#clip470)\" d=\"M 0 0 M209.26 1408.98 Q205.649 1408.98 203.82 1412.54 Q202.014 1416.08 202.014 1423.21 Q202.014 1430.32 203.82 1433.89 Q205.649 1437.43 209.26 1437.43 Q212.894 1437.43 214.699 1433.89 Q216.528 1430.32 216.528 1423.21 Q216.528 1416.08 214.699 1412.54 Q212.894 1408.98 209.26 1408.98 M209.26 1405.27 Q215.07 1405.27 218.125 1409.88 Q221.204 1414.46 221.204 1423.21 Q221.204 1431.94 218.125 1436.55 Q215.07 1441.13 209.26 1441.13 Q203.449 1441.13 200.371 1436.55 Q197.315 1431.94 197.315 1423.21 Q197.315 1414.46 200.371 1409.88 Q203.449 1405.27 209.26 1405.27 Z\" fill=\"#000000\" fill-rule=\"evenodd\" fill-opacity=\"1\" /><path clip-path=\"url(#clip470)\" d=\"M 0 0 M115.256 1098.7 L144.931 1098.7 L144.931 1102.64 L115.256 1102.64 L115.256 1098.7 Z\" fill=\"#000000\" fill-rule=\"evenodd\" fill-opacity=\"1\" /><path clip-path=\"url(#clip470)\" d=\"M 0 0 M165.024 1084.05 Q161.413 1084.05 159.584 1087.62 Q157.778 1091.16 157.778 1098.29 Q157.778 1105.39 159.584 1108.96 Q161.413 1112.5 165.024 1112.5 Q168.658 1112.5 170.464 1108.96 Q172.292 1105.39 172.292 1098.29 Q172.292 1091.16 170.464 1087.62 Q168.658 1084.05 165.024 1084.05 M165.024 1080.35 Q170.834 1080.35 173.889 1084.95 Q176.968 1089.54 176.968 1098.29 Q176.968 1107.01 173.889 1111.62 Q170.834 1116.2 165.024 1116.2 Q159.214 1116.2 156.135 1111.62 Q153.079 1107.01 153.079 1098.29 Q153.079 1089.54 156.135 1084.95 Q159.214 1080.35 165.024 1080.35 Z\" fill=\"#000000\" fill-rule=\"evenodd\" fill-opacity=\"1\" /><path clip-path=\"url(#clip470)\" d=\"M 0 0 M185.186 1109.65 L190.07 1109.65 L190.07 1115.53 L185.186 1115.53 L185.186 1109.65 Z\" fill=\"#000000\" fill-rule=\"evenodd\" fill-opacity=\"1\" /><path clip-path=\"url(#clip470)\" d=\"M 0 0 M200.301 1080.97 L218.658 1080.97 L218.658 1084.91 L204.584 1084.91 L204.584 1093.38 Q205.602 1093.03 206.621 1092.87 Q207.639 1092.69 208.658 1092.69 Q214.445 1092.69 217.824 1095.86 Q221.204 1099.03 221.204 1104.45 Q221.204 1110.02 217.732 1113.13 Q214.26 1116.2 207.94 1116.2 Q205.764 1116.2 203.496 1115.83 Q201.25 1115.46 198.843 1114.72 L198.843 1110.02 Q200.926 1111.16 203.149 1111.71 Q205.371 1112.27 207.848 1112.27 Q211.852 1112.27 214.19 1110.16 Q216.528 1108.06 216.528 1104.45 Q216.528 1100.83 214.19 1098.73 Q211.852 1096.62 207.848 1096.62 Q205.973 1096.62 204.098 1097.04 Q202.246 1097.45 200.301 1098.33 L200.301 1080.97 Z\" fill=\"#000000\" fill-rule=\"evenodd\" fill-opacity=\"1\" /><path clip-path=\"url(#clip470)\" d=\"M 0 0 M164.028 759.125 Q160.417 759.125 158.589 762.689 Q156.783 766.231 156.783 773.361 Q156.783 780.467 158.589 784.032 Q160.417 787.574 164.028 787.574 Q167.663 787.574 169.468 784.032 Q171.297 780.467 171.297 773.361 Q171.297 766.231 169.468 762.689 Q167.663 759.125 164.028 759.125 M164.028 755.421 Q169.839 755.421 172.894 760.027 Q175.973 764.611 175.973 773.361 Q175.973 782.088 172.894 786.694 Q169.839 791.277 164.028 791.277 Q158.218 791.277 155.14 786.694 Q152.084 782.088 152.084 773.361 Q152.084 764.611 155.14 760.027 Q158.218 755.421 164.028 755.421 Z\" fill=\"#000000\" fill-rule=\"evenodd\" fill-opacity=\"1\" /><path clip-path=\"url(#clip470)\" d=\"M 0 0 M184.19 784.726 L189.075 784.726 L189.075 790.606 L184.19 790.606 L184.19 784.726 Z\" fill=\"#000000\" fill-rule=\"evenodd\" fill-opacity=\"1\" /><path clip-path=\"url(#clip470)\" d=\"M 0 0 M209.26 759.125 Q205.649 759.125 203.82 762.689 Q202.014 766.231 202.014 773.361 Q202.014 780.467 203.82 784.032 Q205.649 787.574 209.26 787.574 Q212.894 787.574 214.699 784.032 Q216.528 780.467 216.528 773.361 Q216.528 766.231 214.699 762.689 Q212.894 759.125 209.26 759.125 M209.26 755.421 Q215.07 755.421 218.125 760.027 Q221.204 764.611 221.204 773.361 Q221.204 782.088 218.125 786.694 Q215.07 791.277 209.26 791.277 Q203.449 791.277 200.371 786.694 Q197.315 782.088 197.315 773.361 Q197.315 764.611 200.371 760.027 Q203.449 755.421 209.26 755.421 Z\" fill=\"#000000\" fill-rule=\"evenodd\" fill-opacity=\"1\" /><path clip-path=\"url(#clip470)\" d=\"M 0 0 M165.024 434.198 Q161.413 434.198 159.584 437.763 Q157.778 441.304 157.778 448.434 Q157.778 455.54 159.584 459.105 Q161.413 462.647 165.024 462.647 Q168.658 462.647 170.464 459.105 Q172.292 455.54 172.292 448.434 Q172.292 441.304 170.464 437.763 Q168.658 434.198 165.024 434.198 M165.024 430.494 Q170.834 430.494 173.889 435.101 Q176.968 439.684 176.968 448.434 Q176.968 457.161 173.889 461.767 Q170.834 466.35 165.024 466.35 Q159.214 466.35 156.135 461.767 Q153.079 457.161 153.079 448.434 Q153.079 439.684 156.135 435.101 Q159.214 430.494 165.024 430.494 Z\" fill=\"#000000\" fill-rule=\"evenodd\" fill-opacity=\"1\" /><path clip-path=\"url(#clip470)\" d=\"M 0 0 M185.186 459.799 L190.07 459.799 L190.07 465.679 L185.186 465.679 L185.186 459.799 Z\" fill=\"#000000\" fill-rule=\"evenodd\" fill-opacity=\"1\" /><path clip-path=\"url(#clip470)\" d=\"M 0 0 M200.301 431.119 L218.658 431.119 L218.658 435.054 L204.584 435.054 L204.584 443.526 Q205.602 443.179 206.621 443.017 Q207.639 442.832 208.658 442.832 Q214.445 442.832 217.824 446.003 Q221.204 449.175 221.204 454.591 Q221.204 460.17 217.732 463.272 Q214.26 466.35 207.94 466.35 Q205.764 466.35 203.496 465.98 Q201.25 465.61 198.843 464.869 L198.843 460.17 Q200.926 461.304 203.149 461.86 Q205.371 462.415 207.848 462.415 Q211.852 462.415 214.19 460.309 Q216.528 458.202 216.528 454.591 Q216.528 450.98 214.19 448.874 Q211.852 446.767 207.848 446.767 Q205.973 446.767 204.098 447.184 Q202.246 447.6 200.301 448.48 L200.301 431.119 Z\" fill=\"#000000\" fill-rule=\"evenodd\" fill-opacity=\"1\" /><path clip-path=\"url(#clip470)\" d=\"M 0 0 M154.839 136.817 L162.477 136.817 L162.477 110.451 L154.167 112.118 L154.167 107.859 L162.431 106.192 L167.107 106.192 L167.107 136.817 L174.746 136.817 L174.746 140.752 L154.839 140.752 L154.839 136.817 Z\" fill=\"#000000\" fill-rule=\"evenodd\" fill-opacity=\"1\" /><path clip-path=\"url(#clip470)\" d=\"M 0 0 M184.19 134.873 L189.075 134.873 L189.075 140.752 L184.19 140.752 L184.19 134.873 Z\" fill=\"#000000\" fill-rule=\"evenodd\" fill-opacity=\"1\" /><path clip-path=\"url(#clip470)\" d=\"M 0 0 M209.26 109.271 Q205.649 109.271 203.82 112.836 Q202.014 116.377 202.014 123.507 Q202.014 130.613 203.82 134.178 Q205.649 137.72 209.26 137.72 Q212.894 137.72 214.699 134.178 Q216.528 130.613 216.528 123.507 Q216.528 116.377 214.699 112.836 Q212.894 109.271 209.26 109.271 M209.26 105.567 Q215.07 105.567 218.125 110.174 Q221.204 114.757 221.204 123.507 Q221.204 132.234 218.125 136.84 Q215.07 141.423 209.26 141.423 Q203.449 141.423 200.371 136.84 Q197.315 132.234 197.315 123.507 Q197.315 114.757 200.371 110.174 Q203.449 105.567 209.26 105.567 Z\" fill=\"#000000\" fill-rule=\"evenodd\" fill-opacity=\"1\" /><path clip-path=\"url(#clip470)\" d=\"M 0 0 M20.8447 899.303 Q20.8447 906.306 26.0645 910.443 Q31.2844 914.549 40.2919 914.549 Q49.2675 914.549 54.4874 910.443 Q59.7073 906.306 59.7073 899.303 Q59.7073 892.301 54.4874 888.227 Q49.2675 884.121 40.2919 884.121 Q31.2844 884.121 26.0645 888.227 Q20.8447 892.301 20.8447 899.303 M63.1448 890.296 L72.4069 881.829 L72.4069 889.596 L64.7999 896.63 Q64.8635 897.68 64.8954 898.253 Q64.9272 898.794 64.9272 899.303 Q64.9272 909.329 58.2432 915.345 Q51.5274 921.329 40.2919 921.329 Q29.0246 921.329 22.3406 915.345 Q15.6248 909.329 15.6248 899.303 Q15.6248 889.309 22.3406 883.325 Q29.0246 877.342 40.2919 877.342 Q48.5673 877.342 54.4556 880.684 Q60.3439 883.994 63.1448 890.296 Z\" fill=\"#000000\" fill-rule=\"evenodd\" fill-opacity=\"1\" /><path clip-path=\"url(#clip470)\" d=\"M 0 0 M74.8259 840.452 L79.3773 840.452 L79.3773 874.318 L74.8259 874.318 L74.8259 840.452 Z\" fill=\"#000000\" fill-rule=\"evenodd\" fill-opacity=\"1\" /><path clip-path=\"url(#clip470)\" d=\"M 0 0 M29.7248 809.292 L35.1993 809.292 Q33.8307 811.775 33.1623 814.289 Q32.4621 816.772 32.4621 819.318 Q32.4621 825.016 36.0905 828.167 Q39.6872 831.318 46.212 831.318 Q52.7369 831.318 56.3653 828.167 Q59.9619 825.016 59.9619 819.318 Q59.9619 816.772 59.2935 814.289 Q58.5933 811.775 57.2247 809.292 L62.6355 809.292 Q63.7814 811.743 64.3543 814.385 Q64.9272 816.995 64.9272 819.955 Q64.9272 828.007 59.8664 832.75 Q54.8057 837.492 46.212 837.492 Q37.491 837.492 32.4939 832.718 Q27.4968 827.912 27.4968 819.573 Q27.4968 816.867 28.0697 814.289 Q28.6108 811.711 29.7248 809.292 Z\" fill=\"#000000\" fill-rule=\"evenodd\" fill-opacity=\"1\" /><path clip-path=\"url(#clip470)\" d=\"M 0 0 M16.4842 774.822 L34.2127 757.539 L34.2127 763.937 L21.6404 777.941 L34.2127 791.946 L34.2127 798.343 L16.4842 781.06 L16.4842 774.822 Z\" fill=\"#000000\" fill-rule=\"evenodd\" fill-opacity=\"1\" /><path clip-path=\"url(#clip470)\" d=\"M 0 0 M22.086 725.997 L47.4533 742.23 L47.4533 725.997 L22.086 725.997 M16.4842 727.684 L16.4842 719.599 L47.4533 719.599 L47.4533 712.82 L52.8005 712.82 L52.8005 719.599 L64.0042 719.599 L64.0042 725.997 L52.8005 725.997 L52.8005 747.449 L46.5939 747.449 L16.4842 727.684 Z\" fill=\"#000000\" fill-rule=\"evenodd\" fill-opacity=\"1\" /><path clip-path=\"url(#clip470)\" d=\"M 0 0 M14.5426 688.949 Q21.8632 693.214 29.0246 695.282 Q36.186 697.351 43.5384 697.351 Q50.8908 697.351 58.1159 695.282 Q65.3091 693.182 72.5979 688.949 L72.5979 694.041 Q65.1182 698.815 57.8931 701.203 Q50.668 703.558 43.5384 703.558 Q36.4406 703.558 29.2474 701.203 Q22.0542 698.847 14.5426 694.041 L14.5426 688.949 Z\" fill=\"#000000\" fill-rule=\"evenodd\" fill-opacity=\"1\" /><path clip-path=\"url(#clip470)\" d=\"M 0 0 M28.3562 647.953 L45.7028 660.844 L64.0042 647.285 L64.0042 654.192 L49.9996 664.568 L64.0042 674.944 L64.0042 681.851 L45.3526 668.005 L28.3562 680.673 L28.3562 673.766 L41.0558 664.313 L28.3562 654.86 L28.3562 647.953 Z\" fill=\"#000000\" fill-rule=\"evenodd\" fill-opacity=\"1\" /><path clip-path=\"url(#clip470)\" d=\"M 0 0 M14.5426 639.933 L14.5426 634.84 Q22.0542 630.066 29.2474 627.71 Q36.4406 625.323 43.5384 625.323 Q50.668 625.323 57.8931 627.71 Q65.1182 630.066 72.5979 634.84 L72.5979 639.933 Q65.3091 635.699 58.1159 633.631 Q50.8908 631.53 43.5384 631.53 Q36.186 631.53 29.0246 633.631 Q21.8632 635.699 14.5426 639.933 Z\" fill=\"#000000\" fill-rule=\"evenodd\" fill-opacity=\"1\" /><path clip-path=\"url(#clip470)\" d=\"M 0 0 M768.62 28.9478 L768.62 35.9153 Q765.46 34.1734 762.26 33.3227 Q759.1 32.4315 755.86 32.4315 Q748.609 32.4315 744.598 37.0496 Q740.588 41.6271 740.588 49.9314 Q740.588 58.2358 744.598 62.8538 Q748.609 67.4314 755.86 67.4314 Q759.1 67.4314 762.26 66.5807 Q765.46 65.6895 768.62 63.9476 L768.62 70.8341 Q765.501 72.2924 762.139 73.0216 Q758.817 73.7508 755.049 73.7508 Q744.801 73.7508 738.765 67.3098 Q732.729 60.8689 732.729 49.9314 Q732.729 38.832 738.805 32.472 Q744.922 26.1121 755.536 26.1121 Q758.979 26.1121 762.26 26.8413 Q765.541 27.5299 768.62 28.9478 Z\" fill=\"#000000\" fill-rule=\"evenodd\" fill-opacity=\"1\" /><path clip-path=\"url(#clip470)\" d=\"M 0 0 M784.621 67.958 L801.797 67.958 L801.797 72.576 L777.572 72.576 L777.572 68.12 Q778.95 66.8642 781.502 64.5957 Q795.437 52.2405 795.437 48.4326 Q795.437 45.759 793.331 44.1387 Q791.224 42.4778 787.781 42.4778 Q785.674 42.4778 783.203 43.2069 Q780.732 43.8956 777.816 45.3134 L777.816 40.3308 Q780.935 39.1965 783.608 38.6294 Q786.322 38.0623 788.631 38.0623 Q794.505 38.0623 798.03 40.7359 Q801.554 43.4095 801.554 47.7845 Q801.554 53.4152 788.145 64.9198 Q785.877 66.8642 784.621 67.958 Z\" fill=\"#000000\" fill-rule=\"evenodd\" fill-opacity=\"1\" /><path clip-path=\"url(#clip470)\" d=\"M 0 0 M842.184 34.9026 L894.117 34.9026 L894.117 41.7081 L842.184 41.7081 L842.184 34.9026 M842.184 51.4303 L894.117 51.4303 L894.117 58.3168 L842.184 58.3168 L842.184 51.4303 Z\" fill=\"#000000\" fill-rule=\"evenodd\" fill-opacity=\"1\" /><path clip-path=\"url(#clip470)\" d=\"M 0 0 M933.33 46.5287 L955.164 46.5287 L955.164 53.1722 L933.33 53.1722 L933.33 46.5287 Z\" fill=\"#000000\" fill-rule=\"evenodd\" fill-opacity=\"1\" /><path clip-path=\"url(#clip470)\" d=\"M 0 0 M969.504 65.6895 L982.872 65.6895 L982.872 19.5497 L968.33 22.4663 L968.33 15.0127 L982.791 12.096 L990.974 12.096 L990.974 65.6895 L1004.34 65.6895 L1004.34 72.576 L969.504 72.576 L969.504 65.6895 Z\" fill=\"#000000\" fill-rule=\"evenodd\" fill-opacity=\"1\" /><path clip-path=\"url(#clip470)\" d=\"M 0 0 M1020.87 62.2867 L1029.42 62.2867 L1029.42 72.576 L1020.87 72.576 L1020.87 62.2867 Z\" fill=\"#000000\" fill-rule=\"evenodd\" fill-opacity=\"1\" /><path clip-path=\"url(#clip470)\" d=\"M 0 0 M1072.03 39.9662 Q1077.91 41.222 1081.19 45.1919 Q1084.51 49.1618 1084.51 54.9951 Q1084.51 63.9476 1078.35 68.8492 Q1072.19 73.7508 1060.85 73.7508 Q1057.04 73.7508 1052.99 72.9811 Q1048.98 72.2519 1044.69 70.7531 L1044.69 62.8538 Q1048.09 64.8388 1052.14 65.8515 Q1056.19 66.8642 1060.61 66.8642 Q1068.31 66.8642 1072.32 63.826 Q1076.37 60.7879 1076.37 54.9951 Q1076.37 49.6479 1072.6 46.6502 Q1068.87 43.612 1062.19 43.612 L1055.14 43.612 L1055.14 36.8875 L1062.51 36.8875 Q1068.55 36.8875 1071.75 34.4975 Q1074.95 32.067 1074.95 27.5299 Q1074.95 22.8714 1071.63 20.4004 Q1068.35 17.8888 1062.19 17.8888 Q1058.83 17.8888 1054.98 18.618 Q1051.13 19.3471 1046.51 20.8865 L1046.51 13.5948 Q1051.17 12.2985 1055.22 11.6504 Q1059.31 11.0023 1062.92 11.0023 Q1072.24 11.0023 1077.66 15.2557 Q1083.09 19.4686 1083.09 26.6793 Q1083.09 31.7024 1080.22 35.1862 Q1077.34 38.6294 1072.03 39.9662 Z\" fill=\"#000000\" fill-rule=\"evenodd\" fill-opacity=\"1\" /><path clip-path=\"url(#clip470)\" d=\"M 0 0 M1101.44 65.6895 L1114.81 65.6895 L1114.81 19.5497 L1100.27 22.4663 L1100.27 15.0127 L1114.73 12.096 L1122.91 12.096 L1122.91 65.6895 L1136.28 65.6895 L1136.28 72.576 L1101.44 72.576 L1101.44 65.6895 Z\" fill=\"#000000\" fill-rule=\"evenodd\" fill-opacity=\"1\" /><path clip-path=\"url(#clip470)\" d=\"M 0 0 M1170.31 17.4837 Q1163.99 17.4837 1160.79 23.7221 Q1157.63 29.92 1157.63 42.3968 Q1157.63 54.833 1160.79 61.0714 Q1163.99 67.2693 1170.31 67.2693 Q1176.67 67.2693 1179.83 61.0714 Q1183.03 54.833 1183.03 42.3968 Q1183.03 29.92 1179.83 23.7221 Q1176.67 17.4837 1170.31 17.4837 M1170.31 11.0023 Q1180.48 11.0023 1185.82 19.0636 Q1191.21 27.0843 1191.21 42.3968 Q1191.21 57.6687 1185.82 65.73 Q1180.48 73.7508 1170.31 73.7508 Q1160.14 73.7508 1154.75 65.73 Q1149.4 57.6687 1149.4 42.3968 Q1149.4 27.0843 1154.75 19.0636 Q1160.14 11.0023 1170.31 11.0023 Z\" fill=\"#000000\" fill-rule=\"evenodd\" fill-opacity=\"1\" /><path clip-path=\"url(#clip470)\" d=\"M 0 0 M1203.53 12.096 L1242.41 12.096 L1242.41 15.5798 L1220.46 72.576 L1211.91 72.576 L1232.57 18.9825 L1203.53 18.9825 L1203.53 12.096 Z\" fill=\"#000000\" fill-rule=\"evenodd\" fill-opacity=\"1\" /><path clip-path=\"url(#clip470)\" d=\"M 0 0 M1275.87 17.4837 Q1269.55 17.4837 1266.35 23.7221 Q1263.19 29.92 1263.19 42.3968 Q1263.19 54.833 1266.35 61.0714 Q1269.55 67.2693 1275.87 67.2693 Q1282.23 67.2693 1285.39 61.0714 Q1288.59 54.833 1288.59 42.3968 Q1288.59 29.92 1285.39 23.7221 Q1282.23 17.4837 1275.87 17.4837 M1275.87 11.0023 Q1286.04 11.0023 1291.39 19.0636 Q1296.78 27.0843 1296.78 42.3968 Q1296.78 57.6687 1291.39 65.73 Q1286.04 73.7508 1275.87 73.7508 Q1265.71 73.7508 1260.32 65.73 Q1254.97 57.6687 1254.97 42.3968 Q1254.97 27.0843 1260.32 19.0636 Q1265.71 11.0023 1275.87 11.0023 Z\" fill=\"#000000\" fill-rule=\"evenodd\" fill-opacity=\"1\" /><path clip-path=\"url(#clip470)\" d=\"M 0 0 M1318.21 65.6895 L1346.77 65.6895 L1346.77 72.576 L1308.36 72.576 L1308.36 65.6895 Q1313.02 60.8689 1321.04 52.7671 Q1329.1 44.6248 1331.17 42.2752 Q1335.1 37.8598 1336.64 34.8216 Q1338.22 31.7429 1338.22 28.7857 Q1338.22 23.9651 1334.81 20.927 Q1331.45 17.8888 1326.02 17.8888 Q1322.18 17.8888 1317.88 19.2256 Q1313.63 20.5624 1308.77 23.2765 L1308.77 15.0127 Q1313.71 13.0277 1318 12.015 Q1322.3 11.0023 1325.86 11.0023 Q1335.26 11.0023 1340.85 15.7013 Q1346.44 20.4004 1346.44 28.2591 Q1346.44 31.9859 1345.02 35.3482 Q1343.65 38.6699 1339.96 43.2069 Q1338.95 44.3817 1333.52 50.0125 Q1328.09 55.6027 1318.21 65.6895 Z\" fill=\"#000000\" fill-rule=\"evenodd\" fill-opacity=\"1\" /><path clip-path=\"url(#clip470)\" d=\"M 0 0 M1382.45 39.075 Q1376.94 39.075 1373.7 42.8424 Q1370.5 46.6097 1370.5 53.1722 Q1370.5 59.6941 1373.7 63.502 Q1376.94 67.2693 1382.45 67.2693 Q1387.96 67.2693 1391.16 63.502 Q1394.4 59.6941 1394.4 53.1722 Q1394.4 46.6097 1391.16 42.8424 Q1387.96 39.075 1382.45 39.075 M1398.7 13.4328 L1398.7 20.8865 Q1395.62 19.4281 1392.46 18.6585 Q1389.34 17.8888 1386.26 17.8888 Q1378.16 17.8888 1373.87 23.3575 Q1369.61 28.8262 1369 39.8852 Q1371.39 36.3609 1375 34.4975 Q1378.61 32.5936 1382.94 32.5936 Q1392.05 32.5936 1397.32 38.1433 Q1402.63 43.6525 1402.63 53.1722 Q1402.63 62.4892 1397.12 68.12 Q1391.61 73.7508 1382.45 73.7508 Q1371.96 73.7508 1366.41 65.73 Q1360.86 57.6687 1360.86 42.3968 Q1360.86 28.0566 1367.67 19.5497 Q1374.47 11.0023 1385.94 11.0023 Q1389.02 11.0023 1392.14 11.6099 Q1395.29 12.2175 1398.7 13.4328 Z\" fill=\"#000000\" fill-rule=\"evenodd\" fill-opacity=\"1\" /><path clip-path=\"url(#clip470)\" d=\"M 0 0 M1439.21 19.2256 L1418.55 51.5113 L1439.21 51.5113 L1439.21 19.2256 M1437.06 12.096 L1447.35 12.096 L1447.35 51.5113 L1455.98 51.5113 L1455.98 58.3168 L1447.35 58.3168 L1447.35 72.576 L1439.21 72.576 L1439.21 58.3168 L1411.9 58.3168 L1411.9 50.4176 L1437.06 12.096 Z\" fill=\"#000000\" fill-rule=\"evenodd\" fill-opacity=\"1\" /><path clip-path=\"url(#clip470)\" d=\"M 0 0 M1470.93 65.6895 L1484.29 65.6895 L1484.29 19.5497 L1469.75 22.4663 L1469.75 15.0127 L1484.21 12.096 L1492.4 12.096 L1492.4 65.6895 L1505.76 65.6895 L1505.76 72.576 L1470.93 72.576 L1470.93 65.6895 Z\" fill=\"#000000\" fill-rule=\"evenodd\" fill-opacity=\"1\" /><path clip-path=\"url(#clip470)\" d=\"M 0 0 M1547.08 39.9662 Q1552.96 41.222 1556.24 45.1919 Q1559.56 49.1618 1559.56 54.9951 Q1559.56 63.9476 1553.4 68.8492 Q1547.24 73.7508 1535.9 73.7508 Q1532.09 73.7508 1528.04 72.9811 Q1524.03 72.2519 1519.74 70.7531 L1519.74 62.8538 Q1523.14 64.8388 1527.19 65.8515 Q1531.24 66.8642 1535.66 66.8642 Q1543.36 66.8642 1547.37 63.826 Q1551.42 60.7879 1551.42 54.9951 Q1551.42 49.6479 1547.65 46.6502 Q1543.92 43.612 1537.24 43.612 L1530.19 43.612 L1530.19 36.8875 L1537.56 36.8875 Q1543.6 36.8875 1546.8 34.4975 Q1550 32.067 1550 27.5299 Q1550 22.8714 1546.68 20.4004 Q1543.4 17.8888 1537.24 17.8888 Q1533.88 17.8888 1530.03 18.618 Q1526.18 19.3471 1521.56 20.8865 L1521.56 13.5948 Q1526.22 12.2985 1530.27 11.6504 Q1534.36 11.0023 1537.97 11.0023 Q1547.28 11.0023 1552.71 15.2557 Q1558.14 19.4686 1558.14 26.6793 Q1558.14 31.7024 1555.27 35.1862 Q1552.39 38.6294 1547.08 39.9662 Z\" fill=\"#000000\" fill-rule=\"evenodd\" fill-opacity=\"1\" /><path clip-path=\"url(#clip470)\" d=\"M 0 0 M1599.87 39.9662 Q1605.74 41.222 1609.02 45.1919 Q1612.34 49.1618 1612.34 54.9951 Q1612.34 63.9476 1606.18 68.8492 Q1600.03 73.7508 1588.69 73.7508 Q1584.88 73.7508 1580.83 72.9811 Q1576.82 72.2519 1572.52 70.7531 L1572.52 62.8538 Q1575.92 64.8388 1579.98 65.8515 Q1584.03 66.8642 1588.44 66.8642 Q1596.14 66.8642 1600.15 63.826 Q1604.2 60.7879 1604.2 54.9951 Q1604.2 49.6479 1600.43 46.6502 Q1596.71 43.612 1590.02 43.612 L1582.97 43.612 L1582.97 36.8875 L1590.35 36.8875 Q1596.38 36.8875 1599.58 34.4975 Q1602.78 32.067 1602.78 27.5299 Q1602.78 22.8714 1599.46 20.4004 Q1596.18 17.8888 1590.02 17.8888 Q1586.66 17.8888 1582.81 18.618 Q1578.96 19.3471 1574.34 20.8865 L1574.34 13.5948 Q1579 12.2985 1583.05 11.6504 Q1587.15 11.0023 1590.75 11.0023 Q1600.07 11.0023 1605.5 15.2557 Q1610.92 19.4686 1610.92 26.6793 Q1610.92 31.7024 1608.05 35.1862 Q1605.17 38.6294 1599.87 39.9662 Z\" fill=\"#000000\" fill-rule=\"evenodd\" fill-opacity=\"1\" /><path clip-path=\"url(#clip470)\" d=\"M 0 0 M1646.37 39.075 Q1640.86 39.075 1637.62 42.8424 Q1634.42 46.6097 1634.42 53.1722 Q1634.42 59.6941 1637.62 63.502 Q1640.86 67.2693 1646.37 67.2693 Q1651.88 67.2693 1655.08 63.502 Q1658.32 59.6941 1658.32 53.1722 Q1658.32 46.6097 1655.08 42.8424 Q1651.88 39.075 1646.37 39.075 M1662.61 13.4328 L1662.61 20.8865 Q1659.54 19.4281 1656.38 18.6585 Q1653.26 17.8888 1650.18 17.8888 Q1642.08 17.8888 1637.78 23.3575 Q1633.53 28.8262 1632.92 39.8852 Q1635.31 36.3609 1638.92 34.4975 Q1642.52 32.5936 1646.86 32.5936 Q1655.97 32.5936 1661.24 38.1433 Q1666.54 43.6525 1666.54 53.1722 Q1666.54 62.4892 1661.03 68.12 Q1655.52 73.7508 1646.37 73.7508 Q1635.88 73.7508 1630.33 65.73 Q1624.78 57.6687 1624.78 42.3968 Q1624.78 28.0566 1631.58 19.5497 Q1638.39 11.0023 1649.85 11.0023 Q1652.93 11.0023 1656.05 11.6099 Q1659.21 12.2175 1662.61 13.4328 Z\" fill=\"#000000\" fill-rule=\"evenodd\" fill-opacity=\"1\" /><path clip-path=\"url(#clip470)\" d=\"M 0 0 M1698.14 43.8551 Q1692.31 43.8551 1688.94 46.9743 Q1685.62 50.0935 1685.62 55.5622 Q1685.62 61.0309 1688.94 64.1501 Q1692.31 67.2693 1698.14 67.2693 Q1703.97 67.2693 1707.34 64.1501 Q1710.7 60.9904 1710.7 55.5622 Q1710.7 50.0935 1707.34 46.9743 Q1704.01 43.8551 1698.14 43.8551 M1689.96 40.3713 Q1684.69 39.075 1681.73 35.4697 Q1678.82 31.8644 1678.82 26.6793 Q1678.82 19.4281 1683.96 15.2152 Q1689.15 11.0023 1698.14 11.0023 Q1707.17 11.0023 1712.32 15.2152 Q1717.46 19.4281 1717.46 26.6793 Q1717.46 31.8644 1714.51 35.4697 Q1711.59 39.075 1706.36 40.3713 Q1712.28 41.7486 1715.56 45.759 Q1718.88 49.7694 1718.88 55.5622 Q1718.88 64.3527 1713.49 69.0517 Q1708.15 73.7508 1698.14 73.7508 Q1688.13 73.7508 1682.75 69.0517 Q1677.4 64.3527 1677.4 55.5622 Q1677.4 49.7694 1680.72 45.759 Q1684.04 41.7486 1689.96 40.3713 M1686.96 27.4489 Q1686.96 32.148 1689.88 34.7811 Q1692.83 37.4142 1698.14 37.4142 Q1703.41 37.4142 1706.36 34.7811 Q1709.36 32.148 1709.36 27.4489 Q1709.36 22.7499 1706.36 20.1168 Q1703.41 17.4837 1698.14 17.4837 Q1692.83 17.4837 1689.88 20.1168 Q1686.96 22.7499 1686.96 27.4489 Z\" fill=\"#000000\" fill-rule=\"evenodd\" fill-opacity=\"1\" /><path clip-path=\"url(#clip470)\" d=\"M 0 0 M1758.22 39.9662 Q1764.09 41.222 1767.37 45.1919 Q1770.69 49.1618 1770.69 54.9951 Q1770.69 63.9476 1764.53 68.8492 Q1758.38 73.7508 1747.03 73.7508 Q1743.23 73.7508 1739.18 72.9811 Q1735.17 72.2519 1730.87 70.7531 L1730.87 62.8538 Q1734.27 64.8388 1738.33 65.8515 Q1742.38 66.8642 1746.79 66.8642 Q1754.49 66.8642 1758.5 63.826 Q1762.55 60.7879 1762.55 54.9951 Q1762.55 49.6479 1758.78 46.6502 Q1755.06 43.612 1748.37 43.612 L1741.32 43.612 L1741.32 36.8875 L1748.7 36.8875 Q1754.73 36.8875 1757.93 34.4975 Q1761.13 32.067 1761.13 27.5299 Q1761.13 22.8714 1757.81 20.4004 Q1754.53 17.8888 1748.37 17.8888 Q1745.01 17.8888 1741.16 18.618 Q1737.31 19.3471 1732.69 20.8865 L1732.69 13.5948 Q1737.35 12.2985 1741.4 11.6504 Q1745.5 11.0023 1749.1 11.0023 Q1758.42 11.0023 1763.85 15.2557 Q1769.27 19.4686 1769.27 26.6793 Q1769.27 31.7024 1766.4 35.1862 Q1763.52 38.6294 1758.22 39.9662 Z\" fill=\"#000000\" fill-rule=\"evenodd\" fill-opacity=\"1\" /><path clip-path=\"url(#clip470)\" d=\"M 0 0 M1793.26 65.6895 L1821.81 65.6895 L1821.81 72.576 L1783.41 72.576 L1783.41 65.6895 Q1788.07 60.8689 1796.09 52.7671 Q1804.15 44.6248 1806.22 42.2752 Q1810.15 37.8598 1811.69 34.8216 Q1813.27 31.7429 1813.27 28.7857 Q1813.27 23.9651 1809.86 20.927 Q1806.5 17.8888 1801.07 17.8888 Q1797.23 17.8888 1792.93 19.2256 Q1788.68 20.5624 1783.82 23.2765 L1783.82 15.0127 Q1788.76 13.0277 1793.05 12.015 Q1797.35 11.0023 1800.91 11.0023 Q1810.31 11.0023 1815.9 15.7013 Q1821.49 20.4004 1821.49 28.2591 Q1821.49 31.9859 1820.07 35.3482 Q1818.7 38.6699 1815.01 43.2069 Q1814 44.3817 1808.57 50.0125 Q1803.14 55.6027 1793.26 65.6895 Z\" fill=\"#000000\" fill-rule=\"evenodd\" fill-opacity=\"1\" /><path clip-path=\"url(#clip470)\" d=\"M 0 0 M1856.49 43.8551 Q1850.66 43.8551 1847.29 46.9743 Q1843.97 50.0935 1843.97 55.5622 Q1843.97 61.0309 1847.29 64.1501 Q1850.66 67.2693 1856.49 67.2693 Q1862.32 67.2693 1865.69 64.1501 Q1869.05 60.9904 1869.05 55.5622 Q1869.05 50.0935 1865.69 46.9743 Q1862.36 43.8551 1856.49 43.8551 M1848.31 40.3713 Q1843.04 39.075 1840.08 35.4697 Q1837.17 31.8644 1837.17 26.6793 Q1837.17 19.4281 1842.31 15.2152 Q1847.5 11.0023 1856.49 11.0023 Q1865.52 11.0023 1870.67 15.2152 Q1875.81 19.4281 1875.81 26.6793 Q1875.81 31.8644 1872.86 35.4697 Q1869.94 39.075 1864.71 40.3713 Q1870.63 41.7486 1873.91 45.759 Q1877.23 49.7694 1877.23 55.5622 Q1877.23 64.3527 1871.84 69.0517 Q1866.5 73.7508 1856.49 73.7508 Q1846.48 73.7508 1841.1 69.0517 Q1835.75 64.3527 1835.75 55.5622 Q1835.75 49.7694 1839.07 45.759 Q1842.39 41.7486 1848.31 40.3713 M1845.31 27.4489 Q1845.31 32.148 1848.23 34.7811 Q1851.18 37.4142 1856.49 37.4142 Q1861.76 37.4142 1864.71 34.7811 Q1867.71 32.148 1867.71 27.4489 Q1867.71 22.7499 1864.71 20.1168 Q1861.76 17.4837 1856.49 17.4837 Q1851.18 17.4837 1848.23 20.1168 Q1845.31 22.7499 1845.31 27.4489 Z\" fill=\"#000000\" fill-rule=\"evenodd\" fill-opacity=\"1\" /><polyline clip-path=\"url(#clip472)\" style=\"stroke:#009af9; stroke-width:4; stroke-opacity:1; fill:none\" points=\"\n",
       "  316.512,1607.72 331.957,1616.53 347.402,1622.49 362.847,1625.04 378.291,1623.67 393.736,1618.01 409.181,1607.77 424.626,1592.76 440.071,1572.92 455.515,1548.28 \n",
       "  470.96,1518.97 486.405,1485.21 501.85,1447.3 517.295,1405.62 532.739,1360.61 548.184,1312.76 563.629,1262.6 579.074,1210.69 594.519,1157.6 609.963,1103.91 \n",
       "  625.408,1050.18 640.853,996.963 656.298,944.794 671.743,894.166 687.188,845.532 702.632,799.305 718.077,755.844 733.522,715.458 748.967,678.401 764.412,644.87 \n",
       "  779.856,615.01 795.301,588.907 810.746,566.599 826.191,548.073 841.636,533.268 857.08,522.084 872.525,514.38 887.97,509.981 903.415,508.686 918.86,510.267 \n",
       "  934.305,514.479 949.749,521.059 965.194,529.738 980.639,540.239 996.084,552.282 1011.53,565.592 1026.97,579.895 1042.42,594.929 1057.86,610.439 1073.31,626.183 \n",
       "  1088.75,641.935 1104.2,657.48 1119.64,672.623 1135.09,687.182 1150.53,700.994 1165.98,713.912 1181.42,725.804 1196.87,736.555 1212.31,746.067 1227.76,754.254 \n",
       "  1243.2,761.046 1258.65,766.386 1274.09,770.232 1289.54,772.551 1304.98,773.326 1320.42,772.551 1335.87,770.232 1351.31,766.386 1366.76,761.046 1382.2,754.254 \n",
       "  1397.65,746.067 1413.09,736.555 1428.54,725.804 1443.98,713.912 1459.43,700.994 1474.87,687.182 1490.32,672.623 1505.76,657.48 1521.21,641.935 1536.65,626.183 \n",
       "  1552.1,610.439 1567.54,594.929 1582.99,579.895 1598.43,565.592 1613.88,552.282 1629.32,540.239 1644.77,529.738 1660.21,521.059 1675.66,514.479 1691.1,510.267 \n",
       "  1706.55,508.686 1721.99,509.981 1737.43,514.38 1752.88,522.084 1768.32,533.268 1783.77,548.073 1799.21,566.599 1814.66,588.907 1830.1,615.01 1845.55,644.87 \n",
       "  1860.99,678.401 1876.44,715.458 1891.88,755.844 1907.33,799.305 1922.77,845.532 1938.22,894.166 1953.66,944.794 1969.11,996.963 1984.55,1050.18 2000,1103.91 \n",
       "  2015.44,1157.6 2030.89,1210.69 2046.33,1262.6 2061.78,1312.76 2077.22,1360.61 2092.67,1405.62 2108.11,1447.3 2123.55,1485.21 2139,1518.97 2154.44,1548.28 \n",
       "  2169.89,1572.92 2185.33,1592.76 2200.78,1607.77 2216.22,1618.01 2231.67,1623.67 2247.11,1625.04 2262.56,1622.49 2278,1616.53 2293.45,1607.72 \n",
       "  \"/>\n",
       "<polyline clip-path=\"url(#clip472)\" style=\"stroke:#e26f46; stroke-width:4; stroke-opacity:1; fill:none\" points=\"\n",
       "  316.512,1423.18 331.957,1413.03 347.402,1402.87 362.847,1392.72 378.291,1382.56 393.736,1372.41 409.181,1362.26 424.626,1352.1 440.071,1341.95 455.515,1331.79 \n",
       "  470.96,1321.64 486.405,1311.49 501.85,1301.33 517.295,1291.18 532.739,1281.02 548.184,1270.87 563.629,1260.72 579.074,1250.56 594.519,1240.41 609.963,1230.25 \n",
       "  625.408,1220.1 640.853,1209.95 656.298,1199.79 671.743,1189.64 687.188,1179.48 702.632,1169.33 718.077,1159.18 733.522,1149.02 748.967,1138.87 764.412,1128.71 \n",
       "  779.856,1118.56 795.301,1108.41 810.746,1098.25 826.191,1088.1 841.636,1077.94 857.08,1067.79 872.525,1057.64 887.97,1047.48 903.415,1037.33 918.86,1027.18 \n",
       "  934.305,1017.02 949.749,1006.87 965.194,996.713 980.639,986.559 996.084,976.405 1011.53,966.251 1026.97,956.097 1042.42,945.943 1057.86,935.789 1073.31,925.635 \n",
       "  1088.75,915.482 1104.2,905.328 1119.64,895.174 1135.09,885.02 1150.53,874.866 1165.98,864.712 1181.42,854.558 1196.87,844.404 1212.31,834.25 1227.76,824.096 \n",
       "  1243.2,813.942 1258.65,803.788 1274.09,793.634 1289.54,783.48 1304.98,773.326 1320.42,763.172 1335.87,753.018 1351.31,742.864 1366.76,732.71 1382.2,722.556 \n",
       "  1397.65,712.402 1413.09,702.248 1428.54,692.094 1443.98,681.94 1459.43,671.786 1474.87,661.632 1490.32,651.478 1505.76,641.324 1521.21,631.17 1536.65,621.016 \n",
       "  1552.1,610.863 1567.54,600.709 1582.99,590.555 1598.43,580.401 1613.88,570.247 1629.32,560.093 1644.77,549.939 1660.21,539.785 1675.66,529.631 1691.1,519.477 \n",
       "  1706.55,509.323 1721.99,499.169 1737.43,489.015 1752.88,478.861 1768.32,468.707 1783.77,458.553 1799.21,448.399 1814.66,438.245 1830.1,428.091 1845.55,417.937 \n",
       "  1860.99,407.783 1876.44,397.629 1891.88,387.475 1907.33,377.321 1922.77,367.167 1938.22,357.013 1953.66,346.859 1969.11,336.705 1984.55,326.551 2000,316.397 \n",
       "  2015.44,306.244 2030.89,296.09 2046.33,285.936 2061.78,275.782 2077.22,265.628 2092.67,255.474 2108.11,245.32 2123.55,235.166 2139,225.012 2154.44,214.858 \n",
       "  2169.89,204.704 2185.33,194.55 2200.78,184.396 2216.22,174.242 2231.67,164.088 2247.11,153.934 2262.56,143.78 2278,133.626 2293.45,123.472 \n",
       "  \"/>\n",
       "<polyline clip-path=\"url(#clip472)\" style=\"stroke:#3da44d; stroke-width:4; stroke-opacity:1; fill:none\" points=\"\n",
       "  1057.86,935.789 1552.1,935.789 1552.1,610.863 1057.86,610.863 1057.86,935.789 \n",
       "  \"/>\n",
       "<path clip-path=\"url(#clip470)\" d=\"\n",
       "M1997.06 408.716 L2282.9 408.716 L2282.9 166.796 L1997.06 166.796  Z\n",
       "  \" fill=\"#ffffff\" fill-rule=\"evenodd\" fill-opacity=\"1\"/>\n",
       "<polyline clip-path=\"url(#clip470)\" style=\"stroke:#000000; stroke-width:4; stroke-opacity:1; fill:none\" points=\"\n",
       "  1997.06,408.716 2282.9,408.716 2282.9,166.796 1997.06,166.796 1997.06,408.716 \n",
       "  \"/>\n",
       "<polyline clip-path=\"url(#clip470)\" style=\"stroke:#009af9; stroke-width:4; stroke-opacity:1; fill:none\" points=\"\n",
       "  2020.34,227.276 2160.04,227.276 \n",
       "  \"/>\n",
       "<path clip-path=\"url(#clip470)\" d=\"M 0 0 M2197.17 246.963 Q2195.36 251.593 2193.65 253.005 Q2191.94 254.417 2189.07 254.417 L2185.67 254.417 L2185.67 250.852 L2188.17 250.852 Q2189.92 250.852 2190.9 250.019 Q2191.87 249.185 2193.05 246.083 L2193.81 244.139 L2183.33 218.63 L2187.84 218.63 L2195.94 238.908 L2204.04 218.63 L2208.56 218.63 L2197.17 246.963 Z\" fill=\"#000000\" fill-rule=\"evenodd\" fill-opacity=\"1\" /><path clip-path=\"url(#clip470)\" d=\"M 0 0 M2215.85 240.621 L2223.49 240.621 L2223.49 214.255 L2215.18 215.922 L2215.18 211.662 L2223.44 209.996 L2228.12 209.996 L2228.12 240.621 L2235.76 240.621 L2235.76 244.556 L2215.85 244.556 L2215.85 240.621 Z\" fill=\"#000000\" fill-rule=\"evenodd\" fill-opacity=\"1\" /><polyline clip-path=\"url(#clip470)\" style=\"stroke:#e26f46; stroke-width:4; stroke-opacity:1; fill:none\" points=\"\n",
       "  2020.34,287.756 2160.04,287.756 \n",
       "  \"/>\n",
       "<path clip-path=\"url(#clip470)\" d=\"M 0 0 M2197.17 307.443 Q2195.36 312.073 2193.65 313.485 Q2191.94 314.897 2189.07 314.897 L2185.67 314.897 L2185.67 311.332 L2188.17 311.332 Q2189.92 311.332 2190.9 310.499 Q2191.87 309.665 2193.05 306.563 L2193.81 304.619 L2183.33 279.11 L2187.84 279.11 L2195.94 299.388 L2204.04 279.11 L2208.56 279.11 L2197.17 307.443 Z\" fill=\"#000000\" fill-rule=\"evenodd\" fill-opacity=\"1\" /><path clip-path=\"url(#clip470)\" d=\"M 0 0 M2219.07 301.101 L2235.39 301.101 L2235.39 305.036 L2213.44 305.036 L2213.44 301.101 Q2216.1 298.346 2220.69 293.716 Q2225.29 289.064 2226.48 287.721 Q2228.72 285.198 2229.6 283.462 Q2230.5 281.703 2230.5 280.013 Q2230.5 277.258 2228.56 275.522 Q2226.64 273.786 2223.54 273.786 Q2221.34 273.786 2218.88 274.55 Q2216.45 275.314 2213.67 276.865 L2213.67 272.142 Q2216.5 271.008 2218.95 270.429 Q2221.41 269.851 2223.44 269.851 Q2228.81 269.851 2232.01 272.536 Q2235.2 275.221 2235.2 279.712 Q2235.2 281.841 2234.39 283.763 Q2233.6 285.661 2231.5 288.253 Q2230.92 288.925 2227.82 292.142 Q2224.72 295.337 2219.07 301.101 Z\" fill=\"#000000\" fill-rule=\"evenodd\" fill-opacity=\"1\" /><polyline clip-path=\"url(#clip470)\" style=\"stroke:#3da44d; stroke-width:4; stroke-opacity:1; fill:none\" points=\"\n",
       "  2020.34,348.236 2160.04,348.236 \n",
       "  \"/>\n",
       "<path clip-path=\"url(#clip470)\" d=\"M 0 0 M2197.17 367.923 Q2195.36 372.553 2193.65 373.965 Q2191.94 375.377 2189.07 375.377 L2185.67 375.377 L2185.67 371.812 L2188.17 371.812 Q2189.92 371.812 2190.9 370.979 Q2191.87 370.145 2193.05 367.043 L2193.81 365.099 L2183.33 339.59 L2187.84 339.59 L2195.94 359.868 L2204.04 339.59 L2208.56 339.59 L2197.17 367.923 Z\" fill=\"#000000\" fill-rule=\"evenodd\" fill-opacity=\"1\" /><path clip-path=\"url(#clip470)\" d=\"M 0 0 M2229.21 346.882 Q2232.56 347.599 2234.44 349.868 Q2236.34 352.136 2236.34 355.469 Q2236.34 360.585 2232.82 363.386 Q2229.3 366.187 2222.82 366.187 Q2220.64 366.187 2218.33 365.747 Q2216.04 365.331 2213.58 364.474 L2213.58 359.96 Q2215.53 361.094 2217.84 361.673 Q2220.16 362.252 2222.68 362.252 Q2227.08 362.252 2229.37 360.516 Q2231.68 358.78 2231.68 355.469 Q2231.68 352.414 2229.53 350.701 Q2227.4 348.965 2223.58 348.965 L2219.55 348.965 L2219.55 345.122 L2223.77 345.122 Q2227.22 345.122 2229.04 343.757 Q2230.87 342.368 2230.87 339.775 Q2230.87 337.113 2228.98 335.701 Q2227.1 334.266 2223.58 334.266 Q2221.66 334.266 2219.46 334.683 Q2217.26 335.099 2214.62 335.979 L2214.62 331.812 Q2217.29 331.071 2219.6 330.701 Q2221.94 330.331 2224 330.331 Q2229.32 330.331 2232.42 332.761 Q2235.53 335.169 2235.53 339.289 Q2235.53 342.159 2233.88 344.15 Q2232.24 346.118 2229.21 346.882 Z\" fill=\"#000000\" fill-rule=\"evenodd\" fill-opacity=\"1\" /></svg>\n"
      ]
     },
     "execution_count": 37,
     "metadata": {},
     "output_type": "execute_result"
    }
   ],
   "source": [
    "xrange = -1:1/64:1\n",
    "plot(xrange, x->Qcⁿ(x, (C2,4)))\n",
    "plot!(xrange, x->x)\n",
    "ylims!(-1,1)\n",
    "\n",
    "x₁ = -0.25\n",
    "plot!([x₁, -x₁, -x₁, x₁, x₁], [x₁, x₁, -x₁, -x₁, x₁])\n",
    "\n",
    "xlabel!(\"x\")\n",
    "ylabel!(\"Q_c^4(x)\")\n",
    "title!(\"c₂ = $C2\")"
   ]
  },
  {
   "cell_type": "markdown",
   "metadata": {},
   "source": [
    "Nuevamente, el recuadro en la gráfica de $c_2$ muestra un detalle de\n",
    "$Q_{c_2}^4(x)$ que, localmente, se *parece* a $Q_{c_0}(x)$. En este caso,\n",
    "la comparación con el diagrama original es directa, o una doble reflexión\n",
    "corresponde a la identidad."
   ]
  },
  {
   "cell_type": "code",
   "execution_count": 38,
   "metadata": {},
   "outputs": [
    {
     "data": {
      "text/plain": [
       "-1.3815474844320617"
      ]
     },
     "execution_count": 38,
     "metadata": {},
     "output_type": "execute_result"
    }
   ],
   "source": [
    "Q8c = c -> Qcⁿ(0.0, (c, 8))\n",
    "C3 = roots_newton(Q8c, -1.4)"
   ]
  },
  {
   "cell_type": "code",
   "execution_count": 42,
   "metadata": {},
   "outputs": [
    {
     "data": {
      "text/plain": [
       "-1.4002530812147829"
      ]
     },
     "execution_count": 42,
     "metadata": {},
     "output_type": "execute_result"
    }
   ],
   "source": [
    "Q32c = c -> Qcⁿ(0.0, (c, 32))\n",
    "C3 = roots_newton(Q32c, -1.4)"
   ]
  },
  {
   "cell_type": "code",
   "execution_count": 39,
   "metadata": {},
   "outputs": [
    {
     "data": {
      "image/svg+xml": [
       "<?xml version=\"1.0\" encoding=\"utf-8\"?>\n",
       "<svg xmlns=\"http://www.w3.org/2000/svg\" xmlns:xlink=\"http://www.w3.org/1999/xlink\" width=\"600\" height=\"400\" viewBox=\"0 0 2400 1600\">\n",
       "<defs>\n",
       "  <clipPath id=\"clip510\">\n",
       "    <rect x=\"0\" y=\"0\" width=\"2400\" height=\"1600\"/>\n",
       "  </clipPath>\n",
       "</defs>\n",
       "<path clip-path=\"url(#clip510)\" d=\"\n",
       "M0 1600 L2400 1600 L2400 0 L0 0  Z\n",
       "  \" fill=\"#ffffff\" fill-rule=\"evenodd\" fill-opacity=\"1\"/>\n",
       "<defs>\n",
       "  <clipPath id=\"clip511\">\n",
       "    <rect x=\"480\" y=\"0\" width=\"1681\" height=\"1600\"/>\n",
       "  </clipPath>\n",
       "</defs>\n",
       "<path clip-path=\"url(#clip510)\" d=\"\n",
       "M257.204 1423.18 L2352.76 1423.18 L2352.76 123.472 L257.204 123.472  Z\n",
       "  \" fill=\"#ffffff\" fill-rule=\"evenodd\" fill-opacity=\"1\"/>\n",
       "<defs>\n",
       "  <clipPath id=\"clip512\">\n",
       "    <rect x=\"257\" y=\"123\" width=\"2097\" height=\"1301\"/>\n",
       "  </clipPath>\n",
       "</defs>\n",
       "<polyline clip-path=\"url(#clip512)\" style=\"stroke:#000000; stroke-width:2; stroke-opacity:0.1; fill:none\" points=\"\n",
       "  316.512,1423.18 316.512,123.472 \n",
       "  \"/>\n",
       "<polyline clip-path=\"url(#clip512)\" style=\"stroke:#000000; stroke-width:2; stroke-opacity:0.1; fill:none\" points=\"\n",
       "  810.746,1423.18 810.746,123.472 \n",
       "  \"/>\n",
       "<polyline clip-path=\"url(#clip512)\" style=\"stroke:#000000; stroke-width:2; stroke-opacity:0.1; fill:none\" points=\"\n",
       "  1304.98,1423.18 1304.98,123.472 \n",
       "  \"/>\n",
       "<polyline clip-path=\"url(#clip512)\" style=\"stroke:#000000; stroke-width:2; stroke-opacity:0.1; fill:none\" points=\"\n",
       "  1799.21,1423.18 1799.21,123.472 \n",
       "  \"/>\n",
       "<polyline clip-path=\"url(#clip512)\" style=\"stroke:#000000; stroke-width:2; stroke-opacity:0.1; fill:none\" points=\"\n",
       "  2293.45,1423.18 2293.45,123.472 \n",
       "  \"/>\n",
       "<polyline clip-path=\"url(#clip510)\" style=\"stroke:#000000; stroke-width:4; stroke-opacity:1; fill:none\" points=\"\n",
       "  257.204,1423.18 2352.76,1423.18 \n",
       "  \"/>\n",
       "<polyline clip-path=\"url(#clip510)\" style=\"stroke:#000000; stroke-width:4; stroke-opacity:1; fill:none\" points=\"\n",
       "  316.512,1423.18 316.512,1407.58 \n",
       "  \"/>\n",
       "<polyline clip-path=\"url(#clip510)\" style=\"stroke:#000000; stroke-width:4; stroke-opacity:1; fill:none\" points=\"\n",
       "  810.746,1423.18 810.746,1407.58 \n",
       "  \"/>\n",
       "<polyline clip-path=\"url(#clip510)\" style=\"stroke:#000000; stroke-width:4; stroke-opacity:1; fill:none\" points=\"\n",
       "  1304.98,1423.18 1304.98,1407.58 \n",
       "  \"/>\n",
       "<polyline clip-path=\"url(#clip510)\" style=\"stroke:#000000; stroke-width:4; stroke-opacity:1; fill:none\" points=\"\n",
       "  1799.21,1423.18 1799.21,1407.58 \n",
       "  \"/>\n",
       "<polyline clip-path=\"url(#clip510)\" style=\"stroke:#000000; stroke-width:4; stroke-opacity:1; fill:none\" points=\"\n",
       "  2293.45,1423.18 2293.45,1407.58 \n",
       "  \"/>\n",
       "<path clip-path=\"url(#clip510)\" d=\"M 0 0 M263.04 1467.02 L292.716 1467.02 L292.716 1470.96 L263.04 1470.96 L263.04 1467.02 Z\" fill=\"#000000\" fill-rule=\"evenodd\" fill-opacity=\"1\" /><path clip-path=\"url(#clip510)\" d=\"M 0 0 M303.619 1479.92 L311.257 1479.92 L311.257 1453.55 L302.947 1455.22 L302.947 1450.96 L311.211 1449.29 L315.887 1449.29 L315.887 1479.92 L323.526 1479.92 L323.526 1483.85 L303.619 1483.85 L303.619 1479.92 Z\" fill=\"#000000\" fill-rule=\"evenodd\" fill-opacity=\"1\" /><path clip-path=\"url(#clip510)\" d=\"M 0 0 M332.97 1477.97 L337.855 1477.97 L337.855 1483.85 L332.97 1483.85 L332.97 1477.97 Z\" fill=\"#000000\" fill-rule=\"evenodd\" fill-opacity=\"1\" /><path clip-path=\"url(#clip510)\" d=\"M 0 0 M358.04 1452.37 Q354.429 1452.37 352.6 1455.94 Q350.794 1459.48 350.794 1466.61 Q350.794 1473.71 352.6 1477.28 Q354.429 1480.82 358.04 1480.82 Q361.674 1480.82 363.479 1477.28 Q365.308 1473.71 365.308 1466.61 Q365.308 1459.48 363.479 1455.94 Q361.674 1452.37 358.04 1452.37 M358.04 1448.67 Q363.85 1448.67 366.905 1453.27 Q369.984 1457.86 369.984 1466.61 Q369.984 1475.33 366.905 1479.94 Q363.85 1484.52 358.04 1484.52 Q352.23 1484.52 349.151 1479.94 Q346.095 1475.33 346.095 1466.61 Q346.095 1457.86 349.151 1453.27 Q352.23 1448.67 358.04 1448.67 Z\" fill=\"#000000\" fill-rule=\"evenodd\" fill-opacity=\"1\" /><path clip-path=\"url(#clip510)\" d=\"M 0 0 M757.772 1467.02 L787.448 1467.02 L787.448 1470.96 L757.772 1470.96 L757.772 1467.02 Z\" fill=\"#000000\" fill-rule=\"evenodd\" fill-opacity=\"1\" /><path clip-path=\"url(#clip510)\" d=\"M 0 0 M807.54 1452.37 Q803.929 1452.37 802.1 1455.94 Q800.295 1459.48 800.295 1466.61 Q800.295 1473.71 802.1 1477.28 Q803.929 1480.82 807.54 1480.82 Q811.174 1480.82 812.98 1477.28 Q814.809 1473.71 814.809 1466.61 Q814.809 1459.48 812.98 1455.94 Q811.174 1452.37 807.54 1452.37 M807.54 1448.67 Q813.35 1448.67 816.406 1453.27 Q819.484 1457.86 819.484 1466.61 Q819.484 1475.33 816.406 1479.94 Q813.35 1484.52 807.54 1484.52 Q801.73 1484.52 798.651 1479.94 Q795.596 1475.33 795.596 1466.61 Q795.596 1457.86 798.651 1453.27 Q801.73 1448.67 807.54 1448.67 Z\" fill=\"#000000\" fill-rule=\"evenodd\" fill-opacity=\"1\" /><path clip-path=\"url(#clip510)\" d=\"M 0 0 M827.702 1477.97 L832.586 1477.97 L832.586 1483.85 L827.702 1483.85 L827.702 1477.97 Z\" fill=\"#000000\" fill-rule=\"evenodd\" fill-opacity=\"1\" /><path clip-path=\"url(#clip510)\" d=\"M 0 0 M842.818 1449.29 L861.174 1449.29 L861.174 1453.23 L847.1 1453.23 L847.1 1461.7 Q848.119 1461.35 849.137 1461.19 Q850.156 1461 851.174 1461 Q856.961 1461 860.341 1464.18 Q863.72 1467.35 863.72 1472.76 Q863.72 1478.34 860.248 1481.44 Q856.776 1484.52 850.456 1484.52 Q848.281 1484.52 846.012 1484.15 Q843.767 1483.78 841.359 1483.04 L841.359 1478.34 Q843.443 1479.48 845.665 1480.03 Q847.887 1480.59 850.364 1480.59 Q854.368 1480.59 856.706 1478.48 Q859.044 1476.38 859.044 1472.76 Q859.044 1469.15 856.706 1467.05 Q854.368 1464.94 850.364 1464.94 Q848.489 1464.94 846.614 1465.36 Q844.762 1465.77 842.818 1466.65 L842.818 1449.29 Z\" fill=\"#000000\" fill-rule=\"evenodd\" fill-opacity=\"1\" /><path clip-path=\"url(#clip510)\" d=\"M 0 0 M1282.36 1452.37 Q1278.75 1452.37 1276.92 1455.94 Q1275.12 1459.48 1275.12 1466.61 Q1275.12 1473.71 1276.92 1477.28 Q1278.75 1480.82 1282.36 1480.82 Q1286 1480.82 1287.8 1477.28 Q1289.63 1473.71 1289.63 1466.61 Q1289.63 1459.48 1287.8 1455.94 Q1286 1452.37 1282.36 1452.37 M1282.36 1448.67 Q1288.17 1448.67 1291.23 1453.27 Q1294.31 1457.86 1294.31 1466.61 Q1294.31 1475.33 1291.23 1479.94 Q1288.17 1484.52 1282.36 1484.52 Q1276.55 1484.52 1273.48 1479.94 Q1270.42 1475.33 1270.42 1466.61 Q1270.42 1457.86 1273.48 1453.27 Q1276.55 1448.67 1282.36 1448.67 Z\" fill=\"#000000\" fill-rule=\"evenodd\" fill-opacity=\"1\" /><path clip-path=\"url(#clip510)\" d=\"M 0 0 M1302.53 1477.97 L1307.41 1477.97 L1307.41 1483.85 L1302.53 1483.85 L1302.53 1477.97 Z\" fill=\"#000000\" fill-rule=\"evenodd\" fill-opacity=\"1\" /><path clip-path=\"url(#clip510)\" d=\"M 0 0 M1327.6 1452.37 Q1323.98 1452.37 1322.16 1455.94 Q1320.35 1459.48 1320.35 1466.61 Q1320.35 1473.71 1322.16 1477.28 Q1323.98 1480.82 1327.6 1480.82 Q1331.23 1480.82 1333.04 1477.28 Q1334.86 1473.71 1334.86 1466.61 Q1334.86 1459.48 1333.04 1455.94 Q1331.23 1452.37 1327.6 1452.37 M1327.6 1448.67 Q1333.41 1448.67 1336.46 1453.27 Q1339.54 1457.86 1339.54 1466.61 Q1339.54 1475.33 1336.46 1479.94 Q1333.41 1484.52 1327.6 1484.52 Q1321.79 1484.52 1318.71 1479.94 Q1315.65 1475.33 1315.65 1466.61 Q1315.65 1457.86 1318.71 1453.27 Q1321.79 1448.67 1327.6 1448.67 Z\" fill=\"#000000\" fill-rule=\"evenodd\" fill-opacity=\"1\" /><path clip-path=\"url(#clip510)\" d=\"M 0 0 M1777.1 1452.37 Q1773.48 1452.37 1771.66 1455.94 Q1769.85 1459.48 1769.85 1466.61 Q1769.85 1473.71 1771.66 1477.28 Q1773.48 1480.82 1777.1 1480.82 Q1780.73 1480.82 1782.54 1477.28 Q1784.36 1473.71 1784.36 1466.61 Q1784.36 1459.48 1782.54 1455.94 Q1780.73 1452.37 1777.1 1452.37 M1777.1 1448.67 Q1782.91 1448.67 1785.96 1453.27 Q1789.04 1457.86 1789.04 1466.61 Q1789.04 1475.33 1785.96 1479.94 Q1782.91 1484.52 1777.1 1484.52 Q1771.29 1484.52 1768.21 1479.94 Q1765.15 1475.33 1765.15 1466.61 Q1765.15 1457.86 1768.21 1453.27 Q1771.29 1448.67 1777.1 1448.67 Z\" fill=\"#000000\" fill-rule=\"evenodd\" fill-opacity=\"1\" /><path clip-path=\"url(#clip510)\" d=\"M 0 0 M1797.26 1477.97 L1802.14 1477.97 L1802.14 1483.85 L1797.26 1483.85 L1797.26 1477.97 Z\" fill=\"#000000\" fill-rule=\"evenodd\" fill-opacity=\"1\" /><path clip-path=\"url(#clip510)\" d=\"M 0 0 M1812.37 1449.29 L1830.73 1449.29 L1830.73 1453.23 L1816.66 1453.23 L1816.66 1461.7 Q1817.67 1461.35 1818.69 1461.19 Q1819.71 1461 1820.73 1461 Q1826.52 1461 1829.9 1464.18 Q1833.28 1467.35 1833.28 1472.76 Q1833.28 1478.34 1829.8 1481.44 Q1826.33 1484.52 1820.01 1484.52 Q1817.84 1484.52 1815.57 1484.15 Q1813.32 1483.78 1810.92 1483.04 L1810.92 1478.34 Q1813 1479.48 1815.22 1480.03 Q1817.44 1480.59 1819.92 1480.59 Q1823.92 1480.59 1826.26 1478.48 Q1828.6 1476.38 1828.6 1472.76 Q1828.6 1469.15 1826.26 1467.05 Q1823.92 1464.94 1819.92 1464.94 Q1818.04 1464.94 1816.17 1465.36 Q1814.32 1465.77 1812.37 1466.65 L1812.37 1449.29 Z\" fill=\"#000000\" fill-rule=\"evenodd\" fill-opacity=\"1\" /><path clip-path=\"url(#clip510)\" d=\"M 0 0 M2260.6 1479.92 L2268.24 1479.92 L2268.24 1453.55 L2259.93 1455.22 L2259.93 1450.96 L2268.19 1449.29 L2272.87 1449.29 L2272.87 1479.92 L2280.51 1479.92 L2280.51 1483.85 L2260.6 1483.85 L2260.6 1479.92 Z\" fill=\"#000000\" fill-rule=\"evenodd\" fill-opacity=\"1\" /><path clip-path=\"url(#clip510)\" d=\"M 0 0 M2289.95 1477.97 L2294.84 1477.97 L2294.84 1483.85 L2289.95 1483.85 L2289.95 1477.97 Z\" fill=\"#000000\" fill-rule=\"evenodd\" fill-opacity=\"1\" /><path clip-path=\"url(#clip510)\" d=\"M 0 0 M2315.02 1452.37 Q2311.41 1452.37 2309.58 1455.94 Q2307.78 1459.48 2307.78 1466.61 Q2307.78 1473.71 2309.58 1477.28 Q2311.41 1480.82 2315.02 1480.82 Q2318.66 1480.82 2320.46 1477.28 Q2322.29 1473.71 2322.29 1466.61 Q2322.29 1459.48 2320.46 1455.94 Q2318.66 1452.37 2315.02 1452.37 M2315.02 1448.67 Q2320.83 1448.67 2323.89 1453.27 Q2326.97 1457.86 2326.97 1466.61 Q2326.97 1475.33 2323.89 1479.94 Q2320.83 1484.52 2315.02 1484.52 Q2309.21 1484.52 2306.13 1479.94 Q2303.08 1475.33 2303.08 1466.61 Q2303.08 1457.86 2306.13 1453.27 Q2309.21 1448.67 2315.02 1448.67 Z\" fill=\"#000000\" fill-rule=\"evenodd\" fill-opacity=\"1\" /><path clip-path=\"url(#clip510)\" d=\"M 0 0 M1321.59 1532.4 L1308.7 1549.74 L1322.26 1568.04 L1315.36 1568.04 L1304.98 1554.04 L1294.6 1568.04 L1287.7 1568.04 L1301.54 1549.39 L1288.87 1532.4 L1295.78 1532.4 L1305.23 1545.1 L1314.69 1532.4 L1321.59 1532.4 Z\" fill=\"#000000\" fill-rule=\"evenodd\" fill-opacity=\"1\" /><polyline clip-path=\"url(#clip512)\" style=\"stroke:#000000; stroke-width:2; stroke-opacity:0.1; fill:none\" points=\"\n",
       "  257.204,1423.18 2352.76,1423.18 \n",
       "  \"/>\n",
       "<polyline clip-path=\"url(#clip512)\" style=\"stroke:#000000; stroke-width:2; stroke-opacity:0.1; fill:none\" points=\"\n",
       "  257.204,1098.25 2352.76,1098.25 \n",
       "  \"/>\n",
       "<polyline clip-path=\"url(#clip512)\" style=\"stroke:#000000; stroke-width:2; stroke-opacity:0.1; fill:none\" points=\"\n",
       "  257.204,773.326 2352.76,773.326 \n",
       "  \"/>\n",
       "<polyline clip-path=\"url(#clip512)\" style=\"stroke:#000000; stroke-width:2; stroke-opacity:0.1; fill:none\" points=\"\n",
       "  257.204,448.399 2352.76,448.399 \n",
       "  \"/>\n",
       "<polyline clip-path=\"url(#clip512)\" style=\"stroke:#000000; stroke-width:2; stroke-opacity:0.1; fill:none\" points=\"\n",
       "  257.204,123.472 2352.76,123.472 \n",
       "  \"/>\n",
       "<polyline clip-path=\"url(#clip510)\" style=\"stroke:#000000; stroke-width:4; stroke-opacity:1; fill:none\" points=\"\n",
       "  257.204,1423.18 257.204,123.472 \n",
       "  \"/>\n",
       "<polyline clip-path=\"url(#clip510)\" style=\"stroke:#000000; stroke-width:4; stroke-opacity:1; fill:none\" points=\"\n",
       "  257.204,1423.18 282.351,1423.18 \n",
       "  \"/>\n",
       "<polyline clip-path=\"url(#clip510)\" style=\"stroke:#000000; stroke-width:4; stroke-opacity:1; fill:none\" points=\"\n",
       "  257.204,1098.25 282.351,1098.25 \n",
       "  \"/>\n",
       "<polyline clip-path=\"url(#clip510)\" style=\"stroke:#000000; stroke-width:4; stroke-opacity:1; fill:none\" points=\"\n",
       "  257.204,773.326 282.351,773.326 \n",
       "  \"/>\n",
       "<polyline clip-path=\"url(#clip510)\" style=\"stroke:#000000; stroke-width:4; stroke-opacity:1; fill:none\" points=\"\n",
       "  257.204,448.399 282.351,448.399 \n",
       "  \"/>\n",
       "<polyline clip-path=\"url(#clip510)\" style=\"stroke:#000000; stroke-width:4; stroke-opacity:1; fill:none\" points=\"\n",
       "  257.204,123.472 282.351,123.472 \n",
       "  \"/>\n",
       "<path clip-path=\"url(#clip510)\" d=\"M 0 0 M114.26 1423.63 L143.936 1423.63 L143.936 1427.57 L114.26 1427.57 L114.26 1423.63 Z\" fill=\"#000000\" fill-rule=\"evenodd\" fill-opacity=\"1\" /><path clip-path=\"url(#clip510)\" d=\"M 0 0 M154.839 1436.52 L162.477 1436.52 L162.477 1410.16 L154.167 1411.83 L154.167 1407.57 L162.431 1405.9 L167.107 1405.9 L167.107 1436.52 L174.746 1436.52 L174.746 1440.46 L154.839 1440.46 L154.839 1436.52 Z\" fill=\"#000000\" fill-rule=\"evenodd\" fill-opacity=\"1\" /><path clip-path=\"url(#clip510)\" d=\"M 0 0 M184.19 1434.58 L189.075 1434.58 L189.075 1440.46 L184.19 1440.46 L184.19 1434.58 Z\" fill=\"#000000\" fill-rule=\"evenodd\" fill-opacity=\"1\" /><path clip-path=\"url(#clip510)\" d=\"M 0 0 M209.26 1408.98 Q205.649 1408.98 203.82 1412.54 Q202.014 1416.08 202.014 1423.21 Q202.014 1430.32 203.82 1433.89 Q205.649 1437.43 209.26 1437.43 Q212.894 1437.43 214.699 1433.89 Q216.528 1430.32 216.528 1423.21 Q216.528 1416.08 214.699 1412.54 Q212.894 1408.98 209.26 1408.98 M209.26 1405.27 Q215.07 1405.27 218.125 1409.88 Q221.204 1414.46 221.204 1423.21 Q221.204 1431.94 218.125 1436.55 Q215.07 1441.13 209.26 1441.13 Q203.449 1441.13 200.371 1436.55 Q197.315 1431.94 197.315 1423.21 Q197.315 1414.46 200.371 1409.88 Q203.449 1405.27 209.26 1405.27 Z\" fill=\"#000000\" fill-rule=\"evenodd\" fill-opacity=\"1\" /><path clip-path=\"url(#clip510)\" d=\"M 0 0 M115.256 1098.7 L144.931 1098.7 L144.931 1102.64 L115.256 1102.64 L115.256 1098.7 Z\" fill=\"#000000\" fill-rule=\"evenodd\" fill-opacity=\"1\" /><path clip-path=\"url(#clip510)\" d=\"M 0 0 M165.024 1084.05 Q161.413 1084.05 159.584 1087.62 Q157.778 1091.16 157.778 1098.29 Q157.778 1105.39 159.584 1108.96 Q161.413 1112.5 165.024 1112.5 Q168.658 1112.5 170.464 1108.96 Q172.292 1105.39 172.292 1098.29 Q172.292 1091.16 170.464 1087.62 Q168.658 1084.05 165.024 1084.05 M165.024 1080.35 Q170.834 1080.35 173.889 1084.95 Q176.968 1089.54 176.968 1098.29 Q176.968 1107.01 173.889 1111.62 Q170.834 1116.2 165.024 1116.2 Q159.214 1116.2 156.135 1111.62 Q153.079 1107.01 153.079 1098.29 Q153.079 1089.54 156.135 1084.95 Q159.214 1080.35 165.024 1080.35 Z\" fill=\"#000000\" fill-rule=\"evenodd\" fill-opacity=\"1\" /><path clip-path=\"url(#clip510)\" d=\"M 0 0 M185.186 1109.65 L190.07 1109.65 L190.07 1115.53 L185.186 1115.53 L185.186 1109.65 Z\" fill=\"#000000\" fill-rule=\"evenodd\" fill-opacity=\"1\" /><path clip-path=\"url(#clip510)\" d=\"M 0 0 M200.301 1080.97 L218.658 1080.97 L218.658 1084.91 L204.584 1084.91 L204.584 1093.38 Q205.602 1093.03 206.621 1092.87 Q207.639 1092.69 208.658 1092.69 Q214.445 1092.69 217.824 1095.86 Q221.204 1099.03 221.204 1104.45 Q221.204 1110.02 217.732 1113.13 Q214.26 1116.2 207.94 1116.2 Q205.764 1116.2 203.496 1115.83 Q201.25 1115.46 198.843 1114.72 L198.843 1110.02 Q200.926 1111.16 203.149 1111.71 Q205.371 1112.27 207.848 1112.27 Q211.852 1112.27 214.19 1110.16 Q216.528 1108.06 216.528 1104.45 Q216.528 1100.83 214.19 1098.73 Q211.852 1096.62 207.848 1096.62 Q205.973 1096.62 204.098 1097.04 Q202.246 1097.45 200.301 1098.33 L200.301 1080.97 Z\" fill=\"#000000\" fill-rule=\"evenodd\" fill-opacity=\"1\" /><path clip-path=\"url(#clip510)\" d=\"M 0 0 M164.028 759.125 Q160.417 759.125 158.589 762.689 Q156.783 766.231 156.783 773.361 Q156.783 780.467 158.589 784.032 Q160.417 787.574 164.028 787.574 Q167.663 787.574 169.468 784.032 Q171.297 780.467 171.297 773.361 Q171.297 766.231 169.468 762.689 Q167.663 759.125 164.028 759.125 M164.028 755.421 Q169.839 755.421 172.894 760.027 Q175.973 764.611 175.973 773.361 Q175.973 782.088 172.894 786.694 Q169.839 791.277 164.028 791.277 Q158.218 791.277 155.14 786.694 Q152.084 782.088 152.084 773.361 Q152.084 764.611 155.14 760.027 Q158.218 755.421 164.028 755.421 Z\" fill=\"#000000\" fill-rule=\"evenodd\" fill-opacity=\"1\" /><path clip-path=\"url(#clip510)\" d=\"M 0 0 M184.19 784.726 L189.075 784.726 L189.075 790.606 L184.19 790.606 L184.19 784.726 Z\" fill=\"#000000\" fill-rule=\"evenodd\" fill-opacity=\"1\" /><path clip-path=\"url(#clip510)\" d=\"M 0 0 M209.26 759.125 Q205.649 759.125 203.82 762.689 Q202.014 766.231 202.014 773.361 Q202.014 780.467 203.82 784.032 Q205.649 787.574 209.26 787.574 Q212.894 787.574 214.699 784.032 Q216.528 780.467 216.528 773.361 Q216.528 766.231 214.699 762.689 Q212.894 759.125 209.26 759.125 M209.26 755.421 Q215.07 755.421 218.125 760.027 Q221.204 764.611 221.204 773.361 Q221.204 782.088 218.125 786.694 Q215.07 791.277 209.26 791.277 Q203.449 791.277 200.371 786.694 Q197.315 782.088 197.315 773.361 Q197.315 764.611 200.371 760.027 Q203.449 755.421 209.26 755.421 Z\" fill=\"#000000\" fill-rule=\"evenodd\" fill-opacity=\"1\" /><path clip-path=\"url(#clip510)\" d=\"M 0 0 M165.024 434.198 Q161.413 434.198 159.584 437.763 Q157.778 441.304 157.778 448.434 Q157.778 455.54 159.584 459.105 Q161.413 462.647 165.024 462.647 Q168.658 462.647 170.464 459.105 Q172.292 455.54 172.292 448.434 Q172.292 441.304 170.464 437.763 Q168.658 434.198 165.024 434.198 M165.024 430.494 Q170.834 430.494 173.889 435.101 Q176.968 439.684 176.968 448.434 Q176.968 457.161 173.889 461.767 Q170.834 466.35 165.024 466.35 Q159.214 466.35 156.135 461.767 Q153.079 457.161 153.079 448.434 Q153.079 439.684 156.135 435.101 Q159.214 430.494 165.024 430.494 Z\" fill=\"#000000\" fill-rule=\"evenodd\" fill-opacity=\"1\" /><path clip-path=\"url(#clip510)\" d=\"M 0 0 M185.186 459.799 L190.07 459.799 L190.07 465.679 L185.186 465.679 L185.186 459.799 Z\" fill=\"#000000\" fill-rule=\"evenodd\" fill-opacity=\"1\" /><path clip-path=\"url(#clip510)\" d=\"M 0 0 M200.301 431.119 L218.658 431.119 L218.658 435.054 L204.584 435.054 L204.584 443.526 Q205.602 443.179 206.621 443.017 Q207.639 442.832 208.658 442.832 Q214.445 442.832 217.824 446.003 Q221.204 449.175 221.204 454.591 Q221.204 460.17 217.732 463.272 Q214.26 466.35 207.94 466.35 Q205.764 466.35 203.496 465.98 Q201.25 465.61 198.843 464.869 L198.843 460.17 Q200.926 461.304 203.149 461.86 Q205.371 462.415 207.848 462.415 Q211.852 462.415 214.19 460.309 Q216.528 458.202 216.528 454.591 Q216.528 450.98 214.19 448.874 Q211.852 446.767 207.848 446.767 Q205.973 446.767 204.098 447.184 Q202.246 447.6 200.301 448.48 L200.301 431.119 Z\" fill=\"#000000\" fill-rule=\"evenodd\" fill-opacity=\"1\" /><path clip-path=\"url(#clip510)\" d=\"M 0 0 M154.839 136.817 L162.477 136.817 L162.477 110.451 L154.167 112.118 L154.167 107.859 L162.431 106.192 L167.107 106.192 L167.107 136.817 L174.746 136.817 L174.746 140.752 L154.839 140.752 L154.839 136.817 Z\" fill=\"#000000\" fill-rule=\"evenodd\" fill-opacity=\"1\" /><path clip-path=\"url(#clip510)\" d=\"M 0 0 M184.19 134.873 L189.075 134.873 L189.075 140.752 L184.19 140.752 L184.19 134.873 Z\" fill=\"#000000\" fill-rule=\"evenodd\" fill-opacity=\"1\" /><path clip-path=\"url(#clip510)\" d=\"M 0 0 M209.26 109.271 Q205.649 109.271 203.82 112.836 Q202.014 116.377 202.014 123.507 Q202.014 130.613 203.82 134.178 Q205.649 137.72 209.26 137.72 Q212.894 137.72 214.699 134.178 Q216.528 130.613 216.528 123.507 Q216.528 116.377 214.699 112.836 Q212.894 109.271 209.26 109.271 M209.26 105.567 Q215.07 105.567 218.125 110.174 Q221.204 114.757 221.204 123.507 Q221.204 132.234 218.125 136.84 Q215.07 141.423 209.26 141.423 Q203.449 141.423 200.371 136.84 Q197.315 132.234 197.315 123.507 Q197.315 114.757 200.371 110.174 Q203.449 105.567 209.26 105.567 Z\" fill=\"#000000\" fill-rule=\"evenodd\" fill-opacity=\"1\" /><path clip-path=\"url(#clip510)\" d=\"M 0 0 M20.8447 899.303 Q20.8447 906.306 26.0645 910.443 Q31.2844 914.549 40.2919 914.549 Q49.2675 914.549 54.4874 910.443 Q59.7073 906.306 59.7073 899.303 Q59.7073 892.301 54.4874 888.227 Q49.2675 884.121 40.2919 884.121 Q31.2844 884.121 26.0645 888.227 Q20.8447 892.301 20.8447 899.303 M63.1448 890.296 L72.4069 881.829 L72.4069 889.596 L64.7999 896.63 Q64.8635 897.68 64.8954 898.253 Q64.9272 898.794 64.9272 899.303 Q64.9272 909.329 58.2432 915.345 Q51.5274 921.329 40.2919 921.329 Q29.0246 921.329 22.3406 915.345 Q15.6248 909.329 15.6248 899.303 Q15.6248 889.309 22.3406 883.325 Q29.0246 877.342 40.2919 877.342 Q48.5673 877.342 54.4556 880.684 Q60.3439 883.994 63.1448 890.296 Z\" fill=\"#000000\" fill-rule=\"evenodd\" fill-opacity=\"1\" /><path clip-path=\"url(#clip510)\" d=\"M 0 0 M74.8259 840.452 L79.3773 840.452 L79.3773 874.318 L74.8259 874.318 L74.8259 840.452 Z\" fill=\"#000000\" fill-rule=\"evenodd\" fill-opacity=\"1\" /><path clip-path=\"url(#clip510)\" d=\"M 0 0 M29.7248 809.292 L35.1993 809.292 Q33.8307 811.775 33.1623 814.289 Q32.4621 816.772 32.4621 819.318 Q32.4621 825.016 36.0905 828.167 Q39.6872 831.318 46.212 831.318 Q52.7369 831.318 56.3653 828.167 Q59.9619 825.016 59.9619 819.318 Q59.9619 816.772 59.2935 814.289 Q58.5933 811.775 57.2247 809.292 L62.6355 809.292 Q63.7814 811.743 64.3543 814.385 Q64.9272 816.995 64.9272 819.955 Q64.9272 828.007 59.8664 832.75 Q54.8057 837.492 46.212 837.492 Q37.491 837.492 32.4939 832.718 Q27.4968 827.912 27.4968 819.573 Q27.4968 816.867 28.0697 814.289 Q28.6108 811.711 29.7248 809.292 Z\" fill=\"#000000\" fill-rule=\"evenodd\" fill-opacity=\"1\" /><path clip-path=\"url(#clip510)\" d=\"M 0 0 M16.4842 774.822 L34.2127 757.539 L34.2127 763.937 L21.6404 777.941 L34.2127 791.946 L34.2127 798.343 L16.4842 781.06 L16.4842 774.822 Z\" fill=\"#000000\" fill-rule=\"evenodd\" fill-opacity=\"1\" /><path clip-path=\"url(#clip510)\" d=\"M 0 0 M41.4377 729.912 Q41.4377 734.495 43.8885 737.137 Q46.3393 739.747 50.6362 739.747 Q54.933 739.747 57.3838 737.137 Q59.8346 734.495 59.8346 729.912 Q59.8346 725.329 57.3838 722.687 Q54.9012 720.045 50.6362 720.045 Q46.3393 720.045 43.8885 722.687 Q41.4377 725.297 41.4377 729.912 M38.7005 736.341 Q37.682 740.479 34.8492 742.802 Q32.0165 745.094 27.9424 745.094 Q22.2451 745.094 18.935 741.052 Q15.6248 736.978 15.6248 729.912 Q15.6248 722.814 18.935 718.772 Q22.2451 714.73 27.9424 714.73 Q32.0165 714.73 34.8492 717.053 Q37.682 719.345 38.7005 723.451 Q39.7826 718.804 42.9337 716.226 Q46.0847 713.616 50.6362 713.616 Q57.543 713.616 61.2351 717.849 Q64.9272 722.05 64.9272 729.912 Q64.9272 737.774 61.2351 742.007 Q57.543 746.208 50.6362 746.208 Q46.0847 746.208 42.9337 743.598 Q39.7826 740.988 38.7005 736.341 M28.5472 738.697 Q32.2393 738.697 34.3081 736.405 Q36.377 734.081 36.377 729.912 Q36.377 725.774 34.3081 723.451 Q32.2393 721.095 28.5472 721.095 Q24.8551 721.095 22.7862 723.451 Q20.7174 725.774 20.7174 729.912 Q20.7174 734.081 22.7862 736.405 Q24.8551 738.697 28.5472 738.697 Z\" fill=\"#000000\" fill-rule=\"evenodd\" fill-opacity=\"1\" /><path clip-path=\"url(#clip510)\" d=\"M 0 0 M14.5426 688.949 Q21.8632 693.214 29.0246 695.282 Q36.186 697.351 43.5384 697.351 Q50.8908 697.351 58.1159 695.282 Q65.3091 693.182 72.5979 688.949 L72.5979 694.041 Q65.1182 698.815 57.8931 701.203 Q50.668 703.558 43.5384 703.558 Q36.4406 703.558 29.2474 701.203 Q22.0542 698.847 14.5426 694.041 L14.5426 688.949 Z\" fill=\"#000000\" fill-rule=\"evenodd\" fill-opacity=\"1\" /><path clip-path=\"url(#clip510)\" d=\"M 0 0 M28.3562 647.953 L45.7028 660.844 L64.0042 647.285 L64.0042 654.192 L49.9996 664.568 L64.0042 674.944 L64.0042 681.851 L45.3526 668.005 L28.3562 680.673 L28.3562 673.766 L41.0558 664.313 L28.3562 654.86 L28.3562 647.953 Z\" fill=\"#000000\" fill-rule=\"evenodd\" fill-opacity=\"1\" /><path clip-path=\"url(#clip510)\" d=\"M 0 0 M14.5426 639.933 L14.5426 634.84 Q22.0542 630.066 29.2474 627.71 Q36.4406 625.323 43.5384 625.323 Q50.668 625.323 57.8931 627.71 Q65.1182 630.066 72.5979 634.84 L72.5979 639.933 Q65.3091 635.699 58.1159 633.631 Q50.8908 631.53 43.5384 631.53 Q36.186 631.53 29.0246 633.631 Q21.8632 635.699 14.5426 639.933 Z\" fill=\"#000000\" fill-rule=\"evenodd\" fill-opacity=\"1\" /><path clip-path=\"url(#clip510)\" d=\"M 0 0 M769.329 28.9478 L769.329 35.9153 Q766.169 34.1734 762.969 33.3227 Q759.809 32.4315 756.569 32.4315 Q749.317 32.4315 745.307 37.0496 Q741.297 41.6271 741.297 49.9314 Q741.297 58.2358 745.307 62.8538 Q749.317 67.4314 756.569 67.4314 Q759.809 67.4314 762.969 66.5807 Q766.169 65.6895 769.329 63.9476 L769.329 70.8341 Q766.21 72.2924 762.847 73.0216 Q759.526 73.7508 755.758 73.7508 Q745.51 73.7508 739.474 67.3098 Q733.438 60.8689 733.438 49.9314 Q733.438 38.832 739.514 32.472 Q745.631 26.1121 756.244 26.1121 Q759.688 26.1121 762.969 26.8413 Q766.25 27.5299 769.329 28.9478 Z\" fill=\"#000000\" fill-rule=\"evenodd\" fill-opacity=\"1\" /><path clip-path=\"url(#clip510)\" d=\"M 0 0 M795.7 54.2659 Q799.427 54.9951 801.453 57.2231 Q803.519 59.4106 803.519 62.7323 Q803.519 67.7554 799.67 70.4695 Q795.822 73.1836 788.652 73.1836 Q786.343 73.1836 783.791 72.738 Q781.279 72.3329 778.443 71.5228 L778.443 66.6212 Q780.55 67.7149 782.94 68.2415 Q785.37 68.7682 788.085 68.7682 Q792.5 68.7682 794.931 67.1883 Q797.361 65.5679 797.361 62.7323 Q797.361 59.7346 795.093 58.1953 Q792.865 56.6559 788.49 56.6559 L785.006 56.6559 L785.006 52.281 L788.814 52.281 Q792.622 52.281 794.566 51.0252 Q796.551 49.7289 796.551 47.2984 Q796.551 44.9488 794.526 43.7336 Q792.5 42.4778 788.652 42.4778 Q787.031 42.4778 784.965 42.8424 Q782.899 43.2069 779.618 44.1387 L779.618 39.4801 Q782.575 38.7915 785.168 38.4269 Q787.761 38.0623 789.989 38.0623 Q795.822 38.0623 799.225 40.4523 Q802.668 42.8424 802.668 46.8528 Q802.668 49.6479 800.845 51.5923 Q799.022 53.5368 795.7 54.2659 Z\" fill=\"#000000\" fill-rule=\"evenodd\" fill-opacity=\"1\" /><path clip-path=\"url(#clip510)\" d=\"M 0 0 M842.893 34.9026 L894.826 34.9026 L894.826 41.7081 L842.893 41.7081 L842.893 34.9026 M842.893 51.4303 L894.826 51.4303 L894.826 58.3168 L842.893 58.3168 L842.893 51.4303 Z\" fill=\"#000000\" fill-rule=\"evenodd\" fill-opacity=\"1\" /><path clip-path=\"url(#clip510)\" d=\"M 0 0 M934.039 46.5287 L955.873 46.5287 L955.873 53.1722 L934.039 53.1722 L934.039 46.5287 Z\" fill=\"#000000\" fill-rule=\"evenodd\" fill-opacity=\"1\" /><path clip-path=\"url(#clip510)\" d=\"M 0 0 M970.213 65.6895 L983.581 65.6895 L983.581 19.5497 L969.038 22.4663 L969.038 15.0127 L983.5 12.096 L991.683 12.096 L991.683 65.6895 L1005.05 65.6895 L1005.05 72.576 L970.213 72.576 L970.213 65.6895 Z\" fill=\"#000000\" fill-rule=\"evenodd\" fill-opacity=\"1\" /><path clip-path=\"url(#clip510)\" d=\"M 0 0 M1021.58 62.2867 L1030.13 62.2867 L1030.13 72.576 L1021.58 72.576 L1021.58 62.2867 Z\" fill=\"#000000\" fill-rule=\"evenodd\" fill-opacity=\"1\" /><path clip-path=\"url(#clip510)\" d=\"M 0 0 M1072.74 39.9662 Q1078.62 41.222 1081.9 45.1919 Q1085.22 49.1618 1085.22 54.9951 Q1085.22 63.9476 1079.06 68.8492 Q1072.9 73.7508 1061.56 73.7508 Q1057.75 73.7508 1053.7 72.9811 Q1049.69 72.2519 1045.4 70.7531 L1045.4 62.8538 Q1048.8 64.8388 1052.85 65.8515 Q1056.9 66.8642 1061.32 66.8642 Q1069.01 66.8642 1073.03 63.826 Q1077.08 60.7879 1077.08 54.9951 Q1077.08 49.6479 1073.31 46.6502 Q1069.58 43.612 1062.9 43.612 L1055.85 43.612 L1055.85 36.8875 L1063.22 36.8875 Q1069.26 36.8875 1072.46 34.4975 Q1075.66 32.067 1075.66 27.5299 Q1075.66 22.8714 1072.34 20.4004 Q1069.06 17.8888 1062.9 17.8888 Q1059.54 17.8888 1055.69 18.618 Q1051.84 19.3471 1047.22 20.8865 L1047.22 13.5948 Q1051.88 12.2985 1055.93 11.6504 Q1060.02 11.0023 1063.63 11.0023 Q1072.94 11.0023 1078.37 15.2557 Q1083.8 19.4686 1083.8 26.6793 Q1083.8 31.7024 1080.92 35.1862 Q1078.05 38.6294 1072.74 39.9662 Z\" fill=\"#000000\" fill-rule=\"evenodd\" fill-opacity=\"1\" /><path clip-path=\"url(#clip510)\" d=\"M 0 0 M1118.23 43.8551 Q1112.4 43.8551 1109.04 46.9743 Q1105.72 50.0935 1105.72 55.5622 Q1105.72 61.0309 1109.04 64.1501 Q1112.4 67.2693 1118.23 67.2693 Q1124.07 67.2693 1127.43 64.1501 Q1130.79 60.9904 1130.79 55.5622 Q1130.79 50.0935 1127.43 46.9743 Q1124.11 43.8551 1118.23 43.8551 M1110.05 40.3713 Q1104.78 39.075 1101.83 35.4697 Q1098.91 31.8644 1098.91 26.6793 Q1098.91 19.4281 1104.06 15.2152 Q1109.24 11.0023 1118.23 11.0023 Q1127.27 11.0023 1132.41 15.2152 Q1137.56 19.4281 1137.56 26.6793 Q1137.56 31.8644 1134.6 35.4697 Q1131.68 39.075 1126.46 40.3713 Q1132.37 41.7486 1135.65 45.759 Q1138.97 49.7694 1138.97 55.5622 Q1138.97 64.3527 1133.59 69.0517 Q1128.24 73.7508 1118.23 73.7508 Q1108.23 73.7508 1102.84 69.0517 Q1097.49 64.3527 1097.49 55.5622 Q1097.49 49.7694 1100.81 45.759 Q1104.14 41.7486 1110.05 40.3713 M1107.05 27.4489 Q1107.05 32.148 1109.97 34.7811 Q1112.93 37.4142 1118.23 37.4142 Q1123.5 37.4142 1126.46 34.7811 Q1129.45 32.148 1129.45 27.4489 Q1129.45 22.7499 1126.46 20.1168 Q1123.5 17.4837 1118.23 17.4837 Q1112.93 17.4837 1109.97 20.1168 Q1107.05 22.7499 1107.05 27.4489 Z\" fill=\"#000000\" fill-rule=\"evenodd\" fill-opacity=\"1\" /><path clip-path=\"url(#clip510)\" d=\"M 0 0 M1154.93 65.6895 L1168.3 65.6895 L1168.3 19.5497 L1153.76 22.4663 L1153.76 15.0127 L1168.22 12.096 L1176.4 12.096 L1176.4 65.6895 L1189.77 65.6895 L1189.77 72.576 L1154.93 72.576 L1154.93 65.6895 Z\" fill=\"#000000\" fill-rule=\"evenodd\" fill-opacity=\"1\" /><path clip-path=\"url(#clip510)\" d=\"M 0 0 M1206.38 12.096 L1238.5 12.096 L1238.5 18.9825 L1213.88 18.9825 L1213.88 33.8088 Q1215.66 33.2012 1217.44 32.9176 Q1219.22 32.5936 1221 32.5936 Q1231.13 32.5936 1237.05 38.1433 Q1242.96 43.6931 1242.96 53.1722 Q1242.96 62.9348 1236.88 68.3631 Q1230.81 73.7508 1219.75 73.7508 Q1215.94 73.7508 1211.97 73.1026 Q1208.04 72.4545 1203.83 71.1582 L1203.83 62.9348 Q1207.47 64.9198 1211.36 65.892 Q1215.25 66.8642 1219.59 66.8642 Q1226.59 66.8642 1230.69 63.1779 Q1234.78 59.4916 1234.78 53.1722 Q1234.78 46.8528 1230.69 43.1664 Q1226.59 39.4801 1219.59 39.4801 Q1216.31 39.4801 1213.02 40.2093 Q1209.78 40.9384 1206.38 42.4778 L1206.38 12.096 Z\" fill=\"#000000\" fill-rule=\"evenodd\" fill-opacity=\"1\" /><path clip-path=\"url(#clip510)\" d=\"M 0 0 M1281.57 19.2256 L1260.91 51.5113 L1281.57 51.5113 L1281.57 19.2256 M1279.42 12.096 L1289.71 12.096 L1289.71 51.5113 L1298.34 51.5113 L1298.34 58.3168 L1289.71 58.3168 L1289.71 72.576 L1281.57 72.576 L1281.57 58.3168 L1254.26 58.3168 L1254.26 50.4176 L1279.42 12.096 Z\" fill=\"#000000\" fill-rule=\"evenodd\" fill-opacity=\"1\" /><path clip-path=\"url(#clip510)\" d=\"M 0 0 M1309.8 12.096 L1348.69 12.096 L1348.69 15.5798 L1326.73 72.576 L1318.19 72.576 L1338.85 18.9825 L1309.8 18.9825 L1309.8 12.096 Z\" fill=\"#000000\" fill-rule=\"evenodd\" fill-opacity=\"1\" /><path clip-path=\"url(#clip510)\" d=\"M 0 0 M1387.13 19.2256 L1366.47 51.5113 L1387.13 51.5113 L1387.13 19.2256 M1384.99 12.096 L1395.27 12.096 L1395.27 51.5113 L1403.9 51.5113 L1403.9 58.3168 L1395.27 58.3168 L1395.27 72.576 L1387.13 72.576 L1387.13 58.3168 L1359.83 58.3168 L1359.83 50.4176 L1384.99 12.096 Z\" fill=\"#000000\" fill-rule=\"evenodd\" fill-opacity=\"1\" /><path clip-path=\"url(#clip510)\" d=\"M 0 0 M1434.93 43.8551 Q1429.1 43.8551 1425.74 46.9743 Q1422.42 50.0935 1422.42 55.5622 Q1422.42 61.0309 1425.74 64.1501 Q1429.1 67.2693 1434.93 67.2693 Q1440.77 67.2693 1444.13 64.1501 Q1447.49 60.9904 1447.49 55.5622 Q1447.49 50.0935 1444.13 46.9743 Q1440.81 43.8551 1434.93 43.8551 M1426.75 40.3713 Q1421.48 39.075 1418.53 35.4697 Q1415.61 31.8644 1415.61 26.6793 Q1415.61 19.4281 1420.75 15.2152 Q1425.94 11.0023 1434.93 11.0023 Q1443.97 11.0023 1449.11 15.2152 Q1454.26 19.4281 1454.26 26.6793 Q1454.26 31.8644 1451.3 35.4697 Q1448.38 39.075 1443.16 40.3713 Q1449.07 41.7486 1452.35 45.759 Q1455.67 49.7694 1455.67 55.5622 Q1455.67 64.3527 1450.29 69.0517 Q1444.94 73.7508 1434.93 73.7508 Q1424.93 73.7508 1419.54 69.0517 Q1414.19 64.3527 1414.19 55.5622 Q1414.19 49.7694 1417.51 45.759 Q1420.84 41.7486 1426.75 40.3713 M1423.75 27.4489 Q1423.75 32.148 1426.67 34.7811 Q1429.63 37.4142 1434.93 37.4142 Q1440.2 37.4142 1443.16 34.7811 Q1446.15 32.148 1446.15 27.4489 Q1446.15 22.7499 1443.16 20.1168 Q1440.2 17.4837 1434.93 17.4837 Q1429.63 17.4837 1426.67 20.1168 Q1423.75 22.7499 1423.75 27.4489 Z\" fill=\"#000000\" fill-rule=\"evenodd\" fill-opacity=\"1\" /><path clip-path=\"url(#clip510)\" d=\"M 0 0 M1492.7 19.2256 L1472.04 51.5113 L1492.7 51.5113 L1492.7 19.2256 M1490.55 12.096 L1500.84 12.096 L1500.84 51.5113 L1509.47 51.5113 L1509.47 58.3168 L1500.84 58.3168 L1500.84 72.576 L1492.7 72.576 L1492.7 58.3168 L1465.4 58.3168 L1465.4 50.4176 L1490.55 12.096 Z\" fill=\"#000000\" fill-rule=\"evenodd\" fill-opacity=\"1\" /><path clip-path=\"url(#clip510)\" d=\"M 0 0 M1545.48 19.2256 L1524.82 51.5113 L1545.48 51.5113 L1545.48 19.2256 M1543.34 12.096 L1553.62 12.096 L1553.62 51.5113 L1562.25 51.5113 L1562.25 58.3168 L1553.62 58.3168 L1553.62 72.576 L1545.48 72.576 L1545.48 58.3168 L1518.18 58.3168 L1518.18 50.4176 L1543.34 12.096 Z\" fill=\"#000000\" fill-rule=\"evenodd\" fill-opacity=\"1\" /><path clip-path=\"url(#clip510)\" d=\"M 0 0 M1600.57 39.9662 Q1606.45 41.222 1609.73 45.1919 Q1613.05 49.1618 1613.05 54.9951 Q1613.05 63.9476 1606.89 68.8492 Q1600.74 73.7508 1589.39 73.7508 Q1585.59 73.7508 1581.54 72.9811 Q1577.52 72.2519 1573.23 70.7531 L1573.23 62.8538 Q1576.63 64.8388 1580.68 65.8515 Q1584.74 66.8642 1589.15 66.8642 Q1596.85 66.8642 1600.86 63.826 Q1604.91 60.7879 1604.91 54.9951 Q1604.91 49.6479 1601.14 46.6502 Q1597.41 43.612 1590.73 43.612 L1583.68 43.612 L1583.68 36.8875 L1591.05 36.8875 Q1597.09 36.8875 1600.29 34.4975 Q1603.49 32.067 1603.49 27.5299 Q1603.49 22.8714 1600.17 20.4004 Q1596.89 17.8888 1590.73 17.8888 Q1587.37 17.8888 1583.52 18.618 Q1579.67 19.3471 1575.05 20.8865 L1575.05 13.5948 Q1579.71 12.2985 1583.76 11.6504 Q1587.85 11.0023 1591.46 11.0023 Q1600.78 11.0023 1606.21 15.2557 Q1611.63 19.4686 1611.63 26.6793 Q1611.63 31.7024 1608.76 35.1862 Q1605.88 38.6294 1600.57 39.9662 Z\" fill=\"#000000\" fill-rule=\"evenodd\" fill-opacity=\"1\" /><path clip-path=\"url(#clip510)\" d=\"M 0 0 M1635.61 65.6895 L1664.17 65.6895 L1664.17 72.576 L1625.77 72.576 L1625.77 65.6895 Q1630.43 60.8689 1638.45 52.7671 Q1646.51 44.6248 1648.58 42.2752 Q1652.51 37.8598 1654.05 34.8216 Q1655.63 31.7429 1655.63 28.7857 Q1655.63 23.9651 1652.22 20.927 Q1648.86 17.8888 1643.43 17.8888 Q1639.58 17.8888 1635.29 19.2256 Q1631.04 20.5624 1626.18 23.2765 L1626.18 15.0127 Q1631.12 13.0277 1635.41 12.015 Q1639.71 11.0023 1643.27 11.0023 Q1652.67 11.0023 1658.26 15.7013 Q1663.85 20.4004 1663.85 28.2591 Q1663.85 31.9859 1662.43 35.3482 Q1661.05 38.6699 1657.37 43.2069 Q1656.36 44.3817 1650.93 50.0125 Q1645.5 55.6027 1635.61 65.6895 Z\" fill=\"#000000\" fill-rule=\"evenodd\" fill-opacity=\"1\" /><path clip-path=\"url(#clip510)\" d=\"M 0 0 M1698.85 17.4837 Q1692.53 17.4837 1689.33 23.7221 Q1686.17 29.92 1686.17 42.3968 Q1686.17 54.833 1689.33 61.0714 Q1692.53 67.2693 1698.85 67.2693 Q1705.21 67.2693 1708.37 61.0714 Q1711.57 54.833 1711.57 42.3968 Q1711.57 29.92 1708.37 23.7221 Q1705.21 17.4837 1698.85 17.4837 M1698.85 11.0023 Q1709.02 11.0023 1714.36 19.0636 Q1719.75 27.0843 1719.75 42.3968 Q1719.75 57.6687 1714.36 65.73 Q1709.02 73.7508 1698.85 73.7508 Q1688.68 73.7508 1683.29 65.73 Q1677.95 57.6687 1677.95 42.3968 Q1677.95 27.0843 1683.29 19.0636 Q1688.68 11.0023 1698.85 11.0023 Z\" fill=\"#000000\" fill-rule=\"evenodd\" fill-opacity=\"1\" /><path clip-path=\"url(#clip510)\" d=\"M 0 0 M1752.65 39.075 Q1747.14 39.075 1743.9 42.8424 Q1740.7 46.6097 1740.7 53.1722 Q1740.7 59.6941 1743.9 63.502 Q1747.14 67.2693 1752.65 67.2693 Q1758.15 67.2693 1761.35 63.502 Q1764.6 59.6941 1764.6 53.1722 Q1764.6 46.6097 1761.35 42.8424 Q1758.15 39.075 1752.65 39.075 M1768.89 13.4328 L1768.89 20.8865 Q1765.81 19.4281 1762.65 18.6585 Q1759.53 17.8888 1756.45 17.8888 Q1748.35 17.8888 1744.06 23.3575 Q1739.8 28.8262 1739.2 39.8852 Q1741.59 36.3609 1745.19 34.4975 Q1748.8 32.5936 1753.13 32.5936 Q1762.25 32.5936 1767.51 38.1433 Q1772.82 43.6525 1772.82 53.1722 Q1772.82 62.4892 1767.31 68.12 Q1761.8 73.7508 1752.65 73.7508 Q1742.15 73.7508 1736.6 65.73 Q1731.05 57.6687 1731.05 42.3968 Q1731.05 28.0566 1737.86 19.5497 Q1744.67 11.0023 1756.13 11.0023 Q1759.21 11.0023 1762.33 11.6099 Q1765.49 12.2175 1768.89 13.4328 Z\" fill=\"#000000\" fill-rule=\"evenodd\" fill-opacity=\"1\" /><path clip-path=\"url(#clip510)\" d=\"M 0 0 M1788.33 65.6895 L1801.7 65.6895 L1801.7 19.5497 L1787.16 22.4663 L1787.16 15.0127 L1801.62 12.096 L1809.8 12.096 L1809.8 65.6895 L1823.17 65.6895 L1823.17 72.576 L1788.33 72.576 L1788.33 65.6895 Z\" fill=\"#000000\" fill-rule=\"evenodd\" fill-opacity=\"1\" /><path clip-path=\"url(#clip510)\" d=\"M 0 0 M1837.63 12.096 L1876.52 12.096 L1876.52 15.5798 L1854.57 72.576 L1846.02 72.576 L1866.68 18.9825 L1837.63 18.9825 L1837.63 12.096 Z\" fill=\"#000000\" fill-rule=\"evenodd\" fill-opacity=\"1\" /><polyline clip-path=\"url(#clip512)\" style=\"stroke:#009af9; stroke-width:4; stroke-opacity:1; fill:none\" points=\"\n",
       "  316.512,1670.49 324.235,1667.12 331.957,1662.28 339.679,1657.61 347.402,1654.5 355.124,1653.88 362.847,1656.01 370.569,1660.4 378.291,1665.74 386.014,1670.04 \n",
       "  393.736,1670.85 401.459,1665.68 409.181,1652.55 416.903,1630.64 424.626,1600.94 432.348,1566.51 440.071,1532.48 447.793,1505.27 455.515,1491.35 463.238,1495.52 \n",
       "  470.96,1519.09 478.683,1558.68 486.405,1605.83 494.127,1647.9 501.85,1670.27 509.572,1659.22 517.295,1605.07 525.017,1504.65 532.739,1362.4 540.462,1189.94 \n",
       "  548.184,1004 555.907,823.362 563.629,665.539 571.351,543.897 579.074,465.886 586.796,432.593 594.519,439.51 602.241,478.171 609.963,538.124 617.686,608.782 \n",
       "  625.408,680.808 633.131,746.897 640.853,801.99 648.576,843.093 656.298,868.876 664.02,879.247 671.743,874.995 679.465,857.546 687.188,828.813 694.91,791.086 \n",
       "  702.632,746.937 710.355,699.083 718.077,650.236 725.8,602.918 733.522,559.303 741.244,521.082 748.967,489.386 756.689,464.772 764.412,447.255 772.134,436.392 \n",
       "  779.856,431.391 787.579,431.224 795.301,434.745 803.024,440.786 810.746,448.237 818.468,456.102 826.191,463.537 833.913,469.873 841.636,474.618 849.358,477.459 \n",
       "  857.08,478.25 864.803,477.004 872.525,473.872 880.248,469.131 887.97,463.162 895.692,456.435 903.415,449.48 911.137,442.872 918.86,437.2 926.582,433.04 \n",
       "  934.305,430.933 942.027,431.355 949.749,434.694 957.472,441.232 965.194,451.129 972.917,464.416 980.639,480.993 988.361,500.639 996.084,523.016 1003.81,547.7 \n",
       "  1011.53,574.189 1019.25,601.942 1026.97,630.393 1034.7,658.979 1042.42,687.165 1050.14,714.457 1057.86,740.415 1065.59,764.668 1073.31,786.913 1081.03,806.921 \n",
       "  1088.75,824.531 1096.48,839.649 1104.2,852.242 1111.92,862.329 1119.64,869.978 1127.36,875.295 1135.09,878.422 1142.81,879.523 1150.53,878.785 1158.25,876.412 \n",
       "  1165.98,872.615 1173.7,867.611 1181.42,861.619 1189.14,854.855 1196.87,847.528 1204.59,839.839 1212.31,831.978 1220.03,824.122 1227.76,816.433 1235.48,809.058 \n",
       "  1243.2,802.127 1250.92,795.755 1258.65,790.043 1266.37,785.073 1274.09,780.916 1281.81,777.626 1289.54,775.247 1297.26,773.808 1304.98,773.326 1312.7,773.808 \n",
       "  1320.42,775.247 1328.15,777.626 1335.87,780.916 1343.59,785.073 1351.31,790.043 1359.04,795.755 1366.76,802.127 1374.48,809.058 1382.2,816.433 1389.93,824.122 \n",
       "  1397.65,831.978 1405.37,839.839 1413.09,847.528 1420.82,854.855 1428.54,861.619 1436.26,867.611 1443.98,872.615 1451.71,876.412 1459.43,878.785 1467.15,879.523 \n",
       "  1474.87,878.422 1482.6,875.295 1490.32,869.978 1498.04,862.329 1505.76,852.242 1513.48,839.649 1521.21,824.531 1528.93,806.921 1536.65,786.913 1544.37,764.668 \n",
       "  1552.1,740.415 1559.82,714.457 1567.54,687.165 1575.26,658.979 1582.99,630.393 1590.71,601.942 1598.43,574.189 1606.15,547.7 1613.88,523.016 1621.6,500.639 \n",
       "  1629.32,480.993 1637.04,464.416 1644.77,451.129 1652.49,441.232 1660.21,434.694 1667.93,431.355 1675.66,430.933 1683.38,433.04 1691.1,437.2 1698.82,442.872 \n",
       "  1706.55,449.48 1714.27,456.435 1721.99,463.162 1729.71,469.131 1737.43,473.872 1745.16,477.004 1752.88,478.25 1760.6,477.459 1768.32,474.618 1776.05,469.873 \n",
       "  1783.77,463.537 1791.49,456.102 1799.21,448.237 1806.94,440.786 1814.66,434.745 1822.38,431.224 1830.1,431.391 1837.83,436.392 1845.55,447.255 1853.27,464.772 \n",
       "  1860.99,489.386 1868.72,521.082 1876.44,559.303 1884.16,602.918 1891.88,650.236 1899.61,699.083 1907.33,746.937 1915.05,791.086 1922.77,828.813 1930.49,857.546 \n",
       "  1938.22,874.995 1945.94,879.247 1953.66,868.876 1961.38,843.093 1969.11,801.99 1976.83,746.897 1984.55,680.808 1992.27,608.782 2000,538.124 2007.72,478.171 \n",
       "  2015.44,439.51 2023.16,432.593 2030.89,465.886 2038.61,543.897 2046.33,665.539 2054.05,823.362 2061.78,1004 2069.5,1189.94 2077.22,1362.4 2084.94,1504.65 \n",
       "  2092.67,1605.07 2100.39,1659.22 2108.11,1670.27 2115.83,1647.9 2123.55,1605.83 2131.28,1558.68 2139,1519.09 2146.72,1495.52 2154.44,1491.35 2162.17,1505.27 \n",
       "  2169.89,1532.48 2177.61,1566.51 2185.33,1600.94 2193.06,1630.64 2200.78,1652.55 2208.5,1665.68 2216.22,1670.85 2223.95,1670.04 2231.67,1665.74 2239.39,1660.4 \n",
       "  2247.11,1656.01 2254.84,1653.88 2262.56,1654.5 2270.28,1657.61 2278,1662.28 2285.73,1667.12 2293.45,1670.49 \n",
       "  \"/>\n",
       "<polyline clip-path=\"url(#clip512)\" style=\"stroke:#e26f46; stroke-width:4; stroke-opacity:1; fill:none\" points=\"\n",
       "  316.512,1423.18 324.235,1418.1 331.957,1413.03 339.679,1407.95 347.402,1402.87 355.124,1397.79 362.847,1392.72 370.569,1387.64 378.291,1382.56 386.014,1377.49 \n",
       "  393.736,1372.41 401.459,1367.33 409.181,1362.26 416.903,1357.18 424.626,1352.1 432.348,1347.03 440.071,1341.95 447.793,1336.87 455.515,1331.79 463.238,1326.72 \n",
       "  470.96,1321.64 478.683,1316.56 486.405,1311.49 494.127,1306.41 501.85,1301.33 509.572,1296.26 517.295,1291.18 525.017,1286.1 532.739,1281.02 540.462,1275.95 \n",
       "  548.184,1270.87 555.907,1265.79 563.629,1260.72 571.351,1255.64 579.074,1250.56 586.796,1245.49 594.519,1240.41 602.241,1235.33 609.963,1230.25 617.686,1225.18 \n",
       "  625.408,1220.1 633.131,1215.02 640.853,1209.95 648.576,1204.87 656.298,1199.79 664.02,1194.72 671.743,1189.64 679.465,1184.56 687.188,1179.48 694.91,1174.41 \n",
       "  702.632,1169.33 710.355,1164.25 718.077,1159.18 725.8,1154.1 733.522,1149.02 741.244,1143.95 748.967,1138.87 756.689,1133.79 764.412,1128.71 772.134,1123.64 \n",
       "  779.856,1118.56 787.579,1113.48 795.301,1108.41 803.024,1103.33 810.746,1098.25 818.468,1093.18 826.191,1088.1 833.913,1083.02 841.636,1077.94 849.358,1072.87 \n",
       "  857.08,1067.79 864.803,1062.71 872.525,1057.64 880.248,1052.56 887.97,1047.48 895.692,1042.41 903.415,1037.33 911.137,1032.25 918.86,1027.18 926.582,1022.1 \n",
       "  934.305,1017.02 942.027,1011.94 949.749,1006.87 957.472,1001.79 965.194,996.713 972.917,991.636 980.639,986.559 988.361,981.482 996.084,976.405 1003.81,971.328 \n",
       "  1011.53,966.251 1019.25,961.174 1026.97,956.097 1034.7,951.02 1042.42,945.943 1050.14,940.866 1057.86,935.789 1065.59,930.712 1073.31,925.635 1081.03,920.558 \n",
       "  1088.75,915.482 1096.48,910.405 1104.2,905.328 1111.92,900.251 1119.64,895.174 1127.36,890.097 1135.09,885.02 1142.81,879.943 1150.53,874.866 1158.25,869.789 \n",
       "  1165.98,864.712 1173.7,859.635 1181.42,854.558 1189.14,849.481 1196.87,844.404 1204.59,839.327 1212.31,834.25 1220.03,829.173 1227.76,824.096 1235.48,819.019 \n",
       "  1243.2,813.942 1250.92,808.865 1258.65,803.788 1266.37,798.711 1274.09,793.634 1281.81,788.557 1289.54,783.48 1297.26,778.403 1304.98,773.326 1312.7,768.249 \n",
       "  1320.42,763.172 1328.15,758.095 1335.87,753.018 1343.59,747.941 1351.31,742.864 1359.04,737.787 1366.76,732.71 1374.48,727.633 1382.2,722.556 1389.93,717.479 \n",
       "  1397.65,712.402 1405.37,707.325 1413.09,702.248 1420.82,697.171 1428.54,692.094 1436.26,687.017 1443.98,681.94 1451.71,676.863 1459.43,671.786 1467.15,666.709 \n",
       "  1474.87,661.632 1482.6,656.555 1490.32,651.478 1498.04,646.401 1505.76,641.324 1513.48,636.247 1521.21,631.17 1528.93,626.093 1536.65,621.016 1544.37,615.94 \n",
       "  1552.1,610.863 1559.82,605.786 1567.54,600.709 1575.26,595.632 1582.99,590.555 1590.71,585.478 1598.43,580.401 1606.15,575.324 1613.88,570.247 1621.6,565.17 \n",
       "  1629.32,560.093 1637.04,555.016 1644.77,549.939 1652.49,544.862 1660.21,539.785 1667.93,534.708 1675.66,529.631 1683.38,524.554 1691.1,519.477 1698.82,514.4 \n",
       "  1706.55,509.323 1714.27,504.246 1721.99,499.169 1729.71,494.092 1737.43,489.015 1745.16,483.938 1752.88,478.861 1760.6,473.784 1768.32,468.707 1776.05,463.63 \n",
       "  1783.77,458.553 1791.49,453.476 1799.21,448.399 1806.94,443.322 1814.66,438.245 1822.38,433.168 1830.1,428.091 1837.83,423.014 1845.55,417.937 1853.27,412.86 \n",
       "  1860.99,407.783 1868.72,402.706 1876.44,397.629 1884.16,392.552 1891.88,387.475 1899.61,382.398 1907.33,377.321 1915.05,372.244 1922.77,367.167 1930.49,362.09 \n",
       "  1938.22,357.013 1945.94,351.936 1953.66,346.859 1961.38,341.782 1969.11,336.705 1976.83,331.628 1984.55,326.551 1992.27,321.474 2000,316.397 2007.72,311.321 \n",
       "  2015.44,306.244 2023.16,301.167 2030.89,296.09 2038.61,291.013 2046.33,285.936 2054.05,280.859 2061.78,275.782 2069.5,270.705 2077.22,265.628 2084.94,260.551 \n",
       "  2092.67,255.474 2100.39,250.397 2108.11,245.32 2115.83,240.243 2123.55,235.166 2131.28,230.089 2139,225.012 2146.72,219.935 2154.44,214.858 2162.17,209.781 \n",
       "  2169.89,204.704 2177.61,199.627 2185.33,194.55 2193.06,189.473 2200.78,184.396 2208.5,179.319 2216.22,174.242 2223.95,169.165 2231.67,164.088 2239.39,159.011 \n",
       "  2247.11,153.934 2254.84,148.857 2262.56,143.78 2270.28,138.703 2278,133.626 2285.73,128.549 2293.45,123.472 \n",
       "  \"/>\n",
       "<polyline clip-path=\"url(#clip512)\" style=\"stroke:#3da44d; stroke-width:4; stroke-opacity:1; fill:none\" points=\"\n",
       "  1181.42,854.558 1428.54,854.558 1428.54,692.094 1181.42,692.094 1181.42,854.558 \n",
       "  \"/>\n",
       "<path clip-path=\"url(#clip510)\" d=\"\n",
       "M1997.06 408.716 L2282.9 408.716 L2282.9 166.796 L1997.06 166.796  Z\n",
       "  \" fill=\"#ffffff\" fill-rule=\"evenodd\" fill-opacity=\"1\"/>\n",
       "<polyline clip-path=\"url(#clip510)\" style=\"stroke:#000000; stroke-width:4; stroke-opacity:1; fill:none\" points=\"\n",
       "  1997.06,408.716 2282.9,408.716 2282.9,166.796 1997.06,166.796 1997.06,408.716 \n",
       "  \"/>\n",
       "<polyline clip-path=\"url(#clip510)\" style=\"stroke:#009af9; stroke-width:4; stroke-opacity:1; fill:none\" points=\"\n",
       "  2020.34,227.276 2160.04,227.276 \n",
       "  \"/>\n",
       "<path clip-path=\"url(#clip510)\" d=\"M 0 0 M2197.17 246.963 Q2195.36 251.593 2193.65 253.005 Q2191.94 254.417 2189.07 254.417 L2185.67 254.417 L2185.67 250.852 L2188.17 250.852 Q2189.92 250.852 2190.9 250.019 Q2191.87 249.185 2193.05 246.083 L2193.81 244.139 L2183.33 218.63 L2187.84 218.63 L2195.94 238.908 L2204.04 218.63 L2208.56 218.63 L2197.17 246.963 Z\" fill=\"#000000\" fill-rule=\"evenodd\" fill-opacity=\"1\" /><path clip-path=\"url(#clip510)\" d=\"M 0 0 M2215.85 240.621 L2223.49 240.621 L2223.49 214.255 L2215.18 215.922 L2215.18 211.662 L2223.44 209.996 L2228.12 209.996 L2228.12 240.621 L2235.76 240.621 L2235.76 244.556 L2215.85 244.556 L2215.85 240.621 Z\" fill=\"#000000\" fill-rule=\"evenodd\" fill-opacity=\"1\" /><polyline clip-path=\"url(#clip510)\" style=\"stroke:#e26f46; stroke-width:4; stroke-opacity:1; fill:none\" points=\"\n",
       "  2020.34,287.756 2160.04,287.756 \n",
       "  \"/>\n",
       "<path clip-path=\"url(#clip510)\" d=\"M 0 0 M2197.17 307.443 Q2195.36 312.073 2193.65 313.485 Q2191.94 314.897 2189.07 314.897 L2185.67 314.897 L2185.67 311.332 L2188.17 311.332 Q2189.92 311.332 2190.9 310.499 Q2191.87 309.665 2193.05 306.563 L2193.81 304.619 L2183.33 279.11 L2187.84 279.11 L2195.94 299.388 L2204.04 279.11 L2208.56 279.11 L2197.17 307.443 Z\" fill=\"#000000\" fill-rule=\"evenodd\" fill-opacity=\"1\" /><path clip-path=\"url(#clip510)\" d=\"M 0 0 M2219.07 301.101 L2235.39 301.101 L2235.39 305.036 L2213.44 305.036 L2213.44 301.101 Q2216.1 298.346 2220.69 293.716 Q2225.29 289.064 2226.48 287.721 Q2228.72 285.198 2229.6 283.462 Q2230.5 281.703 2230.5 280.013 Q2230.5 277.258 2228.56 275.522 Q2226.64 273.786 2223.54 273.786 Q2221.34 273.786 2218.88 274.55 Q2216.45 275.314 2213.67 276.865 L2213.67 272.142 Q2216.5 271.008 2218.95 270.429 Q2221.41 269.851 2223.44 269.851 Q2228.81 269.851 2232.01 272.536 Q2235.2 275.221 2235.2 279.712 Q2235.2 281.841 2234.39 283.763 Q2233.6 285.661 2231.5 288.253 Q2230.92 288.925 2227.82 292.142 Q2224.72 295.337 2219.07 301.101 Z\" fill=\"#000000\" fill-rule=\"evenodd\" fill-opacity=\"1\" /><polyline clip-path=\"url(#clip510)\" style=\"stroke:#3da44d; stroke-width:4; stroke-opacity:1; fill:none\" points=\"\n",
       "  2020.34,348.236 2160.04,348.236 \n",
       "  \"/>\n",
       "<path clip-path=\"url(#clip510)\" d=\"M 0 0 M2197.17 367.923 Q2195.36 372.553 2193.65 373.965 Q2191.94 375.377 2189.07 375.377 L2185.67 375.377 L2185.67 371.812 L2188.17 371.812 Q2189.92 371.812 2190.9 370.979 Q2191.87 370.145 2193.05 367.043 L2193.81 365.099 L2183.33 339.59 L2187.84 339.59 L2195.94 359.868 L2204.04 339.59 L2208.56 339.59 L2197.17 367.923 Z\" fill=\"#000000\" fill-rule=\"evenodd\" fill-opacity=\"1\" /><path clip-path=\"url(#clip510)\" d=\"M 0 0 M2229.21 346.882 Q2232.56 347.599 2234.44 349.868 Q2236.34 352.136 2236.34 355.469 Q2236.34 360.585 2232.82 363.386 Q2229.3 366.187 2222.82 366.187 Q2220.64 366.187 2218.33 365.747 Q2216.04 365.331 2213.58 364.474 L2213.58 359.96 Q2215.53 361.094 2217.84 361.673 Q2220.16 362.252 2222.68 362.252 Q2227.08 362.252 2229.37 360.516 Q2231.68 358.78 2231.68 355.469 Q2231.68 352.414 2229.53 350.701 Q2227.4 348.965 2223.58 348.965 L2219.55 348.965 L2219.55 345.122 L2223.77 345.122 Q2227.22 345.122 2229.04 343.757 Q2230.87 342.368 2230.87 339.775 Q2230.87 337.113 2228.98 335.701 Q2227.1 334.266 2223.58 334.266 Q2221.66 334.266 2219.46 334.683 Q2217.26 335.099 2214.62 335.979 L2214.62 331.812 Q2217.29 331.071 2219.6 330.701 Q2221.94 330.331 2224 330.331 Q2229.32 330.331 2232.42 332.761 Q2235.53 335.169 2235.53 339.289 Q2235.53 342.159 2233.88 344.15 Q2232.24 346.118 2229.21 346.882 Z\" fill=\"#000000\" fill-rule=\"evenodd\" fill-opacity=\"1\" /></svg>\n"
      ]
     },
     "execution_count": 39,
     "metadata": {},
     "output_type": "execute_result"
    }
   ],
   "source": [
    "xrange = -1:1/128:1\n",
    "plot(xrange, x->Qcⁿ(x, (C3,8)))\n",
    "plot!(xrange, x->x)\n",
    "ylims!(-1,1)\n",
    "\n",
    "x₁ = -0.125\n",
    "plot!([x₁, -x₁, -x₁, x₁, x₁], [x₁, x₁, -x₁, -x₁, x₁])\n",
    "\n",
    "xlabel!(\"x\")\n",
    "ylabel!(\"Q_c^8(x)\")\n",
    "title!(\"c₃ = $C3\")"
   ]
  },
  {
   "cell_type": "markdown",
   "metadata": {},
   "source": [
    "#### Ejercicio 1\n",
    "\n",
    "Comparar gráficamente los mapeos $Q_{c}(x)$ y $Q_{c^\\prime}^2(x)$ para\n",
    "$c=1/4, 0, -3/4, -1, -2, -2.2$ y $c^\\prime=-3/4,-1,-5/4,-1.3, -1.546\\dots, -1.65$."
   ]
  },
  {
   "cell_type": "code",
   "execution_count": null,
   "metadata": {},
   "outputs": [],
   "source": [
    "#(Respuesta)"
   ]
  },
  {
   "cell_type": "markdown",
   "metadata": {},
   "source": [
    "### Constante $\\alpha$ de Feigenbaum"
   ]
  },
  {
   "cell_type": "markdown",
   "metadata": {},
   "source": [
    "El punto del análisis gráfico anterior es que, *localmente*, los mapeos\n",
    "$Q_{c_0}(x)$ y $Q^{2^n}_{c_n}(x)$ son muy similares, si uno se enfoca en\n",
    "un dominio muy particular para $Q^{2^n}_{c_n}(x)$."
   ]
  },
  {
   "cell_type": "markdown",
   "metadata": {},
   "source": [
    "Vale la pena notar que, en este caso, la distancia al punto fijo (que cruza\n",
    "la identidad) y que define los recuadros, es\n",
    "$d_n = Q_{c_n}^{2^{n-1}}(0)\\approx -\\alpha d_{n+1}$."
   ]
  },
  {
   "cell_type": "markdown",
   "metadata": {},
   "source": [
    "Esta observación se expresa de manera formal construyendo una función que\n",
    "localmente se comporta como $Q^{2^n}_{c_n}(x)$, esto es:\n",
    "\n",
    "\\begin{equation}\n",
    "g_1(x) = \\lim_{n\\to\\infty} (-\\alpha)^n Q_{c_{n+1}}^{2^n}\\;\\Big(\\frac{x}{(-\\alpha)^n}\\Big).\n",
    "\\end{equation}\n",
    "\n",
    "El límite $n\\to\\infty$ hace que todas las particularidades del mapeo $Q_c(x)$\n",
    "se pierdan y, en este sentido, que sólo resten las propiedades que son *universales*."
   ]
  },
  {
   "cell_type": "markdown",
   "metadata": {},
   "source": [
    "La ecuación anterior se generaliza a:"
   ]
  },
  {
   "cell_type": "markdown",
   "metadata": {},
   "source": [
    "\\begin{equation}\n",
    "g_i(x) = \\lim_{n\\to\\infty} (-\\alpha)^n Q_{c_{n+i}}^{2^n}\\;\\Big(\\frac{x}{(-\\alpha)^n}\\Big),\n",
    "\\end{equation}"
   ]
  },
  {
   "cell_type": "markdown",
   "metadata": {},
   "source": [
    "De la definición de $g_i(x)$, uno puede demostrar que las funciones $g_i(x)$\n",
    "satisfacen la ecuación\n",
    "\n",
    "\\begin{equation}\n",
    "g_{i-1}(x) = -\\alpha g_i\\Big( g_i\\big(-\\,\\frac{x}{\\alpha}\\big)\\Big) .\n",
    "\\end{equation}"
   ]
  },
  {
   "cell_type": "markdown",
   "metadata": {},
   "source": [
    "Al tomar el límite $i\\to \\infty$ nos lleva a:\n",
    "\n",
    "\\begin{equation}\n",
    "g(x) \\equiv T g(x) = -\\alpha g\\Big( g\\big(-\\,\\frac{x}{\\alpha}\\big)\\Big),\n",
    "\\end{equation}\n",
    "\n",
    "donde $T$ es el *operador de doblamiento de periodo*."
   ]
  },
  {
   "cell_type": "markdown",
   "metadata": {},
   "source": [
    "Si una función $g(x)$ satisface la ecuación anterior, entonces la función\n",
    "$\\mu g(x/\\mu)$, con $\\mu\\neq 0$, es también solución de la ecuación. Esta\n",
    "es una propiedad de escalamiento. De aquí, imponiendo que $g(0)=1$ se\n",
    "tiene $1=-\\alpha g(1)$."
   ]
  },
  {
   "cell_type": "markdown",
   "metadata": {},
   "source": [
    "La idea es hacer un desarrollo en serie de Taylor de $g(x)$ cerca de $x=0$\n",
    "a fin de obtener una aproximación de $\\alpha$. De la ecuación de doblamiento\n",
    "de periodo uno obtiene:\n",
    "\n",
    "\\begin{eqnarray}\n",
    "g'(x) &=& g'\\Big( g\\big(-\\,\\frac{x}{\\alpha}\\big) \\Big) g'\\big(-\\,\\frac{x}{\\alpha}\\big),\\\\\n",
    "g''(x) &=& -g''\\Big( g\\big(-\\,\\frac{x}{\\alpha}\\big) \\Big) \\Big[ g'\\big(-\\,\\frac{x}{\\alpha}\\big)\\Big]^2\n",
    "-\\,\\frac{1}{\\alpha} g'\\Big( g\\big(-\\,\\frac{x}{\\alpha}\\big) \\Big) g''\\big(-\\,\\frac{x}{\\alpha}\\big).\n",
    "\\end{eqnarray}"
   ]
  },
  {
   "cell_type": "markdown",
   "metadata": {},
   "source": [
    "De la primer ecuación podemos concluir que $g'(0)=0$. Por esto, a segundo\n",
    "orden tenemos que $g(x)\\simeq 1+b x^2$. Sustituyendo esta aproximación en la\n",
    "ecuación de doblamiento de periodo y desarrollando *hasta* segundo orden,\n",
    "se obtiene:\n",
    "\n",
    "\\begin{equation}\n",
    "1+b x^2 \\simeq -\\alpha\\Big(1+b\\big(1+b(-\\frac{x}{\\alpha})^2\\big)^2\\Big) = -\\alpha\\Big( 1+ b + \\frac{2b^2}{\\alpha^2}x^2\\Big) + {\\cal O}(x^4).\n",
    "\\end{equation}"
   ]
  },
  {
   "cell_type": "markdown",
   "metadata": {},
   "source": [
    "Igualando término a término (potencias de $x$) tenemos que se debe satisfacer:\n",
    "\n",
    "\\begin{eqnarray}\n",
    "1 &=& -\\alpha(1 + b),\\\\\n",
    "b &=& - 2b^2/\\alpha.\\\\\n",
    "\\end{eqnarray}"
   ]
  },
  {
   "cell_type": "markdown",
   "metadata": {},
   "source": [
    "De aquí finalmente obtenemos $b \\approx -\\alpha/2$ y\n",
    "$\\alpha\\approx 1+\\sqrt{3}=2.73\\dots$; el valor de\n",
    "esta constante es $\\alpha = 2.502907\\dots$."
   ]
  },
  {
   "cell_type": "markdown",
   "metadata": {},
   "source": [
    "La otra constante de Feigenbaum se obtiene estudiando las propiedades de la\n",
    "ecuación linearizada en $c$."
   ]
  },
  {
   "cell_type": "markdown",
   "metadata": {},
   "source": [
    "## Referencia\n",
    "\n",
    "Heinz Georg Schuster, Wolfram Just, Deterministic Chaos, 2006."
   ]
  },
  {
   "cell_type": "markdown",
   "metadata": {},
   "source": [
    "---\n",
    "\n",
    "*This notebook was generated using [Literate.jl](https://github.com/fredrikekre/Literate.jl).*"
   ]
  }
 ],
 "metadata": {
  "kernelspec": {
   "display_name": "Julia 1.6.0",
   "language": "julia",
   "name": "julia-1.6"
  },
  "language_info": {
   "file_extension": ".jl",
   "mimetype": "application/julia",
   "name": "julia",
   "version": "1.6.0"
  }
 },
 "nbformat": 4,
 "nbformat_minor": 4
}
